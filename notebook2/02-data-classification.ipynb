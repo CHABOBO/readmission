{
 "cells": [
  {
   "cell_type": "code",
   "execution_count": 94,
   "metadata": {
    "collapsed": true
   },
   "outputs": [],
   "source": [
    "#TO RE-RUN\n",
    "%reset -f"
   ]
  },
  {
   "cell_type": "code",
   "execution_count": 95,
   "metadata": {},
   "outputs": [],
   "source": [
    "from sklearn import preprocessing\n",
    "from time import time\n",
    "import numpy as np\n",
    "import csv\n",
    "from sklearn import metrics\n",
    "from sklearn.preprocessing import scale\n",
    "from sklearn.feature_selection import VarianceThreshold\n",
    "from sklearn.cross_validation import StratifiedShuffleSplit, cross_val_score\n",
    "\n",
    "from sklearn.svm import SVC\n",
    "from sklearn.svm import LinearSVC\n",
    "from sklearn.neighbors import KNeighborsClassifier\n",
    "from sklearn.linear_model import LogisticRegression\n",
    "from sklearn.ensemble import RandomForestClassifier\n",
    "from sklearn.naive_bayes import BernoulliNB, MultinomialNB, GaussianNB\n",
    "\n",
    "from sklearn.grid_search import GridSearchCV, ParameterGrid\n",
    "from sklearn.preprocessing import StandardScaler\n",
    "\n",
    "from imblearn.over_sampling import SMOTE,ADASYN, RandomOverSampler\n",
    "from imblearn.pipeline import Pipeline\n",
    "from imblearn.pipeline import make_pipeline\n",
    "\n",
    "from operator import truediv\n",
    "from sklearn import metrics\n",
    "import pandas as pd\n",
    "import time\n",
    "import os\n",
    "\n",
    "from pylab import *\n",
    "import seaborn as sns\n",
    "import matplotlib.pyplot as plt\n",
    "\n",
    "\n",
    "np.set_printoptions(suppress=True)\n",
    "pd.options.display.float_format = '{:,.2f}'.format\n",
    "plt.style.use('classic')\n",
    "\n",
    "%matplotlib inline\n",
    "\n",
    "import sys\n",
    "sys.path.insert(1, \"/home/ilmira/healthforecast/readmission/src/\")\n",
    "from TypeFeatImputer import TypeFeatImputer\n",
    "from UnivCombineFilter import UnivCombineFilter"
   ]
  },
  {
   "cell_type": "code",
   "execution_count": 96,
   "metadata": {},
   "outputs": [
    {
     "name": "stdout",
     "output_type": "stream",
     "text": [
      "(27805, 75)\n",
      "Index([u'gender', u'age', u'time_in_hospital', u'num_lab_procedures',\n",
      "       u'num_procedures', u'num_medications', u'number_outpatient',\n",
      "       u'number_emergency', u'number_inpatient', u'number_diagnoses',\n",
      "       u'metformin', u'repaglinide', u'nateglinide', u'chlorpropamide',\n",
      "       u'glimepiride', u'acetohexamide', u'glipizide', u'glyburide',\n",
      "       u'tolbutamide', u'pioglitazone', u'rosiglitazone', u'acarbose',\n",
      "       u'miglitol', u'troglitazone', u'tolazamide', u'examide', u'citoglipton',\n",
      "       u'insulin', u'glyburide-metformin', u'glipizide-metformin',\n",
      "       u'glimepiride-pioglitazone', u'metformin-rosiglitazone',\n",
      "       u'metformin-pioglitazone', u'Change', u'diabetesMed', u'Diabetis',\n",
      "       u'Infectious and parasitic diseases', u'Neoplasms', u'Endocrine',\n",
      "       u'Blood', u'Mental', u'Nervous', u'Organs', u'Circulatory',\n",
      "       u'Respiratory', u'Digestive', u'Genitourinary', u'Pregnancy', u'Skin',\n",
      "       u'Muscoskeletal', u'Congenital', u'Perinatal', u'Ill-defined',\n",
      "       u'race_AfricanAmerican', u'race_Asian', u'race_Caucasian',\n",
      "       u'race_Hispanic', u'race_Other', u'adm_1', u'adm_2', u'adm_3', u'adm_4',\n",
      "       u'adm_7', u'adm_src_1', u'adm_src_2', u'adm_src_3', u'adm_src_4',\n",
      "       u'adm_src_5', u'adm_src_6', u'adm_src_7', u'adm_src_8', u'adm_src_10',\n",
      "       u'Poisoning', u'External_causes', u'readmitted'],\n",
      "      dtype='object')\n",
      "0    17030\n",
      "2     8407\n",
      "1     2368\n",
      "Name: readmitted, dtype: int64\n",
      "0   0.61\n",
      "2   0.30\n",
      "1   0.09\n",
      "Name: readmitted, dtype: float64\n"
     ]
    }
   ],
   "source": [
    "#df_all=pd.read_csv(os.path.join('resources','diabetic_data_processed_withweight.csv'),';')\n",
    "df_all=pd.read_pickle(os.path.join('resources','clean_data.pkl'))\n",
    "print df_all.shape\n",
    "print df_all.columns\n",
    "print df_all.readmitted.value_counts()\n",
    "print df_all.readmitted.value_counts()/float(df_all.shape[0])"
   ]
  },
  {
   "cell_type": "markdown",
   "metadata": {},
   "source": [
    "#### Compute class label"
   ]
  },
  {
   "cell_type": "code",
   "execution_count": 97,
   "metadata": {},
   "outputs": [
    {
     "name": "stdout",
     "output_type": "stream",
     "text": [
      "[0 1 2] 17030 2368 8407\n",
      "[0 1] 17030 10775\n"
     ]
    },
    {
     "name": "stderr",
     "output_type": "stream",
     "text": [
      "/home/ilmira/.conda/envs/readmision/lib/python2.7/site-packages/ipykernel_launcher.py:3: SettingWithCopyWarning: \n",
      "A value is trying to be set on a copy of a slice from a DataFrame\n",
      "\n",
      "See the caveats in the documentation: http://pandas.pydata.org/pandas-docs/stable/indexing.html#indexing-view-versus-copy\n",
      "  This is separate from the ipykernel package so we can avoid doing imports until\n"
     ]
    }
   ],
   "source": [
    "# Readmitted\n",
    "print df_all.loc[:,\"readmitted\"].sort_values().unique(), np.sum(df_all[\"readmitted\"] == 0), np.sum(df_all[\"readmitted\"] == 1), np.sum(df_all[\"readmitted\"] == 2)\n",
    "df_all[\"readmitted\"][df_all[\"readmitted\"].values > 0] = 1\n",
    "print df_all.iloc[:,-1].sort_values().unique(), np.sum(df_all[\"readmitted\"] == 0), np.sum(df_all[\"readmitted\"] == 1)"
   ]
  },
  {
   "cell_type": "markdown",
   "metadata": {},
   "source": [
    "#### Compute type fields"
   ]
  },
  {
   "cell_type": "code",
   "execution_count": 98,
   "metadata": {},
   "outputs": [
    {
     "name": "stdout",
     "output_type": "stream",
     "text": [
      "Cat cols: 66 \n",
      "Index([u'gender', u'age', u'metformin', u'repaglinide', u'nateglinide',\n",
      "       u'chlorpropamide', u'glimepiride', u'acetohexamide', u'glipizide',\n",
      "       u'glyburide', u'tolbutamide', u'pioglitazone', u'rosiglitazone',\n",
      "       u'acarbose', u'miglitol', u'troglitazone', u'tolazamide', u'examide',\n",
      "       u'citoglipton', u'insulin', u'glyburide-metformin',\n",
      "       u'glipizide-metformin', u'glimepiride-pioglitazone',\n",
      "       u'metformin-rosiglitazone', u'metformin-pioglitazone', u'Change',\n",
      "       u'diabetesMed', u'Diabetis', u'Infectious and parasitic diseases',\n",
      "       u'Neoplasms', u'Endocrine', u'Blood', u'Mental', u'Nervous', u'Organs',\n",
      "       u'Circulatory', u'Respiratory', u'Digestive', u'Genitourinary',\n",
      "       u'Pregnancy', u'Skin', u'Muscoskeletal', u'Congenital', u'Perinatal',\n",
      "       u'Ill-defined', u'race_AfricanAmerican', u'race_Asian',\n",
      "       u'race_Caucasian', u'race_Hispanic', u'race_Other', u'adm_1', u'adm_2',\n",
      "       u'adm_3', u'adm_4', u'adm_7', u'adm_src_1', u'adm_src_2', u'adm_src_3',\n",
      "       u'adm_src_4', u'adm_src_5', u'adm_src_6', u'adm_src_7', u'adm_src_8',\n",
      "       u'adm_src_10', u'Poisoning', u'External_causes'],\n",
      "      dtype='object')\n",
      "Num cols: 8 \n",
      "Index([u'time_in_hospital', u'num_lab_procedures', u'num_procedures',\n",
      "       u'num_medications', u'number_outpatient', u'number_emergency',\n",
      "       u'number_inpatient', u'number_diagnoses'],\n",
      "      dtype='object')\n",
      "74\n"
     ]
    }
   ],
   "source": [
    "numCols = [\n",
    "    \"time_in_hospital\",\"num_lab_procedures\",\"num_procedures\",\"num_medications\",\n",
    "    \"number_outpatient\",\"number_emergency\",\"number_inpatient\",\"number_diagnoses\"\n",
    "]\n",
    "\n",
    "catCols = []\n",
    "cols = df_all.columns\n",
    "reducedCols = cols[:-1]\n",
    "\n",
    "for i in range(len(cols)-1):\n",
    "    if cols[i] not in numCols:\n",
    "        catCols.append(1)\n",
    "    else:\n",
    "        catCols.append(0)\n",
    "catCols = np.array(catCols)\n",
    "\n",
    "print \"Cat cols:\", np.sum(catCols==1), \"\\n\", reducedCols[catCols==1]\n",
    "print \"Num cols:\", np.sum(catCols==0), \"\\n\", reducedCols[catCols==0]\n",
    "print len(reducedCols)"
   ]
  },
  {
   "cell_type": "markdown",
   "metadata": {},
   "source": [
    "#### Compute partition (train, test)"
   ]
  },
  {
   "cell_type": "code",
   "execution_count": 99,
   "metadata": {},
   "outputs": [
    {
     "name": "stdout",
     "output_type": "stream",
     "text": [
      "[0 1]\n",
      "0    17030\n",
      "1    10775\n",
      "Name: readmitted, dtype: int64\n",
      "\n",
      "(19463, 74) (19463,)\n",
      "11921 0.61 7542 0.39\n",
      "(8342, 74) (8342,)\n",
      "5109 0.61 3233 0.39\n"
     ]
    }
   ],
   "source": [
    "y = df_all.readmitted\n",
    "print y.unique()\n",
    "print y.value_counts()\n",
    "y = y.values\n",
    "\n",
    "X = df_all.iloc[:,:-1].values\n",
    "sss = StratifiedShuffleSplit(y, 1, test_size=0.30, random_state=32) #random_state=42\n",
    "for train_index, test_index in sss:\n",
    "    X_train, X_test = X[train_index], X[test_index]\n",
    "    y_train, y_test = y[train_index], y[test_index]\n",
    "\n",
    "print\n",
    "print X_train.shape, y_train.shape\n",
    "print np.sum(y_train == 0), round(np.sum(y_train == 0)/float(y_train.shape[0]),2), \\\n",
    "      np.sum(y_train > 0), round(np.sum(y_train > 0)/float(y_train.shape[0]),2)\n",
    "print X_test.shape, y_test.shape\n",
    "print np.sum(y_test == 0), round(np.sum(y_test == 0)/float(y_test.shape[0]),2), \\\n",
    "      np.sum(y_test > 0), round(np.sum(y_test > 0)/float(y_test.shape[0]),2)\n"
   ]
  },
  {
   "cell_type": "markdown",
   "metadata": {
    "collapsed": true
   },
   "source": [
    "#### Simple pipeline"
   ]
  },
  {
   "cell_type": "code",
   "execution_count": 146,
   "metadata": {},
   "outputs": [],
   "source": [
    "basePipeline = Pipeline([\n",
    "        (\"Imputer\", TypeFeatImputer(catCols, reducedCols)),\n",
    "        (\"Variance\", VarianceThreshold(threshold=(.995 * (1 - .995)))),\n",
    "        (\"Scaler\", StandardScaler())\n",
    "    ])\n",
    "\n",
    "params = {}\n",
    "pipeline = []\n",
    "pipe = Pipeline(list(basePipeline.steps))"
   ]
  },
  {
   "cell_type": "code",
   "execution_count": 131,
   "metadata": {},
   "outputs": [],
   "source": [
    "fs_method = \"combine_fs\"\n",
    "pipe.steps.insert(1,(fs_method, UnivCombineFilter(catCols,np.array(reducedCols))))\n",
    "params.update({fs_method + '__percentile':[30,50,70,80]})"
   ]
  },
  {
   "cell_type": "code",
   "execution_count": 139,
   "metadata": {
    "collapsed": true
   },
   "outputs": [],
   "source": [
    "cls_method = \"logReg\"\n",
    "pipe.steps.append((cls_method, LogisticRegression(random_state=42)))\n",
    "params.update({cls_method + '__C': [1e-5,0.001,0.01,0.1,1,5,10]})\n",
    "params.update({cls_method + '__class_weight': [None, 'balanced']})\n",
    "params.update({cls_method + '__penalty': [\"l1\",\"l2\"]})"
   ]
  },
  {
   "cell_type": "code",
   "execution_count": 111,
   "metadata": {},
   "outputs": [],
   "source": [
    "cls_method = \"rf\"\n",
    "pipe.steps.append((cls_method, RandomForestClassifier(n_jobs=-1,random_state=42,class_weight=\"balanced\")))\n",
    "params.update({cls_method + '__n_estimators': [150,300,500,700], \n",
    "               cls_method + '__criterion': ['gini'],\n",
    "               cls_method + '__max_depth' : [None,4,6,8,10]})"
   ]
  },
  {
   "cell_type": "code",
   "execution_count": 302,
   "metadata": {
    "collapsed": true
   },
   "outputs": [],
   "source": [
    "cls_method = \"knn\"\n",
    "pipe.steps.append((cls_method, KNeighborsClassifier(n_jobs=-1)))\n",
    "\n",
    "params.update({cls_method + '__n_neighbors': [3,5,7,9], \n",
    "               cls_method + '__weights': ['uniform', 'distance']})"
   ]
  },
  {
   "cell_type": "code",
   "execution_count": 419,
   "metadata": {},
   "outputs": [],
   "source": [
    "cls_method = \"svm\"\n",
    "pipe.steps.append((cls_method, SVC(kernel = \"rbf\", random_state=42,probability=True)))\n",
    "params.update({cls_method + '__C': [0.01,0.1,0.5,1,5,10,15,30,50], \n",
    "               cls_method + '__gamma' : [0.0001,0.001,0.01, 0.1,1,5],\n",
    "               cls_method + '__class_weight': [None, 'balanced']})"
   ]
  },
  {
   "cell_type": "code",
   "execution_count": 47,
   "metadata": {
    "collapsed": true
   },
   "outputs": [],
   "source": [
    "cls_method = \"nb\"\n",
    "pipe.steps.append((cls_method, GaussianNB()))\n",
    "#params.update({cls_method + '__alpha': [1e-3,0.001,0.01,0.1,0.5,1,5]})"
   ]
  },
  {
   "cell_type": "code",
   "execution_count": 140,
   "metadata": {},
   "outputs": [],
   "source": [
    "#Post process pipeline\n",
    "pipe_imb = make_pipeline(*[p[1] for p in pipe.steps])\n",
    "stps = len(pipe_imb.steps)        \n",
    "for s in range(stps):\n",
    "    pipe_imb.steps.remove(pipe_imb.steps[0])\n",
    "for s in range(stps):\n",
    "    pipe_imb.steps.append(pipe.steps[s])"
   ]
  },
  {
   "cell_type": "code",
   "execution_count": 141,
   "metadata": {
    "collapsed": true
   },
   "outputs": [],
   "source": [
    "#Add sampling\n",
    "sm_method = \"smote\"                \n",
    "pipe_imb.steps.insert(stps - 1, \n",
    "                      (sm_method, SMOTE(ratio='auto', kind='regular', random_state=32)))\n",
    "params.update({sm_method + \"__k_neighbors\":[3,4,5]})"
   ]
  },
  {
   "cell_type": "markdown",
   "metadata": {},
   "source": [
    "#### Pipeline setup"
   ]
  },
  {
   "cell_type": "code",
   "execution_count": 142,
   "metadata": {},
   "outputs": [
    {
     "name": "stdout",
     "output_type": "stream",
     "text": [
      "[('Imputer', TypeFeatImputer(allNameCols=Index([u'gender', u'age', u'time_in_hospital', u'num_lab_procedures',\n",
      "       u'num_procedures', u'num_medications', u'number_outpatient',\n",
      "       u'number_emergency', u'number_inpatient', u'number_diagnoses',\n",
      "       u'metformin', u'repaglinide', u'nateglinide', u'chlorpropamide',\n",
      "       u...src_7', u'adm_src_8', u'adm_src_10',\n",
      "       u'Poisoning', u'External_causes'],\n",
      "      dtype='object'),\n",
      "        dataCatCols=array([1, 1, ..., 1, 1]))), ('Variance', VarianceThreshold(threshold=0.004975)), ('Scaler', StandardScaler(copy=True, with_mean=True, with_std=True)), ('logReg', LogisticRegression(C=1.0, class_weight=None, dual=False, fit_intercept=True,\n",
      "          intercept_scaling=1, max_iter=100, multi_class='ovr', n_jobs=1,\n",
      "          penalty='l2', random_state=42, solver='liblinear', tol=0.0001,\n",
      "          verbose=0, warm_start=False))]\n"
     ]
    }
   ],
   "source": [
    "verbose = False\n",
    "mtrs = [\"f1_weighted\"] #\"f1\",\"recall\",\"precision\"\n",
    "cv_thr = 0.3\n",
    "cv_folds = 5\n",
    "\n",
    "print pipe.steps"
   ]
  },
  {
   "cell_type": "markdown",
   "metadata": {},
   "source": [
    "#### Run pipeline"
   ]
  },
  {
   "cell_type": "code",
   "execution_count": 143,
   "metadata": {
    "scrolled": true
   },
   "outputs": [
    {
     "name": "stdout",
     "output_type": "stream",
     "text": [
      "ALL TRAIN: (19463, 74)\n",
      "TRAIN: [0's: 11921 1's: 7542 ]\n",
      "ALL TEST: (8342, 74)\n",
      "TEST: [0's: 5109 1's: 3233 ]\n",
      "TEST: [0's: 0.612443059218 1's: 0.387556940782 ]\n",
      "\n",
      "CV TRAIN: 13624\n",
      "CV_TEST: 5839\n",
      "Fitting 5 folds for each of 84 candidates, totalling 420 fits\n"
     ]
    },
    {
     "name": "stderr",
     "output_type": "stream",
     "text": [
      "[Parallel(n_jobs=-1)]: Done  18 tasks      | elapsed:   18.4s\n",
      "[Parallel(n_jobs=-1)]: Done 168 tasks      | elapsed:  1.8min\n",
      "[Parallel(n_jobs=-1)]: Done 420 out of 420 | elapsed:  4.5min finished\n"
     ]
    },
    {
     "name": "stdout",
     "output_type": "stream",
     "text": [
      "Total time: 279.275966167\n"
     ]
    }
   ],
   "source": [
    "print \"ALL TRAIN:\", X_train.shape\n",
    "print \"TRAIN:\", \"[0's:\", np.sum(y_train==0), \"1's:\", np.sum(y_train==1), \"]\"\n",
    "print \"ALL TEST:\", X_test.shape\n",
    "print \"TEST:\", \"[0's:\", np.sum(y_test==0), \"1's:\", np.sum(y_test==1), \"]\"\n",
    "print \"TEST:\", \"[0's:\", np.sum(y_test==0)/float(y_test.shape[0]), \"1's:\", np.sum(y_test==1)/float(y_test.shape[0]), \"]\"\n",
    "\n",
    "# Run experiment\n",
    "start = time.time()\n",
    "\n",
    "#Prepare pipe_cls      \n",
    "pipeline_cls = pipe_imb\n",
    "pipeline_params = params\n",
    "\n",
    "if verbose:\n",
    "    print \"\\n\",pipeline_cls.steps\n",
    "\n",
    "\n",
    "#Prepare cv\n",
    "cv_inner = StratifiedShuffleSplit(y_train, n_iter=cv_folds, test_size=cv_thr,random_state=24)\n",
    "\n",
    "print \"\\nCV TRAIN:\", cv_inner.n_train\n",
    "print \"CV_TEST:\", cv_inner.n_test\n",
    "\n",
    "#Fit pipeline with CV                        \n",
    "grid_pipelines = []\n",
    "\n",
    "for m in mtrs:\n",
    "    grid_pipeline = GridSearchCV(pipeline_cls, param_grid=pipeline_params, verbose=1, \n",
    "                                 n_jobs=-1, cv=cv_inner, scoring= m, error_score = 0,\n",
    "                                 refit=True) \n",
    "    grid_pipeline.fit(X_train, y_train)\n",
    "    grid_pipelines.append([m,grid_pipeline])\n",
    "\n",
    "end = time.time()\n",
    "print \"Total time:\", end - start"
   ]
  },
  {
   "cell_type": "code",
   "execution_count": 144,
   "metadata": {},
   "outputs": [
    {
     "name": "stdout",
     "output_type": "stream",
     "text": [
      "\n",
      "f1_weighted\n",
      "*****\n",
      "\n",
      "('logReg', LogisticRegression(C=0.1, class_weight=None, dual=False, fit_intercept=True,\n",
      "          intercept_scaling=1, max_iter=100, multi_class='ovr', n_jobs=1,\n",
      "          penalty='l1', random_state=42, solver='liblinear', tol=0.0001,\n",
      "          verbose=0, warm_start=False))\n",
      "\n",
      "Discarded feats: 20 Index([u'acetohexamide', u'tolbutamide', u'miglitol', u'troglitazone',\n",
      "       u'tolazamide', u'examide', u'citoglipton', u'glipizide-metformin',\n",
      "       u'glimepiride-pioglitazone', u'metformin-rosiglitazone',\n",
      "       u'metformin-pioglitazone', u'Diabetis', u'Congenital', u'Perinatal',\n",
      "       u'adm_4', u'adm_7', u'adm_src_3', u'adm_src_5', u'adm_src_8',\n",
      "       u'adm_src_10'],\n",
      "      dtype='object')\n"
     ]
    }
   ],
   "source": [
    "for gp in grid_pipelines:\n",
    "    print\n",
    "    print gp[0]\n",
    "    print \"*****\\n\"\n",
    "    print gp[1].best_estimator_.steps[-1]\n",
    "    print\n",
    "    \n",
    "    if gp[1].best_estimator_.steps[1][0] == \"combine_fs\":\n",
    "        varFilter = gp[1].best_estimator_.steps[1][1]\n",
    "\n",
    "        print \"Selected thr:\", varFilter.percentile\n",
    "        print \"Selected columns:\"\n",
    "        feats = reducedCols[varFilter.ixCols].tolist()\n",
    "        print feats\n",
    "        print \"Num useful features:\", len(feats), feats\n",
    "    \n",
    "    if gp[1].best_estimator_.steps[1][0] == \"Variance\":\n",
    "        varFilter = gp[1].best_estimator_.steps[1][1]\n",
    "        feats = reducedCols[varFilter.get_support() == False]\n",
    "        print \"Discarded feats:\", len(feats), feats"
   ]
  },
  {
   "cell_type": "code",
   "execution_count": 145,
   "metadata": {},
   "outputs": [
    {
     "name": "stdout",
     "output_type": "stream",
     "text": [
      "\n",
      "TRAIN: \n",
      "**********\n",
      "\n",
      "Metric: f1_weighted\n",
      "TR Prec score: 0.631902812588\n",
      "TR Rec score: 0.620767610338\n",
      "TR F1 score: 0.624446683871\n"
     ]
    }
   ],
   "source": [
    "# Computel Train score (with best CV params)\n",
    "for gp in grid_pipelines:\n",
    "    \n",
    "    cls = gp[1]\n",
    "    y_pred = cls.predict(X_train)                \n",
    "    train_prec_scores = metrics.precision_score(y_train, y_pred, average='weighted', pos_label=None)\n",
    "    train_rec_scores = metrics.recall_score(y_train, y_pred, average='weighted', pos_label=None)\n",
    "    train_f1_scores = metrics.f1_score(y_train, y_pred, average='weighted', pos_label=None)\n",
    "\n",
    "    print \"\\nTRAIN: \"\n",
    "    print \"**********\\n\"\n",
    "\n",
    "    print \"Metric:\",gp[0]\n",
    "    print \"TR Prec score:\", train_prec_scores\n",
    "    print \"TR Rec score:\", train_rec_scores\n",
    "    print \"TR F1 score:\", train_f1_scores"
   ]
  },
  {
   "cell_type": "code",
   "execution_count": 125,
   "metadata": {},
   "outputs": [
    {
     "name": "stdout",
     "output_type": "stream",
     "text": [
      "\n",
      "CV: \n",
      "******\n",
      "\n",
      "Metric: f1_weighted\n",
      "CV selected params ['balanced', 0.1, 'l1']\n",
      "CV f1_weighted score: 0.619332387764\n",
      "CV f1 score: 0.619  (+/-0.001)\n"
     ]
    }
   ],
   "source": [
    "# Compute pipeline evaluation with CV\n",
    "for gp in grid_pipelines:\n",
    "    \n",
    "    cls = gp[1]\n",
    "    print \"\\nCV: \"\n",
    "    print \"******\\n\"\n",
    "    \n",
    "    print \"Metric:\", gp[0]\n",
    "    print \"CV selected params {}\".format(cls.best_params_.values())\n",
    "    cv_inner_f1 = cross_val_score(cls.best_estimator_, X_train, y_train, \n",
    "                                             cv=cv_inner, scoring='f1_weighted', n_jobs=-1)\n",
    "    print \"CV {} score: {}\".format(gp[0], cls.best_score_)\n",
    "    print \"CV f1 score: %0.3f  (+/-%0.03f)\" % (np.mean(cv_inner_f1), np.std(cv_inner_f1))"
   ]
  },
  {
   "cell_type": "code",
   "execution_count": 108,
   "metadata": {},
   "outputs": [
    {
     "name": "stdout",
     "output_type": "stream",
     "text": [
      "f1_weighted\n",
      "                  params score_mean score_std  \\\n",
      "0       ['gini', 6, 100]       0.62      0.00   \n",
      "1       ['gini', 6, 150]       0.62      0.00   \n",
      "2       ['gini', 6, 300]       0.62      0.00   \n",
      "3       ['gini', 6, 500]       0.62      0.00   \n",
      "4       ['gini', 8, 100]       0.62      0.00   \n",
      "5       ['gini', 8, 150]       0.62      0.00   \n",
      "6       ['gini', 8, 300]       0.62      0.00   \n",
      "7       ['gini', 8, 500]       0.62      0.00   \n",
      "8      ['gini', 10, 100]       0.63      0.00   \n",
      "9      ['gini', 10, 150]       0.63      0.00   \n",
      "10     ['gini', 10, 300]       0.63      0.00   \n",
      "11     ['gini', 10, 500]       0.63      0.00   \n",
      "12     ['gini', 12, 100]       0.63      0.00   \n",
      "13     ['gini', 12, 150]       0.63      0.00   \n",
      "14     ['gini', 12, 300]       0.63      0.00   \n",
      "15     ['gini', 12, 500]       0.63      0.00   \n",
      "16   ['entropy', 6, 100]       0.62      0.00   \n",
      "17   ['entropy', 6, 150]       0.62      0.01   \n",
      "18   ['entropy', 6, 300]       0.62      0.00   \n",
      "19   ['entropy', 6, 500]       0.62      0.00   \n",
      "20   ['entropy', 8, 100]       0.62      0.00   \n",
      "21   ['entropy', 8, 150]       0.62      0.00   \n",
      "22   ['entropy', 8, 300]       0.62      0.00   \n",
      "23   ['entropy', 8, 500]       0.62      0.00   \n",
      "24  ['entropy', 10, 100]       0.63      0.00   \n",
      "25  ['entropy', 10, 150]       0.63      0.00   \n",
      "26  ['entropy', 10, 300]       0.63      0.00   \n",
      "27  ['entropy', 10, 500]       0.62      0.00   \n",
      "28  ['entropy', 12, 100]       0.63      0.01   \n",
      "29  ['entropy', 12, 150]       0.63      0.00   \n",
      "30  ['entropy', 12, 300]       0.63      0.00   \n",
      "31  ['entropy', 12, 500]       0.63      0.00   \n",
      "\n",
      "                                               scores  \n",
      "0   [0.623972673343, 0.618297324615, 0.62511557122...  \n",
      "1   [0.622435143864, 0.616422035211, 0.62358733624...  \n",
      "2   [0.622250824515, 0.614819490672, 0.62502650513...  \n",
      "3   [0.622616221555, 0.614640558473, 0.62336336672...  \n",
      "4   [0.62803809614, 0.622052403578, 0.627159125471...  \n",
      "5   [0.62565658651, 0.623014561766, 0.626968849742...  \n",
      "6   [0.626117478365, 0.624417239522, 0.62643044871...  \n",
      "7   [0.626053932455, 0.621116097403, 0.62706477250...  \n",
      "8   [0.626627870628, 0.626979819568, 0.63237180153...  \n",
      "9   [0.627978765846, 0.626001397648, 0.63239146506...  \n",
      "10  [0.626524189268, 0.625859709989, 0.63158101851...  \n",
      "11  [0.627102979385, 0.622887218451, 0.63089654293...  \n",
      "12  [0.624905298436, 0.625224065357, 0.63247143925...  \n",
      "13  [0.629705083018, 0.627375712613, 0.63095510602...  \n",
      "14  [0.632635886588, 0.625351735038, 0.63054424893...  \n",
      "15  [0.632884100557, 0.62709127276, 0.631250148937...  \n",
      "16  [0.622596005494, 0.615874184757, 0.62716149574...  \n",
      "17  [0.623594361983, 0.614435384974, 0.62970133448...  \n",
      "18  [0.623789580308, 0.616302478544, 0.62845446854...  \n",
      "19  [0.623456202853, 0.616017362411, 0.62560803679...  \n",
      "20  [0.624525109172, 0.61898347693, 0.62561528024,...  \n",
      "21  [0.62717302492, 0.621898539555, 0.623959536111...  \n",
      "22  [0.628017133103, 0.620216536904, 0.62441242213...  \n",
      "23  [0.62667746732, 0.61889614222, 0.626843490646,...  \n",
      "24  [0.626202649752, 0.621247829191, 0.63118065640...  \n",
      "25  [0.627373201226, 0.623841415259, 0.63111089642...  \n",
      "26  [0.626796024166, 0.622957553882, 0.62864511450...  \n",
      "27  [0.628046036932, 0.622479755224, 0.62658846925...  \n",
      "28  [0.624942195477, 0.618709623022, 0.63324829271...  \n",
      "29  [0.626948217226, 0.623151177592, 0.63577496074...  \n",
      "30  [0.630792465718, 0.623142641741, 0.63240617227...  \n",
      "31  [0.630212067355, 0.624639006813, 0.63319050698...  \n",
      "recall\n",
      "                  params score_mean score_std  \\\n",
      "0       ['gini', 6, 100]       0.56      0.01   \n",
      "1       ['gini', 6, 150]       0.56      0.00   \n",
      "2       ['gini', 6, 300]       0.56      0.00   \n",
      "3       ['gini', 6, 500]       0.56      0.00   \n",
      "4       ['gini', 8, 100]       0.56      0.01   \n",
      "5       ['gini', 8, 150]       0.56      0.01   \n",
      "6       ['gini', 8, 300]       0.56      0.01   \n",
      "7       ['gini', 8, 500]       0.55      0.01   \n",
      "8      ['gini', 10, 100]       0.54      0.00   \n",
      "9      ['gini', 10, 150]       0.54      0.00   \n",
      "10     ['gini', 10, 300]       0.54      0.01   \n",
      "11     ['gini', 10, 500]       0.54      0.01   \n",
      "12     ['gini', 12, 100]       0.52      0.00   \n",
      "13     ['gini', 12, 150]       0.52      0.01   \n",
      "14     ['gini', 12, 300]       0.52      0.01   \n",
      "15     ['gini', 12, 500]       0.52      0.01   \n",
      "16   ['entropy', 6, 100]       0.56      0.01   \n",
      "17   ['entropy', 6, 150]       0.56      0.01   \n",
      "18   ['entropy', 6, 300]       0.56      0.00   \n",
      "19   ['entropy', 6, 500]       0.56      0.00   \n",
      "20   ['entropy', 8, 100]       0.56      0.01   \n",
      "21   ['entropy', 8, 150]       0.56      0.01   \n",
      "22   ['entropy', 8, 300]       0.56      0.01   \n",
      "23   ['entropy', 8, 500]       0.56      0.00   \n",
      "24  ['entropy', 10, 100]       0.55      0.01   \n",
      "25  ['entropy', 10, 150]       0.55      0.01   \n",
      "26  ['entropy', 10, 300]       0.55      0.01   \n",
      "27  ['entropy', 10, 500]       0.54      0.01   \n",
      "28  ['entropy', 12, 100]       0.53      0.01   \n",
      "29  ['entropy', 12, 150]       0.53      0.01   \n",
      "30  ['entropy', 12, 300]       0.53      0.01   \n",
      "31  ['entropy', 12, 500]       0.52      0.00   \n",
      "\n",
      "                                               scores  \n",
      "0   [0.568272205038, 0.567388422448, 0.55103844454...  \n",
      "1   [0.566062748564, 0.56473707468, 0.552364118427...  \n",
      "2   [0.561643835616, 0.556783031374, 0.54927087936...  \n",
      "3   [0.558992487848, 0.55634114008, 0.551038444543...  \n",
      "4   [0.562085726911, 0.560760053027, 0.54750331418...  \n",
      "5   [0.562527618206, 0.560760053027, 0.54396818382...  \n",
      "6   [0.562085726911, 0.559876270437, 0.54573574900...  \n",
      "7   [0.557224922669, 0.554131683606, 0.54573574900...  \n",
      "8   [0.543526292532, 0.550154661953, 0.53645603181...  \n",
      "9   [0.542200618648, 0.546619531595, 0.53424657534...  \n",
      "10  [0.547503314185, 0.543968183827, 0.52894387980...  \n",
      "11  [0.543526292532, 0.541758727353, 0.52806009721...  \n",
      "12  [0.515687140963, 0.522757401679, 0.51480335837...  \n",
      "13  [0.519664162616, 0.524524966858, 0.50905877154...  \n",
      "14  [0.519222271321, 0.522315510384, 0.50375607600...  \n",
      "15  [0.518338488732, 0.524966858153, 0.50684931506...  \n",
      "16  [0.566062748564, 0.567388422448, 0.55059655324...  \n",
      "17  [0.570923552806, 0.563411400795, 0.55678303137...  \n",
      "18  [0.56385329209, 0.561643835616, 0.554131683606...  \n",
      "19  [0.55634114008, 0.558550596553, 0.554573574901...  \n",
      "20  [0.566062748564, 0.560318161732, 0.55148033583...  \n",
      "21  [0.571807335395, 0.56473707468, 0.54706142289,...  \n",
      "22  [0.565178965974, 0.55545735749, 0.549712770658...  \n",
      "23  [0.560318161732, 0.554573574901, 0.55059655324...  \n",
      "24  [0.553689792311, 0.550154661953, 0.53247901016...  \n",
      "25  [0.558108705259, 0.551038444543, 0.52894387980...  \n",
      "26  [0.552806009722, 0.549270879364, 0.52717631462...  \n",
      "27  [0.549270879364, 0.549270879364, 0.5293857711,...  \n",
      "28  [0.533362792753, 0.521431727795, 0.51480335837...  \n",
      "29  [0.527618205921, 0.527176314627, 0.51745470614...  \n",
      "30  [0.533804684048, 0.524524966858, 0.51391957578...  \n",
      "31  [0.527176314627, 0.525850640742, 0.51612903225...  \n"
     ]
    }
   ],
   "source": [
    "# Compute pipeline evaluation with CV\n",
    "dd = []\n",
    "for gp in grid_pipelines:\n",
    "    \n",
    "    cls = gp[1]   \n",
    "    params =  np.array([str(d.values()) for d in np.array(cls.grid_scores_[:])[:,0]])\n",
    "    mean = np.array(cls.grid_scores_)[:,1]\n",
    "    values = np.array(cls.grid_scores_)[:,2]\n",
    "    std = np.array([np.std(v) for v in values])\n",
    "    \n",
    "    dd = np.hstack((params.reshape(-1,1), mean.reshape(-1,1), std.reshape(-1,1), values.reshape(-1,1)))\n",
    "    \n",
    "\n",
    "    res = pd.DataFrame(dd,columns=[\"params\",\"score_mean\",\"score_std\",\"scores\"])\n",
    "    print gp[0]\n",
    "    print res"
   ]
  },
  {
   "cell_type": "code",
   "execution_count": 109,
   "metadata": {},
   "outputs": [
    {
     "name": "stdout",
     "output_type": "stream",
     "text": [
      "\n",
      "f1_weighted :\n",
      "**********\n",
      "\n",
      "Test f1: 0.628\n",
      "with following performance in test:\n",
      "             precision    recall  f1-score   support\n",
      "\n",
      "          0       0.70      0.68      0.69      5109\n",
      "          1       0.52      0.54      0.53      3233\n",
      "\n",
      "avg / total       0.63      0.63      0.63      8342\n",
      "\n",
      "\n",
      "Confusion matrix:\n",
      "[[3483 1626]\n",
      " [1492 1741]]\n",
      "\n",
      "Accuracy: 0.626228722129\n",
      "Sensitivity: 0.538509124652\n",
      "Specificity: 0.681738109219\n",
      "AUC: 0.661631975062\n",
      "\n",
      "recall :\n",
      "**********\n",
      "\n",
      "Test f1: 0.619\n",
      "with following performance in test:\n",
      "             precision    recall  f1-score   support\n",
      "\n",
      "          0       0.70      0.64      0.67      5109\n",
      "          1       0.50      0.58      0.54      3233\n",
      "\n",
      "avg / total       0.63      0.62      0.62      8342\n",
      "\n",
      "\n",
      "Confusion matrix:\n",
      "[[3269 1840]\n",
      " [1370 1863]]\n",
      "\n",
      "Accuracy: 0.615200191801\n",
      "Sensitivity: 0.576244973709\n",
      "Specificity: 0.639851242905\n",
      "AUC: 0.653975320688\n"
     ]
    }
   ],
   "source": [
    "#Compute test score\n",
    "for gp in grid_pipelines:\n",
    "    \n",
    "    cls = gp[1]\n",
    "    y_pred =cls.predict(X_test)\n",
    "    test_f1 = metrics.f1_score(y_test, y_pred, average='weighted', pos_label=None)\n",
    "\n",
    "    print \"\\n\",gp[0],\":\"\n",
    "    print \"**********\\n\"\n",
    "    print \"Test f1: %0.3f\" % (test_f1)\n",
    "    print \"with following performance in test:\"\n",
    "    print metrics.classification_report(y_test, y_pred)\n",
    "    cm = metrics.confusion_matrix(y_test, y_pred)\n",
    "    print \"\\nConfusion matrix:\"\n",
    "    print cm\n",
    "\n",
    "    print \"\\nAccuracy:\", (cm[0,0] + cm[1,1])/ float(cm[0,0] + cm[1,1]+cm[0,1] + cm[1,0])\n",
    "    print \"Sensitivity:\", cm[1,1] / float(cm[1,1] + cm[1,0]) #Reduce FN (recall)\n",
    "    print \"Specificity:\", cm[0,0] / float(cm[0,0] + cm[0,1]) #Reduce FP\n",
    "\n",
    "    y_probs = cls.best_estimator_.predict_proba(X_test)\n",
    "    fpr, tpr, thresholds = metrics.roc_curve(y_test, y_probs[:,1], pos_label=1)\n",
    "    print \"AUC:\", metrics.auc(fpr, tpr)"
   ]
  },
  {
   "cell_type": "markdown",
   "metadata": {
    "collapsed": true
   },
   "source": [
    "#### Learning curve"
   ]
  },
  {
   "cell_type": "code",
   "execution_count": 149,
   "metadata": {},
   "outputs": [
    {
     "name": "stdout",
     "output_type": "stream",
     "text": [
      "GridSearchCV(cv=StratifiedShuffleSplit(labels=[0 1 ..., 0 0], n_iter=10, test_size=0.2, random_state=24),\n",
      "       error_score=0,\n",
      "       estimator=Pipeline(steps=[('Imputer', TypeFeatImputer(allNameCols=Index([u'gender', u'age', u'time_in_hospital', u'num_lab_procedures',\n",
      "       u'num_procedures', u'num_medications', u'number_outpatient',\n",
      "       u'number_emergency', u'number_inpatient', u'number_diagnoses',\n",
      "       u'metformin', u'repaglinide', u'glimep...alty='l2', random_state=42, solver='liblinear', tol=0.0001,\n",
      "          verbose=0, warm_start=False))]),\n",
      "       fit_params={}, iid=True, n_jobs=-1,\n",
      "       param_grid={'logReg__class_weight': [None, 'balanced'], 'logReg__C': [0.001, 1, 10], 'logReg__penalty': ['l1', 'l2']},\n",
      "       pre_dispatch='2*n_jobs', refit=True, scoring='recall', verbose=1)\n"
     ]
    }
   ],
   "source": [
    "cls = grid_pipelines[1][1]\n",
    "print cls"
   ]
  },
  {
   "cell_type": "code",
   "execution_count": 145,
   "metadata": {
    "collapsed": true
   },
   "outputs": [],
   "source": [
    "from sklearn.model_selection import learning_curve\n",
    "from sklearn.model_selection import ShuffleSplit\n",
    "\n",
    "\n",
    "def plot_learning_curve(estimator, title, X, y, ylim=None, cv=None,\n",
    "                        n_jobs=1, train_sizes=np.linspace(.1, 1.0, 5)):\n",
    "\n",
    "    plt.figure(figsize=(8,6))\n",
    "    plt.title(title)\n",
    "    if ylim is not None:\n",
    "        plt.ylim(*ylim)\n",
    "    plt.xlabel(\"% Training set\")\n",
    "    plt.ylabel(\"F1-score\")\n",
    "    train_sizes_lc, train_scores, test_scores = learning_curve(\n",
    "        estimator, X, y, cv=cv, n_jobs=n_jobs, train_sizes=train_sizes,scoring=\"f1_weighted\")\n",
    "    train_scores_mean = np.mean(train_scores, axis=1)\n",
    "    train_scores_std = np.std(train_scores, axis=1)\n",
    "    test_scores_mean = np.mean(test_scores, axis=1)\n",
    "    test_scores_std = np.std(test_scores, axis=1)\n",
    "    plt.grid(True)\n",
    "\n",
    "    plt.fill_between(train_sizes, train_scores_mean - train_scores_std,\n",
    "                     train_scores_mean + train_scores_std, alpha=0.2,\n",
    "                     color=\"r\")\n",
    "    plt.fill_between(train_sizes, test_scores_mean - test_scores_std,\n",
    "                     test_scores_mean + test_scores_std, alpha=0.2, color=\"g\")\n",
    "    plt.plot(train_sizes, train_scores_mean, 'o-', color=\"b\",\n",
    "             label=\"Training score\")\n",
    "    plt.plot(train_sizes, test_scores_mean, 'o-', color=\"g\",\n",
    "             label=\"Cross-validation score\")\n",
    "    plt.axhline(0.5,color='r',ls='--', label=\"random\")\n",
    "    \n",
    "    plt.legend(loc='center left', bbox_to_anchor=(1, 0.5))\n",
    "    return plt"
   ]
  },
  {
   "cell_type": "code",
   "execution_count": 148,
   "metadata": {},
   "outputs": [
    {
     "name": "stderr",
     "output_type": "stream",
     "text": [
      "/home/aegle/miniconda2/envs/readmision/lib/python2.7/site-packages/sklearn/metrics/classification.py:1113: UndefinedMetricWarning: F-score is ill-defined and being set to 0.0 in labels with no predicted samples.\n",
      "  'precision', 'predicted', average, warn_for)\n",
      "/home/aegle/miniconda2/envs/readmision/lib/python2.7/site-packages/sklearn/metrics/classification.py:1113: UndefinedMetricWarning: F-score is ill-defined and being set to 0.0 in labels with no predicted samples.\n",
      "  'precision', 'predicted', average, warn_for)\n",
      "/home/aegle/miniconda2/envs/readmision/lib/python2.7/site-packages/sklearn/metrics/classification.py:1113: UndefinedMetricWarning: F-score is ill-defined and being set to 0.0 in labels with no predicted samples.\n",
      "  'precision', 'predicted', average, warn_for)\n",
      "/home/aegle/miniconda2/envs/readmision/lib/python2.7/site-packages/sklearn/metrics/classification.py:1113: UndefinedMetricWarning: F-score is ill-defined and being set to 0.0 in labels with no predicted samples.\n",
      "  'precision', 'predicted', average, warn_for)\n",
      "/home/aegle/miniconda2/envs/readmision/lib/python2.7/site-packages/sklearn/metrics/classification.py:1113: UndefinedMetricWarning: F-score is ill-defined and being set to 0.0 in labels with no predicted samples.\n",
      "  'precision', 'predicted', average, warn_for)\n",
      "/home/aegle/miniconda2/envs/readmision/lib/python2.7/site-packages/sklearn/metrics/classification.py:1113: UndefinedMetricWarning: F-score is ill-defined and being set to 0.0 in labels with no predicted samples.\n",
      "  'precision', 'predicted', average, warn_for)\n",
      "/home/aegle/miniconda2/envs/readmision/lib/python2.7/site-packages/sklearn/metrics/classification.py:1113: UndefinedMetricWarning: F-score is ill-defined and being set to 0.0 in labels with no predicted samples.\n",
      "  'precision', 'predicted', average, warn_for)\n",
      "/home/aegle/miniconda2/envs/readmision/lib/python2.7/site-packages/sklearn/metrics/classification.py:1113: UndefinedMetricWarning: F-score is ill-defined and being set to 0.0 in labels with no predicted samples.\n",
      "  'precision', 'predicted', average, warn_for)\n",
      "/home/aegle/miniconda2/envs/readmision/lib/python2.7/site-packages/sklearn/metrics/classification.py:1113: UndefinedMetricWarning: F-score is ill-defined and being set to 0.0 in labels with no predicted samples.\n",
      "  'precision', 'predicted', average, warn_for)\n",
      "/home/aegle/miniconda2/envs/readmision/lib/python2.7/site-packages/sklearn/metrics/classification.py:1113: UndefinedMetricWarning: F-score is ill-defined and being set to 0.0 in labels with no predicted samples.\n",
      "  'precision', 'predicted', average, warn_for)\n",
      "/home/aegle/miniconda2/envs/readmision/lib/python2.7/site-packages/sklearn/metrics/classification.py:1113: UndefinedMetricWarning: F-score is ill-defined and being set to 0.0 in labels with no predicted samples.\n",
      "  'precision', 'predicted', average, warn_for)\n",
      "/home/aegle/miniconda2/envs/readmision/lib/python2.7/site-packages/sklearn/metrics/classification.py:1113: UndefinedMetricWarning: F-score is ill-defined and being set to 0.0 in labels with no predicted samples.\n",
      "  'precision', 'predicted', average, warn_for)\n",
      "/home/aegle/miniconda2/envs/readmision/lib/python2.7/site-packages/sklearn/metrics/classification.py:1113: UndefinedMetricWarning: F-score is ill-defined and being set to 0.0 in labels with no predicted samples.\n",
      "  'precision', 'predicted', average, warn_for)\n",
      "/home/aegle/miniconda2/envs/readmision/lib/python2.7/site-packages/sklearn/metrics/classification.py:1113: UndefinedMetricWarning: F-score is ill-defined and being set to 0.0 in labels with no predicted samples.\n",
      "  'precision', 'predicted', average, warn_for)\n",
      "/home/aegle/miniconda2/envs/readmision/lib/python2.7/site-packages/sklearn/metrics/classification.py:1113: UndefinedMetricWarning: F-score is ill-defined and being set to 0.0 in labels with no predicted samples.\n",
      "  'precision', 'predicted', average, warn_for)\n"
     ]
    },
    {
     "data": {
      "image/png": "[encoded data removed]",
      "text/plain": [
       "<matplotlib.figure.Figure at 0x7f167d978290>"
      ]
     },
     "metadata": {},
     "output_type": "display_data"
    }
   ],
   "source": [
    "# Cross validation with 100 iterations to get smoother mean test and train\n",
    "# score curves, each time with 20% data randomly selected as a validation set.\n",
    "title = \"\"\n",
    "plot_learning_curve(cls.best_estimator_, title, X_train, y_train, ylim=(0.4, 1.01), \n",
    "                    cv=cv_inner,\n",
    "                    train_sizes=[0.05,0.10,0.15,0.25,0.50,0.75,0.80,1.0], \n",
    "                    n_jobs=-1)\n",
    "\n",
    "plt.show()"
   ]
  },
  {
   "cell_type": "code",
   "execution_count": null,
   "metadata": {
    "collapsed": true
   },
   "outputs": [],
   "source": []
  }
 ],
 "metadata": {
  "kernelspec": {
   "display_name": "Python 2",
   "language": "python",
   "name": "python2"
  },
  "language_info": {
   "codemirror_mode": {
    "name": "ipython",
    "version": 2
   },
   "file_extension": ".py",
   "mimetype": "text/x-python",
   "name": "python",
   "nbconvert_exporter": "python",
   "pygments_lexer": "ipython2",
   "version": "2.7.13"
  }
 },
 "nbformat": 4,
 "nbformat_minor": 2
}
