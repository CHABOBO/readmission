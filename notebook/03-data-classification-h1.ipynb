{
 "cells": [
  {
   "cell_type": "code",
   "execution_count": 1,
   "metadata": {
    "collapsed": true
   },
   "outputs": [],
   "source": [
    "#TO RE-RUN\n",
    "%reset -f"
   ]
  },
  {
   "cell_type": "code",
   "execution_count": 2,
   "metadata": {},
   "outputs": [
    {
     "name": "stderr",
     "output_type": "stream",
     "text": [
      "/home/ilmira/.conda/envs/readmision/lib/python2.7/site-packages/sklearn/cross_validation.py:41: DeprecationWarning: This module was deprecated in version 0.18 in favor of the model_selection module into which all the refactored classes and functions are moved. Also note that the interface of the new CV iterators are different from that of this module. This module will be removed in 0.20.\n",
      "  \"This module will be removed in 0.20.\", DeprecationWarning)\n",
      "/home/ilmira/.conda/envs/readmision/lib/python2.7/site-packages/sklearn/grid_search.py:42: DeprecationWarning: This module was deprecated in version 0.18 in favor of the model_selection module into which all the refactored classes and functions are moved. This module will be removed in 0.20.\n",
      "  DeprecationWarning)\n"
     ]
    }
   ],
   "source": [
    "from sklearn import preprocessing\n",
    "from time import time\n",
    "import numpy as np\n",
    "import csv\n",
    "from sklearn import metrics\n",
    "from sklearn.preprocessing import scale\n",
    "from sklearn.feature_selection import VarianceThreshold\n",
    "from sklearn.cross_validation import StratifiedShuffleSplit, cross_val_score\n",
    "\n",
    "from sklearn.svm import SVC\n",
    "from sklearn.svm import LinearSVC\n",
    "from sklearn.neighbors import KNeighborsClassifier\n",
    "from sklearn.linear_model import LogisticRegression\n",
    "from sklearn.ensemble import RandomForestClassifier\n",
    "from sklearn.naive_bayes import BernoulliNB, MultinomialNB, GaussianNB\n",
    "\n",
    "from sklearn.grid_search import GridSearchCV, ParameterGrid\n",
    "from sklearn.preprocessing import StandardScaler\n",
    "\n",
    "from imblearn.over_sampling import SMOTE,ADASYN, RandomOverSampler\n",
    "from imblearn.pipeline import Pipeline\n",
    "from imblearn.pipeline import make_pipeline\n",
    "\n",
    "from operator import truediv\n",
    "from sklearn import metrics\n",
    "import pandas as pd\n",
    "import time\n",
    "import os\n",
    "\n",
    "from pylab import *\n",
    "import seaborn as sns\n",
    "import matplotlib.pyplot as plt\n",
    "\n",
    "\n",
    "np.set_printoptions(suppress=True)\n",
    "pd.options.display.float_format = '{:,.2f}'.format\n",
    "plt.style.use('classic')\n",
    "\n",
    "%matplotlib inline\n",
    "\n",
    "import sys\n",
    "sys.path.insert(1, \"/home/ilmira/healthforecast/readmission/src/\")\n",
    "from TypeFeatImputer import TypeFeatImputer\n",
    "from UnivCombineFilter import UnivCombineFilter"
   ]
  },
  {
   "cell_type": "code",
   "execution_count": 3,
   "metadata": {},
   "outputs": [
    {
     "name": "stdout",
     "output_type": "stream",
     "text": [
      "(71518, 20)\n",
      "Index([u'diss_1', u'race_AfricanAmerican', u'race_Caucasian', u'race_Other',\n",
      "       u'medSpec_cardio', u'medSpec_Family/GeneralPractice',\n",
      "       u'medSpec_InternalMedicine', u'medSpec_surgery', u'age_cat',\n",
      "       u'Diabetis', u'Circulatory', u'Digestive', u'Genitourinary',\n",
      "       u'Poisoning', u'Muscoskeletal', u'Neoplasms', u'Respiratory', u'HbA1c',\n",
      "       u'Change', u'readmitted'],\n",
      "      dtype='object')\n",
      "0    42985\n",
      "2    22240\n",
      "1     6293\n",
      "Name: readmitted, dtype: int64\n",
      "0   0.60\n",
      "2   0.31\n",
      "1   0.09\n",
      "Name: readmitted, dtype: float64\n"
     ]
    }
   ],
   "source": [
    "#df_all=pd.read_csv(os.path.join('resources','diabetic_data_processed_withweight.csv'),';')\n",
    "df_all=pd.read_pickle(os.path.join('resources','clean_data_hyp_1.pkl'))\n",
    "print df_all.shape\n",
    "print df_all.columns\n",
    "print df_all.readmitted.value_counts()\n",
    "print df_all.readmitted.value_counts()/float(df_all.shape[0])"
   ]
  },
  {
   "cell_type": "markdown",
   "metadata": {},
   "source": [
    "#### Compute class label"
   ]
  },
  {
   "cell_type": "code",
   "execution_count": 4,
   "metadata": {},
   "outputs": [
    {
     "name": "stdout",
     "output_type": "stream",
     "text": [
      "[0 1 2] 42985 6293 22240\n"
     ]
    }
   ],
   "source": [
    "print df_all.loc[:,\"readmitted\"].sort_values().unique(), np.sum(df_all[\"readmitted\"] == 0), np.sum(df_all[\"readmitted\"] == 1), np.sum(df_all[\"readmitted\"] == 2)"
   ]
  },
  {
   "cell_type": "code",
   "execution_count": 11,
   "metadata": {},
   "outputs": [
    {
     "name": "stdout",
     "output_type": "stream",
     "text": [
      "[0 1 2] 42985 6293 22240\n",
      "[0 1] 42985 28533\n"
     ]
    },
    {
     "name": "stderr",
     "output_type": "stream",
     "text": [
      "/home/ilmira/.conda/envs/readmision/lib/python2.7/site-packages/ipykernel_launcher.py:3: SettingWithCopyWarning: \n",
      "A value is trying to be set on a copy of a slice from a DataFrame\n",
      "\n",
      "See the caveats in the documentation: http://pandas.pydata.org/pandas-docs/stable/indexing.html#indexing-view-versus-copy\n",
      "  This is separate from the ipykernel package so we can avoid doing imports until\n"
     ]
    }
   ],
   "source": [
    "# Readmitted none vs readmitted\n",
    "df_all[\"readmitted\"][df_all[\"readmitted\"].values > 0] = 1\n",
    "print df_all.iloc[:,-1].sort_values().unique(), np.sum(df_all[\"readmitted\"] == 0), np.sum(df_all[\"readmitted\"] == 1)"
   ]
  },
  {
   "cell_type": "code",
   "execution_count": 5,
   "metadata": {},
   "outputs": [
    {
     "name": "stdout",
     "output_type": "stream",
     "text": [
      "[0 1] 42985 6293\n"
     ]
    }
   ],
   "source": [
    "# Readmitted none vs early readmitted\n",
    "df_all= df_all[df_all[\"readmitted\"].isin([0,1])]\n",
    "print df_all.iloc[:,-1].sort_values().unique(), np.sum(df_all[\"readmitted\"] == 0), np.sum(df_all[\"readmitted\"] == 1)"
   ]
  },
  {
   "cell_type": "markdown",
   "metadata": {},
   "source": [
    "#### Compute type fields"
   ]
  },
  {
   "cell_type": "code",
   "execution_count": 6,
   "metadata": {},
   "outputs": [
    {
     "name": "stdout",
     "output_type": "stream",
     "text": [
      "Cat cols: 19 \n",
      "Index([u'diss_1', u'race_AfricanAmerican', u'race_Caucasian', u'race_Other',\n",
      "       u'medSpec_cardio', u'medSpec_Family/GeneralPractice',\n",
      "       u'medSpec_InternalMedicine', u'medSpec_surgery', u'age_cat',\n",
      "       u'Diabetis', u'Circulatory', u'Digestive', u'Genitourinary',\n",
      "       u'Poisoning', u'Muscoskeletal', u'Neoplasms', u'Respiratory', u'HbA1c',\n",
      "       u'Change'],\n",
      "      dtype='object')\n",
      "Num cols: 0 \n",
      "Index([], dtype='object')\n",
      "19\n"
     ]
    }
   ],
   "source": [
    "numCols = []\n",
    "catCols = []\n",
    "cols = df_all.columns\n",
    "reducedCols = cols[:-1]\n",
    "\n",
    "for i in range(len(cols)-1):\n",
    "    if cols[i] not in numCols:\n",
    "        catCols.append(1)\n",
    "    else:\n",
    "        catCols.append(0)\n",
    "catCols = np.array(catCols)\n",
    "\n",
    "print \"Cat cols:\", np.sum(catCols==1), \"\\n\", reducedCols[catCols==1]\n",
    "print \"Num cols:\", np.sum(catCols==0), \"\\n\", reducedCols[catCols==0]\n",
    "print len(reducedCols)"
   ]
  },
  {
   "cell_type": "markdown",
   "metadata": {},
   "source": [
    "#### Compute partition (train, test)"
   ]
  },
  {
   "cell_type": "code",
   "execution_count": 7,
   "metadata": {},
   "outputs": [
    {
     "name": "stdout",
     "output_type": "stream",
     "text": [
      "[1 0]\n",
      "0    42985\n",
      "1     6293\n",
      "Name: readmitted, dtype: int64\n",
      "\n",
      "(34494, 19) (34494,)\n",
      "30089 0.87 4405 0.13\n",
      "(14784, 19) (14784,)\n",
      "12896 0.87 1888 0.13\n"
     ]
    }
   ],
   "source": [
    "y = df_all.readmitted\n",
    "print y.unique()\n",
    "print y.value_counts()\n",
    "y = y.values\n",
    "\n",
    "X = df_all.iloc[:,:-1].values\n",
    "sss = StratifiedShuffleSplit(y, 1, test_size=0.30, random_state=32) #random_state=42\n",
    "for train_index, test_index in sss:\n",
    "    X_train, X_test = X[train_index], X[test_index]\n",
    "    y_train, y_test = y[train_index], y[test_index]\n",
    "\n",
    "print\n",
    "print X_train.shape, y_train.shape\n",
    "print np.sum(y_train == 0), round(np.sum(y_train == 0)/float(y_train.shape[0]),2), \\\n",
    "      np.sum(y_train > 0), round(np.sum(y_train > 0)/float(y_train.shape[0]),2)\n",
    "print X_test.shape, y_test.shape\n",
    "print np.sum(y_test == 0), round(np.sum(y_test == 0)/float(y_test.shape[0]),2), \\\n",
    "      np.sum(y_test > 0), round(np.sum(y_test > 0)/float(y_test.shape[0]),2)\n"
   ]
  },
  {
   "cell_type": "markdown",
   "metadata": {
    "collapsed": true
   },
   "source": [
    "#### Simple pipeline"
   ]
  },
  {
   "cell_type": "code",
   "execution_count": 31,
   "metadata": {
    "collapsed": true
   },
   "outputs": [],
   "source": [
    "basePipeline = Pipeline([\n",
    "        (\"Imputer\", TypeFeatImputer(catCols, reducedCols)),\n",
    "        (\"Variance\", VarianceThreshold(threshold=(.995 * (1 - .995)))),\n",
    "        (\"Scaler\", StandardScaler())\n",
    "    ])\n",
    "\n",
    "params = {}\n",
    "pipeline = []\n",
    "pipe = Pipeline(list(basePipeline.steps))"
   ]
  },
  {
   "cell_type": "code",
   "execution_count": 131,
   "metadata": {
    "collapsed": true
   },
   "outputs": [],
   "source": [
    "fs_method = \"combine_fs\"\n",
    "pipe.steps.insert(1,(fs_method, UnivCombineFilter(catCols,np.array(reducedCols))))\n",
    "params.update({fs_method + '__percentile':[30,50,70,80]})"
   ]
  },
  {
   "cell_type": "code",
   "execution_count": 32,
   "metadata": {
    "collapsed": true
   },
   "outputs": [],
   "source": [
    "cls_method = \"logReg\"\n",
    "pipe.steps.append((cls_method, LogisticRegression(random_state=42)))\n",
    "params.update({cls_method + '__C': [1e-8,1e-6,1e-5,0.001,0.01,0.1,1,5,10]})\n",
    "params.update({cls_method + '__class_weight': [None, 'balanced']})\n",
    "params.update({cls_method + '__penalty': [\"l1\",\"l2\"]})"
   ]
  },
  {
   "cell_type": "code",
   "execution_count": 111,
   "metadata": {
    "collapsed": true
   },
   "outputs": [],
   "source": [
    "cls_method = \"rf\"\n",
    "pipe.steps.append((cls_method, RandomForestClassifier(n_jobs=-1,random_state=42,class_weight=\"balanced\")))\n",
    "params.update({cls_method + '__n_estimators': [150,300,500,700], \n",
    "               cls_method + '__criterion': ['gini'],\n",
    "               cls_method + '__max_depth' : [None,4,6,8,10]})"
   ]
  },
  {
   "cell_type": "code",
   "execution_count": 302,
   "metadata": {
    "collapsed": true
   },
   "outputs": [],
   "source": [
    "cls_method = \"knn\"\n",
    "pipe.steps.append((cls_method, KNeighborsClassifier(n_jobs=-1)))\n",
    "\n",
    "params.update({cls_method + '__n_neighbors': [3,5,7,9], \n",
    "               cls_method + '__weights': ['uniform', 'distance']})"
   ]
  },
  {
   "cell_type": "code",
   "execution_count": 419,
   "metadata": {
    "collapsed": true
   },
   "outputs": [],
   "source": [
    "cls_method = \"svm\"\n",
    "pipe.steps.append((cls_method, SVC(kernel = \"rbf\", random_state=42,probability=True)))\n",
    "params.update({cls_method + '__C': [0.01,0.1,0.5,1,5,10,15,30,50], \n",
    "               cls_method + '__gamma' : [0.0001,0.001,0.01, 0.1,1,5],\n",
    "               cls_method + '__class_weight': [None, 'balanced']})"
   ]
  },
  {
   "cell_type": "code",
   "execution_count": 47,
   "metadata": {
    "collapsed": true
   },
   "outputs": [],
   "source": [
    "cls_method = \"nb\"\n",
    "pipe.steps.append((cls_method, GaussianNB()))\n",
    "#params.update({cls_method + '__alpha': [1e-3,0.001,0.01,0.1,0.5,1,5]})"
   ]
  },
  {
   "cell_type": "code",
   "execution_count": 33,
   "metadata": {
    "collapsed": true
   },
   "outputs": [],
   "source": [
    "#Post process pipeline\n",
    "pipe_imb = make_pipeline(*[p[1] for p in pipe.steps])\n",
    "stps = len(pipe_imb.steps)        \n",
    "for s in range(stps):\n",
    "    pipe_imb.steps.remove(pipe_imb.steps[0])\n",
    "for s in range(stps):\n",
    "    pipe_imb.steps.append(pipe.steps[s])"
   ]
  },
  {
   "cell_type": "code",
   "execution_count": 34,
   "metadata": {
    "collapsed": true
   },
   "outputs": [],
   "source": [
    "#Add sampling\n",
    "sm_method = \"smote\"                \n",
    "pipe_imb.steps.insert(stps - 1, \n",
    "                      (sm_method, SMOTE(ratio='auto', kind='regular', random_state=32)))\n",
    "params.update({sm_method + \"__k_neighbors\":[3,4,5]})"
   ]
  },
  {
   "cell_type": "markdown",
   "metadata": {},
   "source": [
    "#### Pipeline setup"
   ]
  },
  {
   "cell_type": "code",
   "execution_count": 34,
   "metadata": {},
   "outputs": [
    {
     "name": "stdout",
     "output_type": "stream",
     "text": [
      "[('Imputer', TypeFeatImputer(allNameCols=Index([u'diss_1', u'race_AfricanAmerican', u'race_Caucasian', u'race_Other',\n",
      "       u'medSpec_cardio', u'medSpec_Family/GeneralPractice',\n",
      "       u'medSpec_InternalMedicine', u'medSpec_surgery', u'age_cat',\n",
      "       u'Diabetis', u'Circulatory', u'Digestive', u'Genitourinary',\n",
      "       u'Poisoning', u'Muscoskeletal', u'Neoplasms', u'Respiratory', u'HbA1c',\n",
      "       u'Change'],\n",
      "      dtype='object'),\n",
      "        dataCatCols=array([1, 1, 1, 1, 1, 1, 1, 1, 1, 1, 1, 1, 1, 1, 1, 1, 1, 1, 1]))), ('Variance', VarianceThreshold(threshold=0.004975)), ('Scaler', StandardScaler(copy=True, with_mean=True, with_std=True)), ('logReg', LogisticRegression(C=1.0, class_weight=None, dual=False, fit_intercept=True,\n",
      "          intercept_scaling=1, max_iter=100, multi_class='ovr', n_jobs=1,\n",
      "          penalty='l2', random_state=42, solver='liblinear', tol=0.0001,\n",
      "          verbose=0, warm_start=False))]\n"
     ]
    }
   ],
   "source": [
    "verbose = False\n",
    "mtrs = [\"f1_weighted\",\"recall\"] #\"f1\",\"recall\",\"precision\"\n",
    "cv_thr = 0.3\n",
    "cv_folds = 5\n",
    "\n",
    "print pipe_imb.steps"
   ]
  },
  {
   "cell_type": "markdown",
   "metadata": {},
   "source": [
    "#### Run pipeline"
   ]
  },
  {
   "cell_type": "code",
   "execution_count": null,
   "metadata": {
    "scrolled": true
   },
   "outputs": [
    {
     "name": "stdout",
     "output_type": "stream",
     "text": [
      "ALL TRAIN: (34494, 19)\n",
      "TRAIN: [0's: 30089 1's: 4405 ]\n",
      "ALL TEST: (14784, 19)\n",
      "TEST: [0's: 12896 1's: 1888 ]\n",
      "TEST: [0's: 0.872294372294 1's: 0.127705627706 ]\n",
      "\n",
      "CV TRAIN: 24145\n",
      "CV_TEST: 10349\n",
      "Fitting 5 folds for each of 36 candidates, totalling 180 fits\n"
     ]
    },
    {
     "name": "stderr",
     "output_type": "stream",
     "text": [
      "[Parallel(n_jobs=-1)]: Done  19 tasks      | elapsed:    4.3s\n"
     ]
    }
   ],
   "source": [
    "print \"ALL TRAIN:\", X_train.shape\n",
    "print \"TRAIN:\", \"[0's:\", np.sum(y_train==0), \"1's:\", np.sum(y_train==1), \"]\"\n",
    "print \"ALL TEST:\", X_test.shape\n",
    "print \"TEST:\", \"[0's:\", np.sum(y_test==0), \"1's:\", np.sum(y_test==1), \"]\"\n",
    "print \"TEST:\", \"[0's:\", np.sum(y_test==0)/float(y_test.shape[0]), \"1's:\", np.sum(y_test==1)/float(y_test.shape[0]), \"]\"\n",
    "\n",
    "# Run experiment\n",
    "start = time.time()\n",
    "\n",
    "#Prepare pipe_cls      \n",
    "pipeline_cls = pipe_imb\n",
    "pipeline_params = params\n",
    "\n",
    "if verbose:\n",
    "    print \"\\n\",pipeline_cls.steps\n",
    "\n",
    "\n",
    "#Prepare cv\n",
    "cv_inner = StratifiedShuffleSplit(y_train, n_iter=cv_folds, test_size=cv_thr,random_state=24)\n",
    "\n",
    "print \"\\nCV TRAIN:\", cv_inner.n_train\n",
    "print \"CV_TEST:\", cv_inner.n_test\n",
    "\n",
    "#Fit pipeline with CV                        \n",
    "grid_pipelines = []\n",
    "\n",
    "for m in mtrs:\n",
    "    grid_pipeline = GridSearchCV(pipeline_cls, param_grid=pipeline_params, verbose=1, \n",
    "                                 n_jobs=-1, cv=cv_inner, scoring= m, error_score = 0,\n",
    "                                 refit=True) \n",
    "    grid_pipeline.fit(X_train, y_train)\n",
    "    grid_pipelines.append([m,grid_pipeline])\n",
    "\n",
    "end = time.time()\n",
    "print \"Total time:\", end - start"
   ]
  },
  {
   "cell_type": "code",
   "execution_count": 26,
   "metadata": {},
   "outputs": [
    {
     "name": "stdout",
     "output_type": "stream",
     "text": [
      "\n",
      "f1_weighted\n",
      "*****\n",
      "\n",
      "('logReg', LogisticRegression(C=1e-05, class_weight=None, dual=False, fit_intercept=True,\n",
      "          intercept_scaling=1, max_iter=100, multi_class='ovr', n_jobs=1,\n",
      "          penalty='l1', random_state=42, solver='liblinear', tol=0.0001,\n",
      "          verbose=0, warm_start=False))\n",
      "\n",
      "Discarded feats: 0 Index([], dtype='object')\n",
      "\n",
      "recall\n",
      "*****\n",
      "\n",
      "('logReg', LogisticRegression(C=1e-05, class_weight='balanced', dual=False,\n",
      "          fit_intercept=True, intercept_scaling=1, max_iter=100,\n",
      "          multi_class='ovr', n_jobs=1, penalty='l2', random_state=42,\n",
      "          solver='liblinear', tol=0.0001, verbose=0, warm_start=False))\n",
      "\n",
      "Discarded feats: 0 Index([], dtype='object')\n"
     ]
    }
   ],
   "source": [
    "for gp in grid_pipelines:\n",
    "    print\n",
    "    print gp[0]\n",
    "    print \"*****\\n\"\n",
    "    print gp[1].best_estimator_.steps[-1]\n",
    "    print\n",
    "    \n",
    "    if gp[1].best_estimator_.steps[1][0] == \"combine_fs\":\n",
    "        varFilter = gp[1].best_estimator_.steps[1][1]\n",
    "\n",
    "        print \"Selected thr:\", varFilter.percentile\n",
    "        print \"Selected columns:\"\n",
    "        feats = reducedCols[varFilter.ixCols].tolist()\n",
    "        print feats\n",
    "        print \"Num useful features:\", len(feats), feats\n",
    "    \n",
    "    if gp[1].best_estimator_.steps[1][0] == \"Variance\":\n",
    "        varFilter = gp[1].best_estimator_.steps[1][1]\n",
    "        feats = reducedCols[varFilter.get_support() == False]\n",
    "        print \"Discarded feats:\", len(feats), feats"
   ]
  },
  {
   "cell_type": "code",
   "execution_count": 27,
   "metadata": {},
   "outputs": [
    {
     "name": "stdout",
     "output_type": "stream",
     "text": [
      "\n",
      "TRAIN: \n",
      "**********\n",
      "\n",
      "Metric: f1_weighted\n",
      "TR Prec score: 0.760901412974\n",
      "TR Rec score: 0.872296631298\n",
      "TR F1 score: 0.812800066244\n",
      "\n",
      "TRAIN: \n",
      "**********\n",
      "\n",
      "Metric: recall\n",
      "TR Prec score: 0.80972382947\n",
      "TR Rec score: 0.560851162521\n",
      "TR F1 score: 0.633207840783\n"
     ]
    }
   ],
   "source": [
    "# Computel Train score (with best CV params)\n",
    "for gp in grid_pipelines:\n",
    "    \n",
    "    cls = gp[1]\n",
    "    y_pred = cls.predict(X_train)                \n",
    "    train_prec_scores = metrics.precision_score(y_train, y_pred, average='weighted', pos_label=None)\n",
    "    train_rec_scores = metrics.recall_score(y_train, y_pred, average='weighted', pos_label=None)\n",
    "    train_f1_scores = metrics.f1_score(y_train, y_pred, average='weighted', pos_label=None)\n",
    "\n",
    "    print \"\\nTRAIN: \"\n",
    "    print \"**********\\n\"\n",
    "\n",
    "    print \"Metric:\",gp[0]\n",
    "    print \"TR Prec score:\", train_prec_scores\n",
    "    print \"TR Rec score:\", train_rec_scores\n",
    "    print \"TR F1 score:\", train_f1_scores"
   ]
  },
  {
   "cell_type": "code",
   "execution_count": 28,
   "metadata": {},
   "outputs": [
    {
     "name": "stdout",
     "output_type": "stream",
     "text": [
      "\n",
      "CV: \n",
      "******\n",
      "\n",
      "Metric: f1_weighted\n",
      "CV selected params [None, 1e-05, 'l1']\n",
      "CV f1_weighted score: 0.812745114975\n",
      "CV f1 score: 0.813  (+/-0.000)\n",
      "\n",
      "CV: \n",
      "******\n",
      "\n",
      "Metric: recall\n",
      "CV selected params ['balanced', 1e-05, 'l2']\n",
      "CV recall score: 0.604841149773\n",
      "CV f1 score: 0.631  (+/-0.004)\n"
     ]
    }
   ],
   "source": [
    "# Compute pipeline evaluation with CV\n",
    "for gp in grid_pipelines:\n",
    "    \n",
    "    cls = gp[1]\n",
    "    print \"\\nCV: \"\n",
    "    print \"******\\n\"\n",
    "    \n",
    "    print \"Metric:\", gp[0]\n",
    "    print \"CV selected params {}\".format(cls.best_params_.values())\n",
    "    cv_inner_f1 = cross_val_score(cls.best_estimator_, X_train, y_train, \n",
    "                                             cv=cv_inner, scoring='f1_weighted', n_jobs=-1)\n",
    "    print \"CV {} score: {}\".format(gp[0], cls.best_score_)\n",
    "    print \"CV f1 score: %0.3f  (+/-%0.03f)\" % (np.mean(cv_inner_f1), np.std(cv_inner_f1))"
   ]
  },
  {
   "cell_type": "code",
   "execution_count": 29,
   "metadata": {},
   "outputs": [
    {
     "name": "stdout",
     "output_type": "stream",
     "text": [
      "f1_weighted\n",
      "                       params score_mean score_std  \\\n",
      "0         [None, 1e-05, 'l1']       0.81      0.00   \n",
      "1         [None, 1e-05, 'l2']       0.81      0.00   \n",
      "2   ['balanced', 1e-05, 'l1']       0.81      0.00   \n",
      "3   ['balanced', 1e-05, 'l2']       0.63      0.00   \n",
      "4         [None, 0.001, 'l1']       0.81      0.00   \n",
      "5         [None, 0.001, 'l2']       0.81      0.00   \n",
      "6   ['balanced', 0.001, 'l1']       0.68      0.00   \n",
      "7   ['balanced', 0.001, 'l2']       0.65      0.00   \n",
      "8          [None, 0.01, 'l1']       0.81      0.00   \n",
      "9          [None, 0.01, 'l2']       0.81      0.00   \n",
      "10   ['balanced', 0.01, 'l1']       0.65      0.00   \n",
      "11   ['balanced', 0.01, 'l2']       0.65      0.00   \n",
      "12          [None, 0.1, 'l1']       0.81      0.00   \n",
      "13          [None, 0.1, 'l2']       0.81      0.00   \n",
      "14    ['balanced', 0.1, 'l1']       0.65      0.00   \n",
      "15    ['balanced', 0.1, 'l2']       0.65      0.00   \n",
      "16            [None, 1, 'l1']       0.81      0.00   \n",
      "17            [None, 1, 'l2']       0.81      0.00   \n",
      "18      ['balanced', 1, 'l1']       0.65      0.00   \n",
      "19      ['balanced', 1, 'l2']       0.65      0.00   \n",
      "20            [None, 5, 'l1']       0.81      0.00   \n",
      "21            [None, 5, 'l2']       0.81      0.00   \n",
      "22      ['balanced', 5, 'l1']       0.65      0.00   \n",
      "23      ['balanced', 5, 'l2']       0.65      0.00   \n",
      "24           [None, 10, 'l1']       0.81      0.00   \n",
      "25           [None, 10, 'l2']       0.81      0.00   \n",
      "26     ['balanced', 10, 'l1']       0.65      0.00   \n",
      "27     ['balanced', 10, 'l2']       0.65      0.00   \n",
      "\n",
      "                                               scores  \n",
      "0   [0.812745114975, 0.812745114975, 0.81274511497...  \n",
      "1   [0.812745114975, 0.812745114975, 0.81274511497...  \n",
      "2   [0.812745114975, 0.812745114975, 0.81274511497...  \n",
      "3   [0.6259441447, 0.631858211843, 0.632164639002,...  \n",
      "4   [0.812745114975, 0.812745114975, 0.81274511497...  \n",
      "5   [0.812745114975, 0.812745114975, 0.81274511497...  \n",
      "6   [0.678144498405, 0.680954248725, 0.68249920214...  \n",
      "7   [0.647472594414, 0.648190940731, 0.65326732467...  \n",
      "8   [0.812745114975, 0.812745114975, 0.81274511497...  \n",
      "9   [0.812745114975, 0.812745114975, 0.81274511497...  \n",
      "10  [0.643891700907, 0.649559680529, 0.65033464663...  \n",
      "11  [0.650833056556, 0.652133887181, 0.65400305576...  \n",
      "12  [0.812745114975, 0.812745114975, 0.81274511497...  \n",
      "13  [0.812745114975, 0.812745114975, 0.81274511497...  \n",
      "14  [0.650422878515, 0.653686568758, 0.65498353487...  \n",
      "15  [0.651487401143, 0.651800054784, 0.65432976725...  \n",
      "16  [0.812745114975, 0.812745114975, 0.81274511497...  \n",
      "17  [0.812745114975, 0.812745114975, 0.81274511497...  \n",
      "18  [0.651403997983, 0.652622690371, 0.65432976725...  \n",
      "19  [0.651487401143, 0.652458014746, 0.65432976725...  \n",
      "20  [0.812745114975, 0.812745114975, 0.81274511497...  \n",
      "21  [0.812745114975, 0.812745114975, 0.81274511497...  \n",
      "22  [0.651487401143, 0.652458014746, 0.65432976725...  \n",
      "23  [0.651487401143, 0.652458014746, 0.65432976725...  \n",
      "24  [0.812745114975, 0.812745114975, 0.81274511497...  \n",
      "25  [0.812745114975, 0.812745114975, 0.81274511497...  \n",
      "26  [0.651487401143, 0.652458014746, 0.65432976725...  \n",
      "27  [0.651487401143, 0.652458014746, 0.65432976725...  \n",
      "recall\n",
      "                       params score_mean score_std  \\\n",
      "0         [None, 1e-05, 'l1']       0.00      0.00   \n",
      "1         [None, 1e-05, 'l2']       0.00      0.00   \n",
      "2   ['balanced', 1e-05, 'l1']       0.00      0.00   \n",
      "3   ['balanced', 1e-05, 'l2']       0.60      0.01   \n",
      "4         [None, 0.001, 'l1']       0.00      0.00   \n",
      "5         [None, 0.001, 'l2']       0.00      0.00   \n",
      "6   ['balanced', 0.001, 'l1']       0.52      0.01   \n",
      "7   ['balanced', 0.001, 'l2']       0.58      0.01   \n",
      "8          [None, 0.01, 'l1']       0.00      0.00   \n",
      "9          [None, 0.01, 'l2']       0.00      0.00   \n",
      "10   ['balanced', 0.01, 'l1']       0.59      0.00   \n",
      "11   ['balanced', 0.01, 'l2']       0.57      0.00   \n",
      "12          [None, 0.1, 'l1']       0.00      0.00   \n",
      "13          [None, 0.1, 'l2']       0.00      0.00   \n",
      "14    ['balanced', 0.1, 'l1']       0.57      0.00   \n",
      "15    ['balanced', 0.1, 'l2']       0.57      0.01   \n",
      "16            [None, 1, 'l1']       0.00      0.00   \n",
      "17            [None, 1, 'l2']       0.00      0.00   \n",
      "18      ['balanced', 1, 'l1']       0.57      0.00   \n",
      "19      ['balanced', 1, 'l2']       0.57      0.01   \n",
      "20            [None, 5, 'l1']       0.00      0.00   \n",
      "21            [None, 5, 'l2']       0.00      0.00   \n",
      "22      ['balanced', 5, 'l1']       0.57      0.00   \n",
      "23      ['balanced', 5, 'l2']       0.57      0.01   \n",
      "24           [None, 10, 'l1']       0.00      0.00   \n",
      "25           [None, 10, 'l2']       0.00      0.00   \n",
      "26     ['balanced', 10, 'l1']       0.57      0.00   \n",
      "27     ['balanced', 10, 'l2']       0.57      0.01   \n",
      "\n",
      "                                               scores  \n",
      "0                           [0.0, 0.0, 0.0, 0.0, 0.0]  \n",
      "1                           [0.0, 0.0, 0.0, 0.0, 0.0]  \n",
      "2                           [0.0, 0.0, 0.0, 0.0, 0.0]  \n",
      "3   [0.60363086233, 0.612708018154, 0.597579425113...  \n",
      "4                           [0.0, 0.0, 0.0, 0.0, 0.0]  \n",
      "5                           [0.0, 0.0, 0.0, 0.0, 0.0]  \n",
      "6   [0.516641452345, 0.527987897126, 0.50983358547...  \n",
      "7   [0.57791225416, 0.583207261725, 0.580181543116...  \n",
      "8                           [0.0, 0.0, 0.0, 0.0, 0.0]  \n",
      "9                           [0.0, 0.0, 0.0, 0.0, 0.0]  \n",
      "10  [0.587745839637, 0.590015128593, 0.57866868381...  \n",
      "11  [0.575642965204, 0.577155824508, 0.57866868381...  \n",
      "12                          [0.0, 0.0, 0.0, 0.0, 0.0]  \n",
      "13                          [0.0, 0.0, 0.0, 0.0, 0.0]  \n",
      "14  [0.576399394856, 0.5741301059, 0.575642965204,...  \n",
      "15  [0.574886535552, 0.580181543116, 0.57791225416...  \n",
      "16                          [0.0, 0.0, 0.0, 0.0, 0.0]  \n",
      "17                          [0.0, 0.0, 0.0, 0.0, 0.0]  \n",
      "18  [0.575642965204, 0.577155824508, 0.57791225416...  \n",
      "19  [0.574886535552, 0.57791225416, 0.57791225416,...  \n",
      "20                          [0.0, 0.0, 0.0, 0.0, 0.0]  \n",
      "21                          [0.0, 0.0, 0.0, 0.0, 0.0]  \n",
      "22  [0.574886535552, 0.57791225416, 0.57791225416,...  \n",
      "23  [0.574886535552, 0.57791225416, 0.57791225416,...  \n",
      "24                          [0.0, 0.0, 0.0, 0.0, 0.0]  \n",
      "25                          [0.0, 0.0, 0.0, 0.0, 0.0]  \n",
      "26  [0.574886535552, 0.57791225416, 0.57791225416,...  \n",
      "27  [0.574886535552, 0.57791225416, 0.57791225416,...  \n"
     ]
    }
   ],
   "source": [
    "# Compute pipeline evaluation with CV\n",
    "dd = []\n",
    "for gp in grid_pipelines:\n",
    "    \n",
    "    cls = gp[1]   \n",
    "    params =  np.array([str(d.values()) for d in np.array(cls.grid_scores_[:])[:,0]])\n",
    "    mean = np.array(cls.grid_scores_)[:,1]\n",
    "    values = np.array(cls.grid_scores_)[:,2]\n",
    "    std = np.array([np.std(v) for v in values])\n",
    "    \n",
    "    dd = np.hstack((params.reshape(-1,1), mean.reshape(-1,1), std.reshape(-1,1), values.reshape(-1,1)))\n",
    "    \n",
    "\n",
    "    res = pd.DataFrame(dd,columns=[\"params\",\"score_mean\",\"score_std\",\"scores\"])\n",
    "    print gp[0]\n",
    "    print res"
   ]
  },
  {
   "cell_type": "code",
   "execution_count": 30,
   "metadata": {},
   "outputs": [
    {
     "name": "stdout",
     "output_type": "stream",
     "text": [
      "\n",
      "f1_weighted :\n",
      "**********\n",
      "\n",
      "Test f1: 0.813\n",
      "with following performance in test:\n",
      "             precision    recall  f1-score   support\n",
      "\n",
      "          0       0.87      1.00      0.93     12896\n",
      "          1       0.00      0.00      0.00      1888\n",
      "\n",
      "avg / total       0.76      0.87      0.81     14784\n",
      "\n",
      "\n",
      "Confusion matrix:\n",
      "[[12896     0]\n",
      " [ 1888     0]]\n",
      "\n",
      "Accuracy: 0.872294372294\n",
      "Sensitivity: 0.0\n",
      "Specificity: 1.0\n",
      "AUC: 0.5\n",
      "\n",
      "recall :\n",
      "**********\n",
      "\n",
      "Test f1: 0.630\n",
      "with following performance in test:\n",
      "             precision    recall  f1-score   support\n",
      "\n",
      "          0       0.91      0.55      0.68     12896\n",
      "          1       0.17      0.61      0.26      1888\n",
      "\n",
      "avg / total       0.81      0.56      0.63     14784\n",
      "\n",
      "\n",
      "Confusion matrix:\n",
      "[[7096 5800]\n",
      " [ 740 1148]]\n",
      "\n",
      "Accuracy: 0.55762987013\n",
      "Sensitivity: 0.608050847458\n",
      "Specificity: 0.550248138958\n",
      "AUC: 0.607509604213\n"
     ]
    }
   ],
   "source": [
    "#Compute test score\n",
    "for gp in grid_pipelines:\n",
    "    \n",
    "    cls = gp[1]\n",
    "    y_pred =cls.predict(X_test)\n",
    "    test_f1 = metrics.f1_score(y_test, y_pred, average='weighted', pos_label=None)\n",
    "\n",
    "    print \"\\n\",gp[0],\":\"\n",
    "    print \"**********\\n\"\n",
    "    print \"Test f1: %0.3f\" % (test_f1)\n",
    "    print \"with following performance in test:\"\n",
    "    print metrics.classification_report(y_test, y_pred)\n",
    "    cm = metrics.confusion_matrix(y_test, y_pred)\n",
    "    print \"\\nConfusion matrix:\"\n",
    "    print cm\n",
    "\n",
    "    print \"\\nAccuracy:\", (cm[0,0] + cm[1,1])/ float(cm[0,0] + cm[1,1]+cm[0,1] + cm[1,0])\n",
    "    print \"Sensitivity:\", cm[1,1] / float(cm[1,1] + cm[1,0]) #Reduce FN (recall)\n",
    "    print \"Specificity:\", cm[0,0] / float(cm[0,0] + cm[0,1]) #Reduce FP\n",
    "\n",
    "    y_probs = cls.best_estimator_.predict_proba(X_test)\n",
    "    fpr, tpr, thresholds = metrics.roc_curve(y_test, y_probs[:,1], pos_label=1)\n",
    "    print \"AUC:\", metrics.auc(fpr, tpr)"
   ]
  },
  {
   "cell_type": "markdown",
   "metadata": {
    "collapsed": true
   },
   "source": [
    "#### Learning curve"
   ]
  },
  {
   "cell_type": "code",
   "execution_count": 149,
   "metadata": {},
   "outputs": [
    {
     "name": "stdout",
     "output_type": "stream",
     "text": [
      "GridSearchCV(cv=StratifiedShuffleSplit(labels=[0 1 ..., 0 0], n_iter=10, test_size=0.2, random_state=24),\n",
      "       error_score=0,\n",
      "       estimator=Pipeline(steps=[('Imputer', TypeFeatImputer(allNameCols=Index([u'gender', u'age', u'time_in_hospital', u'num_lab_procedures',\n",
      "       u'num_procedures', u'num_medications', u'number_outpatient',\n",
      "       u'number_emergency', u'number_inpatient', u'number_diagnoses',\n",
      "       u'metformin', u'repaglinide', u'glimep...alty='l2', random_state=42, solver='liblinear', tol=0.0001,\n",
      "          verbose=0, warm_start=False))]),\n",
      "       fit_params={}, iid=True, n_jobs=-1,\n",
      "       param_grid={'logReg__class_weight': [None, 'balanced'], 'logReg__C': [0.001, 1, 10], 'logReg__penalty': ['l1', 'l2']},\n",
      "       pre_dispatch='2*n_jobs', refit=True, scoring='recall', verbose=1)\n"
     ]
    }
   ],
   "source": [
    "cls = grid_pipelines[1][1]\n",
    "print cls"
   ]
  },
  {
   "cell_type": "code",
   "execution_count": 145,
   "metadata": {
    "collapsed": true
   },
   "outputs": [],
   "source": [
    "from sklearn.model_selection import learning_curve\n",
    "from sklearn.model_selection import ShuffleSplit\n",
    "\n",
    "\n",
    "def plot_learning_curve(estimator, title, X, y, ylim=None, cv=None,\n",
    "                        n_jobs=1, train_sizes=np.linspace(.1, 1.0, 5)):\n",
    "\n",
    "    plt.figure(figsize=(8,6))\n",
    "    plt.title(title)\n",
    "    if ylim is not None:\n",
    "        plt.ylim(*ylim)\n",
    "    plt.xlabel(\"% Training set\")\n",
    "    plt.ylabel(\"F1-score\")\n",
    "    train_sizes_lc, train_scores, test_scores = learning_curve(\n",
    "        estimator, X, y, cv=cv, n_jobs=n_jobs, train_sizes=train_sizes,scoring=\"f1_weighted\")\n",
    "    train_scores_mean = np.mean(train_scores, axis=1)\n",
    "    train_scores_std = np.std(train_scores, axis=1)\n",
    "    test_scores_mean = np.mean(test_scores, axis=1)\n",
    "    test_scores_std = np.std(test_scores, axis=1)\n",
    "    plt.grid(True)\n",
    "\n",
    "    plt.fill_between(train_sizes, train_scores_mean - train_scores_std,\n",
    "                     train_scores_mean + train_scores_std, alpha=0.2,\n",
    "                     color=\"r\")\n",
    "    plt.fill_between(train_sizes, test_scores_mean - test_scores_std,\n",
    "                     test_scores_mean + test_scores_std, alpha=0.2, color=\"g\")\n",
    "    plt.plot(train_sizes, train_scores_mean, 'o-', color=\"b\",\n",
    "             label=\"Training score\")\n",
    "    plt.plot(train_sizes, test_scores_mean, 'o-', color=\"g\",\n",
    "             label=\"Cross-validation score\")\n",
    "    plt.axhline(0.5,color='r',ls='--', label=\"random\")\n",
    "    \n",
    "    plt.legend(loc='center left', bbox_to_anchor=(1, 0.5))\n",
    "    return plt"
   ]
  },
  {
   "cell_type": "code",
   "execution_count": 148,
   "metadata": {},
   "outputs": [
    {
     "name": "stderr",
     "output_type": "stream",
     "text": [
      "/home/aegle/miniconda2/envs/readmision/lib/python2.7/site-packages/sklearn/metrics/classification.py:1113: UndefinedMetricWarning: F-score is ill-defined and being set to 0.0 in labels with no predicted samples.\n",
      "  'precision', 'predicted', average, warn_for)\n",
      "/home/aegle/miniconda2/envs/readmision/lib/python2.7/site-packages/sklearn/metrics/classification.py:1113: UndefinedMetricWarning: F-score is ill-defined and being set to 0.0 in labels with no predicted samples.\n",
      "  'precision', 'predicted', average, warn_for)\n",
      "/home/aegle/miniconda2/envs/readmision/lib/python2.7/site-packages/sklearn/metrics/classification.py:1113: UndefinedMetricWarning: F-score is ill-defined and being set to 0.0 in labels with no predicted samples.\n",
      "  'precision', 'predicted', average, warn_for)\n",
      "/home/aegle/miniconda2/envs/readmision/lib/python2.7/site-packages/sklearn/metrics/classification.py:1113: UndefinedMetricWarning: F-score is ill-defined and being set to 0.0 in labels with no predicted samples.\n",
      "  'precision', 'predicted', average, warn_for)\n",
      "/home/aegle/miniconda2/envs/readmision/lib/python2.7/site-packages/sklearn/metrics/classification.py:1113: UndefinedMetricWarning: F-score is ill-defined and being set to 0.0 in labels with no predicted samples.\n",
      "  'precision', 'predicted', average, warn_for)\n",
      "/home/aegle/miniconda2/envs/readmision/lib/python2.7/site-packages/sklearn/metrics/classification.py:1113: UndefinedMetricWarning: F-score is ill-defined and being set to 0.0 in labels with no predicted samples.\n",
      "  'precision', 'predicted', average, warn_for)\n",
      "/home/aegle/miniconda2/envs/readmision/lib/python2.7/site-packages/sklearn/metrics/classification.py:1113: UndefinedMetricWarning: F-score is ill-defined and being set to 0.0 in labels with no predicted samples.\n",
      "  'precision', 'predicted', average, warn_for)\n",
      "/home/aegle/miniconda2/envs/readmision/lib/python2.7/site-packages/sklearn/metrics/classification.py:1113: UndefinedMetricWarning: F-score is ill-defined and being set to 0.0 in labels with no predicted samples.\n",
      "  'precision', 'predicted', average, warn_for)\n",
      "/home/aegle/miniconda2/envs/readmision/lib/python2.7/site-packages/sklearn/metrics/classification.py:1113: UndefinedMetricWarning: F-score is ill-defined and being set to 0.0 in labels with no predicted samples.\n",
      "  'precision', 'predicted', average, warn_for)\n",
      "/home/aegle/miniconda2/envs/readmision/lib/python2.7/site-packages/sklearn/metrics/classification.py:1113: UndefinedMetricWarning: F-score is ill-defined and being set to 0.0 in labels with no predicted samples.\n",
      "  'precision', 'predicted', average, warn_for)\n",
      "/home/aegle/miniconda2/envs/readmision/lib/python2.7/site-packages/sklearn/metrics/classification.py:1113: UndefinedMetricWarning: F-score is ill-defined and being set to 0.0 in labels with no predicted samples.\n",
      "  'precision', 'predicted', average, warn_for)\n",
      "/home/aegle/miniconda2/envs/readmision/lib/python2.7/site-packages/sklearn/metrics/classification.py:1113: UndefinedMetricWarning: F-score is ill-defined and being set to 0.0 in labels with no predicted samples.\n",
      "  'precision', 'predicted', average, warn_for)\n",
      "/home/aegle/miniconda2/envs/readmision/lib/python2.7/site-packages/sklearn/metrics/classification.py:1113: UndefinedMetricWarning: F-score is ill-defined and being set to 0.0 in labels with no predicted samples.\n",
      "  'precision', 'predicted', average, warn_for)\n",
      "/home/aegle/miniconda2/envs/readmision/lib/python2.7/site-packages/sklearn/metrics/classification.py:1113: UndefinedMetricWarning: F-score is ill-defined and being set to 0.0 in labels with no predicted samples.\n",
      "  'precision', 'predicted', average, warn_for)\n",
      "/home/aegle/miniconda2/envs/readmision/lib/python2.7/site-packages/sklearn/metrics/classification.py:1113: UndefinedMetricWarning: F-score is ill-defined and being set to 0.0 in labels with no predicted samples.\n",
      "  'precision', 'predicted', average, warn_for)\n"
     ]
    },
    {
     "data": {
      "image/png": "[encoded data removed]",
      "text/plain": [
       "<matplotlib.figure.Figure at 0x7f167d978290>"
      ]
     },
     "metadata": {},
     "output_type": "display_data"
    }
   ],
   "source": [
    "# Cross validation with 100 iterations to get smoother mean test and train\n",
    "# score curves, each time with 20% data randomly selected as a validation set.\n",
    "title = \"\"\n",
    "plot_learning_curve(cls.best_estimator_, title, X_train, y_train, ylim=(0.4, 1.01), \n",
    "                    cv=cv_inner,\n",
    "                    train_sizes=[0.05,0.10,0.15,0.25,0.50,0.75,0.80,1.0], \n",
    "                    n_jobs=-1)\n",
    "\n",
    "plt.show()"
   ]
  },
  {
   "cell_type": "code",
   "execution_count": null,
   "metadata": {
    "collapsed": true
   },
   "outputs": [],
   "source": []
  }
 ],
 "metadata": {
  "kernelspec": {
   "display_name": "Python 2",
   "language": "python",
   "name": "python2"
  },
  "language_info": {
   "codemirror_mode": {
    "name": "ipython",
    "version": 2
   },
   "file_extension": ".py",
   "mimetype": "text/x-python",
   "name": "python",
   "nbconvert_exporter": "python",
   "pygments_lexer": "ipython2",
   "version": "2.7.13"
  }
 },
 "nbformat": 4,
 "nbformat_minor": 2
}
