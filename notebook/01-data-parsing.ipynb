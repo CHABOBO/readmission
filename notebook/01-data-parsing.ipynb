{
 "cells": [
  {
   "cell_type": "code",
   "execution_count": 646,
   "metadata": {
    "collapsed": true
   },
   "outputs": [],
   "source": [
    "#TO RE-RUN\n",
    "%reset -f"
   ]
  },
  {
   "cell_type": "code",
   "execution_count": 647,
   "metadata": {
    "collapsed": true
   },
   "outputs": [],
   "source": [
    "from sklearn import preprocessing\n",
    "from time import time\n",
    "import numpy as np\n",
    "import csv\n",
    "from sklearn import metrics\n",
    "from sklearn.preprocessing import scale\n",
    "from sklearn.feature_selection import VarianceThreshold\n",
    "from sklearn.cross_validation import StratifiedShuffleSplit\n",
    "\n",
    "from sklearn.svm import SVC\n",
    "from sklearn.svm import LinearSVC\n",
    "from sklearn.grid_search import GridSearchCV, ParameterGrid\n",
    "from sklearn.preprocessing import StandardScaler\n",
    "from imblearn.pipeline import Pipeline\n",
    "\n",
    "\n",
    "from sklearn.metrics import pairwise_distances\n",
    "from IPython.display import display, HTML\n",
    "from operator import truediv\n",
    "import pandas as pd\n",
    "import time\n",
    "import os\n",
    "\n",
    "from pylab import *\n",
    "import seaborn as sns\n",
    "import matplotlib.pyplot as plt\n",
    "\n",
    "\n",
    "np.set_printoptions(suppress=True)\n",
    "pd.options.display.float_format = '{:,.3f}'.format\n",
    "plt.style.use('classic')\n",
    "\n",
    "%matplotlib inline\n",
    "\n",
    "import sys\n",
    "sys.path.insert(1, \"../../src/\")\n",
    "from TypeFeatImputer import TypeFeatImputer"
   ]
  },
  {
   "cell_type": "code",
   "execution_count": 648,
   "metadata": {
    "collapsed": true
   },
   "outputs": [],
   "source": [
    "#df_all=pd.read_csv(os.path.join('resources','diabetic_data_processed_withweight.csv'),';')\n",
    "#df_all=pd.read_csv(os.path.join('resources','diabetic_data_processed_2017_09_28.csv'),';')\n",
    "df_all=pd.read_csv(os.path.join('resources','diabetic_data_extended_2017_09_29_14_xrp.csv'),',')"
   ]
  },
  {
   "cell_type": "code",
   "execution_count": 649,
   "metadata": {},
   "outputs": [
    {
     "name": "stdout",
     "output_type": "stream",
     "text": [
      "(101766, 88)\n",
      "Index([u'Unnamed: 0', u'encounter_id', u'patient_nbr', u'race', u'gender',\n",
      "       u'age', u'weight', u'admission_type_id', u'discharge_disposition_id',\n",
      "       u'admission_source_id', u'time_in_hospital', u'payer_code',\n",
      "       u'medical_specialty', u'num_lab_procedures', u'num_procedures',\n",
      "       u'num_medications', u'number_outpatient', u'number_emergency',\n",
      "       u'number_inpatient', u'number_diagnoses', u'max_glu_serum',\n",
      "       u'A1Cresult', u'metformin', u'repaglinide', u'nateglinide',\n",
      "       u'chlorpropamide', u'glimepiride', u'acetohexamide', u'glipizide',\n",
      "       u'glyburide', u'tolbutamide', u'pioglitazone', u'rosiglitazone',\n",
      "       u'acarbose', u'miglitol', u'troglitazone', u'tolazamide', u'examide',\n",
      "       u'citoglipton', u'insulin', u'glyburide-metformin',\n",
      "       u'glipizide-metformin', u'glimepiride-pioglitazone',\n",
      "       u'metformin-rosiglitazone', u'metformin-pioglitazone', u'Change',\n",
      "       u'diabetesMed', u'readmitted', u'Diabetis_3', u'External causes_3',\n",
      "       u'Infectious and parasitic diseases_3', u'Neoplasms_3', u'Endocrine_3',\n",
      "       u'Blood_3', u'Mental_3', u'Nervous_3', u'Organs_3', u'Circulatory_3',\n",
      "       u'Respiratory_3', u'Digestive_3', u'Genitourinary_3', u'Pregnancy_3',\n",
      "       u'Skin_3', u'Muscoskeletal_3', u'Congenital_3', u'Perinatal_3',\n",
      "       u'Ill-defined_3', u'Poisoning_3', u'Diabetis_1', u'External causes_1',\n",
      "       u'Infectious and parasitic diseases_1', u'Neoplasms_1', u'Endocrine_1',\n",
      "       u'Blood_1', u'Mental_1', u'Nervous_1', u'Organs_1', u'Circulatory_1',\n",
      "       u'Respiratory_1', u'Digestive_1', u'Genitourinary_1', u'Pregnancy_1',\n",
      "       u'Skin_1', u'Muscoskeletal_1', u'Congenital_1', u'Perinatal_1',\n",
      "       u'Ill-defined_1', u'Poisoning_1'],\n",
      "      dtype='object')\n",
      "71518\n",
      "0    54864\n",
      "2    35545\n",
      "1    11357\n",
      "Name: readmitted, dtype: int64\n",
      "['Caucasian' 'AfricanAmerican' 'Other' nan 'Hispanic' 'Asian']\n"
     ]
    }
   ],
   "source": [
    "print df_all.shape\n",
    "print df_all.columns\n",
    "print len(df_all.patient_nbr.unique())\n",
    "print df_all.readmitted.value_counts()\n",
    "print df_all.race.unique()"
   ]
  },
  {
   "cell_type": "markdown",
   "metadata": {},
   "source": [
    "#### Group rows by patient and get last one"
   ]
  },
  {
   "cell_type": "code",
   "execution_count": 650,
   "metadata": {
    "collapsed": true
   },
   "outputs": [],
   "source": [
    "typeEncounter = \"last\" #[\"first\",\"last\"]"
   ]
  },
  {
   "cell_type": "code",
   "execution_count": 651,
   "metadata": {},
   "outputs": [
    {
     "name": "stdout",
     "output_type": "stream",
     "text": [
      "71518\n"
     ]
    }
   ],
   "source": [
    "if typeEncounter == \"last\":\n",
    "    df=df_all.groupby(['patient_nbr'], sort=True).last()\n",
    "else:\n",
    "    df=df_all.groupby(['patient_nbr'], sort=True).first()\n",
    "\n",
    "df.readmitted.value_counts()\n",
    "print len(df.encounter_id.unique())"
   ]
  },
  {
   "cell_type": "code",
   "execution_count": 652,
   "metadata": {},
   "outputs": [
    {
     "data": {
      "text/plain": [
       "0    65713\n",
       "1     5805\n",
       "Name: Diabetis_1, dtype: int64"
      ]
     },
     "execution_count": 652,
     "metadata": {},
     "output_type": "execute_result"
    }
   ],
   "source": [
    "pd.value_counts(df.Diabetis_1)"
   ]
  },
  {
   "cell_type": "markdown",
   "metadata": {},
   "source": [
    "#### Null values"
   ]
  },
  {
   "cell_type": "code",
   "execution_count": 653,
   "metadata": {},
   "outputs": [
    {
     "data": {
      "text/html": [
       "<div>\n",
       "<style>\n",
       "    .dataframe thead tr:only-child th {\n",
       "        text-align: right;\n",
       "    }\n",
       "\n",
       "    .dataframe thead th {\n",
       "        text-align: left;\n",
       "    }\n",
       "\n",
       "    .dataframe tbody tr th {\n",
       "        vertical-align: top;\n",
       "    }\n",
       "</style>\n",
       "<table border=\"1\" class=\"dataframe\">\n",
       "  <thead>\n",
       "    <tr style=\"text-align: right;\">\n",
       "      <th></th>\n",
       "      <th>%_Null</th>\n",
       "      <th>#_Null</th>\n",
       "      <th>#_No_Null</th>\n",
       "    </tr>\n",
       "  </thead>\n",
       "  <tbody>\n",
       "    <tr>\n",
       "      <th>A1Cresult</th>\n",
       "      <td>0.785</td>\n",
       "      <td>56130</td>\n",
       "      <td>15388</td>\n",
       "    </tr>\n",
       "    <tr>\n",
       "      <th>gender</th>\n",
       "      <td>0.000</td>\n",
       "      <td>3</td>\n",
       "      <td>71515</td>\n",
       "    </tr>\n",
       "    <tr>\n",
       "      <th>max_glu_serum</th>\n",
       "      <td>0.949</td>\n",
       "      <td>67906</td>\n",
       "      <td>3612</td>\n",
       "    </tr>\n",
       "    <tr>\n",
       "      <th>medical_specialty</th>\n",
       "      <td>0.459</td>\n",
       "      <td>32843</td>\n",
       "      <td>38675</td>\n",
       "    </tr>\n",
       "    <tr>\n",
       "      <th>payer_code</th>\n",
       "      <td>0.419</td>\n",
       "      <td>29985</td>\n",
       "      <td>41533</td>\n",
       "    </tr>\n",
       "    <tr>\n",
       "      <th>race</th>\n",
       "      <td>0.026</td>\n",
       "      <td>1850</td>\n",
       "      <td>69668</td>\n",
       "    </tr>\n",
       "    <tr>\n",
       "      <th>weight</th>\n",
       "      <td>0.960</td>\n",
       "      <td>68652</td>\n",
       "      <td>2866</td>\n",
       "    </tr>\n",
       "  </tbody>\n",
       "</table>\n",
       "</div>"
      ],
      "text/plain": [
       "                   %_Null  #_Null  #_No_Null\n",
       "A1Cresult           0.785   56130      15388\n",
       "gender              0.000       3      71515\n",
       "max_glu_serum       0.949   67906       3612\n",
       "medical_specialty   0.459   32843      38675\n",
       "payer_code          0.419   29985      41533\n",
       "race                0.026    1850      69668\n",
       "weight              0.960   68652       2866"
      ]
     },
     "metadata": {},
     "output_type": "display_data"
    },
    {
     "name": "stdout",
     "output_type": "stream",
     "text": [
      "(7, 3)\n"
     ]
    },
    {
     "data": {
      "text/plain": [
       "<function matplotlib.pyplot.show>"
      ]
     },
     "execution_count": 653,
     "metadata": {},
     "output_type": "execute_result"
    },
    {
     "data": {
      "image/png": "[encoded data removed]",
      "text/plain": [
       "<matplotlib.figure.Figure at 0x7facb3301390>"
      ]
     },
     "metadata": {},
     "output_type": "display_data"
    }
   ],
   "source": [
    "dfNull = np.sum(df.isnull()) / float(df.shape[0])\n",
    "dfNullAll = pd.concat([dfNull[dfNull>0],np.sum(df.isnull()),np.sum(df.isnull()==False)], axis=1)\n",
    "dfNullAll.columns= [\"%_Null\",\"#_Null\",\"#_No_Null\"]\n",
    "\n",
    "display(dfNullAll[dfNullAll.iloc[:,0].isnull() == False][[\"%_Null\",\"#_Null\",\"#_No_Null\"]])\n",
    "print dfNullAll[dfNullAll.iloc[:,0].isnull() == False].shape\n",
    "\n",
    "\n",
    "plt.figure(figsize=(15,4))\n",
    "plt.bar(range(dfNull.shape[0]),dfNull.iloc[:], alpha=0.5)\n",
    "plt.xticks(range(dfNull.shape[0]),dfNull.index,rotation=90)\n",
    "plt.ylabel(\"% nulls\")\n",
    "plt.tight_layout()\n",
    "plt.show"
   ]
  },
  {
   "cell_type": "markdown",
   "metadata": {},
   "source": [
    "#### Remove highly null features"
   ]
  },
  {
   "cell_type": "code",
   "execution_count": 654,
   "metadata": {
    "collapsed": true
   },
   "outputs": [],
   "source": [
    "to_del = []"
   ]
  },
  {
   "cell_type": "code",
   "execution_count": 655,
   "metadata": {
    "collapsed": true
   },
   "outputs": [],
   "source": [
    "#to_del = [\"A1Cresult\",\"max_glu_serum\",\"weight\",\"medical_specialty\"]"
   ]
  },
  {
   "cell_type": "code",
   "execution_count": 656,
   "metadata": {},
   "outputs": [
    {
     "name": "stdout",
     "output_type": "stream",
     "text": [
      "(71518, 87)\n",
      "Index([u'Unnamed: 0', u'encounter_id', u'race', u'gender', u'age', u'weight',\n",
      "       u'admission_type_id', u'discharge_disposition_id',\n",
      "       u'admission_source_id', u'time_in_hospital', u'payer_code',\n",
      "       u'medical_specialty', u'num_lab_procedures', u'num_procedures',\n",
      "       u'num_medications', u'number_outpatient', u'number_emergency',\n",
      "       u'number_inpatient', u'number_diagnoses', u'max_glu_serum',\n",
      "       u'A1Cresult', u'metformin', u'repaglinide', u'nateglinide',\n",
      "       u'chlorpropamide', u'glimepiride', u'acetohexamide', u'glipizide',\n",
      "       u'glyburide', u'tolbutamide', u'pioglitazone', u'rosiglitazone',\n",
      "       u'acarbose', u'miglitol', u'troglitazone', u'tolazamide', u'examide',\n",
      "       u'citoglipton', u'insulin', u'glyburide-metformin',\n",
      "       u'glipizide-metformin', u'glimepiride-pioglitazone',\n",
      "       u'metformin-rosiglitazone', u'metformin-pioglitazone', u'Change',\n",
      "       u'diabetesMed', u'readmitted', u'Diabetis_3', u'External causes_3',\n",
      "       u'Infectious and parasitic diseases_3', u'Neoplasms_3', u'Endocrine_3',\n",
      "       u'Blood_3', u'Mental_3', u'Nervous_3', u'Organs_3', u'Circulatory_3',\n",
      "       u'Respiratory_3', u'Digestive_3', u'Genitourinary_3', u'Pregnancy_3',\n",
      "       u'Skin_3', u'Muscoskeletal_3', u'Congenital_3', u'Perinatal_3',\n",
      "       u'Ill-defined_3', u'Poisoning_3', u'Diabetis_1', u'External causes_1',\n",
      "       u'Infectious and parasitic diseases_1', u'Neoplasms_1', u'Endocrine_1',\n",
      "       u'Blood_1', u'Mental_1', u'Nervous_1', u'Organs_1', u'Circulatory_1',\n",
      "       u'Respiratory_1', u'Digestive_1', u'Genitourinary_1', u'Pregnancy_1',\n",
      "       u'Skin_1', u'Muscoskeletal_1', u'Congenital_1', u'Perinatal_1',\n",
      "       u'Ill-defined_1', u'Poisoning_1'],\n",
      "      dtype='object')\n"
     ]
    }
   ],
   "source": [
    "#Filter_selected cols\n",
    "cols = [c for c in df.columns if (c not in to_del) ]#and ('ENF' not in c)\n",
    "dfFiltered = df[cols]\n",
    "print dfFiltered.shape\n",
    "print dfFiltered.columns"
   ]
  },
  {
   "cell_type": "markdown",
   "metadata": {},
   "source": [
    "#### Check Object (text) features "
   ]
  },
  {
   "cell_type": "code",
   "execution_count": 657,
   "metadata": {
    "scrolled": true
   },
   "outputs": [
    {
     "name": "stdout",
     "output_type": "stream",
     "text": [
      "race 6 :\n",
      "['Caucasian', 'AfricanAmerican', 'Hispanic', 'Other', 'Asian']\n",
      "\n",
      "weight 10 :\n",
      "['[75-100)', '[50-75)', '[100-125)', '[125-150)', '[25-50)', '[0-25)', '[150-175)', '[175-200)', '>200']\n",
      "\n",
      "payer_code 18 :\n",
      "['MC', 'HM', 'BC', 'SP', 'MD', 'CP', 'UN', 'CM', 'OG', 'PO', 'DM', 'WC', 'CH', 'OT', 'SI', 'MP', 'FR']\n",
      "\n",
      "medical_specialty 71 :\n",
      "['InternalMedicine', 'Family/GeneralPractice', 'Emergency/Trauma', 'Cardiology', 'Surgery-General', 'Orthopedics', 'Orthopedics-Reconstructive', 'Radiologist', 'Nephrology', 'Pulmonology', 'Psychiatry', 'ObstetricsandGynecology', 'Urology', 'Surgery-Cardiovascular/Thoracic', 'Gastroenterology', 'Surgery-Neuro', 'Surgery-Vascular', 'PhysicalMedicineandRehabilitation', 'Oncology', 'Pediatrics', 'Neurology', 'Pediatrics-Endocrinology', 'Hematology/Oncology', 'Otolaryngology', 'Endocrinology', 'Surgery-Thoracic', 'Surgery-Cardiovascular', 'Podiatry', 'Pediatrics-CriticalCare', 'Gynecology', 'Psychology', 'Surgeon', 'Radiology', 'Hospitalist', 'Osteopath', 'Hematology', 'Ophthalmology', 'InfectiousDiseases', 'Surgery-Plastic', 'SurgicalSpecialty', 'Obstetrics', 'Obsterics&Gynecology-GynecologicOnco', 'Rheumatology', 'Anesthesiology-Pediatric', 'Pathology', 'Surgery-Maxillofacial', 'OutreachServices', 'PhysicianNotFound', 'Surgery-Colon&Rectal', 'Endocrinology-Metabolism', 'Pediatrics-Neurology', 'Cardiology-Pediatric', 'Anesthesiology', 'Psychiatry-Child/Adolescent', 'AllergyandImmunology', 'Pediatrics-Pulmonology', 'Surgery-Pediatric', 'DCPTEAM', 'Dentistry', 'Pediatrics-EmergencyMedicine', 'Pediatrics-Hematology-Oncology', 'Resident', 'Speech', 'Perinatology', 'SportsMedicine', 'Neurophysiology', 'Dermatology', 'Proctology', 'Psychiatry-Addictive', 'Surgery-PlasticwithinHeadandNeck']\n",
      "\n"
     ]
    }
   ],
   "source": [
    "for c in dfFiltered.columns:\n",
    "    if dfFiltered[c].dtype == 'object':\n",
    "        print c, len(dfFiltered[c].unique()),\":\"\n",
    "        print pd.value_counts(dfFiltered[c]).index.tolist()\n",
    "        print "
   ]
  },
  {
   "cell_type": "markdown",
   "metadata": {},
   "source": [
    "#### Remove expired and loosed patients"
   ]
  },
  {
   "cell_type": "code",
   "execution_count": 658,
   "metadata": {},
   "outputs": [
    {
     "name": "stdout",
     "output_type": "stream",
     "text": [
      "(71518, 87)\n",
      "67182\n",
      "(67182, 87)\n"
     ]
    },
    {
     "name": "stderr",
     "output_type": "stream",
     "text": [
      "/home/ilmira/.conda/envs/readmision/lib/python2.7/site-packages/ipykernel_launcher.py:5: DeprecationWarning: \n",
      ".ix is deprecated. Please use\n",
      ".loc for label based indexing or\n",
      ".iloc for positional indexing\n",
      "\n",
      "See the documentation here:\n",
      "http://pandas.pydata.org/pandas-docs/stable/indexing.html#ix-indexer-is-deprecated\n",
      "  \"\"\"\n"
     ]
    }
   ],
   "source": [
    "print dfFiltered.shape\n",
    "ix = dfFiltered[np.logical_not(dfFiltered['discharge_disposition_id'].isin([11,18,19,20,21,25,26]))].index\n",
    "print len(ix)\n",
    "\n",
    "dfFiltered = dfFiltered.ix[ix,:]\n",
    "print dfFiltered.shape"
   ]
  },
  {
   "cell_type": "markdown",
   "metadata": {},
   "source": [
    "#### Convert categorical feature into dummy"
   ]
  },
  {
   "cell_type": "code",
   "execution_count": 659,
   "metadata": {},
   "outputs": [
    {
     "name": "stdout",
     "output_type": "stream",
     "text": [
      "medSpec_AllergyandImmunology\n",
      "0    67176\n",
      "1        6\n",
      "Name: medSpec_AllergyandImmunology, dtype: int64\n",
      "medSpec_Anesthesiology\n",
      "0    67175\n",
      "1        7\n",
      "Name: medSpec_Anesthesiology, dtype: int64\n",
      "medSpec_Anesthesiology-Pediatric\n",
      "0    67170\n",
      "1       12\n",
      "Name: medSpec_Anesthesiology-Pediatric, dtype: int64\n",
      "medSpec_Cardiology\n",
      "0    62864\n",
      "1     4318\n",
      "Name: medSpec_Cardiology, dtype: int64\n",
      "medSpec_Cardiology-Pediatric\n",
      "0    67175\n",
      "1        7\n",
      "Name: medSpec_Cardiology-Pediatric, dtype: int64\n",
      "medSpec_DCPTEAM\n",
      "0    67177\n",
      "1        5\n",
      "Name: medSpec_DCPTEAM, dtype: int64\n",
      "medSpec_Dentistry\n",
      "0    67178\n",
      "1        4\n",
      "Name: medSpec_Dentistry, dtype: int64\n",
      "medSpec_Dermatology\n",
      "0    67181\n",
      "1        1\n",
      "Name: medSpec_Dermatology, dtype: int64\n",
      "medSpec_Emergency/Trauma\n",
      "0    62745\n",
      "1     4437\n",
      "Name: medSpec_Emergency/Trauma, dtype: int64\n",
      "medSpec_Endocrinology\n",
      "0    67090\n",
      "1       92\n",
      "Name: medSpec_Endocrinology, dtype: int64\n",
      "medSpec_Endocrinology-Metabolism\n",
      "0    67175\n",
      "1        7\n",
      "Name: medSpec_Endocrinology-Metabolism, dtype: int64\n",
      "medSpec_Family/GeneralPractice\n",
      "0    62298\n",
      "1     4884\n",
      "Name: medSpec_Family/GeneralPractice, dtype: int64\n",
      "medSpec_Gastroenterology\n",
      "0    66749\n",
      "1      433\n",
      "Name: medSpec_Gastroenterology, dtype: int64\n",
      "medSpec_Gynecology\n",
      "0    67128\n",
      "1       54\n",
      "Name: medSpec_Gynecology, dtype: int64\n",
      "medSpec_Hematology\n",
      "0    67149\n",
      "1       33\n",
      "Name: medSpec_Hematology, dtype: int64\n",
      "medSpec_Hematology/Oncology\n",
      "0    67065\n",
      "1      117\n",
      "Name: medSpec_Hematology/Oncology, dtype: int64\n",
      "medSpec_Hospitalist\n",
      "0    67143\n",
      "1       39\n",
      "Name: medSpec_Hospitalist, dtype: int64\n",
      "medSpec_InfectiousDiseases\n",
      "0    67151\n",
      "1       31\n",
      "Name: medSpec_InfectiousDiseases, dtype: int64\n",
      "medSpec_InternalMedicine\n",
      "0    56321\n",
      "1    10861\n",
      "Name: medSpec_InternalMedicine, dtype: int64\n",
      "medSpec_Nephrology\n",
      "0    66337\n",
      "1      845\n",
      "Name: medSpec_Nephrology, dtype: int64\n",
      "medSpec_Neurology\n",
      "0    67013\n",
      "1      169\n",
      "Name: medSpec_Neurology, dtype: int64\n",
      "medSpec_Neurophysiology\n",
      "0    67181\n",
      "1        1\n",
      "Name: medSpec_Neurophysiology, dtype: int64\n",
      "medSpec_Obsterics&Gynecology-GynecologicOnco\n",
      "0    67167\n",
      "1       15\n",
      "Name: medSpec_Obsterics&Gynecology-GynecologicOnco, dtype: int64\n",
      "medSpec_Obstetrics\n",
      "0    67163\n",
      "1       19\n",
      "Name: medSpec_Obstetrics, dtype: int64\n",
      "medSpec_ObstetricsandGynecology\n",
      "0    66611\n",
      "1      571\n",
      "Name: medSpec_ObstetricsandGynecology, dtype: int64\n",
      "medSpec_Oncology\n",
      "0    66958\n",
      "1      224\n",
      "Name: medSpec_Oncology, dtype: int64\n",
      "medSpec_Ophthalmology\n",
      "0    67146\n",
      "1       36\n",
      "Name: medSpec_Ophthalmology, dtype: int64\n",
      "medSpec_Orthopedics\n",
      "0    66166\n",
      "1     1016\n",
      "Name: medSpec_Orthopedics, dtype: int64\n",
      "medSpec_Orthopedics-Reconstructive\n",
      "0    66161\n",
      "1     1021\n",
      "Name: medSpec_Orthopedics-Reconstructive, dtype: int64\n",
      "medSpec_Osteopath\n",
      "0    67144\n",
      "1       38\n",
      "Name: medSpec_Osteopath, dtype: int64\n",
      "medSpec_Otolaryngology\n",
      "0    67090\n",
      "1       92\n",
      "Name: medSpec_Otolaryngology, dtype: int64\n",
      "medSpec_OutreachServices\n",
      "0    67173\n",
      "1        9\n",
      "Name: medSpec_OutreachServices, dtype: int64\n",
      "medSpec_Pathology\n",
      "0    67172\n",
      "1       10\n",
      "Name: medSpec_Pathology, dtype: int64\n",
      "medSpec_Pediatrics\n",
      "0    67001\n",
      "1      181\n",
      "Name: medSpec_Pediatrics, dtype: int64\n",
      "medSpec_Pediatrics-CriticalCare\n",
      "0    67115\n",
      "1       67\n",
      "Name: medSpec_Pediatrics-CriticalCare, dtype: int64\n",
      "medSpec_Pediatrics-EmergencyMedicine\n",
      "0    67179\n",
      "1        3\n",
      "Name: medSpec_Pediatrics-EmergencyMedicine, dtype: int64\n",
      "medSpec_Pediatrics-Endocrinology\n",
      "0    67049\n",
      "1      133\n",
      "Name: medSpec_Pediatrics-Endocrinology, dtype: int64\n",
      "medSpec_Pediatrics-Hematology-Oncology\n",
      "0    67179\n",
      "1        3\n",
      "Name: medSpec_Pediatrics-Hematology-Oncology, dtype: int64\n",
      "medSpec_Pediatrics-Neurology\n",
      "0    67175\n",
      "1        7\n",
      "Name: medSpec_Pediatrics-Neurology, dtype: int64\n",
      "medSpec_Pediatrics-Pulmonology\n",
      "0    67177\n",
      "1        5\n",
      "Name: medSpec_Pediatrics-Pulmonology, dtype: int64\n",
      "medSpec_Perinatology\n",
      "0    67181\n",
      "1        1\n",
      "Name: medSpec_Perinatology, dtype: int64\n",
      "medSpec_PhysicalMedicineandRehabilitation\n",
      "0    66963\n",
      "1      219\n",
      "Name: medSpec_PhysicalMedicineandRehabilitation, dtype: int64\n",
      "medSpec_PhysicianNotFound\n",
      "0    67174\n",
      "1        8\n",
      "Name: medSpec_PhysicianNotFound, dtype: int64\n",
      "medSpec_Podiatry\n",
      "0    67109\n",
      "1       73\n",
      "Name: medSpec_Podiatry, dtype: int64\n",
      "medSpec_Proctology\n",
      "0    67181\n",
      "1        1\n",
      "Name: medSpec_Proctology, dtype: int64\n",
      "medSpec_Psychiatry\n",
      "0    66549\n",
      "1      633\n",
      "Name: medSpec_Psychiatry, dtype: int64\n",
      "medSpec_Psychiatry-Addictive\n",
      "0    67181\n",
      "1        1\n",
      "Name: medSpec_Psychiatry-Addictive, dtype: int64\n",
      "medSpec_Psychiatry-Child/Adolescent\n",
      "0    67177\n",
      "1        5\n",
      "Name: medSpec_Psychiatry-Child/Adolescent, dtype: int64\n",
      "medSpec_Psychology\n",
      "0    67129\n",
      "1       53\n",
      "Name: medSpec_Psychology, dtype: int64\n",
      "medSpec_Pulmonology\n",
      "0    66542\n",
      "1      640\n",
      "Name: medSpec_Pulmonology, dtype: int64\n",
      "medSpec_Radiologist\n",
      "0    66217\n",
      "1      965\n",
      "Name: medSpec_Radiologist, dtype: int64\n",
      "medSpec_Radiology\n",
      "0    67148\n",
      "1       34\n",
      "Name: medSpec_Radiology, dtype: int64\n",
      "medSpec_Resident\n",
      "0    67180\n",
      "1        2\n",
      "Name: medSpec_Resident, dtype: int64\n",
      "medSpec_Rheumatology\n",
      "0    67171\n",
      "1       11\n",
      "Name: medSpec_Rheumatology, dtype: int64\n",
      "medSpec_Speech\n",
      "0    67181\n",
      "1        1\n",
      "Name: medSpec_Speech, dtype: int64\n",
      "medSpec_SportsMedicine\n",
      "0    67181\n",
      "1        1\n",
      "Name: medSpec_SportsMedicine, dtype: int64\n",
      "medSpec_Surgeon\n",
      "0    67139\n",
      "1       43\n",
      "Name: medSpec_Surgeon, dtype: int64\n",
      "medSpec_Surgery-Cardiovascular\n",
      "0    67093\n",
      "1       89\n",
      "Name: medSpec_Surgery-Cardiovascular, dtype: int64\n",
      "medSpec_Surgery-Cardiovascular/Thoracic\n",
      "0    66707\n",
      "1      475\n",
      "Name: medSpec_Surgery-Cardiovascular/Thoracic, dtype: int64\n",
      "medSpec_Surgery-Colon&Rectal\n",
      "0    67175\n",
      "1        7\n",
      "Name: medSpec_Surgery-Colon&Rectal, dtype: int64\n",
      "medSpec_Surgery-General\n",
      "0    64918\n",
      "1     2264\n",
      "Name: medSpec_Surgery-General, dtype: int64\n",
      "medSpec_Surgery-Maxillofacial\n",
      "0    67173\n",
      "1        9\n",
      "Name: medSpec_Surgery-Maxillofacial, dtype: int64\n",
      "medSpec_Surgery-Neuro\n",
      "0    66808\n",
      "1      374\n",
      "Name: medSpec_Surgery-Neuro, dtype: int64\n",
      "medSpec_Surgery-Pediatric\n",
      "0    67176\n",
      "1        6\n",
      "Name: medSpec_Surgery-Pediatric, dtype: int64\n",
      "medSpec_Surgery-Plastic\n",
      "0    67152\n",
      "1       30\n",
      "Name: medSpec_Surgery-Plastic, dtype: int64\n",
      "medSpec_Surgery-PlasticwithinHeadandNeck\n",
      "0    67181\n",
      "1        1\n",
      "Name: medSpec_Surgery-PlasticwithinHeadandNeck, dtype: int64\n",
      "medSpec_Surgery-Thoracic\n",
      "0    67090\n",
      "1       92\n",
      "Name: medSpec_Surgery-Thoracic, dtype: int64\n",
      "medSpec_Surgery-Vascular\n",
      "0    66800\n",
      "1      382\n",
      "Name: medSpec_Surgery-Vascular, dtype: int64\n",
      "medSpec_SurgicalSpecialty\n",
      "0    67155\n",
      "1       27\n",
      "Name: medSpec_SurgicalSpecialty, dtype: int64\n",
      "medSpec_Urology\n",
      "0    66668\n",
      "1      514\n",
      "Name: medSpec_Urology, dtype: int64\n",
      "(67182, 157)\n",
      "Index([u'Unnamed: 0', u'encounter_id', u'race', u'gender', u'age', u'weight',\n",
      "       u'admission_type_id', u'discharge_disposition_id',\n",
      "       u'admission_source_id', u'time_in_hospital',\n",
      "       ...\n",
      "       u'medSpec_Surgery-Maxillofacial', u'medSpec_Surgery-Neuro',\n",
      "       u'medSpec_Surgery-Pediatric', u'medSpec_Surgery-Plastic',\n",
      "       u'medSpec_Surgery-PlasticwithinHeadandNeck',\n",
      "       u'medSpec_Surgery-Thoracic', u'medSpec_Surgery-Vascular',\n",
      "       u'medSpec_SurgicalSpecialty', u'medSpec_Urology', u'Poisoning_1'],\n",
      "      dtype='object', length=157)\n"
     ]
    }
   ],
   "source": [
    "df_spec = pd.get_dummies(dfFiltered['medical_specialty'],dummy_na=False, prefix='medSpec')\n",
    "for c in df_spec.columns:\n",
    "    print c\n",
    "    print pd.value_counts(df_spec[c])\n",
    "    \n",
    "df_clean = pd.concat([dfFiltered.iloc[:,:-1], df_spec], axis=1)\n",
    "dfFiltered = pd.concat([df_clean, dfFiltered.iloc[:,-1]], axis=1)\n",
    "print dfFiltered.shape\n",
    "print dfFiltered.columns"
   ]
  },
  {
   "cell_type": "code",
   "execution_count": 660,
   "metadata": {
    "scrolled": true
   },
   "outputs": [
    {
     "name": "stderr",
     "output_type": "stream",
     "text": [
      "/home/ilmira/.conda/envs/readmision/lib/python2.7/site-packages/ipykernel_launcher.py:1: SettingWithCopyWarning: \n",
      "A value is trying to be set on a copy of a slice from a DataFrame\n",
      "\n",
      "See the caveats in the documentation: http://pandas.pydata.org/pandas-docs/stable/indexing.html#indexing-view-versus-copy\n",
      "  \"\"\"Entry point for launching an IPython kernel.\n",
      "/home/ilmira/.conda/envs/readmision/lib/python2.7/site-packages/ipykernel_launcher.py:2: SettingWithCopyWarning: \n",
      "A value is trying to be set on a copy of a slice from a DataFrame\n",
      "\n",
      "See the caveats in the documentation: http://pandas.pydata.org/pandas-docs/stable/indexing.html#indexing-view-versus-copy\n",
      "  \n",
      "/home/ilmira/.conda/envs/readmision/lib/python2.7/site-packages/ipykernel_launcher.py:3: SettingWithCopyWarning: \n",
      "A value is trying to be set on a copy of a slice from a DataFrame\n",
      "\n",
      "See the caveats in the documentation: http://pandas.pydata.org/pandas-docs/stable/indexing.html#indexing-view-versus-copy\n",
      "  This is separate from the ipykernel package so we can avoid doing imports until\n",
      "/home/ilmira/.conda/envs/readmision/lib/python2.7/site-packages/ipykernel_launcher.py:4: SettingWithCopyWarning: \n",
      "A value is trying to be set on a copy of a slice from a DataFrame\n",
      "\n",
      "See the caveats in the documentation: http://pandas.pydata.org/pandas-docs/stable/indexing.html#indexing-view-versus-copy\n",
      "  after removing the cwd from sys.path.\n",
      "/home/ilmira/.conda/envs/readmision/lib/python2.7/site-packages/ipykernel_launcher.py:5: SettingWithCopyWarning: \n",
      "A value is trying to be set on a copy of a slice from a DataFrame\n",
      "\n",
      "See the caveats in the documentation: http://pandas.pydata.org/pandas-docs/stable/indexing.html#indexing-view-versus-copy\n",
      "  \"\"\"\n",
      "/home/ilmira/.conda/envs/readmision/lib/python2.7/site-packages/ipykernel_launcher.py:6: SettingWithCopyWarning: \n",
      "A value is trying to be set on a copy of a slice from a DataFrame\n",
      "\n",
      "See the caveats in the documentation: http://pandas.pydata.org/pandas-docs/stable/indexing.html#indexing-view-versus-copy\n",
      "  \n"
     ]
    },
    {
     "name": "stdout",
     "output_type": "stream",
     "text": [
      "3    1173\n",
      "2     764\n",
      "4     562\n",
      "5     128\n",
      "1      85\n",
      "0      45\n",
      "6      31\n",
      "7       9\n",
      "8       3\n",
      "Name: weight, dtype: int64\n",
      "(67182, 157)\n",
      "Index([u'Unnamed: 0', u'encounter_id', u'race', u'gender', u'age', u'weight',\n",
      "       u'admission_type_id', u'discharge_disposition_id',\n",
      "       u'admission_source_id', u'time_in_hospital',\n",
      "       ...\n",
      "       u'medSpec_Surgery-Maxillofacial', u'medSpec_Surgery-Neuro',\n",
      "       u'medSpec_Surgery-Pediatric', u'medSpec_Surgery-Plastic',\n",
      "       u'medSpec_Surgery-PlasticwithinHeadandNeck',\n",
      "       u'medSpec_Surgery-Thoracic', u'medSpec_Surgery-Vascular',\n",
      "       u'medSpec_SurgicalSpecialty', u'medSpec_Urology', u'Poisoning_1'],\n",
      "      dtype='object', length=157)\n"
     ]
    },
    {
     "name": "stderr",
     "output_type": "stream",
     "text": [
      "/home/ilmira/.conda/envs/readmision/lib/python2.7/site-packages/ipykernel_launcher.py:7: SettingWithCopyWarning: \n",
      "A value is trying to be set on a copy of a slice from a DataFrame\n",
      "\n",
      "See the caveats in the documentation: http://pandas.pydata.org/pandas-docs/stable/indexing.html#indexing-view-versus-copy\n",
      "  import sys\n",
      "/home/ilmira/.conda/envs/readmision/lib/python2.7/site-packages/ipykernel_launcher.py:8: SettingWithCopyWarning: \n",
      "A value is trying to be set on a copy of a slice from a DataFrame\n",
      "\n",
      "See the caveats in the documentation: http://pandas.pydata.org/pandas-docs/stable/indexing.html#indexing-view-versus-copy\n",
      "  \n",
      "/home/ilmira/.conda/envs/readmision/lib/python2.7/site-packages/ipykernel_launcher.py:9: SettingWithCopyWarning: \n",
      "A value is trying to be set on a copy of a slice from a DataFrame\n",
      "\n",
      "See the caveats in the documentation: http://pandas.pydata.org/pandas-docs/stable/indexing.html#indexing-view-versus-copy\n",
      "  if __name__ == '__main__':\n"
     ]
    }
   ],
   "source": [
    "dfFiltered[\"weight\"][dfFiltered[\"weight\"] == \"[0-25)\"] = 0\n",
    "dfFiltered[\"weight\"][dfFiltered[\"weight\"] == \"[25-50)\"] = 1\n",
    "dfFiltered[\"weight\"][dfFiltered[\"weight\"] == \"[50-75)\"] = 2\n",
    "dfFiltered[\"weight\"][dfFiltered[\"weight\"] == \"[75-100)\"] = 3\n",
    "dfFiltered[\"weight\"][dfFiltered[\"weight\"] == \"[100-125)\"] = 4\n",
    "dfFiltered[\"weight\"][dfFiltered[\"weight\"] == \"[125-150)\"] = 5\n",
    "dfFiltered[\"weight\"][dfFiltered[\"weight\"] == \"[150-175)\"] = 6\n",
    "dfFiltered[\"weight\"][dfFiltered[\"weight\"] == \"[175-200)\"] = 7\n",
    "dfFiltered[\"weight\"][dfFiltered[\"weight\"] == \">200\"] = 8\n",
    "\n",
    "print pd.value_counts(dfFiltered.weight)\n",
    "print dfFiltered.shape\n",
    "print dfFiltered.columns"
   ]
  },
  {
   "cell_type": "code",
   "execution_count": 661,
   "metadata": {
    "scrolled": true
   },
   "outputs": [
    {
     "name": "stdout",
     "output_type": "stream",
     "text": [
      "['Caucasian' 'AfricanAmerican' 'Hispanic' nan 'Asian' 'Other']\n",
      "race_AfricanAmerican\n",
      "0    55178\n",
      "1    12004\n",
      "Name: race_AfricanAmerican, dtype: int64\n",
      "race_Asian\n",
      "0    66704\n",
      "1      478\n",
      "Name: race_Asian, dtype: int64\n",
      "race_Caucasian\n",
      "1    50360\n",
      "0    16822\n",
      "Name: race_Caucasian, dtype: int64\n",
      "race_Hispanic\n",
      "0    65751\n",
      "1     1431\n",
      "Name: race_Hispanic, dtype: int64\n",
      "race_Other\n",
      "0    66070\n",
      "1     1112\n",
      "Name: race_Other, dtype: int64\n",
      "(67182, 162)\n",
      "Index([u'Unnamed: 0', u'encounter_id', u'race', u'gender', u'age', u'weight',\n",
      "       u'admission_type_id', u'discharge_disposition_id',\n",
      "       u'admission_source_id', u'time_in_hospital',\n",
      "       ...\n",
      "       u'medSpec_Surgery-Thoracic', u'medSpec_Surgery-Vascular',\n",
      "       u'medSpec_SurgicalSpecialty', u'medSpec_Urology',\n",
      "       u'race_AfricanAmerican', u'race_Asian', u'race_Caucasian',\n",
      "       u'race_Hispanic', u'race_Other', u'Poisoning_1'],\n",
      "      dtype='object', length=162)\n"
     ]
    }
   ],
   "source": [
    "print dfFiltered['race'].unique()\n",
    "\n",
    "df_race = pd.get_dummies(dfFiltered['race'],dummy_na=False, prefix='race')\n",
    "for c in df_race.columns:\n",
    "    print c\n",
    "    print pd.value_counts(df_race[c])\n",
    "    \n",
    "\n",
    "df_clean = pd.concat([dfFiltered.iloc[:,:-1], df_race], axis=1)\n",
    "dfFiltered = pd.concat([df_clean, dfFiltered.iloc[:,-1]], axis=1)\n",
    "print dfFiltered.shape\n",
    "print dfFiltered.columns"
   ]
  },
  {
   "cell_type": "code",
   "execution_count": 662,
   "metadata": {
    "scrolled": true
   },
   "outputs": [
    {
     "name": "stdout",
     "output_type": "stream",
     "text": [
      "adm_1\n",
      "1    34422\n",
      "0    32760\n",
      "Name: adm_1, dtype: int64\n",
      "adm_2\n",
      "0    54717\n",
      "1    12465\n",
      "Name: adm_2, dtype: int64\n",
      "adm_3\n",
      "0    54088\n",
      "1    13094\n",
      "Name: adm_3, dtype: int64\n",
      "adm_4\n",
      "0    67173\n",
      "1        9\n",
      "Name: adm_4, dtype: int64\n",
      "adm_5\n",
      "0    64060\n",
      "1     3122\n",
      "Name: adm_5, dtype: int64\n",
      "adm_6\n",
      "0    63420\n",
      "1     3762\n",
      "Name: adm_6, dtype: int64\n",
      "adm_7\n",
      "0    67164\n",
      "1       18\n",
      "Name: adm_7, dtype: int64\n",
      "adm_8\n",
      "0    66892\n",
      "1      290\n",
      "Name: adm_8, dtype: int64\n",
      "['adm_1', 'adm_2', 'adm_3', 'adm_4', 'adm_7']\n",
      "(67182, 167)\n",
      "Index([u'Unnamed: 0', u'encounter_id', u'race', u'gender', u'age', u'weight',\n",
      "       u'admission_type_id', u'discharge_disposition_id',\n",
      "       u'admission_source_id', u'time_in_hospital',\n",
      "       ...\n",
      "       u'race_Asian', u'race_Caucasian', u'race_Hispanic', u'race_Other',\n",
      "       u'adm_1', u'adm_2', u'adm_3', u'adm_4', u'adm_7', u'Poisoning_1'],\n",
      "      dtype='object', length=167)\n"
     ]
    }
   ],
   "source": [
    "df_adm = pd.get_dummies(dfFiltered['admission_type_id'],dummy_na=False, prefix='adm')\n",
    "for c in df_adm.columns:\n",
    "    print c\n",
    "    print pd.value_counts(df_adm[c])\n",
    "    \n",
    "#Remove non_informative columns\n",
    "selCols = []\n",
    "for c in df_adm.columns:\n",
    "    if c not in [\"adm_5\", \"adm_6\",\"adm_8\"]:\n",
    "        selCols.append(c)\n",
    "        \n",
    "print selCols\n",
    "\n",
    "\n",
    "df_clean = pd.concat([dfFiltered.iloc[:,:-1], df_adm[selCols]], axis=1)\n",
    "dfFiltered = pd.concat([df_clean, dfFiltered.iloc[:,-1]], axis=1)\n",
    "print dfFiltered.shape\n",
    "print dfFiltered.columns"
   ]
  },
  {
   "cell_type": "code",
   "execution_count": 663,
   "metadata": {
    "scrolled": true
   },
   "outputs": [
    {
     "name": "stdout",
     "output_type": "stream",
     "text": [
      "['adm_src_1', 'adm_src_2', 'adm_src_3', 'adm_src_4', 'adm_src_5', 'adm_src_6', 'adm_src_7', 'adm_src_8', 'adm_src_10', 'adm_src_11', 'adm_src_13', 'adm_src_14', 'adm_src_22', 'adm_src_25']\n",
      "adm_src_1 [0 1]\n",
      "0    46264\n",
      "1    20918\n",
      "Name: adm_src_1, dtype: int64\n",
      "adm_src_2 [0 1]\n",
      "0    66338\n",
      "1      844\n",
      "Name: adm_src_2, dtype: int64\n",
      "adm_src_3 [0 1]\n",
      "0    67107\n",
      "1       75\n",
      "Name: adm_src_3, dtype: int64\n",
      "adm_src_4 [0 1]\n",
      "0    65005\n",
      "1     2177\n",
      "Name: adm_src_4, dtype: int64\n",
      "adm_src_5 [0 1]\n",
      "0    66730\n",
      "1      452\n",
      "Name: adm_src_5, dtype: int64\n",
      "adm_src_6 [0 1]\n",
      "0    65411\n",
      "1     1771\n",
      "Name: adm_src_6, dtype: int64\n",
      "adm_src_7 [0 1]\n",
      "1    36050\n",
      "0    31132\n",
      "Name: adm_src_7, dtype: int64\n",
      "adm_src_8 [0 1]\n",
      "0    67171\n",
      "1       11\n",
      "Name: adm_src_8, dtype: int64\n",
      "adm_src_10 [0 1]\n",
      "0    67175\n",
      "1        7\n",
      "Name: adm_src_10, dtype: int64\n",
      "adm_src_11 [0 1]\n",
      "0    67181\n",
      "1        1\n",
      "Name: adm_src_11, dtype: int64\n",
      "adm_src_13 [0 1]\n",
      "0    67181\n",
      "1        1\n",
      "Name: adm_src_13, dtype: int64\n",
      "adm_src_14 [0 1]\n",
      "0    67180\n",
      "1        2\n",
      "Name: adm_src_14, dtype: int64\n",
      "adm_src_22 [0 1]\n",
      "0    67178\n",
      "1        4\n",
      "Name: adm_src_22, dtype: int64\n",
      "adm_src_25 [0 1]\n",
      "0    67180\n",
      "1        2\n",
      "Name: adm_src_25, dtype: int64\n",
      "(67182, 181)\n",
      "Index([u'Unnamed: 0', u'encounter_id', u'race', u'gender', u'age', u'weight',\n",
      "       u'admission_type_id', u'discharge_disposition_id',\n",
      "       u'admission_source_id', u'time_in_hospital',\n",
      "       ...\n",
      "       u'adm_src_6', u'adm_src_7', u'adm_src_8', u'adm_src_10', u'adm_src_11',\n",
      "       u'adm_src_13', u'adm_src_14', u'adm_src_22', u'adm_src_25',\n",
      "       u'Poisoning_1'],\n",
      "      dtype='object', length=181)\n"
     ]
    }
   ],
   "source": [
    "df_adm = pd.get_dummies(dfFiltered['admission_source_id'],dummy_na=False, prefix='adm_src')\n",
    "\n",
    "#Remove non_informative columns\n",
    "selCols = []\n",
    "for c in df_adm.columns:\n",
    "    if c not in [\"adm_src_9\", \"adm_src_15\",\"adm_src_17\",\"adm_src_20\",\"adm_src_21\"]:\n",
    "        selCols.append(c)      \n",
    "print selCols\n",
    "\n",
    "\n",
    "df_clean = pd.concat([dfFiltered.iloc[:,:-1], df_adm[selCols]], axis=1)\n",
    "dfFiltered = pd.concat([df_clean, dfFiltered.iloc[:,-1]], axis=1)\n",
    "\n",
    "for c in dfFiltered.columns:\n",
    "    if c in df_adm.columns:\n",
    "        print c, np.unique(dfFiltered[c])\n",
    "        print pd.value_counts(dfFiltered[c])\n",
    "    \n",
    "print dfFiltered.shape\n",
    "print dfFiltered.columns"
   ]
  },
  {
   "cell_type": "code",
   "execution_count": 664,
   "metadata": {
    "scrolled": true
   },
   "outputs": [
    {
     "name": "stdout",
     "output_type": "stream",
     "text": [
      "['diss_1', 'diss_2', 'diss_3', 'diss_4', 'diss_5', 'diss_6', 'diss_7', 'diss_8', 'diss_9', 'diss_10', 'diss_12', 'diss_13', 'diss_14', 'diss_15', 'diss_16', 'diss_17', 'diss_22', 'diss_23', 'diss_24', 'diss_27', 'diss_28']\n",
      "diss_1 [0 1]\n",
      "1    44317\n",
      "0    22865\n",
      "Name: diss_1, dtype: int64\n",
      "diss_2 [0 1]\n",
      "0    65643\n",
      "1     1539\n",
      "Name: diss_2, dtype: int64\n",
      "diss_3 [0 1]\n",
      "0    58398\n",
      "1     8784\n",
      "Name: diss_3, dtype: int64\n",
      "diss_4 [0 1]\n",
      "0    66641\n",
      "1      541\n",
      "Name: diss_4, dtype: int64\n",
      "diss_5 [0 1]\n",
      "0    66269\n",
      "1      913\n",
      "Name: diss_5, dtype: int64\n",
      "diss_6 [0 1]\n",
      "0    58893\n",
      "1     8289\n",
      "Name: diss_6, dtype: int64\n",
      "diss_7 [0 1]\n",
      "0    66773\n",
      "1      409\n",
      "Name: diss_7, dtype: int64\n",
      "diss_8 [0 1]\n",
      "0    67109\n",
      "1       73\n",
      "Name: diss_8, dtype: int64\n",
      "diss_9 [0 1]\n",
      "0    67173\n",
      "1        9\n",
      "Name: diss_9, dtype: int64\n",
      "diss_10 [0 1]\n",
      "0    67176\n",
      "1        6\n",
      "Name: diss_10, dtype: int64\n",
      "diss_12 [0 1]\n",
      "0    67180\n",
      "1        2\n",
      "Name: diss_12, dtype: int64\n",
      "diss_13 [0 1]\n",
      "0    66939\n",
      "1      243\n",
      "Name: diss_13, dtype: int64\n",
      "diss_14 [0 1]\n",
      "0    66964\n",
      "1      218\n",
      "Name: diss_14, dtype: int64\n",
      "diss_15 [0 1]\n",
      "0    67142\n",
      "1       40\n",
      "Name: diss_15, dtype: int64\n",
      "diss_16 [0 1]\n",
      "0    67179\n",
      "1        3\n",
      "Name: diss_16, dtype: int64\n",
      "diss_17 [0 1]\n",
      "0    67174\n",
      "1        8\n",
      "Name: diss_17, dtype: int64\n",
      "diss_22 [0 1]\n",
      "0    65772\n",
      "1     1410\n",
      "Name: diss_22, dtype: int64\n",
      "diss_23 [0 1]\n",
      "0    66922\n",
      "1      260\n",
      "Name: diss_23, dtype: int64\n",
      "diss_24 [0 1]\n",
      "0    67157\n",
      "1       25\n",
      "Name: diss_24, dtype: int64\n",
      "diss_27 [0 1]\n",
      "0    67179\n",
      "1        3\n",
      "Name: diss_27, dtype: int64\n",
      "diss_28 [0 1]\n",
      "0    67092\n",
      "1       90\n",
      "Name: diss_28, dtype: int64\n",
      "(67182, 202)\n",
      "Index([u'Unnamed: 0', u'encounter_id', u'race', u'gender', u'age', u'weight',\n",
      "       u'admission_type_id', u'discharge_disposition_id',\n",
      "       u'admission_source_id', u'time_in_hospital',\n",
      "       ...\n",
      "       u'diss_14', u'diss_15', u'diss_16', u'diss_17', u'diss_22', u'diss_23',\n",
      "       u'diss_24', u'diss_27', u'diss_28', u'Poisoning_1'],\n",
      "      dtype='object', length=202)\n"
     ]
    }
   ],
   "source": [
    "df_adm = pd.get_dummies(dfFiltered['discharge_disposition_id'],dummy_na=False, prefix='diss')\n",
    "\n",
    "#Remove non_informative columns\n",
    "selCols = []\n",
    "colsToDel = [\"diss_26\",\"diss_25\",\"diss_21\",\"diss_20\",\"diss_19\",\"diss_18\",\"diss_11\"]\n",
    "for c in df_adm.columns:\n",
    "    if c not in colsToDel:\n",
    "        selCols.append(c)      \n",
    "print selCols\n",
    "\n",
    "\n",
    "df_clean = pd.concat([dfFiltered.iloc[:,:-1], df_adm[selCols]], axis=1)\n",
    "dfFiltered = pd.concat([df_clean, dfFiltered.iloc[:,-1]], axis=1)\n",
    "\n",
    "for c in dfFiltered.columns:\n",
    "    if c in df_adm.columns:\n",
    "        print c, np.unique(dfFiltered[c])\n",
    "        print pd.value_counts(dfFiltered[c])\n",
    "    \n",
    "print dfFiltered.shape\n",
    "print dfFiltered.columns"
   ]
  },
  {
   "cell_type": "markdown",
   "metadata": {},
   "source": [
    "#### Remove rest of categorical features\n",
    "\n",
    "- Dummified features "
   ]
  },
  {
   "cell_type": "code",
   "execution_count": 665,
   "metadata": {},
   "outputs": [
    {
     "name": "stdout",
     "output_type": "stream",
     "text": [
      "(67182, 197)\n",
      "Index([u'Unnamed: 0', u'encounter_id', u'gender', u'age', u'weight',\n",
      "       u'time_in_hospital', u'payer_code', u'num_lab_procedures',\n",
      "       u'num_procedures', u'num_medications',\n",
      "       ...\n",
      "       u'diss_14', u'diss_15', u'diss_16', u'diss_17', u'diss_22', u'diss_23',\n",
      "       u'diss_24', u'diss_27', u'diss_28', u'Poisoning_1'],\n",
      "      dtype='object', length=197)\n"
     ]
    }
   ],
   "source": [
    "to_del = [\"race\",\"admission_type_id\",\"admission_source_id\",'discharge_disposition_id','medical_specialty']\n",
    "\n",
    "#Filter_selected cols\n",
    "cols = [c for c in dfFiltered.columns if (c not in to_del) ]#and ('ENF' not in c)\n",
    "dfFiltered = dfFiltered[cols]\n",
    "print dfFiltered.shape\n",
    "print dfFiltered.columns"
   ]
  },
  {
   "cell_type": "markdown",
   "metadata": {},
   "source": [
    "- Not useful rows"
   ]
  },
  {
   "cell_type": "code",
   "execution_count": 666,
   "metadata": {},
   "outputs": [
    {
     "name": "stdout",
     "output_type": "stream",
     "text": [
      "(67182, 194)\n",
      "Index([u'gender', u'age', u'weight', u'time_in_hospital',\n",
      "       u'num_lab_procedures', u'num_procedures', u'num_medications',\n",
      "       u'number_outpatient', u'number_emergency', u'number_inpatient',\n",
      "       ...\n",
      "       u'diss_14', u'diss_15', u'diss_16', u'diss_17', u'diss_22', u'diss_23',\n",
      "       u'diss_24', u'diss_27', u'diss_28', u'Poisoning_1'],\n",
      "      dtype='object', length=194)\n"
     ]
    }
   ],
   "source": [
    "to_del = [u'Unnamed: 0',\"id\",\"encounter_id\",\"payer_code\"]\n",
    "\n",
    "#Filter_selected cols\n",
    "cols = [c for c in dfFiltered.columns if (c not in to_del) ]#and ('ENF' not in c)\n",
    "dfFiltered = dfFiltered[cols]\n",
    "print dfFiltered.shape\n",
    "print dfFiltered.columns"
   ]
  },
  {
   "cell_type": "markdown",
   "metadata": {},
   "source": [
    "#### Rename feature: External_causes"
   ]
  },
  {
   "cell_type": "code",
   "execution_count": 667,
   "metadata": {},
   "outputs": [
    {
     "name": "stdout",
     "output_type": "stream",
     "text": [
      "(67182, 194)\n",
      "Index([u'gender', u'age', u'weight', u'time_in_hospital',\n",
      "       u'num_lab_procedures', u'num_procedures', u'num_medications',\n",
      "       u'number_outpatient', u'number_emergency', u'number_inpatient',\n",
      "       ...\n",
      "       u'diss_16', u'diss_17', u'diss_22', u'diss_23', u'diss_24', u'diss_27',\n",
      "       u'diss_28', u'Poisoning_1', u'External_causes_1', u'External_causes_3'],\n",
      "      dtype='object', length=194)\n"
     ]
    }
   ],
   "source": [
    "dfFiltered.insert(dfFiltered.shape[1], \"External_causes_1\",dfFiltered[\"External causes_1\"].values)\n",
    "dfFiltered = dfFiltered.loc[:,~dfFiltered.columns.isin([u\"External causes_1\"])]\n",
    "\n",
    "dfFiltered.insert(dfFiltered.shape[1], \"External_causes_3\",dfFiltered[\"External causes_3\"].values)\n",
    "dfFiltered = dfFiltered.loc[:,~dfFiltered.columns.isin([u\"External causes_3\"])]\n",
    "\n",
    "print dfFiltered.shape\n",
    "print dfFiltered.columns"
   ]
  },
  {
   "cell_type": "markdown",
   "metadata": {},
   "source": [
    "#### Reorder class label"
   ]
  },
  {
   "cell_type": "code",
   "execution_count": 668,
   "metadata": {},
   "outputs": [
    {
     "name": "stdout",
     "output_type": "stream",
     "text": [
      "Index([u'gender', u'age', u'weight', u'time_in_hospital',\n",
      "       u'num_lab_procedures', u'num_procedures', u'num_medications',\n",
      "       u'number_outpatient', u'number_emergency', u'number_inpatient',\n",
      "       ...\n",
      "       u'diss_16', u'diss_17', u'diss_22', u'diss_23', u'diss_24', u'diss_27',\n",
      "       u'diss_28', u'Poisoning_1', u'External_causes_1', u'External_causes_3'],\n",
      "      dtype='object', length=194)\n",
      "Index([u'gender', u'age', u'weight', u'time_in_hospital',\n",
      "       u'num_lab_procedures', u'num_procedures', u'num_medications',\n",
      "       u'number_outpatient', u'number_emergency', u'number_inpatient',\n",
      "       ...\n",
      "       u'diss_17', u'diss_22', u'diss_23', u'diss_24', u'diss_27', u'diss_28',\n",
      "       u'Poisoning_1', u'External_causes_1', u'External_causes_3',\n",
      "       u'readmitted'],\n",
      "      dtype='object', length=194)\n",
      "(67182, 194)\n"
     ]
    }
   ],
   "source": [
    "print dfFiltered.columns\n",
    "\n",
    "cols = [c for c in dfFiltered.columns if c != \"readmitted\"]\n",
    "cols.append(\"readmitted\")\n",
    "\n",
    "dfFiltered = dfFiltered[cols]\n",
    "print dfFiltered.columns\n",
    "print dfFiltered.shape"
   ]
  },
  {
   "cell_type": "markdown",
   "metadata": {},
   "source": [
    "#### Save"
   ]
  },
  {
   "cell_type": "code",
   "execution_count": 684,
   "metadata": {},
   "outputs": [
    {
     "name": "stdout",
     "output_type": "stream",
     "text": [
      "last\n",
      "(67182, 194)\n",
      "['gender', 'age', 'weight', 'time_in_hospital', 'num_lab_procedures', 'num_procedures', 'num_medications', 'number_outpatient', 'number_emergency', 'number_inpatient', 'number_diagnoses', 'max_glu_serum', 'A1Cresult', 'metformin', 'repaglinide', 'nateglinide', 'chlorpropamide', 'glimepiride', 'acetohexamide', 'glipizide', 'glyburide', 'tolbutamide', 'pioglitazone', 'rosiglitazone', 'acarbose', 'miglitol', 'troglitazone', 'tolazamide', 'examide', 'citoglipton', 'insulin', 'glyburide-metformin', 'glipizide-metformin', 'glimepiride-pioglitazone', 'metformin-rosiglitazone', 'metformin-pioglitazone', 'Change', 'diabetesMed', 'Diabetis_3', 'Infectious and parasitic diseases_3', 'Neoplasms_3', 'Endocrine_3', 'Blood_3', 'Mental_3', 'Nervous_3', 'Organs_3', 'Circulatory_3', 'Respiratory_3', 'Digestive_3', 'Genitourinary_3', 'Pregnancy_3', 'Skin_3', 'Muscoskeletal_3', 'Congenital_3', 'Perinatal_3', 'Ill-defined_3', 'Poisoning_3', 'Diabetis_1', 'Infectious and parasitic diseases_1', 'Neoplasms_1', 'Endocrine_1', 'Blood_1', 'Mental_1', 'Nervous_1', 'Organs_1', 'Circulatory_1', 'Respiratory_1', 'Digestive_1', 'Genitourinary_1', 'Pregnancy_1', 'Skin_1', 'Muscoskeletal_1', 'Congenital_1', 'Perinatal_1', 'Ill-defined_1', 'medSpec_AllergyandImmunology', 'medSpec_Anesthesiology', 'medSpec_Anesthesiology-Pediatric', 'medSpec_Cardiology', 'medSpec_Cardiology-Pediatric', 'medSpec_DCPTEAM', 'medSpec_Dentistry', 'medSpec_Dermatology', 'medSpec_Emergency/Trauma', 'medSpec_Endocrinology', 'medSpec_Endocrinology-Metabolism', 'medSpec_Family/GeneralPractice', 'medSpec_Gastroenterology', 'medSpec_Gynecology', 'medSpec_Hematology', 'medSpec_Hematology/Oncology', 'medSpec_Hospitalist', 'medSpec_InfectiousDiseases', 'medSpec_InternalMedicine', 'medSpec_Nephrology', 'medSpec_Neurology', 'medSpec_Neurophysiology', 'medSpec_Obsterics&Gynecology-GynecologicOnco', 'medSpec_Obstetrics', 'medSpec_ObstetricsandGynecology', 'medSpec_Oncology', 'medSpec_Ophthalmology', 'medSpec_Orthopedics', 'medSpec_Orthopedics-Reconstructive', 'medSpec_Osteopath', 'medSpec_Otolaryngology', 'medSpec_OutreachServices', 'medSpec_Pathology', 'medSpec_Pediatrics', 'medSpec_Pediatrics-CriticalCare', 'medSpec_Pediatrics-EmergencyMedicine', 'medSpec_Pediatrics-Endocrinology', 'medSpec_Pediatrics-Hematology-Oncology', 'medSpec_Pediatrics-Neurology', 'medSpec_Pediatrics-Pulmonology', 'medSpec_Perinatology', 'medSpec_PhysicalMedicineandRehabilitation', 'medSpec_PhysicianNotFound', 'medSpec_Podiatry', 'medSpec_Proctology', 'medSpec_Psychiatry', 'medSpec_Psychiatry-Addictive', 'medSpec_Psychiatry-Child/Adolescent', 'medSpec_Psychology', 'medSpec_Pulmonology', 'medSpec_Radiologist', 'medSpec_Radiology', 'medSpec_Resident', 'medSpec_Rheumatology', 'medSpec_Speech', 'medSpec_SportsMedicine', 'medSpec_Surgeon', 'medSpec_Surgery-Cardiovascular', 'medSpec_Surgery-Cardiovascular/Thoracic', 'medSpec_Surgery-Colon&Rectal', 'medSpec_Surgery-General', 'medSpec_Surgery-Maxillofacial', 'medSpec_Surgery-Neuro', 'medSpec_Surgery-Pediatric', 'medSpec_Surgery-Plastic', 'medSpec_Surgery-PlasticwithinHeadandNeck', 'medSpec_Surgery-Thoracic', 'medSpec_Surgery-Vascular', 'medSpec_SurgicalSpecialty', 'medSpec_Urology', 'race_AfricanAmerican', 'race_Asian', 'race_Caucasian', 'race_Hispanic', 'race_Other', 'adm_1', 'adm_2', 'adm_3', 'adm_4', 'adm_7', 'adm_src_1', 'adm_src_2', 'adm_src_3', 'adm_src_4', 'adm_src_5', 'adm_src_6', 'adm_src_7', 'adm_src_8', 'adm_src_10', 'adm_src_11', 'adm_src_13', 'adm_src_14', 'adm_src_22', 'adm_src_25', 'diss_1', 'diss_2', 'diss_3', 'diss_4', 'diss_5', 'diss_6', 'diss_7', 'diss_8', 'diss_9', 'diss_10', 'diss_12', 'diss_13', 'diss_14', 'diss_15', 'diss_16', 'diss_17', 'diss_22', 'diss_23', 'diss_24', 'diss_27', 'diss_28', 'Poisoning_1', 'External_causes_1', 'External_causes_3', 'readmitted']\n"
     ]
    }
   ],
   "source": [
    "print typeEncounter\n",
    "print dfFiltered.shape\n",
    "print dfFiltered.columns.tolist()\n",
    "\n",
    "dfFiltered.to_pickle(os.path.join('resources','clean_data_' + typeEncounter + '.pkl'))"
   ]
  },
  {
   "cell_type": "code",
   "execution_count": null,
   "metadata": {
    "collapsed": true
   },
   "outputs": [],
   "source": []
  }
 ],
 "metadata": {
  "kernelspec": {
   "display_name": "Python 2",
   "language": "python",
   "name": "python2"
  },
  "language_info": {
   "codemirror_mode": {
    "name": "ipython",
    "version": 2
   },
   "file_extension": ".py",
   "mimetype": "text/x-python",
   "name": "python",
   "nbconvert_exporter": "python",
   "pygments_lexer": "ipython2",
   "version": "2.7.13"
  }
 },
 "nbformat": 4,
 "nbformat_minor": 2
}
