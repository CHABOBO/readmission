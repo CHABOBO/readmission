{
 "cells": [
  {
   "cell_type": "code",
   "execution_count": 673,
   "metadata": {
    "collapsed": true
   },
   "outputs": [],
   "source": [
    "#TO RE-RUN\n",
    "%reset -f"
   ]
  },
  {
   "cell_type": "code",
   "execution_count": 674,
   "metadata": {
    "collapsed": true
   },
   "outputs": [],
   "source": [
    "from sklearn import preprocessing\n",
    "from time import time\n",
    "import numpy as np\n",
    "import csv\n",
    "from sklearn import metrics\n",
    "from sklearn.preprocessing import scale\n",
    "from sklearn.feature_selection import VarianceThreshold\n",
    "from sklearn.cross_validation import StratifiedShuffleSplit, cross_val_score\n",
    "\n",
    "from sklearn.svm import SVC\n",
    "from sklearn.svm import LinearSVC\n",
    "from sklearn.neighbors import KNeighborsClassifier\n",
    "from sklearn.linear_model import LogisticRegression\n",
    "from sklearn.ensemble import RandomForestClassifier\n",
    "from sklearn.naive_bayes import BernoulliNB, MultinomialNB, GaussianNB\n",
    "\n",
    "from sklearn.grid_search import GridSearchCV, ParameterGrid\n",
    "from sklearn.preprocessing import StandardScaler\n",
    "\n",
    "from imblearn.over_sampling import SMOTE,ADASYN, RandomOverSampler\n",
    "from imblearn.pipeline import Pipeline\n",
    "from imblearn.pipeline import make_pipeline\n",
    "\n",
    "from operator import truediv\n",
    "from sklearn import metrics\n",
    "import pandas as pd\n",
    "import time\n",
    "import os\n",
    "\n",
    "from pylab import *\n",
    "import seaborn as sns\n",
    "import matplotlib.pyplot as plt\n",
    "\n",
    "\n",
    "np.set_printoptions(suppress=True)\n",
    "pd.options.display.float_format = '{:,.2f}'.format\n",
    "plt.style.use('classic')\n",
    "\n",
    "%matplotlib inline\n",
    "\n",
    "import sys\n",
    "sys.path.insert(1, \"../../src/\")\n",
    "from TypeFeatImputer import TypeFeatImputer\n",
    "from UnivCombineFilter import UnivCombineFilter"
   ]
  },
  {
   "cell_type": "code",
   "execution_count": 675,
   "metadata": {
    "collapsed": true
   },
   "outputs": [],
   "source": [
    "typeEncounter = \"last\" #[\"last\",\"first\"]"
   ]
  },
  {
   "cell_type": "code",
   "execution_count": 676,
   "metadata": {},
   "outputs": [
    {
     "name": "stdout",
     "output_type": "stream",
     "text": [
      "(67182, 194)\n",
      "['gender', 'age', 'weight', 'time_in_hospital', 'num_lab_procedures', 'num_procedures', 'num_medications', 'number_outpatient', 'number_emergency', 'number_inpatient', 'number_diagnoses', 'max_glu_serum', 'A1Cresult', 'metformin', 'repaglinide', 'nateglinide', 'chlorpropamide', 'glimepiride', 'acetohexamide', 'glipizide', 'glyburide', 'tolbutamide', 'pioglitazone', 'rosiglitazone', 'acarbose', 'miglitol', 'troglitazone', 'tolazamide', 'examide', 'citoglipton', 'insulin', 'glyburide-metformin', 'glipizide-metformin', 'glimepiride-pioglitazone', 'metformin-rosiglitazone', 'metformin-pioglitazone', 'Change', 'diabetesMed', 'Diabetis_3', 'Infectious and parasitic diseases_3', 'Neoplasms_3', 'Endocrine_3', 'Blood_3', 'Mental_3', 'Nervous_3', 'Organs_3', 'Circulatory_3', 'Respiratory_3', 'Digestive_3', 'Genitourinary_3', 'Pregnancy_3', 'Skin_3', 'Muscoskeletal_3', 'Congenital_3', 'Perinatal_3', 'Ill-defined_3', 'Poisoning_3', 'Diabetis_1', 'Infectious and parasitic diseases_1', 'Neoplasms_1', 'Endocrine_1', 'Blood_1', 'Mental_1', 'Nervous_1', 'Organs_1', 'Circulatory_1', 'Respiratory_1', 'Digestive_1', 'Genitourinary_1', 'Pregnancy_1', 'Skin_1', 'Muscoskeletal_1', 'Congenital_1', 'Perinatal_1', 'Ill-defined_1', 'medSpec_AllergyandImmunology', 'medSpec_Anesthesiology', 'medSpec_Anesthesiology-Pediatric', 'medSpec_Cardiology', 'medSpec_Cardiology-Pediatric', 'medSpec_DCPTEAM', 'medSpec_Dentistry', 'medSpec_Dermatology', 'medSpec_Emergency/Trauma', 'medSpec_Endocrinology', 'medSpec_Endocrinology-Metabolism', 'medSpec_Family/GeneralPractice', 'medSpec_Gastroenterology', 'medSpec_Gynecology', 'medSpec_Hematology', 'medSpec_Hematology/Oncology', 'medSpec_Hospitalist', 'medSpec_InfectiousDiseases', 'medSpec_InternalMedicine', 'medSpec_Nephrology', 'medSpec_Neurology', 'medSpec_Neurophysiology', 'medSpec_Obsterics&Gynecology-GynecologicOnco', 'medSpec_Obstetrics', 'medSpec_ObstetricsandGynecology', 'medSpec_Oncology', 'medSpec_Ophthalmology', 'medSpec_Orthopedics', 'medSpec_Orthopedics-Reconstructive', 'medSpec_Osteopath', 'medSpec_Otolaryngology', 'medSpec_OutreachServices', 'medSpec_Pathology', 'medSpec_Pediatrics', 'medSpec_Pediatrics-CriticalCare', 'medSpec_Pediatrics-EmergencyMedicine', 'medSpec_Pediatrics-Endocrinology', 'medSpec_Pediatrics-Hematology-Oncology', 'medSpec_Pediatrics-Neurology', 'medSpec_Pediatrics-Pulmonology', 'medSpec_Perinatology', 'medSpec_PhysicalMedicineandRehabilitation', 'medSpec_PhysicianNotFound', 'medSpec_Podiatry', 'medSpec_Proctology', 'medSpec_Psychiatry', 'medSpec_Psychiatry-Addictive', 'medSpec_Psychiatry-Child/Adolescent', 'medSpec_Psychology', 'medSpec_Pulmonology', 'medSpec_Radiologist', 'medSpec_Radiology', 'medSpec_Resident', 'medSpec_Rheumatology', 'medSpec_Speech', 'medSpec_SportsMedicine', 'medSpec_Surgeon', 'medSpec_Surgery-Cardiovascular', 'medSpec_Surgery-Cardiovascular/Thoracic', 'medSpec_Surgery-Colon&Rectal', 'medSpec_Surgery-General', 'medSpec_Surgery-Maxillofacial', 'medSpec_Surgery-Neuro', 'medSpec_Surgery-Pediatric', 'medSpec_Surgery-Plastic', 'medSpec_Surgery-PlasticwithinHeadandNeck', 'medSpec_Surgery-Thoracic', 'medSpec_Surgery-Vascular', 'medSpec_SurgicalSpecialty', 'medSpec_Urology', 'race_AfricanAmerican', 'race_Asian', 'race_Caucasian', 'race_Hispanic', 'race_Other', 'adm_1', 'adm_2', 'adm_3', 'adm_4', 'adm_7', 'adm_src_1', 'adm_src_2', 'adm_src_3', 'adm_src_4', 'adm_src_5', 'adm_src_6', 'adm_src_7', 'adm_src_8', 'adm_src_10', 'adm_src_11', 'adm_src_13', 'adm_src_14', 'adm_src_22', 'adm_src_25', 'diss_1', 'diss_2', 'diss_3', 'diss_4', 'diss_5', 'diss_6', 'diss_7', 'diss_8', 'diss_9', 'diss_10', 'diss_12', 'diss_13', 'diss_14', 'diss_15', 'diss_16', 'diss_17', 'diss_22', 'diss_23', 'diss_24', 'diss_27', 'diss_28', 'Poisoning_1', 'External_causes_1', 'External_causes_3', 'readmitted']\n",
      "0    39785\n",
      "2    21403\n",
      "1     5994\n",
      "Name: readmitted, dtype: int64\n",
      "0   0.59\n",
      "2   0.32\n",
      "1   0.09\n",
      "Name: readmitted, dtype: float64\n"
     ]
    }
   ],
   "source": [
    "#df_all=pd.read_csv(os.path.join('resources','diabetic_data_processed_withweight.csv'),';')\n",
    "df_all=pd.read_pickle(os.path.join('resources','clean_data_' + typeEncounter + '.pkl'))\n",
    "print df_all.shape\n",
    "print df_all.columns.tolist()\n",
    "print df_all.readmitted.value_counts()\n",
    "print df_all.readmitted.value_counts()/float(df_all.shape[0])"
   ]
  },
  {
   "cell_type": "markdown",
   "metadata": {},
   "source": [
    "### Features preparation"
   ]
  },
  {
   "cell_type": "code",
   "execution_count": 677,
   "metadata": {},
   "outputs": [
    {
     "name": "stderr",
     "output_type": "stream",
     "text": [
      "/home/ilmira/.conda/envs/readmision/lib/python2.7/site-packages/ipykernel_launcher.py:2: SettingWithCopyWarning: \n",
      "A value is trying to be set on a copy of a slice from a DataFrame\n",
      "\n",
      "See the caveats in the documentation: http://pandas.pydata.org/pandas-docs/stable/indexing.html#indexing-view-versus-copy\n",
      "  \n",
      "/home/ilmira/.conda/envs/readmision/lib/python2.7/site-packages/ipykernel_launcher.py:3: SettingWithCopyWarning: \n",
      "A value is trying to be set on a copy of a slice from a DataFrame\n",
      "\n",
      "See the caveats in the documentation: http://pandas.pydata.org/pandas-docs/stable/indexing.html#indexing-view-versus-copy\n",
      "  This is separate from the ipykernel package so we can avoid doing imports until\n",
      "/home/ilmira/.conda/envs/readmision/lib/python2.7/site-packages/ipykernel_launcher.py:4: SettingWithCopyWarning: \n",
      "A value is trying to be set on a copy of a slice from a DataFrame\n",
      "\n",
      "See the caveats in the documentation: http://pandas.pydata.org/pandas-docs/stable/indexing.html#indexing-view-versus-copy\n",
      "  after removing the cwd from sys.path.\n",
      "/home/ilmira/.conda/envs/readmision/lib/python2.7/site-packages/ipykernel_launcher.py:5: SettingWithCopyWarning: \n",
      "A value is trying to be set on a copy of a slice from a DataFrame\n",
      "\n",
      "See the caveats in the documentation: http://pandas.pydata.org/pandas-docs/stable/indexing.html#indexing-view-versus-copy\n",
      "  \"\"\"\n"
     ]
    },
    {
     "data": {
      "text/plain": [
       "0    52657\n",
       "3     6833\n",
       "1     4397\n",
       "2     3295\n",
       "Name: HbA1c, dtype: int64"
      ]
     },
     "execution_count": 677,
     "metadata": {},
     "output_type": "execute_result"
    }
   ],
   "source": [
    "df_all[\"HbA1c\"] = -1\n",
    "df_all[\"HbA1c\"][df_all.A1Cresult == 2] = 3\n",
    "df_all[\"HbA1c\"][df_all.A1Cresult == 1] = 2\n",
    "df_all[\"HbA1c\"][df_all.A1Cresult == 0] = 1\n",
    "df_all[\"HbA1c\"][df_all.A1Cresult.isnull()] = 0\n",
    "\n",
    "pd.value_counts(df_all.HbA1c)"
   ]
  },
  {
   "cell_type": "code",
   "execution_count": 678,
   "metadata": {},
   "outputs": [
    {
     "name": "stderr",
     "output_type": "stream",
     "text": [
      "/home/ilmira/.conda/envs/readmision/lib/python2.7/site-packages/ipykernel_launcher.py:3: SettingWithCopyWarning: \n",
      "A value is trying to be set on a copy of a slice from a DataFrame\n",
      "\n",
      "See the caveats in the documentation: http://pandas.pydata.org/pandas-docs/stable/indexing.html#indexing-view-versus-copy\n",
      "  This is separate from the ipykernel package so we can avoid doing imports until\n",
      "/home/ilmira/.conda/envs/readmision/lib/python2.7/site-packages/ipykernel_launcher.py:4: SettingWithCopyWarning: \n",
      "A value is trying to be set on a copy of a slice from a DataFrame\n",
      "\n",
      "See the caveats in the documentation: http://pandas.pydata.org/pandas-docs/stable/indexing.html#indexing-view-versus-copy\n",
      "  after removing the cwd from sys.path.\n"
     ]
    },
    {
     "data": {
      "text/plain": [
       "0    60349\n",
       "2     4395\n",
       "1     2438\n",
       "Name: ComplexHbA1c, dtype: int64"
      ]
     },
     "execution_count": 678,
     "metadata": {},
     "output_type": "execute_result"
    }
   ],
   "source": [
    "#Not useful\n",
    "df_all[\"ComplexHbA1c\"] = 0\n",
    "df_all[\"ComplexHbA1c\"][np.logical_and(df_all.A1Cresult == 2, df_all.Change == 1)] = 2\n",
    "df_all[\"ComplexHbA1c\"][np.logical_and(df_all.A1Cresult == 2, df_all.Change == 0)] = 1\n",
    "\n",
    "pd.value_counts(df_all.ComplexHbA1c)"
   ]
  },
  {
   "cell_type": "code",
   "execution_count": 679,
   "metadata": {},
   "outputs": [
    {
     "name": "stdout",
     "output_type": "stream",
     "text": [
      "1    35869\n",
      "2    29571\n",
      "0     1742\n",
      "Name: age_cat, dtype: int64\n"
     ]
    },
    {
     "name": "stderr",
     "output_type": "stream",
     "text": [
      "/home/ilmira/.conda/envs/readmision/lib/python2.7/site-packages/ipykernel_launcher.py:3: SettingWithCopyWarning: \n",
      "A value is trying to be set on a copy of a slice from a DataFrame\n",
      "\n",
      "See the caveats in the documentation: http://pandas.pydata.org/pandas-docs/stable/indexing.html#indexing-view-versus-copy\n",
      "  This is separate from the ipykernel package so we can avoid doing imports until\n",
      "/home/ilmira/.conda/envs/readmision/lib/python2.7/site-packages/ipykernel_launcher.py:4: SettingWithCopyWarning: \n",
      "A value is trying to be set on a copy of a slice from a DataFrame\n",
      "\n",
      "See the caveats in the documentation: http://pandas.pydata.org/pandas-docs/stable/indexing.html#indexing-view-versus-copy\n",
      "  after removing the cwd from sys.path.\n",
      "/home/ilmira/.conda/envs/readmision/lib/python2.7/site-packages/ipykernel_launcher.py:5: SettingWithCopyWarning: \n",
      "A value is trying to be set on a copy of a slice from a DataFrame\n",
      "\n",
      "See the caveats in the documentation: http://pandas.pydata.org/pandas-docs/stable/indexing.html#indexing-view-versus-copy\n",
      "  \"\"\"\n"
     ]
    }
   ],
   "source": [
    "#Not useful\n",
    "df_all[\"age_cat\"] = -1\n",
    "df_all[\"age_cat\"][df_all.age.isin([0,1,2])] = 0\n",
    "df_all[\"age_cat\"][df_all.age.isin([3,4,5,6])] = 1\n",
    "df_all[\"age_cat\"][df_all.age.isin([7,8,9,10])] = 2\n",
    "\n",
    "print pd.value_counts(df_all[\"age_cat\"])"
   ]
  },
  {
   "cell_type": "code",
   "execution_count": 680,
   "metadata": {},
   "outputs": [
    {
     "name": "stdout",
     "output_type": "stream",
     "text": [
      "False    45345\n",
      "True     21837\n",
      "Name: adm_src_ref, dtype: int64\n",
      "1    36050\n",
      "0    31132\n",
      "Name: adm_src_em, dtype: int64\n"
     ]
    }
   ],
   "source": [
    "#Not useful\n",
    "df_all[\"adm_src_ref\"] = np.sum(df_all[[\"adm_src_1\",\"adm_src_2\",\"adm_src_3\"]].values,axis=1)>0\n",
    "df_all[\"adm_src_em\"] = df_all[\"adm_src_7\"].values\n",
    "\n",
    "print pd.value_counts(df_all[\"adm_src_ref\"])\n",
    "print pd.value_counts(df_all[\"adm_src_em\"])"
   ]
  },
  {
   "cell_type": "code",
   "execution_count": 681,
   "metadata": {},
   "outputs": [
    {
     "data": {
      "text/plain": [
       "False    62857\n",
       "True      4325\n",
       "Name: medSpec_cardio, dtype: int64"
      ]
     },
     "execution_count": 681,
     "metadata": {},
     "output_type": "execute_result"
    }
   ],
   "source": [
    "df_all[\"medSpec_cardio\"] = np.sum(\n",
    "    df_all[['medSpec_Cardiology', 'medSpec_Cardiology-Pediatric']], axis=1)>0\n",
    "\n",
    "pd.value_counts(df_all[\"medSpec_cardio\"])"
   ]
  },
  {
   "cell_type": "code",
   "execution_count": 682,
   "metadata": {},
   "outputs": [
    {
     "data": {
      "text/plain": [
       "False    63383\n",
       "True      3799\n",
       "Name: medSpec_surgery, dtype: int64"
      ]
     },
     "execution_count": 682,
     "metadata": {},
     "output_type": "execute_result"
    }
   ],
   "source": [
    "df_all[\"medSpec_surgery\"] = np.sum(\n",
    "    df_all[['medSpec_Surgeon', 'medSpec_Surgery-Cardiovascular', 'medSpec_Surgery-Cardiovascular/Thoracic', \n",
    "            'medSpec_Surgery-Colon&Rectal', 'medSpec_Surgery-General', 'medSpec_Surgery-Maxillofacial', \n",
    "            'medSpec_Surgery-Neuro', 'medSpec_Surgery-Pediatric', 'medSpec_Surgery-Plastic', \n",
    "            'medSpec_Surgery-Thoracic', 'medSpec_Surgery-Vascular', \n",
    "            'medSpec_SurgicalSpecialty', 'medSpec_Surgery-PlasticwithinHeadandNeck']], axis=1)>0\n",
    "\n",
    "pd.value_counts(df_all[\"medSpec_surgery\"])"
   ]
  },
  {
   "cell_type": "code",
   "execution_count": 683,
   "metadata": {},
   "outputs": [
    {
     "name": "stdout",
     "output_type": "stream",
     "text": [
      "[ 0  1  2  3  4  5  6  7  8  9 10 11 12 13]\n",
      "2     20971\n",
      "0     15699\n",
      "4     10374\n",
      "3      6594\n",
      "1      4655\n",
      "6      3494\n",
      "5      3122\n",
      "7      1268\n",
      "8       678\n",
      "9       230\n",
      "10       68\n",
      "11       21\n",
      "12        7\n",
      "13        1\n",
      "Name: number_treatment, dtype: int64\n",
      "2    0.31\n",
      "0    0.23\n",
      "4    0.15\n",
      "3    0.10\n",
      "1    0.07\n",
      "6    0.05\n",
      "5    0.05\n",
      "7    0.02\n",
      "8    0.01\n",
      "9    0.00\n",
      "10   0.00\n",
      "11   0.00\n",
      "12   0.00\n",
      "13   0.00\n",
      "Name: number_treatment, dtype: float64\n"
     ]
    }
   ],
   "source": [
    "df_all[\"number_treatment\"] = -1\n",
    "df_all[\"number_treatment\"] = np.sum(df_all[[ u'metformin', u'repaglinide', u'nateglinide',\n",
    "       u'chlorpropamide', u'glimepiride', u'acetohexamide', u'glipizide',\n",
    "       u'glyburide', u'tolbutamide', u'pioglitazone', u'rosiglitazone',\n",
    "       u'acarbose', u'miglitol', u'troglitazone', u'tolazamide', u'examide',\n",
    "       u'citoglipton', u'insulin', u'glyburide-metformin',\n",
    "       u'glipizide-metformin', u'glimepiride-pioglitazone',\n",
    "       u'metformin-rosiglitazone', u'metformin-pioglitazone']], axis=1)\n",
    "\n",
    "print np.unique(df_all[\"number_treatment\"])\n",
    "print pd.value_counts(df_all[\"number_treatment\"])\n",
    "print pd.value_counts(df_all[\"number_treatment\"])/df_all.shape[0]"
   ]
  },
  {
   "cell_type": "code",
   "execution_count": 684,
   "metadata": {
    "scrolled": true
   },
   "outputs": [
    {
     "name": "stdout",
     "output_type": "stream",
     "text": [
      "[17 18 19 20 21 22 23]\n",
      "22    29987\n",
      "23    15699\n",
      "21    14922\n",
      "20     5536\n",
      "19      987\n",
      "18       49\n",
      "17        2\n",
      "Name: number_treatment_0, dtype: int64\n",
      "22   0.45\n",
      "23   0.23\n",
      "21   0.22\n",
      "20   0.08\n",
      "19   0.01\n",
      "18   0.00\n",
      "17   0.00\n",
      "Name: number_treatment_0, dtype: float64\n",
      "[0 1 2 3]\n",
      "0    58722\n",
      "1     8278\n",
      "2      179\n",
      "3        3\n",
      "Name: number_treatment_1, dtype: int64\n",
      "0   0.87\n",
      "1   0.12\n",
      "2   0.00\n",
      "3   0.00\n",
      "Name: number_treatment_1, dtype: float64\n",
      "[0 1 2 3 4 5 6]\n",
      "1    25647\n",
      "0    25251\n",
      "2    12215\n",
      "3     3557\n",
      "4      494\n",
      "5       17\n",
      "6        1\n",
      "Name: number_treatment_2, dtype: int64\n",
      "1   0.38\n",
      "0   0.38\n",
      "2   0.18\n",
      "3   0.05\n",
      "4   0.01\n",
      "5   0.00\n",
      "6   0.00\n",
      "Name: number_treatment_2, dtype: float64\n",
      "[0 1 2 3]\n",
      "0    58425\n",
      "1     8348\n",
      "2      391\n",
      "3       18\n",
      "Name: number_treatment_3, dtype: int64\n",
      "0   0.87\n",
      "1   0.12\n",
      "2   0.01\n",
      "3   0.00\n",
      "Name: number_treatment_3, dtype: float64\n"
     ]
    }
   ],
   "source": [
    "df_all[\"number_treatment_0\"] = -1\n",
    "df_all[\"number_treatment_0\"] = np.sum(df_all[[ u'metformin', u'repaglinide', u'nateglinide',\n",
    "       u'chlorpropamide', u'glimepiride', u'acetohexamide', u'glipizide',\n",
    "       u'glyburide', u'tolbutamide', u'pioglitazone', u'rosiglitazone',\n",
    "       u'acarbose', u'miglitol', u'troglitazone', u'tolazamide', u'examide',\n",
    "       u'citoglipton', u'insulin', u'glyburide-metformin',\n",
    "       u'glipizide-metformin', u'glimepiride-pioglitazone',\n",
    "       u'metformin-rosiglitazone', u'metformin-pioglitazone']]==0, axis=1)\n",
    "print np.unique(df_all[\"number_treatment_0\"])\n",
    "print pd.value_counts(df_all[\"number_treatment_0\"])\n",
    "print pd.value_counts(df_all[\"number_treatment_0\"])/df_all.shape[0]\n",
    "\n",
    "df_all[\"number_treatment_1\"] = -1\n",
    "df_all[\"number_treatment_1\"] = np.sum(df_all[[ u'metformin', u'repaglinide', u'nateglinide',\n",
    "       u'chlorpropamide', u'glimepiride', u'acetohexamide', u'glipizide',\n",
    "       u'glyburide', u'tolbutamide', u'pioglitazone', u'rosiglitazone',\n",
    "       u'acarbose', u'miglitol', u'troglitazone', u'tolazamide', u'examide',\n",
    "       u'citoglipton', u'insulin', u'glyburide-metformin',\n",
    "       u'glipizide-metformin', u'glimepiride-pioglitazone',\n",
    "       u'metformin-rosiglitazone', u'metformin-pioglitazone']]==1, axis=1)\n",
    "print np.unique(df_all[\"number_treatment_1\"])\n",
    "print pd.value_counts(df_all[\"number_treatment_1\"])\n",
    "print pd.value_counts(df_all[\"number_treatment_1\"])/df_all.shape[0]\n",
    "\n",
    "df_all[\"number_treatment_2\"] = -1\n",
    "df_all[\"number_treatment_2\"] = np.sum(df_all[[ u'metformin', u'repaglinide', u'nateglinide',\n",
    "       u'chlorpropamide', u'glimepiride', u'acetohexamide', u'glipizide',\n",
    "       u'glyburide', u'tolbutamide', u'pioglitazone', u'rosiglitazone',\n",
    "       u'acarbose', u'miglitol', u'troglitazone', u'tolazamide', u'examide',\n",
    "       u'citoglipton', u'insulin', u'glyburide-metformin',\n",
    "       u'glipizide-metformin', u'glimepiride-pioglitazone',\n",
    "       u'metformin-rosiglitazone', u'metformin-pioglitazone']]==2, axis=1)\n",
    "\n",
    "print np.unique(df_all[\"number_treatment_2\"])\n",
    "print pd.value_counts(df_all[\"number_treatment_2\"])\n",
    "print pd.value_counts(df_all[\"number_treatment_2\"])/df_all.shape[0]\n",
    "\n",
    "df_all[\"number_treatment_3\"] = -1\n",
    "df_all[\"number_treatment_3\"] = np.sum(df_all[[ u'metformin', u'repaglinide', u'nateglinide',\n",
    "       u'chlorpropamide', u'glimepiride', u'acetohexamide', u'glipizide',\n",
    "       u'glyburide', u'tolbutamide', u'pioglitazone', u'rosiglitazone',\n",
    "       u'acarbose', u'miglitol', u'troglitazone', u'tolazamide', u'examide',\n",
    "       u'citoglipton', u'insulin', u'glyburide-metformin',\n",
    "       u'glipizide-metformin', u'glimepiride-pioglitazone',\n",
    "       u'metformin-rosiglitazone', u'metformin-pioglitazone']]==3, axis=1)\n",
    "\n",
    "print np.unique(df_all[\"number_treatment_3\"])\n",
    "print pd.value_counts(df_all[\"number_treatment_3\"])\n",
    "print pd.value_counts(df_all[\"number_treatment_3\"])/df_all.shape[0]"
   ]
  },
  {
   "cell_type": "code",
   "execution_count": 685,
   "metadata": {},
   "outputs": [
    {
     "name": "stdout",
     "output_type": "stream",
     "text": [
      "(67182, 206)\n",
      "1    44560\n",
      "0    22622\n",
      "Name: diss_home, dtype: int64\n"
     ]
    }
   ],
   "source": [
    "print df_all.shape\n",
    "\n",
    "df_all[\"diss_home\"] = -1\n",
    "df_all[\"diss_home\"] = np.sum(df_all[['diss_1','diss_13']], axis=1)\n",
    "\n",
    "print pd.value_counts(df_all[\"diss_home\"])"
   ]
  },
  {
   "cell_type": "code",
   "execution_count": 686,
   "metadata": {},
   "outputs": [
    {
     "name": "stdout",
     "output_type": "stream",
     "text": [
      "(67182, 207)\n",
      "sum_ch_med      0      1      2\n",
      "readmitted                     \n",
      "0           10137  12136  17512\n",
      "1            1181   1941   2872\n",
      "2            4381   6815  10207\n",
      "             readmitted  sum_ch_med  time_in_hospital  number_emergency  \\\n",
      "patient_nbr                                                               \n",
      "135                   1           2                 8                 0   \n",
      "1152                  2           1                 6                 0   \n",
      "1314                  2           1                 2                 0   \n",
      "1629                  2           1                14                 1   \n",
      "5220                  2           1                 2                 0   \n",
      "5337                  2           2                 7                 0   \n",
      "6696                  2           1                 1                 0   \n",
      "10827                 2           0                 2                 0   \n",
      "11394                 2           2                 7                 0   \n",
      "11511                 1           1                 3                 0   \n",
      "\n",
      "             num_lab_procedures  num_medications  add_procs_meds  \\\n",
      "patient_nbr                                                        \n",
      "135                          77               33          116.00   \n",
      "1152                         43               13           58.00   \n",
      "1314                         50               13           68.00   \n",
      "1629                         21               15           36.00   \n",
      "5220                         15               14           29.00   \n",
      "5337                         27               16           46.00   \n",
      "6696                         36                8           44.00   \n",
      "10827                        39               17           56.00   \n",
      "11394                        62               14           78.00   \n",
      "11511                        56               10           66.00   \n",
      "\n",
      "             div_visits_time  div_em_time  div_visit_med  div_em_med  \n",
      "patient_nbr                                                           \n",
      "135                     0.00         0.00           0.00        0.00  \n",
      "1152                    0.17         0.00           0.08        0.00  \n",
      "1314                    0.00         0.00           0.00        0.00  \n",
      "1629                    0.36         0.07           0.33        0.07  \n",
      "5220                    0.00         0.00           0.00        0.00  \n",
      "5337                    0.00         0.00           0.00        0.00  \n",
      "6696                    0.00         0.00           0.00        0.00  \n",
      "10827                   0.00         0.00           0.00        0.00  \n",
      "11394                   0.00         0.00           0.00        0.00  \n",
      "11511                   0.00         0.00           0.00        0.00  \n"
     ]
    }
   ],
   "source": [
    "#Extra columns\n",
    "print df_all.shape\n",
    "\n",
    "df_all[\"add_in_out\"] = -1\n",
    "df_all[\"add_in_out\"] = np.sum(df_all[['number_inpatient','number_outpatient']], axis=1)\n",
    "\n",
    "df_all[\"add_procs_meds\"] = -1\n",
    "df_all[\"add_procs_meds\"] = np.sum(df_all[['num_lab_procedures','num_procedures', 'num_medications']], axis=1).astype(float)\n",
    "\n",
    "df_all[\"div_visits_time\"] = -1\n",
    "df_all[\"div_visits_time\"] = np.sum(df_all[['number_inpatient','number_outpatient']], axis=1)/df_all[\"time_in_hospital\"].astype(float)\n",
    "\n",
    "df_all[\"div_em_time\"] = -1\n",
    "df_all[\"div_em_time\"] = np.sum(df_all[['number_emergency']], axis=1)/df_all[\"time_in_hospital\"].astype(float)\n",
    "\n",
    "df_all[\"div_visit_med\"] = -1\n",
    "df_all[\"div_visit_med\"] = np.sum(df_all[['number_inpatient','number_outpatient']], axis=1)/df_all[\"num_medications\"].astype(float)\n",
    "\n",
    "df_all[\"div_em_med\"] = -1\n",
    "df_all[\"div_em_med\"] = np.sum(df_all[['number_emergency']], axis=1)/df_all[\"num_medications\"].astype(float)\n",
    "\n",
    "df_all[\"sum_ch_med\"] = -1\n",
    "df_all[\"sum_ch_med\"] = np.sum(df_all[['diabetesMed','Change']], axis=1)\n",
    "\n",
    "df_all[\"kk\"] = 1\n",
    "print pd.pivot_table(df_all, values=\"kk\", index =\"readmitted\" ,columns=\"sum_ch_med\", aggfunc=np.sum)\n",
    "\n",
    "print df_all[df_all[\"readmitted\"]>0][['readmitted','sum_ch_med','time_in_hospital','number_emergency',\n",
    "              'num_lab_procedures','num_medications', \n",
    "              \"add_procs_meds\",\"div_visits_time\",\"div_em_time\",\"div_visit_med\",\"div_em_med\"]].head(10)"
   ]
  },
  {
   "cell_type": "code",
   "execution_count": 687,
   "metadata": {},
   "outputs": [
    {
     "name": "stdout",
     "output_type": "stream",
     "text": [
      "42 49 61\n"
     ]
    }
   ],
   "source": [
    "colsFinal = ['gender', 'age',\"race_AfricanAmerican\",\"race_Caucasian\",\"race_Other\", \n",
    "             'HbA1c',\n",
    "             \"Change\",\n",
    "             'time_in_hospital',\n",
    "             'diabetesMed',\n",
    "             \"diss_home\",             \n",
    "             \"medSpec_cardio\",\"medSpec_Family/GeneralPractice\",\"medSpec_InternalMedicine\",\"medSpec_surgery\",             \n",
    "             'adm_src_1', 'adm_src_2', 'adm_src_3', 'adm_src_4', 'adm_src_5', 'adm_src_6', 'adm_src_7', 'adm_src_8', \n",
    "             'adm_src_10', 'adm_src_11', 'adm_src_13', 'adm_src_14', 'adm_src_22', 'adm_src_25',\n",
    "              u'adm_1', u'adm_2', u'adm_3', u'adm_4', u'adm_7', \n",
    "             \"number_treatment\",\n",
    "             'num_lab_procedures', 'num_procedures', 'num_medications', 'number_outpatient', \n",
    "             'number_emergency', 'number_inpatient', 'number_diagnoses']\n",
    "\n",
    "colsFinalExtended = colsFinal[:]\n",
    "colsFinalExtended.extend([\n",
    "    \"insulin\",\"metformin\",\"pioglitazone\",\"glimepiride\",\"glipizide\",\"repaglinide\",\"nateglinide\"])\n",
    "colsFinalExtendedExtra = colsFinalExtended[:]\n",
    "colsFinalExtendedExtra.extend([\n",
    "    \"ComplexHbA1c\",\n",
    "    \"add_in_out\",\"add_procs_meds\", \"div_visits_time\", \"div_em_time\", \"div_visit_med\",\"div_em_med\", \n",
    "    \"sum_ch_med\",\n",
    "    \"number_treatment_0\",\"number_treatment_1\",\"number_treatment_2\",\"number_treatment_3\"])\n",
    "\n",
    "colsFinal.extend([\"readmitted\"])\n",
    "colsFinalExtended.extend([\"readmitted\"])\n",
    "colsFinalExtendedExtra.extend([\"readmitted\"])\n",
    "\n",
    "print len(colsFinal), len(colsFinalExtended), len(colsFinalExtendedExtra)"
   ]
  },
  {
   "cell_type": "markdown",
   "metadata": {},
   "source": [
    "#### Save"
   ]
  },
  {
   "cell_type": "code",
   "execution_count": 695,
   "metadata": {},
   "outputs": [
    {
     "name": "stdout",
     "output_type": "stream",
     "text": [
      "42\n",
      "['gender', 'age', 'race_AfricanAmerican', 'race_Caucasian', 'race_Other', 'HbA1c', 'Change', 'time_in_hospital', 'diabetesMed', 'diss_home', 'medSpec_cardio', 'medSpec_Family/GeneralPractice', 'medSpec_InternalMedicine', 'medSpec_surgery', 'adm_src_1', 'adm_src_2', 'adm_src_3', 'adm_src_4', 'adm_src_5', 'adm_src_6', 'adm_src_7', 'adm_src_8', 'adm_src_10', 'adm_src_11', 'adm_src_13', 'adm_src_14', 'adm_src_22', 'adm_src_25', u'adm_1', u'adm_2', u'adm_3', u'adm_4', u'adm_7', 'number_treatment', 'num_lab_procedures', 'num_procedures', 'num_medications', 'number_outpatient', 'number_emergency', 'number_inpatient', 'number_diagnoses', 'readmitted']\n",
      "last (67182, 42)\n",
      "file: resources/prepared_clean_data_last_reduced.pkl\n",
      "49\n",
      "['gender', 'age', 'race_AfricanAmerican', 'race_Caucasian', 'race_Other', 'HbA1c', 'Change', 'time_in_hospital', 'diabetesMed', 'diss_home', 'medSpec_cardio', 'medSpec_Family/GeneralPractice', 'medSpec_InternalMedicine', 'medSpec_surgery', 'adm_src_1', 'adm_src_2', 'adm_src_3', 'adm_src_4', 'adm_src_5', 'adm_src_6', 'adm_src_7', 'adm_src_8', 'adm_src_10', 'adm_src_11', 'adm_src_13', 'adm_src_14', 'adm_src_22', 'adm_src_25', u'adm_1', u'adm_2', u'adm_3', u'adm_4', u'adm_7', 'number_treatment', 'num_lab_procedures', 'num_procedures', 'num_medications', 'number_outpatient', 'number_emergency', 'number_inpatient', 'number_diagnoses', 'insulin', 'metformin', 'pioglitazone', 'glimepiride', 'glipizide', 'repaglinide', 'nateglinide', 'readmitted']\n",
      "last (67182, 49)\n",
      "file: resources/prepared_clean_data_last_extended.pkl\n",
      "61\n",
      "['gender', 'age', 'race_AfricanAmerican', 'race_Caucasian', 'race_Other', 'HbA1c', 'Change', 'time_in_hospital', 'diabetesMed', 'diss_home', 'medSpec_cardio', 'medSpec_Family/GeneralPractice', 'medSpec_InternalMedicine', 'medSpec_surgery', 'adm_src_1', 'adm_src_2', 'adm_src_3', 'adm_src_4', 'adm_src_5', 'adm_src_6', 'adm_src_7', 'adm_src_8', 'adm_src_10', 'adm_src_11', 'adm_src_13', 'adm_src_14', 'adm_src_22', 'adm_src_25', u'adm_1', u'adm_2', u'adm_3', u'adm_4', u'adm_7', 'number_treatment', 'num_lab_procedures', 'num_procedures', 'num_medications', 'number_outpatient', 'number_emergency', 'number_inpatient', 'number_diagnoses', 'insulin', 'metformin', 'pioglitazone', 'glimepiride', 'glipizide', 'repaglinide', 'nateglinide', 'ComplexHbA1c', 'add_in_out', 'add_procs_meds', 'div_visits_time', 'div_em_time', 'div_visit_med', 'div_em_med', 'sum_ch_med', 'number_treatment_0', 'number_treatment_1', 'number_treatment_2', 'number_treatment_3', 'readmitted']\n",
      "last (67182, 61)\n",
      "file: resources/prepared_clean_data_last_extended_extra.pkl\n"
     ]
    }
   ],
   "source": [
    "typeCols = [\"_reduced\",\"_extended\", \"_extended_extra\"]\n",
    "\n",
    "for typeC in typeCols:\n",
    "\n",
    "    if typeC == \"_reduced\":\n",
    "        colsDiag = colsFinal\n",
    "    if typeC == \"_extended\":\n",
    "        colsDiag = colsFinalExtended\n",
    "    if typeC == \"_extended_extra\":        \n",
    "        colsDiag = colsFinalExtendedExtra\n",
    "        \n",
    "    print len(colsDiag)\n",
    "    print colsDiag\n",
    "\n",
    "    print typeEncounter, df_all[colsDiag].shape\n",
    "    df_all[colsDiag].to_pickle(os.path.join('resources','prepared_clean_data_' + typeEncounter + typeC + '.pkl'))\n",
    "    print \"file:\", os.path.join('resources','prepared_clean_data_' + typeEncounter + typeC +  '.pkl')\n"
   ]
  },
  {
   "cell_type": "markdown",
   "metadata": {},
   "source": [
    "#### Creating other cols"
   ]
  },
  {
   "cell_type": "code",
   "execution_count": 696,
   "metadata": {
    "collapsed": true
   },
   "outputs": [],
   "source": [
    "typeDiagnosis = \"diag_1\" #[\"diag_1\", \"diag_3\"]"
   ]
  },
  {
   "cell_type": "code",
   "execution_count": 697,
   "metadata": {},
   "outputs": [
    {
     "name": "stdout",
     "output_type": "stream",
     "text": [
      "57\n",
      "['gender', 'age', 'race_AfricanAmerican', 'race_Caucasian', 'race_Other', 'HbA1c', 'Change', 'time_in_hospital', 'diabetesMed', 'diss_home', 'medSpec_cardio', 'medSpec_Family/GeneralPractice', 'medSpec_InternalMedicine', 'medSpec_surgery', 'adm_src_1', 'adm_src_2', 'adm_src_3', 'adm_src_4', 'adm_src_5', 'adm_src_6', 'adm_src_7', 'adm_src_8', 'adm_src_10', 'adm_src_11', 'adm_src_13', 'adm_src_14', 'adm_src_22', 'adm_src_25', u'adm_1', u'adm_2', u'adm_3', u'adm_4', u'adm_7', 'number_treatment', 'num_lab_procedures', 'num_procedures', 'num_medications', 'number_outpatient', 'number_emergency', 'number_inpatient', 'number_diagnoses', 'insulin', 'metformin', 'pioglitazone', 'glimepiride', 'glipizide', 'repaglinide', 'nateglinide', 'Diabetis_1', 'Circulatory_1', 'Digestive_1', 'Genitourinary_1', 'Poisoning_1', 'Muscoskeletal_1', 'Neoplasms_1', 'Respiratory_1', 'readmitted']\n",
      "last (67182, 57)\n",
      "file: resources/prepared_clean_data_last_diag_1_extended.pkl\n",
      "69\n",
      "['gender', 'age', 'race_AfricanAmerican', 'race_Caucasian', 'race_Other', 'HbA1c', 'Change', 'time_in_hospital', 'diabetesMed', 'diss_home', 'medSpec_cardio', 'medSpec_Family/GeneralPractice', 'medSpec_InternalMedicine', 'medSpec_surgery', 'adm_src_1', 'adm_src_2', 'adm_src_3', 'adm_src_4', 'adm_src_5', 'adm_src_6', 'adm_src_7', 'adm_src_8', 'adm_src_10', 'adm_src_11', 'adm_src_13', 'adm_src_14', 'adm_src_22', 'adm_src_25', u'adm_1', u'adm_2', u'adm_3', u'adm_4', u'adm_7', 'number_treatment', 'num_lab_procedures', 'num_procedures', 'num_medications', 'number_outpatient', 'number_emergency', 'number_inpatient', 'number_diagnoses', 'insulin', 'metformin', 'pioglitazone', 'glimepiride', 'glipizide', 'repaglinide', 'nateglinide', 'ComplexHbA1c', 'add_in_out', 'add_procs_meds', 'div_visits_time', 'div_em_time', 'div_visit_med', 'div_em_med', 'sum_ch_med', 'number_treatment_0', 'number_treatment_1', 'number_treatment_2', 'number_treatment_3', 'Diabetis_1', 'Circulatory_1', 'Digestive_1', 'Genitourinary_1', 'Poisoning_1', 'Muscoskeletal_1', 'Neoplasms_1', 'Respiratory_1', 'readmitted']\n",
      "last (67182, 69)\n",
      "file: resources/prepared_clean_data_last_diag_1_extended_extra.pkl\n"
     ]
    }
   ],
   "source": [
    "typeCols = [\"_extended\", \"_extended_extra\"]\n",
    "\n",
    "for typeC in typeCols:\n",
    "    \n",
    "    if typeC == \"_reduced\":\n",
    "        colsDiag = colsFinal[:-1]\n",
    "    if typeC == \"_extended\":\n",
    "        colsDiag = colsFinalExtended[:-1]\n",
    "    if typeC == \"_extended_extra\":        \n",
    "        colsDiag = colsFinalExtendedExtra[:-1]    \n",
    "        \n",
    "    if typeDiagnosis == \"diag_1\":\n",
    "        auxCols = [\n",
    "                \"Diabetis_1\",\"Circulatory_1\",'Digestive_1','Genitourinary_1','Poisoning_1','Muscoskeletal_1',\n",
    "                'Neoplasms_1','Respiratory_1'      \n",
    "               ]\n",
    "\n",
    "    if typeDiagnosis == \"diag_3\":    \n",
    "        auxCols = [\n",
    "                \"Diabetis_3\",\"Circulatory_3\",'Digestive_3','Genitourinary_3','Poisoning_3','Muscoskeletal_3',\n",
    "                'Neoplasms_3','Respiratory_3'       \n",
    "               ]\n",
    "\n",
    "    colsDiag.extend(auxCols)\n",
    "    colsDiag.extend([\"readmitted\"])\n",
    "\n",
    "    print len(colsDiag)\n",
    "    print colsDiag\n",
    "\n",
    "    print typeEncounter, df_all[colsDiag].shape\n",
    "    df_all[colsDiag].to_pickle(os.path.join('resources','prepared_clean_data_' + typeEncounter + \"_\" +  typeDiagnosis  + typeC + '.pkl'))\n",
    "    print \"file:\", os.path.join('resources','prepared_clean_data_' + typeEncounter + \"_\" +  typeDiagnosis  + typeC +  '.pkl')\n"
   ]
  },
  {
   "cell_type": "markdown",
   "metadata": {
    "collapsed": true
   },
   "source": [
    "#### Save partitions"
   ]
  },
  {
   "cell_type": "code",
   "execution_count": 659,
   "metadata": {
    "collapsed": true
   },
   "outputs": [],
   "source": [
    "def train_test_partition(dd, ts_thr=0.30):\n",
    "    y = dd.readmitted\n",
    "    y = y.values\n",
    "    X = dd.iloc[:,:-1].values\n",
    "  \n",
    "    sss = StratifiedShuffleSplit(y, 1, test_size=ts_thr, random_state=32) #random_state=42\n",
    "    for train_index, test_index in sss:\n",
    "        X_train, X_test = X[train_index], X[test_index]\n",
    "        y_train, y_test = y[train_index], y[test_index]\n",
    "        \n",
    "    return X_train, X_test, y_train, y_test"
   ]
  },
  {
   "cell_type": "code",
   "execution_count": 660,
   "metadata": {},
   "outputs": [
    {
     "name": "stdout",
     "output_type": "stream",
     "text": [
      "colsFinal 42 (47027, 41) (20155, 41) (47027,) (20155,)\n",
      "colsFinalExtended 49 (47027, 48) (20155, 48) (47027,) (20155,)\n",
      "colsFinalExtendedExtra 61 (47027, 60) (20155, 60) (47027,) (20155,)\n",
      "diag_1 69 (47027, 68) (20155, 68) (47027,) (20155,)\n"
     ]
    }
   ],
   "source": [
    "import cPickle as pickle\n",
    "\n",
    "path = './resources/partition_prepared_clean_data_' + typeEncounter + \"_\" +  typeDiagnosis\n",
    "\n",
    "for cc in [\"colsFinal\", \"colsFinalExtended\", \"colsFinalExtendedExtra\",\"diag_1\"]:\n",
    "    if cc == \"colsFinal\":\n",
    "        X_train, X_test, y_train, y_test = train_test_partition(df_all[colsFinal])\n",
    "        print cc, len(colsFinal), X_train.shape, X_test.shape, y_train.shape, y_test.shape\n",
    "        \n",
    "    if cc == \"colsFinalExtended\":\n",
    "        X_train, X_test, y_train, y_test = train_test_partition(df_all[colsFinalExtended])\n",
    "        print cc, len(colsFinalExtended), X_train.shape, X_test.shape, y_train.shape, y_test.shape\n",
    "        \n",
    "    if cc == \"colsFinalExtendedExtra\":\n",
    "        X_train, X_test, y_train, y_test = train_test_partition(df_all[colsFinalExtendedExtra])\n",
    "        print cc, len(colsFinalExtendedExtra), X_train.shape, X_test.shape, y_train.shape, y_test.shape\n",
    "\n",
    "    if cc == \"diag_1\":\n",
    "        X_train, X_test, y_train, y_test = train_test_partition(df_all[colsDiag])\n",
    "        print cc, len(colsDiag), X_train.shape, X_test.shape, y_train.shape, y_test.shape\n",
    "        \n",
    "    f = open(path + \"_\" + cc + \".npy\", \"wb\")\n",
    "    pickle.dump(X_train, f)\n",
    "    pickle.dump(X_test, f)\n",
    "    pickle.dump(y_train, f)\n",
    "    pickle.dump(y_test, f)\n",
    "    f.close()"
   ]
  },
  {
   "cell_type": "code",
   "execution_count": 661,
   "metadata": {},
   "outputs": [
    {
     "name": "stdout",
     "output_type": "stream",
     "text": [
      "./resources/partition_prepared_clean_data_last_diag_1_colsFinal.npy\n",
      "colsFinal (47027, 41) (20155, 41) (47027,) (20155,)\n",
      "./resources/partition_prepared_clean_data_last_diag_1_colsFinalExtended.npy\n",
      "colsFinalExtended (47027, 48) (20155, 48) (47027,) (20155,)\n",
      "./resources/partition_prepared_clean_data_last_diag_1_colsFinalExtendedExtra.npy\n",
      "colsFinalExtendedExtra (47027, 60) (20155, 60) (47027,) (20155,)\n",
      "./resources/partition_prepared_clean_data_last_diag_1_diag_1.npy\n",
      "diag_1 (47027, 68) (20155, 68) (47027,) (20155,)\n"
     ]
    }
   ],
   "source": [
    "for cc in [\"colsFinal\", \"colsFinalExtended\", \"colsFinalExtendedExtra\",\"diag_1\"]:\n",
    "    f1 = open(path + \"_\" + cc + \".npy\", \"rb\")\n",
    "    print path + \"_\" + cc + \".npy\"\n",
    "    X_train = pickle.load(f1)\n",
    "    X_test = pickle.load(f1)\n",
    "    y_train = pickle.load(f1)\n",
    "    y_test = pickle.load(f1)\n",
    "    f1.close()\n",
    "    print cc, X_train.shape, X_test.shape, y_train.shape, y_test.shape"
   ]
  },
  {
   "cell_type": "code",
   "execution_count": null,
   "metadata": {
    "collapsed": true
   },
   "outputs": [],
   "source": []
  }
 ],
 "metadata": {
  "kernelspec": {
   "display_name": "Python 2",
   "language": "python",
   "name": "python2"
  },
  "language_info": {
   "codemirror_mode": {
    "name": "ipython",
    "version": 2
   },
   "file_extension": ".py",
   "mimetype": "text/x-python",
   "name": "python",
   "nbconvert_exporter": "python",
   "pygments_lexer": "ipython2",
   "version": "2.7.13"
  }
 },
 "nbformat": 4,
 "nbformat_minor": 2
}
