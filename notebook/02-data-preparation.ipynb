{
 "cells": [
  {
   "cell_type": "code",
   "execution_count": 145,
   "metadata": {
    "collapsed": true
   },
   "outputs": [],
   "source": [
    "#TO RE-RUN\n",
    "%reset -f"
   ]
  },
  {
   "cell_type": "code",
   "execution_count": 146,
   "metadata": {
    "collapsed": true
   },
   "outputs": [],
   "source": [
    "from sklearn import preprocessing\n",
    "from time import time\n",
    "import numpy as np\n",
    "import csv\n",
    "from sklearn import metrics\n",
    "from sklearn.preprocessing import scale\n",
    "from sklearn.feature_selection import VarianceThreshold\n",
    "from sklearn.cross_validation import StratifiedShuffleSplit, cross_val_score\n",
    "\n",
    "from sklearn.svm import SVC\n",
    "from sklearn.svm import LinearSVC\n",
    "from sklearn.neighbors import KNeighborsClassifier\n",
    "from sklearn.linear_model import LogisticRegression\n",
    "from sklearn.ensemble import RandomForestClassifier\n",
    "from sklearn.naive_bayes import BernoulliNB, MultinomialNB, GaussianNB\n",
    "\n",
    "from sklearn.grid_search import GridSearchCV, ParameterGrid\n",
    "from sklearn.preprocessing import StandardScaler\n",
    "\n",
    "from imblearn.over_sampling import SMOTE,ADASYN, RandomOverSampler\n",
    "from imblearn.pipeline import Pipeline\n",
    "from imblearn.pipeline import make_pipeline\n",
    "\n",
    "from operator import truediv\n",
    "from sklearn import metrics\n",
    "import pandas as pd\n",
    "import time\n",
    "import os\n",
    "\n",
    "from pylab import *\n",
    "import seaborn as sns\n",
    "import matplotlib.pyplot as plt\n",
    "\n",
    "\n",
    "np.set_printoptions(suppress=True)\n",
    "pd.options.display.float_format = '{:,.2f}'.format\n",
    "plt.style.use('classic')\n",
    "\n",
    "%matplotlib inline\n",
    "\n",
    "import sys\n",
    "sys.path.insert(1, \"/home/ilmira/healthforecast/readmission/src/\")\n",
    "from TypeFeatImputer import TypeFeatImputer\n",
    "from UnivCombineFilter import UnivCombineFilter"
   ]
  },
  {
   "cell_type": "code",
   "execution_count": 147,
   "metadata": {
    "collapsed": true
   },
   "outputs": [],
   "source": [
    "typeEncounter = \"first\" #[\"last\",\"first\"]"
   ]
  },
  {
   "cell_type": "code",
   "execution_count": 148,
   "metadata": {},
   "outputs": [
    {
     "name": "stdout",
     "output_type": "stream",
     "text": [
      "(71518, 174)\n",
      "['gender', 'age', 'weight', 'time_in_hospital', 'num_lab_procedures', 'num_procedures', 'num_medications', 'number_outpatient', 'number_emergency', 'number_inpatient', 'number_diagnoses', 'max_glu_serum', 'A1Cresult', 'metformin', 'repaglinide', 'nateglinide', 'chlorpropamide', 'glimepiride', 'acetohexamide', 'glipizide', 'glyburide', 'tolbutamide', 'pioglitazone', 'rosiglitazone', 'acarbose', 'miglitol', 'troglitazone', 'tolazamide', 'examide', 'citoglipton', 'insulin', 'glyburide-metformin', 'glipizide-metformin', 'glimepiride-pioglitazone', 'metformin-rosiglitazone', 'metformin-pioglitazone', 'Change', 'diabetesMed', 'Diabetis', 'Infectious and parasitic diseases', 'Neoplasms', 'Endocrine', 'Blood', 'Mental', 'Nervous', 'Organs', 'Circulatory', 'Respiratory', 'Digestive', 'Genitourinary', 'Pregnancy', 'Skin', 'Muscoskeletal', 'Congenital', 'Perinatal', 'Ill-defined', 'medSpec_AllergyandImmunology', 'medSpec_Anesthesiology', 'medSpec_Anesthesiology-Pediatric', 'medSpec_Cardiology', 'medSpec_Cardiology-Pediatric', 'medSpec_DCPTEAM', 'medSpec_Dentistry', 'medSpec_Emergency/Trauma', 'medSpec_Endocrinology', 'medSpec_Endocrinology-Metabolism', 'medSpec_Family/GeneralPractice', 'medSpec_Gastroenterology', 'medSpec_Gynecology', 'medSpec_Hematology', 'medSpec_Hematology/Oncology', 'medSpec_Hospitalist', 'medSpec_InfectiousDiseases', 'medSpec_InternalMedicine', 'medSpec_Nephrology', 'medSpec_Neurology', 'medSpec_Neurophysiology', 'medSpec_Obsterics&Gynecology-GynecologicOnco', 'medSpec_Obstetrics', 'medSpec_ObstetricsandGynecology', 'medSpec_Oncology', 'medSpec_Ophthalmology', 'medSpec_Orthopedics', 'medSpec_Orthopedics-Reconstructive', 'medSpec_Osteopath', 'medSpec_Otolaryngology', 'medSpec_OutreachServices', 'medSpec_Pathology', 'medSpec_Pediatrics', 'medSpec_Pediatrics-AllergyandImmunology', 'medSpec_Pediatrics-CriticalCare', 'medSpec_Pediatrics-EmergencyMedicine', 'medSpec_Pediatrics-Endocrinology', 'medSpec_Pediatrics-Hematology-Oncology', 'medSpec_Pediatrics-InfectiousDiseases', 'medSpec_Pediatrics-Neurology', 'medSpec_Pediatrics-Pulmonology', 'medSpec_Perinatology', 'medSpec_PhysicalMedicineandRehabilitation', 'medSpec_PhysicianNotFound', 'medSpec_Podiatry', 'medSpec_Proctology', 'medSpec_Psychiatry', 'medSpec_Psychiatry-Addictive', 'medSpec_Psychiatry-Child/Adolescent', 'medSpec_Psychology', 'medSpec_Pulmonology', 'medSpec_Radiologist', 'medSpec_Radiology', 'medSpec_Resident', 'medSpec_Rheumatology', 'medSpec_Speech', 'medSpec_SportsMedicine', 'medSpec_Surgeon', 'medSpec_Surgery-Cardiovascular', 'medSpec_Surgery-Cardiovascular/Thoracic', 'medSpec_Surgery-Colon&Rectal', 'medSpec_Surgery-General', 'medSpec_Surgery-Maxillofacial', 'medSpec_Surgery-Neuro', 'medSpec_Surgery-Pediatric', 'medSpec_Surgery-Plastic', 'medSpec_Surgery-Thoracic', 'medSpec_Surgery-Vascular', 'medSpec_SurgicalSpecialty', 'medSpec_Urology', 'race_AfricanAmerican', 'race_Asian', 'race_Caucasian', 'race_Hispanic', 'race_Other', 'adm_1', 'adm_2', 'adm_3', 'adm_4', 'adm_7', 'adm_src_1', 'adm_src_2', 'adm_src_3', 'adm_src_4', 'adm_src_5', 'adm_src_6', 'adm_src_7', 'adm_src_8', 'adm_src_10', 'adm_src_11', 'adm_src_13', 'adm_src_14', 'adm_src_22', 'adm_src_25', 'diss_1', 'diss_2', 'diss_3', 'diss_4', 'diss_5', 'diss_6', 'diss_7', 'diss_8', 'diss_9', 'diss_10', 'diss_12', 'diss_13', 'diss_14', 'diss_15', 'diss_16', 'diss_17', 'diss_22', 'diss_23', 'diss_24', 'diss_27', 'diss_28', 'Poisoning', 'External_causes', 'readmitted']\n",
      "0    54374\n",
      "2    13920\n",
      "1     3224\n",
      "Name: readmitted, dtype: int64\n",
      "0   0.76\n",
      "2   0.19\n",
      "1   0.05\n",
      "Name: readmitted, dtype: float64\n"
     ]
    }
   ],
   "source": [
    "#df_all=pd.read_csv(os.path.join('resources','diabetic_data_processed_withweight.csv'),';')\n",
    "df_all=pd.read_pickle(os.path.join('resources','clean_data_' + typeEncounter + '.pkl'))\n",
    "print df_all.shape\n",
    "print df_all.columns.tolist()\n",
    "print df_all.readmitted.value_counts()\n",
    "print df_all.readmitted.value_counts()/float(df_all.shape[0])"
   ]
  },
  {
   "cell_type": "markdown",
   "metadata": {},
   "source": [
    "### Features preparation"
   ]
  },
  {
   "cell_type": "code",
   "execution_count": 149,
   "metadata": {},
   "outputs": [
    {
     "name": "stderr",
     "output_type": "stream",
     "text": [
      "/home/ilmira/.conda/envs/readmision/lib/python2.7/site-packages/ipykernel_launcher.py:2: SettingWithCopyWarning: \n",
      "A value is trying to be set on a copy of a slice from a DataFrame\n",
      "\n",
      "See the caveats in the documentation: http://pandas.pydata.org/pandas-docs/stable/indexing.html#indexing-view-versus-copy\n",
      "  \n",
      "/home/ilmira/.conda/envs/readmision/lib/python2.7/site-packages/ipykernel_launcher.py:3: SettingWithCopyWarning: \n",
      "A value is trying to be set on a copy of a slice from a DataFrame\n",
      "\n",
      "See the caveats in the documentation: http://pandas.pydata.org/pandas-docs/stable/indexing.html#indexing-view-versus-copy\n",
      "  This is separate from the ipykernel package so we can avoid doing imports until\n",
      "/home/ilmira/.conda/envs/readmision/lib/python2.7/site-packages/ipykernel_launcher.py:4: SettingWithCopyWarning: \n",
      "A value is trying to be set on a copy of a slice from a DataFrame\n",
      "\n",
      "See the caveats in the documentation: http://pandas.pydata.org/pandas-docs/stable/indexing.html#indexing-view-versus-copy\n",
      "  after removing the cwd from sys.path.\n",
      "/home/ilmira/.conda/envs/readmision/lib/python2.7/site-packages/ipykernel_launcher.py:5: SettingWithCopyWarning: \n",
      "A value is trying to be set on a copy of a slice from a DataFrame\n",
      "\n",
      "See the caveats in the documentation: http://pandas.pydata.org/pandas-docs/stable/indexing.html#indexing-view-versus-copy\n",
      "  \"\"\"\n"
     ]
    },
    {
     "data": {
      "text/plain": [
       "0    56130\n",
       "3     7271\n",
       "1     4642\n",
       "2     3475\n",
       "Name: HbA1c, dtype: int64"
      ]
     },
     "execution_count": 149,
     "metadata": {},
     "output_type": "execute_result"
    }
   ],
   "source": [
    "df_all[\"HbA1c\"] = -1\n",
    "df_all[\"HbA1c\"][df_all.A1Cresult == 2] = 3\n",
    "df_all[\"HbA1c\"][df_all.A1Cresult == 1] = 2\n",
    "df_all[\"HbA1c\"][df_all.A1Cresult == 0] = 1\n",
    "df_all[\"HbA1c\"][df_all.A1Cresult.isnull()] = 0\n",
    "\n",
    "pd.value_counts(df_all.HbA1c)"
   ]
  },
  {
   "cell_type": "code",
   "execution_count": 150,
   "metadata": {},
   "outputs": [
    {
     "name": "stdout",
     "output_type": "stream",
     "text": [
      "1    37663\n",
      "2    32066\n",
      "0     1789\n",
      "Name: age_cat, dtype: int64\n"
     ]
    },
    {
     "name": "stderr",
     "output_type": "stream",
     "text": [
      "/home/ilmira/.conda/envs/readmision/lib/python2.7/site-packages/ipykernel_launcher.py:2: SettingWithCopyWarning: \n",
      "A value is trying to be set on a copy of a slice from a DataFrame\n",
      "\n",
      "See the caveats in the documentation: http://pandas.pydata.org/pandas-docs/stable/indexing.html#indexing-view-versus-copy\n",
      "  \n",
      "/home/ilmira/.conda/envs/readmision/lib/python2.7/site-packages/ipykernel_launcher.py:3: SettingWithCopyWarning: \n",
      "A value is trying to be set on a copy of a slice from a DataFrame\n",
      "\n",
      "See the caveats in the documentation: http://pandas.pydata.org/pandas-docs/stable/indexing.html#indexing-view-versus-copy\n",
      "  This is separate from the ipykernel package so we can avoid doing imports until\n",
      "/home/ilmira/.conda/envs/readmision/lib/python2.7/site-packages/ipykernel_launcher.py:4: SettingWithCopyWarning: \n",
      "A value is trying to be set on a copy of a slice from a DataFrame\n",
      "\n",
      "See the caveats in the documentation: http://pandas.pydata.org/pandas-docs/stable/indexing.html#indexing-view-versus-copy\n",
      "  after removing the cwd from sys.path.\n"
     ]
    }
   ],
   "source": [
    "df_all[\"age_cat\"] = -1\n",
    "df_all[\"age_cat\"][df_all.age.isin([0,1,2])] = 0\n",
    "df_all[\"age_cat\"][df_all.age.isin([3,4,5,6])] = 1\n",
    "df_all[\"age_cat\"][df_all.age.isin([7,8,9,10])] = 2\n",
    "\n",
    "print pd.value_counts(df_all[\"age_cat\"])"
   ]
  },
  {
   "cell_type": "code",
   "execution_count": 151,
   "metadata": {},
   "outputs": [
    {
     "name": "stdout",
     "output_type": "stream",
     "text": [
      "False    49132\n",
      "True     22386\n",
      "Name: adm_src_ref, dtype: int64\n",
      "1    38844\n",
      "0    32674\n",
      "Name: adm_src_em, dtype: int64\n"
     ]
    }
   ],
   "source": [
    "df_all[\"adm_src_ref\"] = np.sum(df_all[[\"adm_src_1\",\"adm_src_2\",\"adm_src_3\"]].values,axis=1)>0\n",
    "df_all[\"adm_src_em\"] = df_all[\"adm_src_7\"].values\n",
    "\n",
    "print pd.value_counts(df_all[\"adm_src_ref\"])\n",
    "print pd.value_counts(df_all[\"adm_src_em\"])"
   ]
  },
  {
   "cell_type": "code",
   "execution_count": 152,
   "metadata": {},
   "outputs": [
    {
     "data": {
      "text/plain": [
       "False    67140\n",
       "True      4378\n",
       "Name: medSpec_cardio, dtype: int64"
      ]
     },
     "execution_count": 152,
     "metadata": {},
     "output_type": "execute_result"
    }
   ],
   "source": [
    "df_all[\"medSpec_cardio\"] = np.sum(\n",
    "    df_all[['medSpec_Cardiology', 'medSpec_Cardiology-Pediatric']], axis=1)>0\n",
    "\n",
    "pd.value_counts(df_all[\"medSpec_cardio\"])"
   ]
  },
  {
   "cell_type": "code",
   "execution_count": 153,
   "metadata": {},
   "outputs": [
    {
     "data": {
      "text/plain": [
       "False    66968\n",
       "True      4550\n",
       "Name: medSpec_surgery, dtype: int64"
      ]
     },
     "execution_count": 153,
     "metadata": {},
     "output_type": "execute_result"
    }
   ],
   "source": [
    "df_all[\"medSpec_surgery\"] = np.sum(\n",
    "    df_all[['medSpec_Surgeon', 'medSpec_Surgery-Cardiovascular', 'medSpec_Surgery-Cardiovascular/Thoracic', \n",
    "            'medSpec_Surgery-Colon&Rectal', 'medSpec_Surgery-General', 'medSpec_Surgery-Maxillofacial', \n",
    "            'medSpec_Surgery-Neuro', 'medSpec_Surgery-Pediatric', 'medSpec_Surgery-Plastic', \n",
    "            'medSpec_Surgery-Thoracic', 'medSpec_Surgery-Vascular', \n",
    "            'medSpec_SurgicalSpecialty', 'medSpec_Urology']], axis=1)>0\n",
    "\n",
    "pd.value_counts(df_all[\"medSpec_surgery\"])"
   ]
  },
  {
   "cell_type": "code",
   "execution_count": 154,
   "metadata": {
    "collapsed": true
   },
   "outputs": [],
   "source": [
    "cols = [\"diss_1\",\n",
    "        \"race_AfricanAmerican\",\"race_Caucasian\",\"race_Other\",\n",
    "        \"medSpec_cardio\",\"medSpec_Family/GeneralPractice\",\"medSpec_InternalMedicine\",\"medSpec_surgery\",\n",
    "        \"age_cat\",\n",
    "        \"Diabetis\",\"Circulatory\",'Digestive','Genitourinary','Poisoning','Muscoskeletal','Neoplasms','Respiratory',\n",
    "        'HbA1c',\n",
    "        \"Change\",\n",
    "        'time_in_hospital'        \n",
    "       ]"
   ]
  },
  {
   "cell_type": "code",
   "execution_count": 155,
   "metadata": {},
   "outputs": [
    {
     "name": "stdout",
     "output_type": "stream",
     "text": [
      "21 28\n"
     ]
    }
   ],
   "source": [
    "colsExtended = cols[:]\n",
    "colsExtended.extend(['num_lab_procedures', 'num_procedures', 'num_medications', 'number_outpatient', \n",
    "            'number_emergency', 'number_inpatient', 'number_diagnoses',\"readmitted\"])\n",
    "cols.extend([\"readmitted\"])\n",
    "\n",
    "\n",
    "print len(cols), len(colsExtended)"
   ]
  },
  {
   "cell_type": "markdown",
   "metadata": {},
   "source": [
    "#### Save"
   ]
  },
  {
   "cell_type": "code",
   "execution_count": 157,
   "metadata": {},
   "outputs": [
    {
     "name": "stdout",
     "output_type": "stream",
     "text": [
      "first (71518, 21)\n"
     ]
    }
   ],
   "source": [
    "print typeEncounter, df_all[cols].shape\n",
    "df_all[cols].to_pickle(os.path.join('resources','clean_data_' + typeEncounter + '_hyp_1.pkl'))"
   ]
  },
  {
   "cell_type": "code",
   "execution_count": 156,
   "metadata": {},
   "outputs": [
    {
     "name": "stdout",
     "output_type": "stream",
     "text": [
      "first (71518, 28)\n"
     ]
    }
   ],
   "source": [
    "print typeEncounter,df_all[colsExtended].shape\n",
    "df_all[colsExtended].to_pickle(os.path.join('resources','clean_data_' + typeEncounter + '_hyp_1_extended.pkl'))"
   ]
  },
  {
   "cell_type": "code",
   "execution_count": null,
   "metadata": {
    "collapsed": true
   },
   "outputs": [],
   "source": []
  }
 ],
 "metadata": {
  "kernelspec": {
   "display_name": "Python 2",
   "language": "python",
   "name": "python2"
  },
  "language_info": {
   "codemirror_mode": {
    "name": "ipython",
    "version": 2
   },
   "file_extension": ".py",
   "mimetype": "text/x-python",
   "name": "python",
   "nbconvert_exporter": "python",
   "pygments_lexer": "ipython2",
   "version": "2.7.13"
  }
 },
 "nbformat": 4,
 "nbformat_minor": 2
}
