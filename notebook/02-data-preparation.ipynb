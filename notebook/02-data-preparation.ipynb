{
 "cells": [
  {
   "cell_type": "code",
   "execution_count": 338,
   "metadata": {
    "collapsed": true
   },
   "outputs": [],
   "source": [
    "#TO RE-RUN\n",
    "%reset -f"
   ]
  },
  {
   "cell_type": "code",
   "execution_count": 339,
   "metadata": {
    "collapsed": true
   },
   "outputs": [],
   "source": [
    "from sklearn import preprocessing\n",
    "from time import time\n",
    "import numpy as np\n",
    "import csv\n",
    "from sklearn import metrics\n",
    "from sklearn.preprocessing import scale\n",
    "from sklearn.feature_selection import VarianceThreshold\n",
    "from sklearn.cross_validation import StratifiedShuffleSplit, cross_val_score\n",
    "\n",
    "from sklearn.svm import SVC\n",
    "from sklearn.svm import LinearSVC\n",
    "from sklearn.neighbors import KNeighborsClassifier\n",
    "from sklearn.linear_model import LogisticRegression\n",
    "from sklearn.ensemble import RandomForestClassifier\n",
    "from sklearn.naive_bayes import BernoulliNB, MultinomialNB, GaussianNB\n",
    "\n",
    "from sklearn.grid_search import GridSearchCV, ParameterGrid\n",
    "from sklearn.preprocessing import StandardScaler\n",
    "\n",
    "from imblearn.over_sampling import SMOTE,ADASYN, RandomOverSampler\n",
    "from imblearn.pipeline import Pipeline\n",
    "from imblearn.pipeline import make_pipeline\n",
    "\n",
    "from operator import truediv\n",
    "from sklearn import metrics\n",
    "import pandas as pd\n",
    "import time\n",
    "import os\n",
    "\n",
    "from pylab import *\n",
    "import seaborn as sns\n",
    "import matplotlib.pyplot as plt\n",
    "\n",
    "\n",
    "np.set_printoptions(suppress=True)\n",
    "pd.options.display.float_format = '{:,.2f}'.format\n",
    "plt.style.use('classic')\n",
    "\n",
    "%matplotlib inline\n",
    "\n",
    "import sys\n",
    "sys.path.insert(1, \"../../src/\")\n",
    "from TypeFeatImputer import TypeFeatImputer\n",
    "from UnivCombineFilter import UnivCombineFilter"
   ]
  },
  {
   "cell_type": "code",
   "execution_count": 355,
   "metadata": {
    "collapsed": true
   },
   "outputs": [],
   "source": [
    "typeEncounter = \"last\" #[\"last\",\"first\"]"
   ]
  },
  {
   "cell_type": "code",
   "execution_count": 356,
   "metadata": {
    "collapsed": true
   },
   "outputs": [],
   "source": [
    "typeDiagnosis = \"none\" #[\"diag_1\", \"diag_3\", none]"
   ]
  },
  {
   "cell_type": "code",
   "execution_count": 357,
   "metadata": {},
   "outputs": [
    {
     "name": "stdout",
     "output_type": "stream",
     "text": [
      "(67182, 194)\n",
      "['gender', 'age', 'weight', 'time_in_hospital', 'num_lab_procedures', 'num_procedures', 'num_medications', 'number_outpatient', 'number_emergency', 'number_inpatient', 'number_diagnoses', 'max_glu_serum', 'A1Cresult', 'metformin', 'repaglinide', 'nateglinide', 'chlorpropamide', 'glimepiride', 'acetohexamide', 'glipizide', 'glyburide', 'tolbutamide', 'pioglitazone', 'rosiglitazone', 'acarbose', 'miglitol', 'troglitazone', 'tolazamide', 'examide', 'citoglipton', 'insulin', 'glyburide-metformin', 'glipizide-metformin', 'glimepiride-pioglitazone', 'metformin-rosiglitazone', 'metformin-pioglitazone', 'Change', 'diabetesMed', 'Diabetis_3', 'Infectious and parasitic diseases_3', 'Neoplasms_3', 'Endocrine_3', 'Blood_3', 'Mental_3', 'Nervous_3', 'Organs_3', 'Circulatory_3', 'Respiratory_3', 'Digestive_3', 'Genitourinary_3', 'Pregnancy_3', 'Skin_3', 'Muscoskeletal_3', 'Congenital_3', 'Perinatal_3', 'Ill-defined_3', 'Poisoning_3', 'Diabetis_1', 'Infectious and parasitic diseases_1', 'Neoplasms_1', 'Endocrine_1', 'Blood_1', 'Mental_1', 'Nervous_1', 'Organs_1', 'Circulatory_1', 'Respiratory_1', 'Digestive_1', 'Genitourinary_1', 'Pregnancy_1', 'Skin_1', 'Muscoskeletal_1', 'Congenital_1', 'Perinatal_1', 'Ill-defined_1', 'medSpec_AllergyandImmunology', 'medSpec_Anesthesiology', 'medSpec_Anesthesiology-Pediatric', 'medSpec_Cardiology', 'medSpec_Cardiology-Pediatric', 'medSpec_DCPTEAM', 'medSpec_Dentistry', 'medSpec_Dermatology', 'medSpec_Emergency/Trauma', 'medSpec_Endocrinology', 'medSpec_Endocrinology-Metabolism', 'medSpec_Family/GeneralPractice', 'medSpec_Gastroenterology', 'medSpec_Gynecology', 'medSpec_Hematology', 'medSpec_Hematology/Oncology', 'medSpec_Hospitalist', 'medSpec_InfectiousDiseases', 'medSpec_InternalMedicine', 'medSpec_Nephrology', 'medSpec_Neurology', 'medSpec_Neurophysiology', 'medSpec_Obsterics&Gynecology-GynecologicOnco', 'medSpec_Obstetrics', 'medSpec_ObstetricsandGynecology', 'medSpec_Oncology', 'medSpec_Ophthalmology', 'medSpec_Orthopedics', 'medSpec_Orthopedics-Reconstructive', 'medSpec_Osteopath', 'medSpec_Otolaryngology', 'medSpec_OutreachServices', 'medSpec_Pathology', 'medSpec_Pediatrics', 'medSpec_Pediatrics-CriticalCare', 'medSpec_Pediatrics-EmergencyMedicine', 'medSpec_Pediatrics-Endocrinology', 'medSpec_Pediatrics-Hematology-Oncology', 'medSpec_Pediatrics-Neurology', 'medSpec_Pediatrics-Pulmonology', 'medSpec_Perinatology', 'medSpec_PhysicalMedicineandRehabilitation', 'medSpec_PhysicianNotFound', 'medSpec_Podiatry', 'medSpec_Proctology', 'medSpec_Psychiatry', 'medSpec_Psychiatry-Addictive', 'medSpec_Psychiatry-Child/Adolescent', 'medSpec_Psychology', 'medSpec_Pulmonology', 'medSpec_Radiologist', 'medSpec_Radiology', 'medSpec_Resident', 'medSpec_Rheumatology', 'medSpec_Speech', 'medSpec_SportsMedicine', 'medSpec_Surgeon', 'medSpec_Surgery-Cardiovascular', 'medSpec_Surgery-Cardiovascular/Thoracic', 'medSpec_Surgery-Colon&Rectal', 'medSpec_Surgery-General', 'medSpec_Surgery-Maxillofacial', 'medSpec_Surgery-Neuro', 'medSpec_Surgery-Pediatric', 'medSpec_Surgery-Plastic', 'medSpec_Surgery-PlasticwithinHeadandNeck', 'medSpec_Surgery-Thoracic', 'medSpec_Surgery-Vascular', 'medSpec_SurgicalSpecialty', 'medSpec_Urology', 'race_AfricanAmerican', 'race_Asian', 'race_Caucasian', 'race_Hispanic', 'race_Other', 'adm_1', 'adm_2', 'adm_3', 'adm_4', 'adm_7', 'adm_src_1', 'adm_src_2', 'adm_src_3', 'adm_src_4', 'adm_src_5', 'adm_src_6', 'adm_src_7', 'adm_src_8', 'adm_src_10', 'adm_src_11', 'adm_src_13', 'adm_src_14', 'adm_src_22', 'adm_src_25', 'diss_1', 'diss_2', 'diss_3', 'diss_4', 'diss_5', 'diss_6', 'diss_7', 'diss_8', 'diss_9', 'diss_10', 'diss_12', 'diss_13', 'diss_14', 'diss_15', 'diss_16', 'diss_17', 'diss_22', 'diss_23', 'diss_24', 'diss_27', 'diss_28', 'Poisoning_1', 'External_causes_1', 'External_causes_3', 'readmitted']\n",
      "0    39785\n",
      "2    21403\n",
      "1     5994\n",
      "Name: readmitted, dtype: int64\n",
      "0   0.59\n",
      "2   0.32\n",
      "1   0.09\n",
      "Name: readmitted, dtype: float64\n"
     ]
    }
   ],
   "source": [
    "#df_all=pd.read_csv(os.path.join('resources','diabetic_data_processed_withweight.csv'),';')\n",
    "df_all=pd.read_pickle(os.path.join('resources','clean_data_' + typeEncounter + '.pkl'))\n",
    "print df_all.shape\n",
    "print df_all.columns.tolist()\n",
    "print df_all.readmitted.value_counts()\n",
    "print df_all.readmitted.value_counts()/float(df_all.shape[0])"
   ]
  },
  {
   "cell_type": "markdown",
   "metadata": {},
   "source": [
    "### Features preparation"
   ]
  },
  {
   "cell_type": "code",
   "execution_count": 358,
   "metadata": {},
   "outputs": [
    {
     "name": "stderr",
     "output_type": "stream",
     "text": [
      "/home/ilmira/.conda/envs/readmision/lib/python2.7/site-packages/ipykernel_launcher.py:2: SettingWithCopyWarning: \n",
      "A value is trying to be set on a copy of a slice from a DataFrame\n",
      "\n",
      "See the caveats in the documentation: http://pandas.pydata.org/pandas-docs/stable/indexing.html#indexing-view-versus-copy\n",
      "  \n",
      "/home/ilmira/.conda/envs/readmision/lib/python2.7/site-packages/ipykernel_launcher.py:3: SettingWithCopyWarning: \n",
      "A value is trying to be set on a copy of a slice from a DataFrame\n",
      "\n",
      "See the caveats in the documentation: http://pandas.pydata.org/pandas-docs/stable/indexing.html#indexing-view-versus-copy\n",
      "  This is separate from the ipykernel package so we can avoid doing imports until\n",
      "/home/ilmira/.conda/envs/readmision/lib/python2.7/site-packages/ipykernel_launcher.py:4: SettingWithCopyWarning: \n",
      "A value is trying to be set on a copy of a slice from a DataFrame\n",
      "\n",
      "See the caveats in the documentation: http://pandas.pydata.org/pandas-docs/stable/indexing.html#indexing-view-versus-copy\n",
      "  after removing the cwd from sys.path.\n",
      "/home/ilmira/.conda/envs/readmision/lib/python2.7/site-packages/ipykernel_launcher.py:5: SettingWithCopyWarning: \n",
      "A value is trying to be set on a copy of a slice from a DataFrame\n",
      "\n",
      "See the caveats in the documentation: http://pandas.pydata.org/pandas-docs/stable/indexing.html#indexing-view-versus-copy\n",
      "  \"\"\"\n"
     ]
    },
    {
     "data": {
      "text/plain": [
       "0    52657\n",
       "3     6833\n",
       "1     4397\n",
       "2     3295\n",
       "Name: HbA1c, dtype: int64"
      ]
     },
     "execution_count": 358,
     "metadata": {},
     "output_type": "execute_result"
    }
   ],
   "source": [
    "df_all[\"HbA1c\"] = -1\n",
    "df_all[\"HbA1c\"][df_all.A1Cresult == 2] = 3\n",
    "df_all[\"HbA1c\"][df_all.A1Cresult == 1] = 2\n",
    "df_all[\"HbA1c\"][df_all.A1Cresult == 0] = 1\n",
    "df_all[\"HbA1c\"][df_all.A1Cresult.isnull()] = 0\n",
    "\n",
    "pd.value_counts(df_all.HbA1c)"
   ]
  },
  {
   "cell_type": "code",
   "execution_count": 359,
   "metadata": {},
   "outputs": [
    {
     "name": "stdout",
     "output_type": "stream",
     "text": [
      "1    35869\n",
      "2    29571\n",
      "0     1742\n",
      "Name: age_cat, dtype: int64\n"
     ]
    },
    {
     "name": "stderr",
     "output_type": "stream",
     "text": [
      "/home/ilmira/.conda/envs/readmision/lib/python2.7/site-packages/ipykernel_launcher.py:3: SettingWithCopyWarning: \n",
      "A value is trying to be set on a copy of a slice from a DataFrame\n",
      "\n",
      "See the caveats in the documentation: http://pandas.pydata.org/pandas-docs/stable/indexing.html#indexing-view-versus-copy\n",
      "  This is separate from the ipykernel package so we can avoid doing imports until\n",
      "/home/ilmira/.conda/envs/readmision/lib/python2.7/site-packages/ipykernel_launcher.py:4: SettingWithCopyWarning: \n",
      "A value is trying to be set on a copy of a slice from a DataFrame\n",
      "\n",
      "See the caveats in the documentation: http://pandas.pydata.org/pandas-docs/stable/indexing.html#indexing-view-versus-copy\n",
      "  after removing the cwd from sys.path.\n",
      "/home/ilmira/.conda/envs/readmision/lib/python2.7/site-packages/ipykernel_launcher.py:5: SettingWithCopyWarning: \n",
      "A value is trying to be set on a copy of a slice from a DataFrame\n",
      "\n",
      "See the caveats in the documentation: http://pandas.pydata.org/pandas-docs/stable/indexing.html#indexing-view-versus-copy\n",
      "  \"\"\"\n"
     ]
    }
   ],
   "source": [
    "#Not useful\n",
    "df_all[\"age_cat\"] = -1\n",
    "df_all[\"age_cat\"][df_all.age.isin([0,1,2])] = 0\n",
    "df_all[\"age_cat\"][df_all.age.isin([3,4,5,6])] = 1\n",
    "df_all[\"age_cat\"][df_all.age.isin([7,8,9,10])] = 2\n",
    "\n",
    "print pd.value_counts(df_all[\"age_cat\"])"
   ]
  },
  {
   "cell_type": "code",
   "execution_count": 360,
   "metadata": {},
   "outputs": [
    {
     "name": "stdout",
     "output_type": "stream",
     "text": [
      "False    45345\n",
      "True     21837\n",
      "Name: adm_src_ref, dtype: int64\n",
      "1    36050\n",
      "0    31132\n",
      "Name: adm_src_em, dtype: int64\n"
     ]
    }
   ],
   "source": [
    "#Not useful\n",
    "df_all[\"adm_src_ref\"] = np.sum(df_all[[\"adm_src_1\",\"adm_src_2\",\"adm_src_3\"]].values,axis=1)>0\n",
    "df_all[\"adm_src_em\"] = df_all[\"adm_src_7\"].values\n",
    "\n",
    "print pd.value_counts(df_all[\"adm_src_ref\"])\n",
    "print pd.value_counts(df_all[\"adm_src_em\"])"
   ]
  },
  {
   "cell_type": "code",
   "execution_count": 361,
   "metadata": {},
   "outputs": [
    {
     "data": {
      "text/plain": [
       "False    62857\n",
       "True      4325\n",
       "Name: medSpec_cardio, dtype: int64"
      ]
     },
     "execution_count": 361,
     "metadata": {},
     "output_type": "execute_result"
    }
   ],
   "source": [
    "df_all[\"medSpec_cardio\"] = np.sum(\n",
    "    df_all[['medSpec_Cardiology', 'medSpec_Cardiology-Pediatric']], axis=1)>0\n",
    "\n",
    "pd.value_counts(df_all[\"medSpec_cardio\"])"
   ]
  },
  {
   "cell_type": "code",
   "execution_count": 362,
   "metadata": {},
   "outputs": [
    {
     "data": {
      "text/plain": [
       "False    62870\n",
       "True      4312\n",
       "Name: medSpec_surgery, dtype: int64"
      ]
     },
     "execution_count": 362,
     "metadata": {},
     "output_type": "execute_result"
    }
   ],
   "source": [
    "df_all[\"medSpec_surgery\"] = np.sum(\n",
    "    df_all[['medSpec_Surgeon', 'medSpec_Surgery-Cardiovascular', 'medSpec_Surgery-Cardiovascular/Thoracic', \n",
    "            'medSpec_Surgery-Colon&Rectal', 'medSpec_Surgery-General', 'medSpec_Surgery-Maxillofacial', \n",
    "            'medSpec_Surgery-Neuro', 'medSpec_Surgery-Pediatric', 'medSpec_Surgery-Plastic', \n",
    "            'medSpec_Surgery-Thoracic', 'medSpec_Surgery-Vascular', \n",
    "            'medSpec_SurgicalSpecialty', 'medSpec_Urology']], axis=1)>0\n",
    "\n",
    "pd.value_counts(df_all[\"medSpec_surgery\"])"
   ]
  },
  {
   "cell_type": "code",
   "execution_count": 363,
   "metadata": {},
   "outputs": [
    {
     "name": "stdout",
     "output_type": "stream",
     "text": [
      "[ 0  1  2  3  4  5  6  7  8  9 10 11 12 13]\n",
      "2     20971\n",
      "0     15699\n",
      "4     10374\n",
      "3      6594\n",
      "1      4655\n",
      "6      3494\n",
      "5      3122\n",
      "7      1268\n",
      "8       678\n",
      "9       230\n",
      "10       68\n",
      "11       21\n",
      "12        7\n",
      "13        1\n",
      "Name: number_treatment, dtype: int64\n"
     ]
    }
   ],
   "source": [
    "df_all[\"number_treatment\"] = -1\n",
    "df_all[\"number_treatment\"] = np.sum(df_all[[ u'metformin', u'repaglinide', u'nateglinide',\n",
    "       u'chlorpropamide', u'glimepiride', u'acetohexamide', u'glipizide',\n",
    "       u'glyburide', u'tolbutamide', u'pioglitazone', u'rosiglitazone',\n",
    "       u'acarbose', u'miglitol', u'troglitazone', u'tolazamide', u'examide',\n",
    "       u'citoglipton', u'insulin', u'glyburide-metformin',\n",
    "       u'glipizide-metformin', u'glimepiride-pioglitazone',\n",
    "       u'metformin-rosiglitazone', u'metformin-pioglitazone']], axis=1)\n",
    "\n",
    "print np.unique(df_all[\"number_treatment\"])\n",
    "print pd.value_counts(df_all[\"number_treatment\"])"
   ]
  },
  {
   "cell_type": "code",
   "execution_count": 364,
   "metadata": {},
   "outputs": [
    {
     "name": "stdout",
     "output_type": "stream",
     "text": [
      "(67182, 201)\n",
      "1    44560\n",
      "0    22622\n",
      "Name: diss_home, dtype: int64\n"
     ]
    }
   ],
   "source": [
    "print df_all.shape\n",
    "\n",
    "df_all[\"diss_home\"] = -1\n",
    "df_all[\"diss_home\"] = np.sum(\n",
    "                    df_all[['diss_1','diss_13']], axis=1)\n",
    "\n",
    "print pd.value_counts(df_all[\"diss_home\"])"
   ]
  },
  {
   "cell_type": "code",
   "execution_count": 365,
   "metadata": {},
   "outputs": [
    {
     "name": "stdout",
     "output_type": "stream",
     "text": [
      "41 48\n"
     ]
    }
   ],
   "source": [
    "colsFinal = ['gender', 'age',\"race_AfricanAmerican\",\"race_Caucasian\",\"race_Other\", 'HbA1c',\"Change\",\n",
    "             'time_in_hospital',\n",
    "             \"medSpec_cardio\",\"medSpec_Family/GeneralPractice\",\"medSpec_InternalMedicine\",\"medSpec_surgery\",\n",
    "             \"number_treatment\",\n",
    "             'adm_src_1', 'adm_src_2', 'adm_src_3', 'adm_src_4', 'adm_src_5', 'adm_src_6', 'adm_src_7', 'adm_src_8', 'adm_src_10', \n",
    "             'adm_src_11', 'adm_src_13', 'adm_src_14', 'adm_src_22', 'adm_src_25',\n",
    "              u'adm_1', u'adm_2', u'adm_3', u'adm_4', u'adm_7',\n",
    "              \"diss_home\",'num_lab_procedures', 'num_procedures', 'num_medications', 'number_outpatient', \n",
    "            'number_emergency', 'number_inpatient', 'number_diagnoses']\n",
    "\n",
    "colsFinalExtended = colsFinal[:]\n",
    "colsFinalExtended.extend([\"insulin\",\"metformin\",\"pioglitazone\",\"glimepiride\",\"glipizide\",\"repaglinide\",\"nateglinide\"])\n",
    "\n",
    "colsFinal.extend([\"readmitted\"])\n",
    "colsFinalExtended.extend([\"readmitted\"])\n",
    "\n",
    "print len(colsFinal), len(colsFinalExtended)"
   ]
  },
  {
   "cell_type": "markdown",
   "metadata": {},
   "source": [
    "#### Save"
   ]
  },
  {
   "cell_type": "code",
   "execution_count": 369,
   "metadata": {},
   "outputs": [
    {
     "name": "stdout",
     "output_type": "stream",
     "text": [
      "last (67182, 41)\n",
      "prepared_clean_data_last_none.pkl\n"
     ]
    }
   ],
   "source": [
    "print typeEncounter,df_all[colsFinal].shape\n",
    "df_all[colsFinal].to_pickle(os.path.join('resources','prepared_clean_data_' + typeEncounter + \"_\" +  typeDiagnosis  + '.pkl'))\n",
    "print 'prepared_clean_data_' + typeEncounter + \"_\" +  typeDiagnosis  + '.pkl'"
   ]
  },
  {
   "cell_type": "code",
   "execution_count": 370,
   "metadata": {},
   "outputs": [
    {
     "name": "stdout",
     "output_type": "stream",
     "text": [
      "last (67182, 48)\n",
      "prepared_clean_data_last_none_extended.pkl\n"
     ]
    }
   ],
   "source": [
    "print typeEncounter,df_all[colsFinalExtended].shape\n",
    "df_all[colsFinalExtended].to_pickle(os.path.join('resources','prepared_clean_data_' + typeEncounter + \"_\" +  typeDiagnosis + \"_extended\"   + '.pkl'))\n",
    "print 'prepared_clean_data_' + typeEncounter + \"_\" +  typeDiagnosis + \"_extended\"  + '.pkl'"
   ]
  },
  {
   "cell_type": "code",
   "execution_count": 371,
   "metadata": {},
   "outputs": [
    {
     "name": "stdout",
     "output_type": "stream",
     "text": [
      "['gender', 'age', 'race_AfricanAmerican', 'race_Caucasian', 'race_Other', 'HbA1c', 'Change', 'time_in_hospital', 'medSpec_cardio', 'medSpec_Family/GeneralPractice', 'medSpec_InternalMedicine', 'medSpec_surgery', 'number_treatment', 'adm_src_1', 'adm_src_2', 'adm_src_3', 'adm_src_4', 'adm_src_5', 'adm_src_6', 'adm_src_7', 'adm_src_8', 'adm_src_10', 'adm_src_11', 'adm_src_13', 'adm_src_14', 'adm_src_22', 'adm_src_25', u'adm_1', u'adm_2', u'adm_3', u'adm_4', u'adm_7', 'diss_home', 'num_lab_procedures', 'num_procedures', 'num_medications', 'number_outpatient', 'number_emergency', 'number_inpatient', 'number_diagnoses', 'readmitted']\n",
      "\n",
      "['gender', 'age', 'race_AfricanAmerican', 'race_Caucasian', 'race_Other', 'HbA1c', 'Change', 'time_in_hospital', 'medSpec_cardio', 'medSpec_Family/GeneralPractice', 'medSpec_InternalMedicine', 'medSpec_surgery', 'number_treatment', 'adm_src_1', 'adm_src_2', 'adm_src_3', 'adm_src_4', 'adm_src_5', 'adm_src_6', 'adm_src_7', 'adm_src_8', 'adm_src_10', 'adm_src_11', 'adm_src_13', 'adm_src_14', 'adm_src_22', 'adm_src_25', u'adm_1', u'adm_2', u'adm_3', u'adm_4', u'adm_7', 'diss_home', 'num_lab_procedures', 'num_procedures', 'num_medications', 'number_outpatient', 'number_emergency', 'number_inpatient', 'number_diagnoses', 'insulin', 'metformin', 'pioglitazone', 'glimepiride', 'glipizide', 'repaglinide', 'nateglinide', 'readmitted']\n"
     ]
    }
   ],
   "source": [
    "print colsFinal\n",
    "print\n",
    "print colsFinalExtended"
   ]
  },
  {
   "cell_type": "markdown",
   "metadata": {},
   "source": [
    "#### Creating other cols"
   ]
  },
  {
   "cell_type": "code",
   "execution_count": 334,
   "metadata": {},
   "outputs": [
    {
     "name": "stdout",
     "output_type": "stream",
     "text": [
      " 0 0\n"
     ]
    }
   ],
   "source": [
    "cols = []\n",
    "colsExtended = []\n",
    "if typeDiagnosis == \"diag_1\":\n",
    "    cols = [\"diss_1\",\n",
    "            \"adm_src_ref\",\"adm_src_em\",\n",
    "            \"race_AfricanAmerican\",\"race_Caucasian\",\"race_Other\",\n",
    "            \"medSpec_cardio\",\"medSpec_Family/GeneralPractice\",\"medSpec_InternalMedicine\",\"medSpec_surgery\",\n",
    "            \"age_cat\",\n",
    "            \"Diabetis_1\",\"Circulatory_1\",'Digestive_1','Genitourinary_1','Poisoning_1','Muscoskeletal_1',\n",
    "            'Neoplasms_1','Respiratory_1',\n",
    "            'HbA1c',\n",
    "            \"Change\",\n",
    "            'time_in_hospital'        \n",
    "           ]\n",
    "\n",
    "if typeDiagnosis == \"diag_3\":    \n",
    "    cols = [\"diss_1\",\n",
    "            \"adm_src_ref\",\"adm_src_em\",\n",
    "            \"race_AfricanAmerican\",\"race_Caucasian\",\"race_Other\",\n",
    "            \"medSpec_cardio\",\"medSpec_Family/GeneralPractice\",\"medSpec_InternalMedicine\",\"medSpec_surgery\",\n",
    "            \"age_cat\",\n",
    "            \"Diabetis_3\",\"Circulatory_3\",'Digestive_3','Genitourinary_3','Poisoning_3','Muscoskeletal_3','Neoplasms_3','Respiratory_3',\n",
    "            'HbA1c',\n",
    "            \"Change\",\n",
    "            'time_in_hospital'        \n",
    "           ]\n",
    "    \n",
    "if len(cols) > 0:\n",
    "    colsExtended = cols[:]\n",
    "    colsExtended.extend(['num_lab_procedures', 'num_procedures', 'num_medications', 'number_outpatient', \n",
    "                'number_emergency', 'number_inpatient', 'number_diagnoses',\"readmitted\"])\n",
    "    cols.extend([\"readmitted\"])\n",
    "    \n",
    "print len(cols), len(colsExtended)    "
   ]
  },
  {
   "cell_type": "markdown",
   "metadata": {},
   "source": [
    "#### Save"
   ]
  },
  {
   "cell_type": "code",
   "execution_count": 310,
   "metadata": {},
   "outputs": [
    {
     "name": "stdout",
     "output_type": "stream",
     "text": [
      "last (67182, 28)\n"
     ]
    }
   ],
   "source": [
    "print typeEncounter, df_all[cols].shape\n",
    "df_all[cols].to_pickle(os.path.join('resources','prepared_clean_data_' + typeEncounter + \"_\" +  typeDiagnosis + '.pkl'))"
   ]
  },
  {
   "cell_type": "code",
   "execution_count": 311,
   "metadata": {},
   "outputs": [
    {
     "name": "stdout",
     "output_type": "stream",
     "text": [
      "last (67182, 35)\n"
     ]
    }
   ],
   "source": [
    "print typeEncounter,df_all[colsExtended].shape\n",
    "df_all[colsExtended].to_pickle(os.path.join('resources','prepared_clean_data_' + typeEncounter + \"_\" +  typeDiagnosis + '_extended.pkl'))"
   ]
  },
  {
   "cell_type": "code",
   "execution_count": null,
   "metadata": {
    "collapsed": true
   },
   "outputs": [],
   "source": []
  }
 ],
 "metadata": {
  "kernelspec": {
   "display_name": "Python 2",
   "language": "python",
   "name": "python2"
  },
  "language_info": {
   "codemirror_mode": {
    "name": "ipython",
    "version": 2
   },
   "file_extension": ".py",
   "mimetype": "text/x-python",
   "name": "python",
   "nbconvert_exporter": "python",
   "pygments_lexer": "ipython2",
   "version": "2.7.13"
  }
 },
 "nbformat": 4,
 "nbformat_minor": 2
}
