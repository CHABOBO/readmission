{
 "cells": [
  {
   "cell_type": "code",
   "execution_count": null,
   "metadata": {
    "collapsed": true
   },
   "outputs": [],
   "source": [
    "#Run through pipeline steps\n",
    "X_train, X_test, y_train, y_test = MLpipeline.train_test_partition(df_train_cv, ts_thr)\n",
    "X_aux = X_train\n",
    "for s in pipe[\"pipe\"].values[0].steps:\n",
    "    if s[0] != \"logReg\":\n",
    "        print s[0], s[1]\n",
    "        X_aux = s[1].fit_transform(X_aux)\n",
    "        print X_aux.shape\n"
   ]
  }
 ],
 "metadata": {
  "kernelspec": {
   "display_name": "Python 2",
   "language": "python",
   "name": "python2"
  },
  "language_info": {
   "codemirror_mode": {
    "name": "ipython",
    "version": 2
   },
   "file_extension": ".py",
   "mimetype": "text/x-python",
   "name": "python",
   "nbconvert_exporter": "python",
   "pygments_lexer": "ipython2",
   "version": "2.7.13"
  }
 },
 "nbformat": 4,
 "nbformat_minor": 2
}
