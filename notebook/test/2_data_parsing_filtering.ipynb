{
 "cells": [
  {
   "cell_type": "code",
   "execution_count": 10,
   "metadata": {
    "collapsed": true,
    "deletable": true,
    "editable": true
   },
   "outputs": [],
   "source": [
    "import numpy as np\n",
    "import pandas as pd\n",
    "import multiprocessing\n",
    "import os\n",
    "\n",
    "from pylab import *\n",
    "import seaborn as sns\n",
    "import matplotlib.pyplot as plt\n",
    "\n",
    "np.set_printoptions(suppress=True)\n",
    "pd.options.display.float_format = '{:,.2f}'.format\n",
    "plt.style.use('classic')\n",
    "\n",
    "%matplotlib inline"
   ]
  },
  {
   "cell_type": "code",
   "execution_count": 11,
   "metadata": {
    "collapsed": false,
    "deletable": true,
    "editable": true
   },
   "outputs": [
    {
     "name": "stdout",
     "output_type": "stream",
     "text": [
      "(42, 135)\n",
      "<class 'pandas.core.frame.DataFrame'>\n",
      "RangeIndex: 42 entries, 0 to 41\n",
      "Columns: 135 entries, CODIGO to VISUAL EUROQOL_6\n",
      "dtypes: bool(34), float64(45), int64(16), object(40)\n",
      "memory usage: 34.6+ KB\n",
      "None\n"
     ]
    }
   ],
   "source": [
    "fileName = os.path.join('resources','data_parsed_short_14012016.pkl')\n",
    "dfALL = pd.read_pickle(fileName)\n",
    "print dfALL.shape\n",
    "print dfALL.info()"
   ]
  },
  {
   "cell_type": "code",
   "execution_count": 12,
   "metadata": {
    "collapsed": false,
    "deletable": true,
    "editable": true
   },
   "outputs": [
    {
     "name": "stdout",
     "output_type": "stream",
     "text": [
      "{'TRAST_MEM': 'int64', 'MEDIA TAS_3': 'float64', 'AL_IRR_CUT_MAS_6': 'object', 'IMC_3': 'float64', 'MEDIA_TAD_1': 'float64', 'APNEAS_PRES': 'float64', 'IMC_6': 'float64', 'ENF_RESP': 'bool', 'BBLOQ': 'bool', 'BOCA_SECA_6': 'object', 'IAH': 'float64', 'MEDIA_TAS_1': 'float64', 'BOCA_SECA_1': 'object', 'NO_ACTIVO': 'bool', 'CT90%': 'float64', 'OBESIDAD': 'bool', 'BRONCODIL': 'bool', 'EDAD': 'int64', 'AL_IRR_CUT_MASC_1': 'object', 'TALLA_6': 'float64', 'MOV_BRUSC_INV_DUERME': 'object', 'PESO': 'float64', 'EPWORTH_1': 'float64', 'EPWORTH_3': 'float64', 'EPWORTH_6': 'float64', 'ALCOHOL_GR_DIA': 'float64', 'ALCOHOL': 'bool', 'DISM_DESEO_SEX': 'object', 'HEMO_NASAL_6': 'object', 'CONG_NASAL_6': 'object', 'SINUSITIS_3': 'object', 'CONG_NASAL_3': 'object', 'CONG_NASAL_1': 'object', 'ANTIAGREG': 'bool', 'CA-ANTAG': 'bool', 'DIURETICOS': 'bool', 'AL_IRR_CUT_MAS_3': 'object', 'PESO_6': 'float64', 'ESTORNUDOS_1': 'object', 'TIEMPOSAT<90%': 'float64', 'PESO_3': 'float64', 'TALLA': 'float64', 'CRISIS_ASF': 'int64', 'DOLOR_PIER_MOVER': 'bool', 'IECAS': 'bool', 'SEN_SUE_REAL_DORM': 'bool', 'ACTIVO': 'bool', 'BDZ': 'bool', 'HTA': 'bool', 'DISLIPEMIA': 'bool', 'MEDIA TAS_6': 'float64', 'NEOPLASIA': 'bool', 'MALESTAR_1': 'object', 'FROTA_DIENT_DUERM': 'object', 'MALESTAR_3': 'object', 'MALESTAR_6': 'object', 'TIEMP_SUENO': 'float64', 'RONCA': 'int64', 'TALLA_3': 'float64', 'ESTORNUDOS_6': 'object', 'ANTICOAG': 'bool', 'MEDIA_TAD': 'float64', 'FUMA_PAQ_ANY': 'int64', 'CEFALEA': 'int64', 'CIRC_ABD': 'int64', 'MEDIA_TAS': 'float64', 'SUE_REP': 'int64', 'CIRC_CUELLO': 'int64', 'HORAS_USO_MED_NOCHE_6': 'float64', 'SECR_NASAL_3': 'object', 'SECR_NASAL_1': 'object', 'SECR_NASAL_6': 'object', 'HORAS_USO_MED_NOCHE_3': 'float64', 'HIPOLIPEM': 'bool', 'HORAS_USO_MED_NOCHE_1': 'float64', 'ESTORNUDOS_3': 'object', 'OTROS_PSICO': 'object', 'JUBILADO': 'bool', 'ARA-II': 'bool', 'TRAST_CONC': 'int64', 'ACT_MOTR_NOCT': 'bool', 'HORAS_USO_TOT_3': 'float64', 'HORAS_USO_TOT_1': 'float64', 'HORAS_USO_TOT_6': 'float64', 'FUMA_EX_ANYS': 'float64', 'INSULINA': 'bool', 'IMC': 'float64', 'ANTIDEPRE': 'bool', 'EUROQOL_1': 'float64', 'VISUAL': 'int64', 'CARDIOPATIA': 'bool', 'ADO': 'bool', 'SOMN_DIURN': 'int64', 'ENF_NEUR': 'object', 'EUROQOL': 'float64', 'ANTIACID': 'bool', 'VISUAL_EUROQOL_1': 'float64', 'ANSIEDAD': 'bool', 'SUE_INT_PIROSIS': 'bool', 'OTROS_HIPOT': 'object', 'FARMACOS QUITADOS_3': 'object', 'PRESS_CPAP': 'float64', 'FARMACOS QUITADOS_6': 'object', 'ABANDONO_1': 'object', 'ABANDONO_3': 'object', 'ABANDONO_6': 'object', 'EUROQOL_6': 'float64', 'IND_DESAT': 'float64', 'FUMA': 'bool', 'EUROQOL_3': 'float64', 'OBSTR_NASAL_CRON': 'object', 'CIRUGIA_ORL': 'object', 'NICTURIA': 'float64', 'BOCA_SECA_3': 'object', 'CIRC_CADERA': 'int64', 'EPWORTH': 'float64', 'DESPERTAR_NOCT': 'int64', 'FARMACOS ANADIDOS_3': 'object', 'IRR_APAT_DEPR': 'int64', 'CODIGO': 'object', 'FARMACOS ANADIDOS_6': 'object', 'CAFES_DIA': 'float64', 'SINUSITIS_6': 'object', 'INSOMNIO': 'bool', 'GENERO': 'bool', 'HEMO_NASAL_1': 'object', 'SINUSITIS_1': 'object', 'HEMO_NASAL_3': 'object', 'DEPRESION': 'bool', 'DIABETES': 'bool', 'MEDIA TAD_6': 'float64', 'Sat O2': 'int64', 'VISUAL EUROQOL_6': 'float64', 'VISUAL EUROQOL_3': 'float64', 'MEDIA TAD_3': 'float64'}\n"
     ]
    }
   ],
   "source": [
    "feat_type = dict([(c,dfALL[c].dtype.name) for c in dfALL.columns])\n",
    "print feat_type"
   ]
  },
  {
   "cell_type": "markdown",
   "metadata": {
    "deletable": true,
    "editable": true
   },
   "source": [
    "#### Filter and save data for classifiers\n",
    "\n",
    "* CLASSIFIERs definition:\n",
    "\n",
    " - CL0 -> No data from Month_1, Month_3, Month_6\n",
    " - CL0_m1 -> No data from Month_3, Month_3\n",
    " - CL0_m3 --> No data from Month_6\n",
    "\n",
    " For all of these classifiers the label is Month_6"
   ]
  },
  {
   "cell_type": "markdown",
   "metadata": {
    "deletable": true,
    "editable": true
   },
   "source": [
    "#### Dataset 3M & 1M monitoring"
   ]
  },
  {
   "cell_type": "code",
   "execution_count": 13,
   "metadata": {
    "collapsed": false,
    "deletable": true,
    "editable": true
   },
   "outputs": [
    {
     "name": "stdout",
     "output_type": "stream",
     "text": [
      "(42, 136)\n",
      "(42, 115)\n",
      "Index([u'CODIGO', u'GENERO', u'ACTIVO', u'NO_ACTIVO', u'JUBILADO', u'EDAD',\n",
      "       u'FUMA', u'FUMA_PAQ_ANY', u'FUMA_EX_ANYS', u'ALCOHOL',\n",
      "       ...\n",
      "       u'MEDIA TAD_3', u'PESO_3', u'TALLA_3', u'IMC_3', u'FARMACOS ANADIDOS_3',\n",
      "       u'FARMACOS QUITADOS_3', u'EPWORTH_3', u'EUROQOL_3', u'VISUAL EUROQOL_3',\n",
      "       u'LABEL'],\n",
      "      dtype='object', length=115)\n",
      "42 [0.0 6.5 5.0 7.0 5.0 7.0 4.0 4.5 7.5 3.32 6.5 3.5 6.51 6.5 6.0 0.0 8.0 5.5\n",
      " 3.93 3.5 7.0 4.99 7.5 4.0 6.0 2.08 7.5 5.32 8.0 7.0 6.5 2.6 4.0 4.5 0.97\n",
      " 5.5 7.0 3.8 2.12 7.5 4.0 5.5]\n",
      "<class 'pandas.core.frame.DataFrame'>\n",
      "RangeIndex: 42 entries, 0 to 41\n",
      "Columns: 115 entries, CODIGO to LABEL\n",
      "dtypes: float64(35), int64(16), object(64)\n",
      "memory usage: 37.8+ KB\n",
      "None\n"
     ]
    },
    {
     "name": "stderr",
     "output_type": "stream",
     "text": [
      "/home/aegle/miniconda2/envs/myosa/lib/python2.7/site-packages/ipykernel/__main__.py:8: FutureWarning: reshape is deprecated and will raise in a subsequent release. Please use .values.reshape(...) instead\n"
     ]
    }
   ],
   "source": [
    "# Compute label column\n",
    "dfFilter = dfALL[dfALL.HORAS_USO_MED_NOCHE_6.isnull() == False]\n",
    "lblCol = dfFilter.HORAS_USO_MED_NOCHE_6.copy()\n",
    "\n",
    "#lblCol[lblCol[:] <= 4.0] = 0\n",
    "#lblCol[lblCol[:] > 4.0] = 1\n",
    "\n",
    "dfLabel = pd.DataFrame(data=lblCol.reshape((len(lblCol),1)), columns=[\"label\"])\n",
    "\n",
    "#Join mapped label column\n",
    "npALL= np.hstack((dfFilter,dfLabel))\n",
    "npCols = list(dfALL.columns)\n",
    "npCols.append('LABEL')\n",
    "dfALL6 = pd.DataFrame(data=npALL, columns= npCols)\n",
    "print dfALL6.shape\n",
    "\n",
    "\n",
    "#Delete (no relevant) columns\n",
    "for c in dfALL6.columns:\n",
    "    if c.find(\"_6\") != -1 \\\n",
    "    or c.find(\"_LIST\") != -1 \\\n",
    "    or c == 'LOC_NEO' or c == 'FECHA_DIAG_NEO' or c == 'TRAT_NEO' \\\n",
    "    or c == 'FECHA_INC' or c == 'FECHA_PRUEBA':\n",
    "        del dfALL6[c]\n",
    "\n",
    "print dfALL6.shape\n",
    "print dfALL6.columns\n",
    "print len(dfALL6.LABEL.values), dfALL6.LABEL.values\n",
    "\n",
    "#Add types\n",
    "for c in dfALL6.columns:\n",
    "    if c != \"LABEL\":\n",
    "        if feat_type[c] == 'float64' or feat_type[c] == 'int64':\n",
    "            dfALL6[c] = pd.to_numeric(dfALL6[c])\n",
    "    \n",
    "print dfALL6.info()"
   ]
  },
  {
   "cell_type": "markdown",
   "metadata": {
    "deletable": true,
    "editable": true
   },
   "source": [
    "#### Dataset 1M monitoring"
   ]
  },
  {
   "cell_type": "code",
   "execution_count": 14,
   "metadata": {
    "collapsed": false,
    "deletable": true,
    "editable": true
   },
   "outputs": [
    {
     "name": "stdout",
     "output_type": "stream",
     "text": [
      "(42,) 2 0\n",
      "(42, 1)\n",
      "(42, 136)\n",
      "(42, 94)\n",
      "Index([u'CODIGO', u'GENERO', u'ACTIVO', u'NO_ACTIVO', u'JUBILADO', u'EDAD',\n",
      "       u'FUMA', u'FUMA_PAQ_ANY', u'FUMA_EX_ANYS', u'ALCOHOL',\n",
      "       u'ALCOHOL_GR_DIA', u'CAFES_DIA', u'DEPRESION', u'ANSIEDAD', u'HTA',\n",
      "       u'CARDIOPATIA', u'ENF_NEUR', u'ENF_RESP', u'DIABETES', u'OBESIDAD',\n",
      "       u'DISLIPEMIA', u'NEOPLASIA', u'OBSTR_NASAL_CRON', u'CIRUGIA_ORL',\n",
      "       u'RONCA', u'SUE_REP', u'CRISIS_ASF', u'NICTURIA', u'APNEAS_PRES',\n",
      "       u'CEFALEA', u'SOMN_DIURN', u'DESPERTAR_NOCT', u'TRAST_MEM',\n",
      "       u'TRAST_CONC', u'IRR_APAT_DEPR', u'INSOMNIO', u'ACT_MOTR_NOCT',\n",
      "       u'DOLOR_PIER_MOVER', u'MOV_BRUSC_INV_DUERME', u'SEN_SUE_REAL_DORM',\n",
      "       u'SUE_INT_PIROSIS', u'FROTA_DIENT_DUERM', u'DISM_DESEO_SEX', u'IECAS',\n",
      "       u'BBLOQ', u'DIURETICOS', u'CA-ANTAG', u'ARA-II', u'ANTIAGREG',\n",
      "       u'ANTICOAG', u'ANTIACID', u'BRONCODIL', u'ADO', u'INSULINA',\n",
      "       u'HIPOLIPEM', u'BDZ', u'ANTIDEPRE', u'OTROS_PSICO', u'OTROS_HIPOT',\n",
      "       u'TIEMP_SUENO', u'IAH', u'TIEMPOSAT<90%', u'CT90%', u'IND_DESAT',\n",
      "       u'PESO', u'TALLA', u'IMC', u'CIRC_CUELLO', u'CIRC_ABD', u'CIRC_CADERA',\n",
      "       u'MEDIA_TAS', u'MEDIA_TAD', u'Sat O2', u'PRESS_CPAP', u'EPWORTH',\n",
      "       u'EUROQOL', u'VISUAL', u'HORAS_USO_TOT_1', u'HORAS_USO_MED_NOCHE_1',\n",
      "       u'ABANDONO_1', u'AL_IRR_CUT_MASC_1', u'BOCA_SECA_1', u'CONG_NASAL_1',\n",
      "       u'SECR_NASAL_1', u'ESTORNUDOS_1', u'SINUSITIS_1', u'HEMO_NASAL_1',\n",
      "       u'MALESTAR_1', u'MEDIA_TAS_1', u'MEDIA_TAD_1', u'EPWORTH_1',\n",
      "       u'EUROQOL_1', u'VISUAL_EUROQOL_1', u'LABEL'],\n",
      "      dtype='object')\n",
      "42\n",
      "<class 'pandas.core.frame.DataFrame'>\n",
      "RangeIndex: 42 entries, 0 to 41\n",
      "Data columns (total 94 columns):\n",
      "CODIGO                   42 non-null object\n",
      "GENERO                   42 non-null object\n",
      "ACTIVO                   42 non-null object\n",
      "NO_ACTIVO                42 non-null object\n",
      "JUBILADO                 42 non-null object\n",
      "EDAD                     42 non-null int64\n",
      "FUMA                     42 non-null object\n",
      "FUMA_PAQ_ANY             42 non-null int64\n",
      "FUMA_EX_ANYS             42 non-null float64\n",
      "ALCOHOL                  42 non-null object\n",
      "ALCOHOL_GR_DIA           42 non-null float64\n",
      "CAFES_DIA                42 non-null float64\n",
      "DEPRESION                42 non-null object\n",
      "ANSIEDAD                 42 non-null object\n",
      "HTA                      42 non-null object\n",
      "CARDIOPATIA              42 non-null object\n",
      "ENF_NEUR                 41 non-null object\n",
      "ENF_RESP                 42 non-null object\n",
      "DIABETES                 42 non-null object\n",
      "OBESIDAD                 42 non-null object\n",
      "DISLIPEMIA               42 non-null object\n",
      "NEOPLASIA                42 non-null object\n",
      "OBSTR_NASAL_CRON         41 non-null object\n",
      "CIRUGIA_ORL              40 non-null object\n",
      "RONCA                    42 non-null int64\n",
      "SUE_REP                  42 non-null int64\n",
      "CRISIS_ASF               42 non-null int64\n",
      "NICTURIA                 41 non-null float64\n",
      "APNEAS_PRES              41 non-null float64\n",
      "CEFALEA                  42 non-null int64\n",
      "SOMN_DIURN               42 non-null int64\n",
      "DESPERTAR_NOCT           42 non-null int64\n",
      "TRAST_MEM                42 non-null int64\n",
      "TRAST_CONC               42 non-null int64\n",
      "IRR_APAT_DEPR            42 non-null int64\n",
      "INSOMNIO                 42 non-null object\n",
      "ACT_MOTR_NOCT            42 non-null object\n",
      "DOLOR_PIER_MOVER         42 non-null object\n",
      "MOV_BRUSC_INV_DUERME     41 non-null object\n",
      "SEN_SUE_REAL_DORM        42 non-null object\n",
      "SUE_INT_PIROSIS          42 non-null object\n",
      "FROTA_DIENT_DUERM        41 non-null object\n",
      "DISM_DESEO_SEX           38 non-null object\n",
      "IECAS                    42 non-null object\n",
      "BBLOQ                    42 non-null object\n",
      "DIURETICOS               42 non-null object\n",
      "CA-ANTAG                 42 non-null object\n",
      "ARA-II                   42 non-null object\n",
      "ANTIAGREG                42 non-null object\n",
      "ANTICOAG                 42 non-null object\n",
      "ANTIACID                 42 non-null object\n",
      "BRONCODIL                42 non-null object\n",
      "ADO                      42 non-null object\n",
      "INSULINA                 42 non-null object\n",
      "HIPOLIPEM                42 non-null object\n",
      "BDZ                      42 non-null object\n",
      "ANTIDEPRE                42 non-null object\n",
      "OTROS_PSICO              39 non-null object\n",
      "OTROS_HIPOT              39 non-null object\n",
      "TIEMP_SUENO              41 non-null float64\n",
      "IAH                      42 non-null float64\n",
      "TIEMPOSAT<90%            42 non-null float64\n",
      "CT90%                    42 non-null float64\n",
      "IND_DESAT                42 non-null float64\n",
      "PESO                     42 non-null float64\n",
      "TALLA                    42 non-null float64\n",
      "IMC                      42 non-null float64\n",
      "CIRC_CUELLO              42 non-null int64\n",
      "CIRC_ABD                 42 non-null int64\n",
      "CIRC_CADERA              42 non-null int64\n",
      "MEDIA_TAS                42 non-null float64\n",
      "MEDIA_TAD                42 non-null float64\n",
      "Sat O2                   42 non-null int64\n",
      "PRESS_CPAP               42 non-null float64\n",
      "EPWORTH                  42 non-null float64\n",
      "EUROQOL                  42 non-null float64\n",
      "VISUAL                   42 non-null int64\n",
      "HORAS_USO_TOT_1          38 non-null float64\n",
      "HORAS_USO_MED_NOCHE_1    38 non-null float64\n",
      "ABANDONO_1               38 non-null object\n",
      "AL_IRR_CUT_MASC_1        38 non-null object\n",
      "BOCA_SECA_1              38 non-null object\n",
      "CONG_NASAL_1             38 non-null object\n",
      "SECR_NASAL_1             38 non-null object\n",
      "ESTORNUDOS_1             38 non-null object\n",
      "SINUSITIS_1              38 non-null object\n",
      "HEMO_NASAL_1             38 non-null object\n",
      "MALESTAR_1               38 non-null object\n",
      "MEDIA_TAS_1              37 non-null float64\n",
      "MEDIA_TAD_1              37 non-null float64\n",
      "EPWORTH_1                38 non-null float64\n",
      "EUROQOL_1                37 non-null float64\n",
      "VISUAL_EUROQOL_1         37 non-null float64\n",
      "LABEL                    42 non-null object\n",
      "dtypes: float64(25), int64(16), object(53)\n",
      "memory usage: 30.9+ KB\n",
      "None\n"
     ]
    },
    {
     "name": "stderr",
     "output_type": "stream",
     "text": [
      "/home/aegle/miniconda2/envs/myosa/lib/python2.7/site-packages/ipykernel/__main__.py:10: FutureWarning: reshape is deprecated and will raise in a subsequent release. Please use .values.reshape(...) instead\n"
     ]
    }
   ],
   "source": [
    "# Compute label column\n",
    "dfFilter = dfALL[dfALL.HORAS_USO_MED_NOCHE_6.isnull() == False]\n",
    "lblCol = dfFilter.HORAS_USO_MED_NOCHE_6.copy()\n",
    "\n",
    "#lblCol[lblCol[:] <= 4.0] = 0\n",
    "#lblCol[lblCol[:] > 4.0] = 1\n",
    "\n",
    "print lblCol.shape, np.sum(lblCol == 0), np.sum(lblCol == 1)\n",
    "\n",
    "dfLabel = pd.DataFrame(data=lblCol.reshape((len(lblCol),1)), columns=[\"label\"])\n",
    "print dfLabel.shape\n",
    "\n",
    "npALL= np.hstack((dfFilter,dfLabel))\n",
    "npCols = list(dfALL.columns)\n",
    "npCols.append('LABEL')\n",
    "dfALL3 = pd.DataFrame(data=npALL, columns= npCols)\n",
    "print dfALL3.shape\n",
    "\n",
    "\n",
    "#Delete (no relevant) columns\n",
    "for c in dfALL3.columns:\n",
    "    if c.find(\"_6\") != -1 or c.find(\"_3\") != -1 \\\n",
    "    or c.find(\"_LIST\") != -1 \\\n",
    "    or c == 'LOC_NEO' or c == 'FECHA_DIAG_NEO' or c == 'TRAT_NEO' \\\n",
    "    or c == 'FECHA_INC' or c == 'FECHA_PRUEBA':\n",
    "        del dfALL3[c]\n",
    "\n",
    "print dfALL3.shape\n",
    "print dfALL3.columns\n",
    "print len(dfALL3.LABEL.values)\n",
    "\n",
    "#Add types\n",
    "for c in dfALL3.columns:\n",
    "    if c != \"LABEL\":\n",
    "        if feat_type[c] == 'float64' or feat_type[c] == 'int64':\n",
    "            dfALL3[c] = pd.to_numeric(dfALL3[c])\n",
    "    \n",
    "print dfALL3.info()"
   ]
  },
  {
   "cell_type": "markdown",
   "metadata": {
    "deletable": true,
    "editable": true
   },
   "source": [
    "#### Dataset NO monitoring"
   ]
  },
  {
   "cell_type": "code",
   "execution_count": 15,
   "metadata": {
    "collapsed": false,
    "deletable": true,
    "editable": true
   },
   "outputs": [
    {
     "name": "stdout",
     "output_type": "stream",
     "text": [
      "(42,) 2 0\n",
      "(42, 1)\n",
      "(42, 136)\n",
      "(42, 78)\n",
      "Index([u'CODIGO', u'GENERO', u'ACTIVO', u'NO_ACTIVO', u'JUBILADO', u'EDAD',\n",
      "       u'FUMA', u'FUMA_PAQ_ANY', u'FUMA_EX_ANYS', u'ALCOHOL',\n",
      "       u'ALCOHOL_GR_DIA', u'CAFES_DIA', u'DEPRESION', u'ANSIEDAD', u'HTA',\n",
      "       u'CARDIOPATIA', u'ENF_NEUR', u'ENF_RESP', u'DIABETES', u'OBESIDAD',\n",
      "       u'DISLIPEMIA', u'NEOPLASIA', u'OBSTR_NASAL_CRON', u'CIRUGIA_ORL',\n",
      "       u'RONCA', u'SUE_REP', u'CRISIS_ASF', u'NICTURIA', u'APNEAS_PRES',\n",
      "       u'CEFALEA', u'SOMN_DIURN', u'DESPERTAR_NOCT', u'TRAST_MEM',\n",
      "       u'TRAST_CONC', u'IRR_APAT_DEPR', u'INSOMNIO', u'ACT_MOTR_NOCT',\n",
      "       u'DOLOR_PIER_MOVER', u'MOV_BRUSC_INV_DUERME', u'SEN_SUE_REAL_DORM',\n",
      "       u'SUE_INT_PIROSIS', u'FROTA_DIENT_DUERM', u'DISM_DESEO_SEX', u'IECAS',\n",
      "       u'BBLOQ', u'DIURETICOS', u'CA-ANTAG', u'ARA-II', u'ANTIAGREG',\n",
      "       u'ANTICOAG', u'ANTIACID', u'BRONCODIL', u'ADO', u'INSULINA',\n",
      "       u'HIPOLIPEM', u'BDZ', u'ANTIDEPRE', u'OTROS_PSICO', u'OTROS_HIPOT',\n",
      "       u'TIEMP_SUENO', u'IAH', u'TIEMPOSAT<90%', u'CT90%', u'IND_DESAT',\n",
      "       u'PESO', u'TALLA', u'IMC', u'CIRC_CUELLO', u'CIRC_ABD', u'CIRC_CADERA',\n",
      "       u'MEDIA_TAS', u'MEDIA_TAD', u'Sat O2', u'PRESS_CPAP', u'EPWORTH',\n",
      "       u'EUROQOL', u'VISUAL', u'LABEL'],\n",
      "      dtype='object')\n",
      "42 [0.0 6.5 5.0 7.0 5.0 7.0 4.0 4.5 7.5 3.32 6.5 3.5 6.51 6.5 6.0 0.0 8.0 5.5\n",
      " 3.93 3.5 7.0 4.99 7.5 4.0 6.0 2.08 7.5 5.32 8.0 7.0 6.5 2.6 4.0 4.5 0.97\n",
      " 5.5 7.0 3.8 2.12 7.5 4.0 5.5]\n",
      "<class 'pandas.core.frame.DataFrame'>\n",
      "RangeIndex: 42 entries, 0 to 41\n",
      "Data columns (total 78 columns):\n",
      "CODIGO                  42 non-null object\n",
      "GENERO                  42 non-null object\n",
      "ACTIVO                  42 non-null object\n",
      "NO_ACTIVO               42 non-null object\n",
      "JUBILADO                42 non-null object\n",
      "EDAD                    42 non-null int64\n",
      "FUMA                    42 non-null object\n",
      "FUMA_PAQ_ANY            42 non-null int64\n",
      "FUMA_EX_ANYS            42 non-null float64\n",
      "ALCOHOL                 42 non-null object\n",
      "ALCOHOL_GR_DIA          42 non-null float64\n",
      "CAFES_DIA               42 non-null float64\n",
      "DEPRESION               42 non-null object\n",
      "ANSIEDAD                42 non-null object\n",
      "HTA                     42 non-null object\n",
      "CARDIOPATIA             42 non-null object\n",
      "ENF_NEUR                41 non-null object\n",
      "ENF_RESP                42 non-null object\n",
      "DIABETES                42 non-null object\n",
      "OBESIDAD                42 non-null object\n",
      "DISLIPEMIA              42 non-null object\n",
      "NEOPLASIA               42 non-null object\n",
      "OBSTR_NASAL_CRON        41 non-null object\n",
      "CIRUGIA_ORL             40 non-null object\n",
      "RONCA                   42 non-null int64\n",
      "SUE_REP                 42 non-null int64\n",
      "CRISIS_ASF              42 non-null int64\n",
      "NICTURIA                41 non-null float64\n",
      "APNEAS_PRES             41 non-null float64\n",
      "CEFALEA                 42 non-null int64\n",
      "SOMN_DIURN              42 non-null int64\n",
      "DESPERTAR_NOCT          42 non-null int64\n",
      "TRAST_MEM               42 non-null int64\n",
      "TRAST_CONC              42 non-null int64\n",
      "IRR_APAT_DEPR           42 non-null int64\n",
      "INSOMNIO                42 non-null object\n",
      "ACT_MOTR_NOCT           42 non-null object\n",
      "DOLOR_PIER_MOVER        42 non-null object\n",
      "MOV_BRUSC_INV_DUERME    41 non-null object\n",
      "SEN_SUE_REAL_DORM       42 non-null object\n",
      "SUE_INT_PIROSIS         42 non-null object\n",
      "FROTA_DIENT_DUERM       41 non-null object\n",
      "DISM_DESEO_SEX          38 non-null object\n",
      "IECAS                   42 non-null object\n",
      "BBLOQ                   42 non-null object\n",
      "DIURETICOS              42 non-null object\n",
      "CA-ANTAG                42 non-null object\n",
      "ARA-II                  42 non-null object\n",
      "ANTIAGREG               42 non-null object\n",
      "ANTICOAG                42 non-null object\n",
      "ANTIACID                42 non-null object\n",
      "BRONCODIL               42 non-null object\n",
      "ADO                     42 non-null object\n",
      "INSULINA                42 non-null object\n",
      "HIPOLIPEM               42 non-null object\n",
      "BDZ                     42 non-null object\n",
      "ANTIDEPRE               42 non-null object\n",
      "OTROS_PSICO             39 non-null object\n",
      "OTROS_HIPOT             39 non-null object\n",
      "TIEMP_SUENO             41 non-null float64\n",
      "IAH                     42 non-null float64\n",
      "TIEMPOSAT<90%           42 non-null float64\n",
      "CT90%                   42 non-null float64\n",
      "IND_DESAT               42 non-null float64\n",
      "PESO                    42 non-null float64\n",
      "TALLA                   42 non-null float64\n",
      "IMC                     42 non-null float64\n",
      "CIRC_CUELLO             42 non-null int64\n",
      "CIRC_ABD                42 non-null int64\n",
      "CIRC_CADERA             42 non-null int64\n",
      "MEDIA_TAS               42 non-null float64\n",
      "MEDIA_TAD               42 non-null float64\n",
      "Sat O2                  42 non-null int64\n",
      "PRESS_CPAP              42 non-null float64\n",
      "EPWORTH                 42 non-null float64\n",
      "EUROQOL                 42 non-null float64\n",
      "VISUAL                  42 non-null int64\n",
      "LABEL                   42 non-null object\n",
      "dtypes: float64(18), int64(16), object(44)\n",
      "memory usage: 25.7+ KB\n",
      "None\n"
     ]
    },
    {
     "name": "stderr",
     "output_type": "stream",
     "text": [
      "/home/aegle/miniconda2/envs/myosa/lib/python2.7/site-packages/ipykernel/__main__.py:9: FutureWarning: reshape is deprecated and will raise in a subsequent release. Please use .values.reshape(...) instead\n"
     ]
    }
   ],
   "source": [
    "# Compute label column\n",
    "dfFilter = dfALL[dfALL.HORAS_USO_MED_NOCHE_6.isnull() == False]\n",
    "lblCol = dfFilter.HORAS_USO_MED_NOCHE_6.copy()\n",
    "\n",
    "#lblCol[lblCol[:] <= 4.0] = 0\n",
    "#lblCol[lblCol[:] > 4.0] = 1\n",
    "print lblCol.shape, np.sum(lblCol == 0), np.sum(lblCol == 1)\n",
    "\n",
    "dfLabel = pd.DataFrame(data=lblCol.reshape((len(lblCol),1)), columns=[\"label\"])\n",
    "print dfLabel.shape\n",
    "\n",
    "npALL= np.hstack((dfFilter,dfLabel))\n",
    "npCols = list(dfALL.columns)\n",
    "npCols.append('LABEL')\n",
    "dfALL1 = pd.DataFrame(data=npALL, columns= npCols)\n",
    "print dfALL1.shape\n",
    "\n",
    "\n",
    "#Delete (no relevant) columns\n",
    "for c in dfALL1.columns:\n",
    "    if c.find(\"_6\") != -1 or c.find(\"_1\") != -1 or c.find(\"_3\") != -1 \\\n",
    "    or c.find(\"_LIST\") != -1 \\\n",
    "    or c == 'LOC_NEO' or c == 'FECHA_DIAG_NEO' or c == 'TRAT_NEO' \\\n",
    "    or c == 'FECHA_INC' or c == 'FECHA_PRUEBA':\n",
    "        del dfALL1[c]\n",
    "    \n",
    "print dfALL1.shape\n",
    "print dfALL1.columns\n",
    "print len(dfALL1.LABEL.values), dfALL1.LABEL.values\n",
    "\n",
    "#Add types\n",
    "for c in dfALL1.columns:\n",
    "    if c != \"LABEL\":\n",
    "        if feat_type[c] == 'float64' or feat_type[c] == 'int64':\n",
    "            dfALL1[c] = pd.to_numeric(dfALL1[c])\n",
    "    \n",
    "print dfALL1.info()"
   ]
  },
  {
   "cell_type": "markdown",
   "metadata": {
    "deletable": true,
    "editable": true
   },
   "source": [
    "#### Save dataset"
   ]
  },
  {
   "cell_type": "code",
   "execution_count": 16,
   "metadata": {
    "collapsed": false,
    "deletable": true,
    "editable": true
   },
   "outputs": [
    {
     "name": "stdout",
     "output_type": "stream",
     "text": [
      "(42, 78) (42, 94) (42, 115)\n"
     ]
    }
   ],
   "source": [
    "fileName1 = os.path.join('resources','data_filtered_cl0_short_no_monit_14012016.pkl')\n",
    "fileName3 = os.path.join('resources','data_filtered_cl0_short_1m_monit_14012016.pkl')\n",
    "fileName6 = os.path.join('resources','data_filtered_cl0_short_3m_1m_monit_14012016.pkl')\n",
    "\n",
    "dfALL1.to_pickle(fileName1)\n",
    "dfALL3.to_pickle(fileName3)\n",
    "dfALL6.to_pickle(fileName6)\n",
    "\n",
    "df_saved1 = pd.read_pickle(fileName1)\n",
    "df_saved3 = pd.read_pickle(fileName3)\n",
    "df_saved6 = pd.read_pickle(fileName6)\n",
    "print df_saved1.shape, df_saved3.shape, df_saved6.shape"
   ]
  },
  {
   "cell_type": "markdown",
   "metadata": {
    "collapsed": true,
    "deletable": true,
    "editable": true
   },
   "source": [
    "#### Summary hours nightly along study"
   ]
  },
  {
   "cell_type": "code",
   "execution_count": 17,
   "metadata": {
    "collapsed": false,
    "deletable": true,
    "editable": true,
    "scrolled": false
   },
   "outputs": [
    {
     "data": {
      "text/html": [
       "<div>\n",
       "<style>\n",
       "    .dataframe thead tr:only-child th {\n",
       "        text-align: right;\n",
       "    }\n",
       "\n",
       "    .dataframe thead th {\n",
       "        text-align: left;\n",
       "    }\n",
       "\n",
       "    .dataframe tbody tr th {\n",
       "        vertical-align: top;\n",
       "    }\n",
       "</style>\n",
       "<table border=\"1\" class=\"dataframe\">\n",
       "  <thead>\n",
       "    <tr style=\"text-align: right;\">\n",
       "      <th></th>\n",
       "      <th>count</th>\n",
       "      <th>mean</th>\n",
       "      <th>std</th>\n",
       "      <th>min</th>\n",
       "      <th>25%</th>\n",
       "      <th>50%</th>\n",
       "      <th>75%</th>\n",
       "      <th>max</th>\n",
       "    </tr>\n",
       "  </thead>\n",
       "  <tbody>\n",
       "    <tr>\n",
       "      <th>HORAS_USO_MED_NOCHE_1</th>\n",
       "      <td>42.00</td>\n",
       "      <td>4.92</td>\n",
       "      <td>2.31</td>\n",
       "      <td>0.00</td>\n",
       "      <td>4.00</td>\n",
       "      <td>5.00</td>\n",
       "      <td>7.00</td>\n",
       "      <td>8.50</td>\n",
       "    </tr>\n",
       "    <tr>\n",
       "      <th>HORAS_USO_MED_NOCHE_3</th>\n",
       "      <td>42.00</td>\n",
       "      <td>5.07</td>\n",
       "      <td>2.18</td>\n",
       "      <td>0.00</td>\n",
       "      <td>4.00</td>\n",
       "      <td>5.50</td>\n",
       "      <td>6.97</td>\n",
       "      <td>8.50</td>\n",
       "    </tr>\n",
       "    <tr>\n",
       "      <th>HORAS_USO_MED_NOCHE_6</th>\n",
       "      <td>42.00</td>\n",
       "      <td>5.07</td>\n",
       "      <td>2.10</td>\n",
       "      <td>0.00</td>\n",
       "      <td>3.95</td>\n",
       "      <td>5.41</td>\n",
       "      <td>6.88</td>\n",
       "      <td>8.00</td>\n",
       "    </tr>\n",
       "  </tbody>\n",
       "</table>\n",
       "</div>"
      ],
      "text/plain": [
       "                       count  mean  std  min  25%  50%  75%  max\n",
       "HORAS_USO_MED_NOCHE_1  42.00  4.92 2.31 0.00 4.00 5.00 7.00 8.50\n",
       "HORAS_USO_MED_NOCHE_3  42.00  5.07 2.18 0.00 4.00 5.50 6.97 8.50\n",
       "HORAS_USO_MED_NOCHE_6  42.00  5.07 2.10 0.00 3.95 5.41 6.88 8.00"
      ]
     },
     "metadata": {},
     "output_type": "display_data"
    },
    {
     "data": {
      "image/png": "[encoded data removed]",
      "text/plain": [
       "<matplotlib.figure.Figure at 0x7f779ceabd90>"
      ]
     },
     "metadata": {},
     "output_type": "display_data"
    },
    {
     "data": {
      "text/plain": [
       "'Anova siginificance test:'"
      ]
     },
     "metadata": {},
     "output_type": "display_data"
    },
    {
     "data": {
      "text/plain": [
       "(array([ 0.06756553]), array([ 0.93470113]))"
      ]
     },
     "metadata": {},
     "output_type": "display_data"
    },
    {
     "data": {
      "text/plain": [
       "'Kruskal siginificance test:'"
      ]
     },
     "metadata": {},
     "output_type": "display_data"
    },
    {
     "data": {
      "text/plain": [
       "KruskalResult(statistic=0.040578820026849712, pvalue=0.97991503504141142)"
      ]
     },
     "metadata": {},
     "output_type": "display_data"
    }
   ],
   "source": [
    "from IPython.display import display, HTML\n",
    "from sklearn.feature_selection import RFECV,chi2, f_oneway\n",
    "from scipy.stats import kruskal\n",
    "\n",
    "data = dfALL[[\"HORAS_USO_MED_NOCHE_1\",\"HORAS_USO_MED_NOCHE_3\",\"HORAS_USO_MED_NOCHE_6\"]].fillna(0)\n",
    "display(data.describe().T)\n",
    "\n",
    "\n",
    "plt.figure(figsize=(10,3))\n",
    "for i in [0,1,2]:\n",
    "    ax0 = plt.subplot(2,3,i+1)\n",
    "    data.iloc[:,i].hist(ax = ax0,bins=range(0,9), label=\"Month_1\", alpha=0.5)\n",
    "    ax0.set_xlim(0,9)\n",
    "    if i == 2:\n",
    "        ax0.legend(loc='center left', bbox_to_anchor=(1, 0.5))\n",
    "                   \n",
    "    ax1 = plt.subplot(2,3,i+4)\n",
    "    data.boxplot(column=data.columns[i],rot=0,vert=False,ax = ax1)\n",
    "    ax1.set_yticks([],[])\n",
    "    if i == 1:\n",
    "        ax1.set_xlabel(\"Avg Hours Nightly\")\n",
    "plt.show()\n",
    "\n",
    "display(\"Anova siginificance test:\", f_oneway(data.iloc[:,0].values.astype(float), data.iloc[:,1].values.astype(float), data.iloc[:,2].values.astype(float)))\n",
    "display(\"Kruskal siginificance test:\", kruskal(data.iloc[:,0].values.astype(float), data.iloc[:,1].values.astype(float), data.iloc[:,2].values.astype(float)))"
   ]
  },
  {
   "cell_type": "code",
   "execution_count": 22,
   "metadata": {
    "collapsed": false
   },
   "outputs": [
    {
     "name": "stdout",
     "output_type": "stream",
     "text": [
      "4\n",
      "27\n",
      "31\n",
      "11\n"
     ]
    }
   ],
   "source": [
    "print np.sum(data.iloc[:,2] == 4)\n",
    "print np.sum(data.iloc[:,2] > 4)\n",
    "print np.sum(data.iloc[:,2] >= 4)\n",
    "print np.sum(data.iloc[:,2] < 4)"
   ]
  },
  {
   "cell_type": "code",
   "execution_count": 19,
   "metadata": {
    "collapsed": false,
    "deletable": true,
    "editable": true
   },
   "outputs": [
    {
     "name": "stdout",
     "output_type": "stream",
     "text": [
      "Equals or above 4h 25 0.595238095238\n",
      "All above 4h: 20 0.47619047619\n",
      "Month_1 and Month_6 above 4h: 20 0.47619047619\n"
     ]
    }
   ],
   "source": [
    "kont4PlusMonth1 = 0\n",
    "kont4Plus = 0\n",
    "kont4 = 0\n",
    "\n",
    "for i in range(data.shape[0]):\n",
    "    m1 = data.iloc[i,0]\n",
    "    m3 = data.iloc[i,1]\n",
    "    m6 = data.iloc[i,2]\n",
    "    \n",
    "    if m1 > 4 and m3 > 4 and m6 > 4:\n",
    "        kont4Plus += 1\n",
    "    if m1 >= 4 and m3 >= 4 and m6 >= 4:\n",
    "        kont4 += 1\n",
    "    if m1 > 4 and m6 > 4:\n",
    "        kont4PlusMonth1 += 1\n",
    "        \n",
    "print \"Equals or above 4h\", kont4, kont4/float(data.shape[0])\n",
    "print \"All above 4h:\", kont4Plus, kont4Plus/float(data.shape[0])\n",
    "print \"Month_1 and Month_6 above 4h:\", kont4PlusMonth1, kont4PlusMonth1/float(data.shape[0])"
   ]
  },
  {
   "cell_type": "code",
   "execution_count": null,
   "metadata": {
    "collapsed": true
   },
   "outputs": [],
   "source": []
  }
 ],
 "metadata": {
  "kernelspec": {
   "display_name": "Python 2",
   "language": "python",
   "name": "python2"
  },
  "language_info": {
   "codemirror_mode": {
    "name": "ipython",
    "version": 2
   },
   "file_extension": ".py",
   "mimetype": "text/x-python",
   "name": "python",
   "nbconvert_exporter": "python",
   "pygments_lexer": "ipython2",
   "version": "2.7.13"
  }
 },
 "nbformat": 4,
 "nbformat_minor": 1
}
