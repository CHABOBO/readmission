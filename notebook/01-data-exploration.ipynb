{
 "cells": [
  {
   "cell_type": "code",
   "execution_count": 499,
   "metadata": {
    "collapsed": true
   },
   "outputs": [],
   "source": [
    "#TO RE-RUN\n",
    "%reset -f"
   ]
  },
  {
   "cell_type": "code",
   "execution_count": 500,
   "metadata": {
    "collapsed": true
   },
   "outputs": [],
   "source": [
    "from sklearn import preprocessing\n",
    "from time import time\n",
    "import numpy as np\n",
    "import csv\n",
    "from sklearn import metrics\n",
    "from sklearn.preprocessing import scale\n",
    "from sklearn.feature_selection import VarianceThreshold\n",
    "from sklearn.cross_validation import StratifiedShuffleSplit\n",
    "\n",
    "from sklearn.svm import SVC\n",
    "from sklearn.svm import LinearSVC\n",
    "from sklearn.grid_search import GridSearchCV, ParameterGrid\n",
    "from sklearn.preprocessing import StandardScaler\n",
    "from imblearn.pipeline import Pipeline\n",
    "\n",
    "\n",
    "from sklearn.metrics import pairwise_distances\n",
    "from IPython.display import display, HTML\n",
    "from operator import truediv\n",
    "import pandas as pd\n",
    "import time\n",
    "import os\n",
    "\n",
    "from pylab import *\n",
    "import seaborn as sns\n",
    "import matplotlib.pyplot as plt\n",
    "\n",
    "\n",
    "np.set_printoptions(suppress=True)\n",
    "pd.options.display.float_format = '{:,.3f}'.format\n",
    "plt.style.use('classic')\n",
    "\n",
    "%matplotlib inline\n",
    "\n",
    "import sys\n",
    "sys.path.insert(1, \"../../src/\")\n",
    "from TypeFeatImputer import TypeFeatImputer"
   ]
  },
  {
   "cell_type": "code",
   "execution_count": 501,
   "metadata": {
    "collapsed": true
   },
   "outputs": [],
   "source": [
    "#df_all=pd.read_csv(os.path.join('resources','diabetic_data_processed_withweight.csv'),';')\n",
    "#df_all=pd.read_csv(os.path.join('resources','diabetic_data_processed_2017_09_28.csv'),';')\n",
    "df_all=pd.read_csv(os.path.join('resources','diabetic_data_extended_2017_09_29_14_xrp.csv'),',')"
   ]
  },
  {
   "cell_type": "code",
   "execution_count": 502,
   "metadata": {},
   "outputs": [
    {
     "name": "stdout",
     "output_type": "stream",
     "text": [
      "(101766, 88)\n",
      "Index([u'Unnamed: 0', u'encounter_id', u'patient_nbr', u'race', u'gender',\n",
      "       u'age', u'weight', u'admission_type_id', u'discharge_disposition_id',\n",
      "       u'admission_source_id', u'time_in_hospital', u'payer_code',\n",
      "       u'medical_specialty', u'num_lab_procedures', u'num_procedures',\n",
      "       u'num_medications', u'number_outpatient', u'number_emergency',\n",
      "       u'number_inpatient', u'number_diagnoses', u'max_glu_serum',\n",
      "       u'A1Cresult', u'metformin', u'repaglinide', u'nateglinide',\n",
      "       u'chlorpropamide', u'glimepiride', u'acetohexamide', u'glipizide',\n",
      "       u'glyburide', u'tolbutamide', u'pioglitazone', u'rosiglitazone',\n",
      "       u'acarbose', u'miglitol', u'troglitazone', u'tolazamide', u'examide',\n",
      "       u'citoglipton', u'insulin', u'glyburide-metformin',\n",
      "       u'glipizide-metformin', u'glimepiride-pioglitazone',\n",
      "       u'metformin-rosiglitazone', u'metformin-pioglitazone', u'Change',\n",
      "       u'diabetesMed', u'readmitted', u'Diabetis_3', u'External causes_3',\n",
      "       u'Infectious and parasitic diseases_3', u'Neoplasms_3', u'Endocrine_3',\n",
      "       u'Blood_3', u'Mental_3', u'Nervous_3', u'Organs_3', u'Circulatory_3',\n",
      "       u'Respiratory_3', u'Digestive_3', u'Genitourinary_3', u'Pregnancy_3',\n",
      "       u'Skin_3', u'Muscoskeletal_3', u'Congenital_3', u'Perinatal_3',\n",
      "       u'Ill-defined_3', u'Poisoning_3', u'Diabetis_1', u'External causes_1',\n",
      "       u'Infectious and parasitic diseases_1', u'Neoplasms_1', u'Endocrine_1',\n",
      "       u'Blood_1', u'Mental_1', u'Nervous_1', u'Organs_1', u'Circulatory_1',\n",
      "       u'Respiratory_1', u'Digestive_1', u'Genitourinary_1', u'Pregnancy_1',\n",
      "       u'Skin_1', u'Muscoskeletal_1', u'Congenital_1', u'Perinatal_1',\n",
      "       u'Ill-defined_1', u'Poisoning_1'],\n",
      "      dtype='object')\n",
      "71518\n",
      "0    54864\n",
      "2    35545\n",
      "1    11357\n",
      "Name: readmitted, dtype: int64\n",
      "['Caucasian' 'AfricanAmerican' 'Other' nan 'Hispanic' 'Asian']\n"
     ]
    }
   ],
   "source": [
    "print df_all.shape\n",
    "print df_all.columns\n",
    "print len(df_all.patient_nbr.unique())\n",
    "print df_all.readmitted.value_counts()\n",
    "print df_all.race.unique()"
   ]
  },
  {
   "cell_type": "markdown",
   "metadata": {},
   "source": [
    "#### Group rows by patient and get last one"
   ]
  },
  {
   "cell_type": "code",
   "execution_count": 503,
   "metadata": {},
   "outputs": [],
   "source": [
    "typeEncounter = \"first\" #[\"first\",\"last\"]"
   ]
  },
  {
   "cell_type": "code",
   "execution_count": 504,
   "metadata": {},
   "outputs": [
    {
     "name": "stdout",
     "output_type": "stream",
     "text": [
      "71518\n"
     ]
    }
   ],
   "source": [
    "if typeEncounter == \"last\":\n",
    "    df=df_all.groupby(['patient_nbr'], sort=True).last()\n",
    "else:\n",
    "    df=df_all.groupby(['patient_nbr'], sort=True).first()\n",
    "\n",
    "df.readmitted.value_counts()\n",
    "print len(df.encounter_id.unique())"
   ]
  },
  {
   "cell_type": "code",
   "execution_count": 505,
   "metadata": {},
   "outputs": [
    {
     "data": {
      "text/plain": [
       "0    65828\n",
       "1     5690\n",
       "Name: Diabetis_1, dtype: int64"
      ]
     },
     "execution_count": 505,
     "metadata": {},
     "output_type": "execute_result"
    }
   ],
   "source": [
    "pd.value_counts(df.Diabetis_1)"
   ]
  },
  {
   "cell_type": "markdown",
   "metadata": {},
   "source": [
    "#### Null values"
   ]
  },
  {
   "cell_type": "code",
   "execution_count": 506,
   "metadata": {},
   "outputs": [
    {
     "data": {
      "text/html": [
       "<div>\n",
       "<style>\n",
       "    .dataframe thead tr:only-child th {\n",
       "        text-align: right;\n",
       "    }\n",
       "\n",
       "    .dataframe thead th {\n",
       "        text-align: left;\n",
       "    }\n",
       "\n",
       "    .dataframe tbody tr th {\n",
       "        vertical-align: top;\n",
       "    }\n",
       "</style>\n",
       "<table border=\"1\" class=\"dataframe\">\n",
       "  <thead>\n",
       "    <tr style=\"text-align: right;\">\n",
       "      <th></th>\n",
       "      <th>%_Null</th>\n",
       "      <th>#_Null</th>\n",
       "      <th>#_No_Null</th>\n",
       "    </tr>\n",
       "  </thead>\n",
       "  <tbody>\n",
       "    <tr>\n",
       "      <th>A1Cresult</th>\n",
       "      <td>0.785</td>\n",
       "      <td>56130</td>\n",
       "      <td>15388</td>\n",
       "    </tr>\n",
       "    <tr>\n",
       "      <th>gender</th>\n",
       "      <td>0.000</td>\n",
       "      <td>3</td>\n",
       "      <td>71515</td>\n",
       "    </tr>\n",
       "    <tr>\n",
       "      <th>max_glu_serum</th>\n",
       "      <td>0.949</td>\n",
       "      <td>67906</td>\n",
       "      <td>3612</td>\n",
       "    </tr>\n",
       "    <tr>\n",
       "      <th>medical_specialty</th>\n",
       "      <td>0.459</td>\n",
       "      <td>32843</td>\n",
       "      <td>38675</td>\n",
       "    </tr>\n",
       "    <tr>\n",
       "      <th>payer_code</th>\n",
       "      <td>0.419</td>\n",
       "      <td>29985</td>\n",
       "      <td>41533</td>\n",
       "    </tr>\n",
       "    <tr>\n",
       "      <th>race</th>\n",
       "      <td>0.026</td>\n",
       "      <td>1850</td>\n",
       "      <td>69668</td>\n",
       "    </tr>\n",
       "    <tr>\n",
       "      <th>weight</th>\n",
       "      <td>0.960</td>\n",
       "      <td>68652</td>\n",
       "      <td>2866</td>\n",
       "    </tr>\n",
       "  </tbody>\n",
       "</table>\n",
       "</div>"
      ],
      "text/plain": [
       "                   %_Null  #_Null  #_No_Null\n",
       "A1Cresult           0.785   56130      15388\n",
       "gender              0.000       3      71515\n",
       "max_glu_serum       0.949   67906       3612\n",
       "medical_specialty   0.459   32843      38675\n",
       "payer_code          0.419   29985      41533\n",
       "race                0.026    1850      69668\n",
       "weight              0.960   68652       2866"
      ]
     },
     "metadata": {},
     "output_type": "display_data"
    },
    {
     "name": "stdout",
     "output_type": "stream",
     "text": [
      "(7, 3)\n"
     ]
    },
    {
     "data": {
      "text/plain": [
       "<function matplotlib.pyplot.show>"
      ]
     },
     "execution_count": 506,
     "metadata": {},
     "output_type": "execute_result"
    },
    {
     "data": {
      "image/png": "[encoded data removed]",
      "text/plain": [
       "<matplotlib.figure.Figure at 0x7facb30fee10>"
      ]
     },
     "metadata": {},
     "output_type": "display_data"
    }
   ],
   "source": [
    "dfNull = np.sum(df.isnull()) / float(df.shape[0])\n",
    "dfNullAll = pd.concat([dfNull[dfNull>0],np.sum(df.isnull()),np.sum(df.isnull()==False)], axis=1)\n",
    "dfNullAll.columns= [\"%_Null\",\"#_Null\",\"#_No_Null\"]\n",
    "\n",
    "display(dfNullAll[dfNullAll.iloc[:,0].isnull() == False][[\"%_Null\",\"#_Null\",\"#_No_Null\"]])\n",
    "print dfNullAll[dfNullAll.iloc[:,0].isnull() == False].shape\n",
    "\n",
    "\n",
    "plt.figure(figsize=(15,4))\n",
    "plt.bar(range(dfNull.shape[0]),dfNull.iloc[:], alpha=0.5)\n",
    "plt.xticks(range(dfNull.shape[0]),dfNull.index,rotation=90)\n",
    "plt.ylabel(\"% nulls\")\n",
    "plt.tight_layout()\n",
    "plt.show"
   ]
  },
  {
   "cell_type": "markdown",
   "metadata": {},
   "source": [
    "#### Remove highly null features"
   ]
  },
  {
   "cell_type": "code",
   "execution_count": 507,
   "metadata": {
    "collapsed": true
   },
   "outputs": [],
   "source": [
    "to_del = []"
   ]
  },
  {
   "cell_type": "code",
   "execution_count": 508,
   "metadata": {
    "collapsed": true
   },
   "outputs": [],
   "source": [
    "#to_del = [\"A1Cresult\",\"max_glu_serum\",\"weight\",\"medical_specialty\"]"
   ]
  },
  {
   "cell_type": "code",
   "execution_count": 509,
   "metadata": {},
   "outputs": [
    {
     "name": "stdout",
     "output_type": "stream",
     "text": [
      "(71518, 87)\n",
      "Index([u'Unnamed: 0', u'encounter_id', u'race', u'gender', u'age', u'weight',\n",
      "       u'admission_type_id', u'discharge_disposition_id',\n",
      "       u'admission_source_id', u'time_in_hospital', u'payer_code',\n",
      "       u'medical_specialty', u'num_lab_procedures', u'num_procedures',\n",
      "       u'num_medications', u'number_outpatient', u'number_emergency',\n",
      "       u'number_inpatient', u'number_diagnoses', u'max_glu_serum',\n",
      "       u'A1Cresult', u'metformin', u'repaglinide', u'nateglinide',\n",
      "       u'chlorpropamide', u'glimepiride', u'acetohexamide', u'glipizide',\n",
      "       u'glyburide', u'tolbutamide', u'pioglitazone', u'rosiglitazone',\n",
      "       u'acarbose', u'miglitol', u'troglitazone', u'tolazamide', u'examide',\n",
      "       u'citoglipton', u'insulin', u'glyburide-metformin',\n",
      "       u'glipizide-metformin', u'glimepiride-pioglitazone',\n",
      "       u'metformin-rosiglitazone', u'metformin-pioglitazone', u'Change',\n",
      "       u'diabetesMed', u'readmitted', u'Diabetis_3', u'External causes_3',\n",
      "       u'Infectious and parasitic diseases_3', u'Neoplasms_3', u'Endocrine_3',\n",
      "       u'Blood_3', u'Mental_3', u'Nervous_3', u'Organs_3', u'Circulatory_3',\n",
      "       u'Respiratory_3', u'Digestive_3', u'Genitourinary_3', u'Pregnancy_3',\n",
      "       u'Skin_3', u'Muscoskeletal_3', u'Congenital_3', u'Perinatal_3',\n",
      "       u'Ill-defined_3', u'Poisoning_3', u'Diabetis_1', u'External causes_1',\n",
      "       u'Infectious and parasitic diseases_1', u'Neoplasms_1', u'Endocrine_1',\n",
      "       u'Blood_1', u'Mental_1', u'Nervous_1', u'Organs_1', u'Circulatory_1',\n",
      "       u'Respiratory_1', u'Digestive_1', u'Genitourinary_1', u'Pregnancy_1',\n",
      "       u'Skin_1', u'Muscoskeletal_1', u'Congenital_1', u'Perinatal_1',\n",
      "       u'Ill-defined_1', u'Poisoning_1'],\n",
      "      dtype='object')\n"
     ]
    }
   ],
   "source": [
    "#Filter_selected cols\n",
    "cols = [c for c in df.columns if (c not in to_del) ]#and ('ENF' not in c)\n",
    "dfFiltered = df[cols]\n",
    "print dfFiltered.shape\n",
    "print dfFiltered.columns"
   ]
  },
  {
   "cell_type": "markdown",
   "metadata": {},
   "source": [
    "#### Check Object (text) features "
   ]
  },
  {
   "cell_type": "code",
   "execution_count": 510,
   "metadata": {
    "scrolled": true
   },
   "outputs": [
    {
     "name": "stdout",
     "output_type": "stream",
     "text": [
      "<class 'pandas.core.frame.DataFrame'>\n",
      "Int64Index: 71518 entries, 135 to 189502619\n",
      "Data columns (total 87 columns):\n",
      "Unnamed: 0                             71518 non-null int64\n",
      "encounter_id                           71518 non-null int64\n",
      "race                                   69668 non-null object\n",
      "gender                                 71515 non-null float64\n",
      "age                                    71518 non-null int64\n",
      "weight                                 2866 non-null object\n",
      "admission_type_id                      71518 non-null int64\n",
      "discharge_disposition_id               71518 non-null int64\n",
      "admission_source_id                    71518 non-null int64\n",
      "time_in_hospital                       71518 non-null int64\n",
      "payer_code                             41533 non-null object\n",
      "medical_specialty                      38675 non-null object\n",
      "num_lab_procedures                     71518 non-null int64\n",
      "num_procedures                         71518 non-null int64\n",
      "num_medications                        71518 non-null int64\n",
      "number_outpatient                      71518 non-null int64\n",
      "number_emergency                       71518 non-null int64\n",
      "number_inpatient                       71518 non-null int64\n",
      "number_diagnoses                       71518 non-null int64\n",
      "max_glu_serum                          3612 non-null float64\n",
      "A1Cresult                              15388 non-null float64\n",
      "metformin                              71518 non-null int64\n",
      "repaglinide                            71518 non-null int64\n",
      "nateglinide                            71518 non-null int64\n",
      "chlorpropamide                         71518 non-null int64\n",
      "glimepiride                            71518 non-null int64\n",
      "acetohexamide                          71518 non-null int64\n",
      "glipizide                              71518 non-null int64\n",
      "glyburide                              71518 non-null int64\n",
      "tolbutamide                            71518 non-null int64\n",
      "pioglitazone                           71518 non-null int64\n",
      "rosiglitazone                          71518 non-null int64\n",
      "acarbose                               71518 non-null int64\n",
      "miglitol                               71518 non-null int64\n",
      "troglitazone                           71518 non-null int64\n",
      "tolazamide                             71518 non-null int64\n",
      "examide                                71518 non-null int64\n",
      "citoglipton                            71518 non-null int64\n",
      "insulin                                71518 non-null int64\n",
      "glyburide-metformin                    71518 non-null int64\n",
      "glipizide-metformin                    71518 non-null int64\n",
      "glimepiride-pioglitazone               71518 non-null int64\n",
      "metformin-rosiglitazone                71518 non-null int64\n",
      "metformin-pioglitazone                 71518 non-null int64\n",
      "Change                                 71518 non-null int64\n",
      "diabetesMed                            71518 non-null int64\n",
      "readmitted                             71518 non-null int64\n",
      "Diabetis_3                             71518 non-null int64\n",
      "External causes_3                      71518 non-null int64\n",
      "Infectious and parasitic diseases_3    71518 non-null int64\n",
      "Neoplasms_3                            71518 non-null int64\n",
      "Endocrine_3                            71518 non-null int64\n",
      "Blood_3                                71518 non-null int64\n",
      "Mental_3                               71518 non-null int64\n",
      "Nervous_3                              71518 non-null int64\n",
      "Organs_3                               71518 non-null int64\n",
      "Circulatory_3                          71518 non-null int64\n",
      "Respiratory_3                          71518 non-null int64\n",
      "Digestive_3                            71518 non-null int64\n",
      "Genitourinary_3                        71518 non-null int64\n",
      "Pregnancy_3                            71518 non-null int64\n",
      "Skin_3                                 71518 non-null int64\n",
      "Muscoskeletal_3                        71518 non-null int64\n",
      "Congenital_3                           71518 non-null int64\n",
      "Perinatal_3                            71518 non-null int64\n",
      "Ill-defined_3                          71518 non-null int64\n",
      "Poisoning_3                            71518 non-null int64\n",
      "Diabetis_1                             71518 non-null int64\n",
      "External causes_1                      71518 non-null int64\n",
      "Infectious and parasitic diseases_1    71518 non-null int64\n",
      "Neoplasms_1                            71518 non-null int64\n",
      "Endocrine_1                            71518 non-null int64\n",
      "Blood_1                                71518 non-null int64\n",
      "Mental_1                               71518 non-null int64\n",
      "Nervous_1                              71518 non-null int64\n",
      "Organs_1                               71518 non-null int64\n",
      "Circulatory_1                          71518 non-null int64\n",
      "Respiratory_1                          71518 non-null int64\n",
      "Digestive_1                            71518 non-null int64\n",
      "Genitourinary_1                        71518 non-null int64\n",
      "Pregnancy_1                            71518 non-null int64\n",
      "Skin_1                                 71518 non-null int64\n",
      "Muscoskeletal_1                        71518 non-null int64\n",
      "Congenital_1                           71518 non-null int64\n",
      "Perinatal_1                            71518 non-null int64\n",
      "Ill-defined_1                          71518 non-null int64\n",
      "Poisoning_1                            71518 non-null int64\n",
      "dtypes: float64(3), int64(80), object(4)\n",
      "memory usage: 48.0+ MB\n"
     ]
    },
    {
     "ename": "AttributeError",
     "evalue": "'NoneType' object has no attribute 'tolist'",
     "output_type": "error",
     "traceback": [
      "\u001b[0;31m---------------------------------------------------------------------------\u001b[0m",
      "\u001b[0;31mAttributeError\u001b[0m                            Traceback (most recent call last)",
      "\u001b[0;32m<ipython-input-510-9b7ab722be49>\u001b[0m in \u001b[0;36m<module>\u001b[0;34m()\u001b[0m\n\u001b[0;32m----> 1\u001b[0;31m \u001b[0;32mprint\u001b[0m \u001b[0mdf\u001b[0m\u001b[0;34m.\u001b[0m\u001b[0minfo\u001b[0m\u001b[0;34m(\u001b[0m\u001b[0;34m)\u001b[0m\u001b[0;34m.\u001b[0m\u001b[0mtolist\u001b[0m\u001b[0;34m(\u001b[0m\u001b[0;34m)\u001b[0m\u001b[0;34m\u001b[0m\u001b[0m\n\u001b[0m",
      "\u001b[0;31mAttributeError\u001b[0m: 'NoneType' object has no attribute 'tolist'"
     ]
    }
   ],
   "source": [
    "print df.info().tolist()"
   ]
  },
  {
   "cell_type": "code",
   "execution_count": 511,
   "metadata": {
    "scrolled": true
   },
   "outputs": [
    {
     "name": "stdout",
     "output_type": "stream",
     "text": [
      "race 6 :\n",
      "Caucasian          53556\n",
      "AfricanAmerican    12916\n",
      "Hispanic            1514\n",
      "Other               1170\n",
      "Asian                512\n",
      "Name: race, dtype: int64\n",
      "\n",
      "weight 10 :\n",
      "[75-100)     1208\n",
      "[50-75)       796\n",
      "[100-125)     558\n",
      "[125-150)     133\n",
      "[25-50)        88\n",
      "[0-25)         37\n",
      "[150-175)      34\n",
      "[175-200)      10\n",
      ">200            2\n",
      "Name: weight, dtype: int64\n",
      "\n",
      "payer_code 18 :\n",
      "MC    21332\n",
      "HM     4157\n",
      "BC     3442\n",
      "SP     3217\n",
      "MD     2267\n",
      "CP     1918\n",
      "UN     1888\n",
      "CM     1430\n",
      "OG      656\n",
      "PO      459\n",
      "DM      384\n",
      "WC      119\n",
      "CH      115\n",
      "OT       65\n",
      "MP       48\n",
      "SI       35\n",
      "FR        1\n",
      "Name: payer_code, dtype: int64\n",
      "\n",
      "medical_specialty 71 :\n",
      "InternalMedicine                        11316\n",
      "Family/GeneralPractice                   5335\n",
      "Emergency/Trauma                         4510\n",
      "Cardiology                               4371\n",
      "Surgery-General                          2364\n",
      "Orthopedics                              1174\n",
      "Orthopedics-Reconstructive               1071\n",
      "Radiologist                               977\n",
      "Nephrology                                940\n",
      "Pulmonology                               654\n",
      "Psychiatry                                646\n",
      "ObstetricsandGynecology                   602\n",
      "Urology                                   546\n",
      "Surgery-Cardiovascular/Thoracic           521\n",
      "Gastroenterology                          448\n",
      "Surgery-Neuro                             414\n",
      "Surgery-Vascular                          385\n",
      "PhysicalMedicineandRehabilitation         326\n",
      "Oncology                                  245\n",
      "Pediatrics                                221\n",
      "Neurology                                 165\n",
      "Pediatrics-Endocrinology                  142\n",
      "Hematology/Oncology                       132\n",
      "Otolaryngology                            107\n",
      "Surgery-Thoracic                           97\n",
      "Endocrinology                              95\n",
      "Surgery-Cardiovascular                     91\n",
      "Podiatry                                   74\n",
      "Pediatrics-CriticalCare                    67\n",
      "Psychology                                 66\n",
      "                                        ...  \n",
      "Obsterics&Gynecology-GynecologicOnco       19\n",
      "Obstetrics                                 18\n",
      "Anesthesiology-Pediatric                   17\n",
      "Rheumatology                               15\n",
      "Pathology                                  14\n",
      "Anesthesiology                             11\n",
      "PhysicianNotFound                          10\n",
      "Surgery-Maxillofacial                       9\n",
      "Surgery-Pediatric                           8\n",
      "Surgery-Colon&Rectal                        7\n",
      "Cardiology-Pediatric                        7\n",
      "Endocrinology-Metabolism                    7\n",
      "DCPTEAM                                     6\n",
      "Pediatrics-Pulmonology                      6\n",
      "OutreachServices                            6\n",
      "Pediatrics-Neurology                        6\n",
      "AllergyandImmunology                        5\n",
      "Psychiatry-Child/Adolescent                 4\n",
      "Pediatrics-Hematology-Oncology              3\n",
      "Dentistry                                   3\n",
      "Pediatrics-EmergencyMedicine                2\n",
      "Resident                                    2\n",
      "Neurophysiology                             1\n",
      "SportsMedicine                              1\n",
      "Psychiatry-Addictive                        1\n",
      "Pediatrics-AllergyandImmunology             1\n",
      "Proctology                                  1\n",
      "Speech                                      1\n",
      "Perinatology                                1\n",
      "Pediatrics-InfectiousDiseases               1\n",
      "Name: medical_specialty, Length: 70, dtype: int64\n",
      "\n"
     ]
    }
   ],
   "source": [
    "for c in dfFiltered.columns:\n",
    "    if dfFiltered[c].dtype == 'object':\n",
    "        print c, len(dfFiltered[c].unique()),\":\"\n",
    "        print pd.value_counts(dfFiltered[c])\n",
    "        print "
   ]
  },
  {
   "cell_type": "markdown",
   "metadata": {},
   "source": [
    "#### Convert categorical feature into dummy"
   ]
  },
  {
   "cell_type": "code",
   "execution_count": 512,
   "metadata": {},
   "outputs": [
    {
     "name": "stdout",
     "output_type": "stream",
     "text": [
      "medSpec_AllergyandImmunology\n",
      "0    71513\n",
      "1        5\n",
      "Name: medSpec_AllergyandImmunology, dtype: int64\n",
      "medSpec_Anesthesiology\n",
      "0    71507\n",
      "1       11\n",
      "Name: medSpec_Anesthesiology, dtype: int64\n",
      "medSpec_Anesthesiology-Pediatric\n",
      "0    71501\n",
      "1       17\n",
      "Name: medSpec_Anesthesiology-Pediatric, dtype: int64\n",
      "medSpec_Cardiology\n",
      "0    67147\n",
      "1     4371\n",
      "Name: medSpec_Cardiology, dtype: int64\n",
      "medSpec_Cardiology-Pediatric\n",
      "0    71511\n",
      "1        7\n",
      "Name: medSpec_Cardiology-Pediatric, dtype: int64\n",
      "medSpec_DCPTEAM\n",
      "0    71512\n",
      "1        6\n",
      "Name: medSpec_DCPTEAM, dtype: int64\n",
      "medSpec_Dentistry\n",
      "0    71515\n",
      "1        3\n",
      "Name: medSpec_Dentistry, dtype: int64\n",
      "medSpec_Emergency/Trauma\n",
      "0    67008\n",
      "1     4510\n",
      "Name: medSpec_Emergency/Trauma, dtype: int64\n",
      "medSpec_Endocrinology\n",
      "0    71423\n",
      "1       95\n",
      "Name: medSpec_Endocrinology, dtype: int64\n",
      "medSpec_Endocrinology-Metabolism\n",
      "0    71511\n",
      "1        7\n",
      "Name: medSpec_Endocrinology-Metabolism, dtype: int64\n",
      "medSpec_Family/GeneralPractice\n",
      "0    66183\n",
      "1     5335\n",
      "Name: medSpec_Family/GeneralPractice, dtype: int64\n",
      "medSpec_Gastroenterology\n",
      "0    71070\n",
      "1      448\n",
      "Name: medSpec_Gastroenterology, dtype: int64\n",
      "medSpec_Gynecology\n",
      "0    71465\n",
      "1       53\n",
      "Name: medSpec_Gynecology, dtype: int64\n",
      "medSpec_Hematology\n",
      "0    71477\n",
      "1       41\n",
      "Name: medSpec_Hematology, dtype: int64\n",
      "medSpec_Hematology/Oncology\n",
      "0    71386\n",
      "1      132\n",
      "Name: medSpec_Hematology/Oncology, dtype: int64\n",
      "medSpec_Hospitalist\n",
      "0    71479\n",
      "1       39\n",
      "Name: medSpec_Hospitalist, dtype: int64\n",
      "medSpec_InfectiousDiseases\n",
      "0    71489\n",
      "1       29\n",
      "Name: medSpec_InfectiousDiseases, dtype: int64\n",
      "medSpec_InternalMedicine\n",
      "0    60202\n",
      "1    11316\n",
      "Name: medSpec_InternalMedicine, dtype: int64\n",
      "medSpec_Nephrology\n",
      "0    70578\n",
      "1      940\n",
      "Name: medSpec_Nephrology, dtype: int64\n",
      "medSpec_Neurology\n",
      "0    71353\n",
      "1      165\n",
      "Name: medSpec_Neurology, dtype: int64\n",
      "medSpec_Neurophysiology\n",
      "0    71517\n",
      "1        1\n",
      "Name: medSpec_Neurophysiology, dtype: int64\n",
      "medSpec_Obsterics&Gynecology-GynecologicOnco\n",
      "0    71499\n",
      "1       19\n",
      "Name: medSpec_Obsterics&Gynecology-GynecologicOnco, dtype: int64\n",
      "medSpec_Obstetrics\n",
      "0    71500\n",
      "1       18\n",
      "Name: medSpec_Obstetrics, dtype: int64\n",
      "medSpec_ObstetricsandGynecology\n",
      "0    70916\n",
      "1      602\n",
      "Name: medSpec_ObstetricsandGynecology, dtype: int64\n",
      "medSpec_Oncology\n",
      "0    71273\n",
      "1      245\n",
      "Name: medSpec_Oncology, dtype: int64\n",
      "medSpec_Ophthalmology\n",
      "0    71484\n",
      "1       34\n",
      "Name: medSpec_Ophthalmology, dtype: int64\n",
      "medSpec_Orthopedics\n",
      "0    70344\n",
      "1     1174\n",
      "Name: medSpec_Orthopedics, dtype: int64\n",
      "medSpec_Orthopedics-Reconstructive\n",
      "0    70447\n",
      "1     1071\n",
      "Name: medSpec_Orthopedics-Reconstructive, dtype: int64\n",
      "medSpec_Osteopath\n",
      "0    71480\n",
      "1       38\n",
      "Name: medSpec_Osteopath, dtype: int64\n",
      "medSpec_Otolaryngology\n",
      "0    71411\n",
      "1      107\n",
      "Name: medSpec_Otolaryngology, dtype: int64\n",
      "medSpec_OutreachServices\n",
      "0    71512\n",
      "1        6\n",
      "Name: medSpec_OutreachServices, dtype: int64\n",
      "medSpec_Pathology\n",
      "0    71504\n",
      "1       14\n",
      "Name: medSpec_Pathology, dtype: int64\n",
      "medSpec_Pediatrics\n",
      "0    71297\n",
      "1      221\n",
      "Name: medSpec_Pediatrics, dtype: int64\n",
      "medSpec_Pediatrics-AllergyandImmunology\n",
      "0    71517\n",
      "1        1\n",
      "Name: medSpec_Pediatrics-AllergyandImmunology, dtype: int64\n",
      "medSpec_Pediatrics-CriticalCare\n",
      "0    71451\n",
      "1       67\n",
      "Name: medSpec_Pediatrics-CriticalCare, dtype: int64\n",
      "medSpec_Pediatrics-EmergencyMedicine\n",
      "0    71516\n",
      "1        2\n",
      "Name: medSpec_Pediatrics-EmergencyMedicine, dtype: int64\n",
      "medSpec_Pediatrics-Endocrinology\n",
      "0    71376\n",
      "1      142\n",
      "Name: medSpec_Pediatrics-Endocrinology, dtype: int64\n",
      "medSpec_Pediatrics-Hematology-Oncology\n",
      "0    71515\n",
      "1        3\n",
      "Name: medSpec_Pediatrics-Hematology-Oncology, dtype: int64\n",
      "medSpec_Pediatrics-InfectiousDiseases\n",
      "0    71517\n",
      "1        1\n",
      "Name: medSpec_Pediatrics-InfectiousDiseases, dtype: int64\n",
      "medSpec_Pediatrics-Neurology\n",
      "0    71512\n",
      "1        6\n",
      "Name: medSpec_Pediatrics-Neurology, dtype: int64\n",
      "medSpec_Pediatrics-Pulmonology\n",
      "0    71512\n",
      "1        6\n",
      "Name: medSpec_Pediatrics-Pulmonology, dtype: int64\n",
      "medSpec_Perinatology\n",
      "0    71517\n",
      "1        1\n",
      "Name: medSpec_Perinatology, dtype: int64\n",
      "medSpec_PhysicalMedicineandRehabilitation\n",
      "0    71192\n",
      "1      326\n",
      "Name: medSpec_PhysicalMedicineandRehabilitation, dtype: int64\n",
      "medSpec_PhysicianNotFound\n",
      "0    71508\n",
      "1       10\n",
      "Name: medSpec_PhysicianNotFound, dtype: int64\n",
      "medSpec_Podiatry\n",
      "0    71444\n",
      "1       74\n",
      "Name: medSpec_Podiatry, dtype: int64\n",
      "medSpec_Proctology\n",
      "0    71517\n",
      "1        1\n",
      "Name: medSpec_Proctology, dtype: int64\n",
      "medSpec_Psychiatry\n",
      "0    70872\n",
      "1      646\n",
      "Name: medSpec_Psychiatry, dtype: int64\n",
      "medSpec_Psychiatry-Addictive\n",
      "0    71517\n",
      "1        1\n",
      "Name: medSpec_Psychiatry-Addictive, dtype: int64\n",
      "medSpec_Psychiatry-Child/Adolescent\n",
      "0    71514\n",
      "1        4\n",
      "Name: medSpec_Psychiatry-Child/Adolescent, dtype: int64\n",
      "medSpec_Psychology\n",
      "0    71452\n",
      "1       66\n",
      "Name: medSpec_Psychology, dtype: int64\n",
      "medSpec_Pulmonology\n",
      "0    70864\n",
      "1      654\n",
      "Name: medSpec_Pulmonology, dtype: int64\n",
      "medSpec_Radiologist\n",
      "0    70541\n",
      "1      977\n",
      "Name: medSpec_Radiologist, dtype: int64\n",
      "medSpec_Radiology\n",
      "0    71480\n",
      "1       38\n",
      "Name: medSpec_Radiology, dtype: int64\n",
      "medSpec_Resident\n",
      "0    71516\n",
      "1        2\n",
      "Name: medSpec_Resident, dtype: int64\n",
      "medSpec_Rheumatology\n",
      "0    71503\n",
      "1       15\n",
      "Name: medSpec_Rheumatology, dtype: int64\n",
      "medSpec_Speech\n",
      "0    71517\n",
      "1        1\n",
      "Name: medSpec_Speech, dtype: int64\n",
      "medSpec_SportsMedicine\n",
      "0    71517\n",
      "1        1\n",
      "Name: medSpec_SportsMedicine, dtype: int64\n",
      "medSpec_Surgeon\n",
      "0    71474\n",
      "1       44\n",
      "Name: medSpec_Surgeon, dtype: int64\n",
      "medSpec_Surgery-Cardiovascular\n",
      "0    71427\n",
      "1       91\n",
      "Name: medSpec_Surgery-Cardiovascular, dtype: int64\n",
      "medSpec_Surgery-Cardiovascular/Thoracic\n",
      "0    70997\n",
      "1      521\n",
      "Name: medSpec_Surgery-Cardiovascular/Thoracic, dtype: int64\n",
      "medSpec_Surgery-Colon&Rectal\n",
      "0    71511\n",
      "1        7\n",
      "Name: medSpec_Surgery-Colon&Rectal, dtype: int64\n",
      "medSpec_Surgery-General\n",
      "0    69154\n",
      "1     2364\n",
      "Name: medSpec_Surgery-General, dtype: int64\n",
      "medSpec_Surgery-Maxillofacial\n",
      "0    71509\n",
      "1        9\n",
      "Name: medSpec_Surgery-Maxillofacial, dtype: int64\n",
      "medSpec_Surgery-Neuro\n",
      "0    71104\n",
      "1      414\n",
      "Name: medSpec_Surgery-Neuro, dtype: int64\n",
      "medSpec_Surgery-Pediatric\n",
      "0    71510\n",
      "1        8\n",
      "Name: medSpec_Surgery-Pediatric, dtype: int64\n",
      "medSpec_Surgery-Plastic\n",
      "0    71482\n",
      "1       36\n",
      "Name: medSpec_Surgery-Plastic, dtype: int64\n",
      "medSpec_Surgery-Thoracic\n",
      "0    71421\n",
      "1       97\n",
      "Name: medSpec_Surgery-Thoracic, dtype: int64\n",
      "medSpec_Surgery-Vascular\n",
      "0    71133\n",
      "1      385\n",
      "Name: medSpec_Surgery-Vascular, dtype: int64\n",
      "medSpec_SurgicalSpecialty\n",
      "0    71490\n",
      "1       28\n",
      "Name: medSpec_SurgicalSpecialty, dtype: int64\n",
      "medSpec_Urology\n",
      "0    70972\n",
      "1      546\n",
      "Name: medSpec_Urology, dtype: int64\n",
      "(71518, 157)\n",
      "Index([u'Unnamed: 0', u'encounter_id', u'race', u'gender', u'age', u'weight',\n",
      "       u'admission_type_id', u'discharge_disposition_id',\n",
      "       u'admission_source_id', u'time_in_hospital',\n",
      "       ...\n",
      "       u'medSpec_Surgery-General', u'medSpec_Surgery-Maxillofacial',\n",
      "       u'medSpec_Surgery-Neuro', u'medSpec_Surgery-Pediatric',\n",
      "       u'medSpec_Surgery-Plastic', u'medSpec_Surgery-Thoracic',\n",
      "       u'medSpec_Surgery-Vascular', u'medSpec_SurgicalSpecialty',\n",
      "       u'medSpec_Urology', u'Poisoning_1'],\n",
      "      dtype='object', length=157)\n"
     ]
    }
   ],
   "source": [
    "df_spec = pd.get_dummies(dfFiltered['medical_specialty'],dummy_na=False, prefix='medSpec')\n",
    "for c in df_spec.columns:\n",
    "    print c\n",
    "    print pd.value_counts(df_spec[c])\n",
    "    \n",
    "df_clean = pd.concat([dfFiltered.iloc[:,:-1], df_spec], axis=1)\n",
    "dfFiltered = pd.concat([df_clean, dfFiltered.iloc[:,-1]], axis=1)\n",
    "print dfFiltered.shape\n",
    "print dfFiltered.columns"
   ]
  },
  {
   "cell_type": "code",
   "execution_count": 513,
   "metadata": {
    "scrolled": true
   },
   "outputs": [
    {
     "name": "stderr",
     "output_type": "stream",
     "text": [
      "/home/ilmira/.conda/envs/readmision/lib/python2.7/site-packages/ipykernel_launcher.py:1: SettingWithCopyWarning: \n",
      "A value is trying to be set on a copy of a slice from a DataFrame\n",
      "\n",
      "See the caveats in the documentation: http://pandas.pydata.org/pandas-docs/stable/indexing.html#indexing-view-versus-copy\n",
      "  \"\"\"Entry point for launching an IPython kernel.\n",
      "/home/ilmira/.conda/envs/readmision/lib/python2.7/site-packages/ipykernel_launcher.py:2: SettingWithCopyWarning: \n",
      "A value is trying to be set on a copy of a slice from a DataFrame\n",
      "\n",
      "See the caveats in the documentation: http://pandas.pydata.org/pandas-docs/stable/indexing.html#indexing-view-versus-copy\n",
      "  \n",
      "/home/ilmira/.conda/envs/readmision/lib/python2.7/site-packages/ipykernel_launcher.py:3: SettingWithCopyWarning: \n",
      "A value is trying to be set on a copy of a slice from a DataFrame\n",
      "\n",
      "See the caveats in the documentation: http://pandas.pydata.org/pandas-docs/stable/indexing.html#indexing-view-versus-copy\n",
      "  This is separate from the ipykernel package so we can avoid doing imports until\n",
      "/home/ilmira/.conda/envs/readmision/lib/python2.7/site-packages/ipykernel_launcher.py:4: SettingWithCopyWarning: \n",
      "A value is trying to be set on a copy of a slice from a DataFrame\n",
      "\n",
      "See the caveats in the documentation: http://pandas.pydata.org/pandas-docs/stable/indexing.html#indexing-view-versus-copy\n",
      "  after removing the cwd from sys.path.\n",
      "/home/ilmira/.conda/envs/readmision/lib/python2.7/site-packages/ipykernel_launcher.py:5: SettingWithCopyWarning: \n",
      "A value is trying to be set on a copy of a slice from a DataFrame\n",
      "\n",
      "See the caveats in the documentation: http://pandas.pydata.org/pandas-docs/stable/indexing.html#indexing-view-versus-copy\n",
      "  \"\"\"\n",
      "/home/ilmira/.conda/envs/readmision/lib/python2.7/site-packages/ipykernel_launcher.py:6: SettingWithCopyWarning: \n",
      "A value is trying to be set on a copy of a slice from a DataFrame\n",
      "\n",
      "See the caveats in the documentation: http://pandas.pydata.org/pandas-docs/stable/indexing.html#indexing-view-versus-copy\n",
      "  \n"
     ]
    },
    {
     "name": "stdout",
     "output_type": "stream",
     "text": [
      "3    1208\n",
      "2     796\n",
      "4     558\n",
      "5     133\n",
      "1      88\n",
      "0      37\n",
      "6      34\n",
      "7      10\n",
      "8       2\n",
      "Name: weight, dtype: int64\n",
      "(71518, 157)\n",
      "Index([u'Unnamed: 0', u'encounter_id', u'race', u'gender', u'age', u'weight',\n",
      "       u'admission_type_id', u'discharge_disposition_id',\n",
      "       u'admission_source_id', u'time_in_hospital',\n",
      "       ...\n",
      "       u'medSpec_Surgery-General', u'medSpec_Surgery-Maxillofacial',\n",
      "       u'medSpec_Surgery-Neuro', u'medSpec_Surgery-Pediatric',\n",
      "       u'medSpec_Surgery-Plastic', u'medSpec_Surgery-Thoracic',\n",
      "       u'medSpec_Surgery-Vascular', u'medSpec_SurgicalSpecialty',\n",
      "       u'medSpec_Urology', u'Poisoning_1'],\n",
      "      dtype='object', length=157)\n"
     ]
    },
    {
     "name": "stderr",
     "output_type": "stream",
     "text": [
      "/home/ilmira/.conda/envs/readmision/lib/python2.7/site-packages/ipykernel_launcher.py:7: SettingWithCopyWarning: \n",
      "A value is trying to be set on a copy of a slice from a DataFrame\n",
      "\n",
      "See the caveats in the documentation: http://pandas.pydata.org/pandas-docs/stable/indexing.html#indexing-view-versus-copy\n",
      "  import sys\n",
      "/home/ilmira/.conda/envs/readmision/lib/python2.7/site-packages/ipykernel_launcher.py:8: SettingWithCopyWarning: \n",
      "A value is trying to be set on a copy of a slice from a DataFrame\n",
      "\n",
      "See the caveats in the documentation: http://pandas.pydata.org/pandas-docs/stable/indexing.html#indexing-view-versus-copy\n",
      "  \n",
      "/home/ilmira/.conda/envs/readmision/lib/python2.7/site-packages/ipykernel_launcher.py:9: SettingWithCopyWarning: \n",
      "A value is trying to be set on a copy of a slice from a DataFrame\n",
      "\n",
      "See the caveats in the documentation: http://pandas.pydata.org/pandas-docs/stable/indexing.html#indexing-view-versus-copy\n",
      "  if __name__ == '__main__':\n"
     ]
    }
   ],
   "source": [
    "dfFiltered[\"weight\"][dfFiltered[\"weight\"] == \"[0-25)\"] = 0\n",
    "dfFiltered[\"weight\"][dfFiltered[\"weight\"] == \"[25-50)\"] = 1\n",
    "dfFiltered[\"weight\"][dfFiltered[\"weight\"] == \"[50-75)\"] = 2\n",
    "dfFiltered[\"weight\"][dfFiltered[\"weight\"] == \"[75-100)\"] = 3\n",
    "dfFiltered[\"weight\"][dfFiltered[\"weight\"] == \"[100-125)\"] = 4\n",
    "dfFiltered[\"weight\"][dfFiltered[\"weight\"] == \"[125-150)\"] = 5\n",
    "dfFiltered[\"weight\"][dfFiltered[\"weight\"] == \"[150-175)\"] = 6\n",
    "dfFiltered[\"weight\"][dfFiltered[\"weight\"] == \"[175-200)\"] = 7\n",
    "dfFiltered[\"weight\"][dfFiltered[\"weight\"] == \">200\"] = 8\n",
    "\n",
    "print pd.value_counts(dfFiltered.weight)\n",
    "print dfFiltered.shape\n",
    "print dfFiltered.columns"
   ]
  },
  {
   "cell_type": "code",
   "execution_count": 514,
   "metadata": {
    "scrolled": true
   },
   "outputs": [
    {
     "name": "stdout",
     "output_type": "stream",
     "text": [
      "['Caucasian' 'AfricanAmerican' 'Hispanic' nan 'Asian' 'Other']\n",
      "race_AfricanAmerican\n",
      "0    58602\n",
      "1    12916\n",
      "Name: race_AfricanAmerican, dtype: int64\n",
      "race_Asian\n",
      "0    71006\n",
      "1      512\n",
      "Name: race_Asian, dtype: int64\n",
      "race_Caucasian\n",
      "1    53556\n",
      "0    17962\n",
      "Name: race_Caucasian, dtype: int64\n",
      "race_Hispanic\n",
      "0    70004\n",
      "1     1514\n",
      "Name: race_Hispanic, dtype: int64\n",
      "race_Other\n",
      "0    70348\n",
      "1     1170\n",
      "Name: race_Other, dtype: int64\n",
      "(71518, 162)\n",
      "Index([u'Unnamed: 0', u'encounter_id', u'race', u'gender', u'age', u'weight',\n",
      "       u'admission_type_id', u'discharge_disposition_id',\n",
      "       u'admission_source_id', u'time_in_hospital',\n",
      "       ...\n",
      "       u'medSpec_Surgery-Thoracic', u'medSpec_Surgery-Vascular',\n",
      "       u'medSpec_SurgicalSpecialty', u'medSpec_Urology',\n",
      "       u'race_AfricanAmerican', u'race_Asian', u'race_Caucasian',\n",
      "       u'race_Hispanic', u'race_Other', u'Poisoning_1'],\n",
      "      dtype='object', length=162)\n"
     ]
    }
   ],
   "source": [
    "print dfFiltered['race'].unique()\n",
    "\n",
    "df_race = pd.get_dummies(dfFiltered['race'],dummy_na=False, prefix='race')\n",
    "for c in df_race.columns:\n",
    "    print c\n",
    "    print pd.value_counts(df_race[c])\n",
    "    \n",
    "\n",
    "df_clean = pd.concat([dfFiltered.iloc[:,:-1], df_race], axis=1)\n",
    "dfFiltered = pd.concat([df_clean, dfFiltered.iloc[:,-1]], axis=1)\n",
    "print dfFiltered.shape\n",
    "print dfFiltered.columns"
   ]
  },
  {
   "cell_type": "code",
   "execution_count": 515,
   "metadata": {
    "scrolled": true
   },
   "outputs": [
    {
     "name": "stdout",
     "output_type": "stream",
     "text": [
      "adm_1\n",
      "1    37191\n",
      "0    34327\n",
      "Name: adm_1, dtype: int64\n",
      "adm_2\n",
      "0    58486\n",
      "1    13032\n",
      "Name: adm_2, dtype: int64\n",
      "adm_3\n",
      "0    57695\n",
      "1    13823\n",
      "Name: adm_3, dtype: int64\n",
      "adm_4\n",
      "0    71509\n",
      "1        9\n",
      "Name: adm_4, dtype: int64\n",
      "adm_5\n",
      "0    68659\n",
      "1     2859\n",
      "Name: adm_5, dtype: int64\n",
      "adm_6\n",
      "0    67236\n",
      "1     4282\n",
      "Name: adm_6, dtype: int64\n",
      "adm_7\n",
      "0    71499\n",
      "1       19\n",
      "Name: adm_7, dtype: int64\n",
      "adm_8\n",
      "0    71215\n",
      "1      303\n",
      "Name: adm_8, dtype: int64\n",
      "['adm_1', 'adm_2', 'adm_3', 'adm_4', 'adm_7']\n",
      "(71518, 167)\n",
      "Index([u'Unnamed: 0', u'encounter_id', u'race', u'gender', u'age', u'weight',\n",
      "       u'admission_type_id', u'discharge_disposition_id',\n",
      "       u'admission_source_id', u'time_in_hospital',\n",
      "       ...\n",
      "       u'race_Asian', u'race_Caucasian', u'race_Hispanic', u'race_Other',\n",
      "       u'adm_1', u'adm_2', u'adm_3', u'adm_4', u'adm_7', u'Poisoning_1'],\n",
      "      dtype='object', length=167)\n"
     ]
    }
   ],
   "source": [
    "df_adm = pd.get_dummies(dfFiltered['admission_type_id'],dummy_na=False, prefix='adm')\n",
    "for c in df_adm.columns:\n",
    "    print c\n",
    "    print pd.value_counts(df_adm[c])\n",
    "    \n",
    "#Remove non_informative columns\n",
    "selCols = []\n",
    "for c in df_adm.columns:\n",
    "    if c not in [\"adm_5\", \"adm_6\",\"adm_8\"]:\n",
    "        selCols.append(c)\n",
    "        \n",
    "print selCols\n",
    "\n",
    "\n",
    "df_clean = pd.concat([dfFiltered.iloc[:,:-1], df_adm[selCols]], axis=1)\n",
    "dfFiltered = pd.concat([df_clean, dfFiltered.iloc[:,-1]], axis=1)\n",
    "print dfFiltered.shape\n",
    "print dfFiltered.columns"
   ]
  },
  {
   "cell_type": "code",
   "execution_count": 516,
   "metadata": {
    "scrolled": true
   },
   "outputs": [
    {
     "name": "stdout",
     "output_type": "stream",
     "text": [
      "['adm_src_1', 'adm_src_2', 'adm_src_3', 'adm_src_4', 'adm_src_5', 'adm_src_6', 'adm_src_7', 'adm_src_8', 'adm_src_10', 'adm_src_11', 'adm_src_13', 'adm_src_14', 'adm_src_22', 'adm_src_25']\n",
      "adm_src_1 [0 1]\n",
      "0    50156\n",
      "1    21362\n",
      "Name: adm_src_1, dtype: int64\n",
      "adm_src_2 [0 1]\n",
      "0    70611\n",
      "1      907\n",
      "Name: adm_src_2, dtype: int64\n",
      "adm_src_3 [0 1]\n",
      "0    71401\n",
      "1      117\n",
      "Name: adm_src_3, dtype: int64\n",
      "adm_src_4 [0 1]\n",
      "0    68863\n",
      "1     2655\n",
      "Name: adm_src_4, dtype: int64\n",
      "adm_src_5 [0 1]\n",
      "0    70873\n",
      "1      645\n",
      "Name: adm_src_5, dtype: int64\n",
      "adm_src_6 [0 1]\n",
      "0    69695\n",
      "1     1823\n",
      "Name: adm_src_6, dtype: int64\n",
      "adm_src_7 [0 1]\n",
      "1    38844\n",
      "0    32674\n",
      "Name: adm_src_7, dtype: int64\n",
      "adm_src_8 [0 1]\n",
      "0    71506\n",
      "1       12\n",
      "Name: adm_src_8, dtype: int64\n",
      "adm_src_10 [0 1]\n",
      "0    71511\n",
      "1        7\n",
      "Name: adm_src_10, dtype: int64\n",
      "adm_src_11 [0 1]\n",
      "0    71516\n",
      "1        2\n",
      "Name: adm_src_11, dtype: int64\n",
      "adm_src_13 [0 1]\n",
      "0    71517\n",
      "1        1\n",
      "Name: adm_src_13, dtype: int64\n",
      "adm_src_14 [0 1]\n",
      "0    71516\n",
      "1        2\n",
      "Name: adm_src_14, dtype: int64\n",
      "adm_src_22 [0 1]\n",
      "0    71512\n",
      "1        6\n",
      "Name: adm_src_22, dtype: int64\n",
      "adm_src_25 [0 1]\n",
      "0    71516\n",
      "1        2\n",
      "Name: adm_src_25, dtype: int64\n",
      "(71518, 181)\n",
      "Index([u'Unnamed: 0', u'encounter_id', u'race', u'gender', u'age', u'weight',\n",
      "       u'admission_type_id', u'discharge_disposition_id',\n",
      "       u'admission_source_id', u'time_in_hospital',\n",
      "       ...\n",
      "       u'adm_src_6', u'adm_src_7', u'adm_src_8', u'adm_src_10', u'adm_src_11',\n",
      "       u'adm_src_13', u'adm_src_14', u'adm_src_22', u'adm_src_25',\n",
      "       u'Poisoning_1'],\n",
      "      dtype='object', length=181)\n"
     ]
    }
   ],
   "source": [
    "df_adm = pd.get_dummies(dfFiltered['admission_source_id'],dummy_na=False, prefix='adm_src')\n",
    "\n",
    "#Remove non_informative columns\n",
    "selCols = []\n",
    "for c in df_adm.columns:\n",
    "    if c not in [\"adm_src_9\", \"adm_src_15\",\"adm_src_17\",\"adm_src_20\",\"adm_src_21\"]:\n",
    "        selCols.append(c)      \n",
    "print selCols\n",
    "\n",
    "\n",
    "df_clean = pd.concat([dfFiltered.iloc[:,:-1], df_adm[selCols]], axis=1)\n",
    "dfFiltered = pd.concat([df_clean, dfFiltered.iloc[:,-1]], axis=1)\n",
    "\n",
    "for c in dfFiltered.columns:\n",
    "    if c in df_adm.columns:\n",
    "        print c, np.unique(dfFiltered[c])\n",
    "        print pd.value_counts(dfFiltered[c])\n",
    "    \n",
    "print dfFiltered.shape\n",
    "print dfFiltered.columns"
   ]
  },
  {
   "cell_type": "code",
   "execution_count": 517,
   "metadata": {
    "scrolled": true
   },
   "outputs": [
    {
     "name": "stdout",
     "output_type": "stream",
     "text": [
      "[ 1  2  3  4  5  6  7  8  9 10 11 12 13 14 15 16 17 18 19 20 22 23 24 25 27\n",
      " 28]\n",
      "['diss_1', 'diss_2', 'diss_3', 'diss_4', 'diss_5', 'diss_6', 'diss_7', 'diss_8', 'diss_9', 'diss_10', 'diss_12', 'diss_13', 'diss_14', 'diss_15', 'diss_16', 'diss_17', 'diss_22', 'diss_23', 'diss_24', 'diss_27', 'diss_28']\n",
      "diss_1 [0 1]\n",
      "1    43414\n",
      "0    28104\n",
      "Name: diss_1, dtype: int64\n",
      "diss_2 [0 1]\n",
      "0    70056\n",
      "1     1462\n",
      "Name: diss_2, dtype: int64\n",
      "diss_3 [0 1]\n",
      "0    62267\n",
      "1     9251\n",
      "Name: diss_3, dtype: int64\n",
      "diss_4 [0 1]\n",
      "0    70963\n",
      "1      555\n",
      "Name: diss_4, dtype: int64\n",
      "diss_5 [0 1]\n",
      "0    70684\n",
      "1      834\n",
      "Name: diss_5, dtype: int64\n",
      "diss_6 [0 1]\n",
      "0    63049\n",
      "1     8469\n",
      "Name: diss_6, dtype: int64\n",
      "diss_7 [0 1]\n",
      "0    71106\n",
      "1      412\n",
      "Name: diss_7, dtype: int64\n",
      "diss_8 [0 1]\n",
      "0    71448\n",
      "1       70\n",
      "Name: diss_8, dtype: int64\n",
      "diss_9 [0 1]\n",
      "0    71506\n",
      "1       12\n",
      "Name: diss_9, dtype: int64\n",
      "diss_10 [0 1]\n",
      "0    71512\n",
      "1        6\n",
      "Name: diss_10, dtype: int64\n",
      "diss_12 [0 1]\n",
      "0    71516\n",
      "1        2\n",
      "Name: diss_12, dtype: int64\n",
      "diss_13 [0 1]\n",
      "0    71158\n",
      "1      360\n",
      "Name: diss_13, dtype: int64\n",
      "diss_14 [0 1]\n",
      "0    71168\n",
      "1      350\n",
      "Name: diss_14, dtype: int64\n",
      "diss_15 [0 1]\n",
      "0    71488\n",
      "1       30\n",
      "Name: diss_15, dtype: int64\n",
      "diss_16 [0 1]\n",
      "0    71513\n",
      "1        5\n",
      "Name: diss_16, dtype: int64\n",
      "diss_17 [0 1]\n",
      "0    71507\n",
      "1       11\n",
      "Name: diss_17, dtype: int64\n",
      "diss_22 [0 1]\n",
      "0    70239\n",
      "1     1279\n",
      "Name: diss_22, dtype: int64\n",
      "diss_23 [0 1]\n",
      "0    71236\n",
      "1      282\n",
      "Name: diss_23, dtype: int64\n",
      "diss_24 [0 1]\n",
      "0    71489\n",
      "1       29\n",
      "Name: diss_24, dtype: int64\n",
      "diss_27 [0 1]\n",
      "0    71514\n",
      "1        4\n",
      "Name: diss_27, dtype: int64\n",
      "diss_28 [0 1]\n",
      "0    71440\n",
      "1       78\n",
      "Name: diss_28, dtype: int64\n",
      "(71518, 202)\n",
      "Index([u'Unnamed: 0', u'encounter_id', u'race', u'gender', u'age', u'weight',\n",
      "       u'admission_type_id', u'discharge_disposition_id',\n",
      "       u'admission_source_id', u'time_in_hospital',\n",
      "       ...\n",
      "       u'diss_14', u'diss_15', u'diss_16', u'diss_17', u'diss_22', u'diss_23',\n",
      "       u'diss_24', u'diss_27', u'diss_28', u'Poisoning_1'],\n",
      "      dtype='object', length=202)\n"
     ]
    }
   ],
   "source": [
    "print np.unique(dfFiltered['discharge_disposition_id'])\n",
    "\n",
    "df_adm = pd.get_dummies(dfFiltered['discharge_disposition_id'],dummy_na=False, prefix='diss')\n",
    "\n",
    "#Remove non_informative columns\n",
    "selCols = []\n",
    "for c in df_adm.columns:\n",
    "    if c not in [\"diss_26\",\"diss_25\",\"diss_21\",\"diss_20\",\"diss_19\",\"diss_18\",\"diss_11\"]:\n",
    "        selCols.append(c)      \n",
    "print selCols\n",
    "\n",
    "\n",
    "df_clean = pd.concat([dfFiltered.iloc[:,:-1], df_adm[selCols]], axis=1)\n",
    "dfFiltered = pd.concat([df_clean, dfFiltered.iloc[:,-1]], axis=1)\n",
    "\n",
    "for c in dfFiltered.columns:\n",
    "    if c in df_adm.columns:\n",
    "        print c, np.unique(dfFiltered[c])\n",
    "        print pd.value_counts(dfFiltered[c])\n",
    "    \n",
    "print dfFiltered.shape\n",
    "print dfFiltered.columns"
   ]
  },
  {
   "cell_type": "markdown",
   "metadata": {},
   "source": [
    "#### Remove rest of categorical features\n",
    "\n",
    "- Dummified features "
   ]
  },
  {
   "cell_type": "code",
   "execution_count": 518,
   "metadata": {},
   "outputs": [
    {
     "name": "stdout",
     "output_type": "stream",
     "text": [
      "(71518, 197)\n",
      "Index([u'Unnamed: 0', u'encounter_id', u'gender', u'age', u'weight',\n",
      "       u'time_in_hospital', u'payer_code', u'num_lab_procedures',\n",
      "       u'num_procedures', u'num_medications',\n",
      "       ...\n",
      "       u'diss_14', u'diss_15', u'diss_16', u'diss_17', u'diss_22', u'diss_23',\n",
      "       u'diss_24', u'diss_27', u'diss_28', u'Poisoning_1'],\n",
      "      dtype='object', length=197)\n"
     ]
    }
   ],
   "source": [
    "to_del = [\"race\",\"admission_type_id\",\"admission_source_id\",'discharge_disposition_id','medical_specialty']\n",
    "\n",
    "#Filter_selected cols\n",
    "cols = [c for c in dfFiltered.columns if (c not in to_del) ]#and ('ENF' not in c)\n",
    "dfFiltered = dfFiltered[cols]\n",
    "print dfFiltered.shape\n",
    "print dfFiltered.columns"
   ]
  },
  {
   "cell_type": "markdown",
   "metadata": {},
   "source": [
    "- Not useful rows"
   ]
  },
  {
   "cell_type": "code",
   "execution_count": 519,
   "metadata": {},
   "outputs": [
    {
     "name": "stdout",
     "output_type": "stream",
     "text": [
      "(71518, 194)\n",
      "Index([u'gender', u'age', u'weight', u'time_in_hospital',\n",
      "       u'num_lab_procedures', u'num_procedures', u'num_medications',\n",
      "       u'number_outpatient', u'number_emergency', u'number_inpatient',\n",
      "       ...\n",
      "       u'diss_14', u'diss_15', u'diss_16', u'diss_17', u'diss_22', u'diss_23',\n",
      "       u'diss_24', u'diss_27', u'diss_28', u'Poisoning_1'],\n",
      "      dtype='object', length=194)\n"
     ]
    }
   ],
   "source": [
    "to_del = [u'Unnamed: 0',\"id\",\"encounter_id\",\"payer_code\"]\n",
    "\n",
    "#Filter_selected cols\n",
    "cols = [c for c in dfFiltered.columns if (c not in to_del) ]#and ('ENF' not in c)\n",
    "dfFiltered = dfFiltered[cols]\n",
    "print dfFiltered.shape\n",
    "print dfFiltered.columns"
   ]
  },
  {
   "cell_type": "markdown",
   "metadata": {},
   "source": [
    "#### Rename feature: External_causes"
   ]
  },
  {
   "cell_type": "code",
   "execution_count": 520,
   "metadata": {},
   "outputs": [
    {
     "name": "stdout",
     "output_type": "stream",
     "text": [
      "(71518, 194)\n",
      "Index([u'gender', u'age', u'weight', u'time_in_hospital',\n",
      "       u'num_lab_procedures', u'num_procedures', u'num_medications',\n",
      "       u'number_outpatient', u'number_emergency', u'number_inpatient',\n",
      "       ...\n",
      "       u'diss_16', u'diss_17', u'diss_22', u'diss_23', u'diss_24', u'diss_27',\n",
      "       u'diss_28', u'Poisoning_1', u'External_causes_1', u'External_causes_3'],\n",
      "      dtype='object', length=194)\n"
     ]
    }
   ],
   "source": [
    "dfFiltered.insert(dfFiltered.shape[1], \"External_causes_1\",dfFiltered[\"External causes_1\"].values)\n",
    "dfFiltered = dfFiltered.loc[:,~dfFiltered.columns.isin([u\"External causes_1\"])]\n",
    "\n",
    "dfFiltered.insert(dfFiltered.shape[1], \"External_causes_3\",dfFiltered[\"External causes_3\"].values)\n",
    "dfFiltered = dfFiltered.loc[:,~dfFiltered.columns.isin([u\"External causes_3\"])]\n",
    "\n",
    "print dfFiltered.shape\n",
    "print dfFiltered.columns"
   ]
  },
  {
   "cell_type": "markdown",
   "metadata": {},
   "source": [
    "#### Reorder class label"
   ]
  },
  {
   "cell_type": "code",
   "execution_count": 521,
   "metadata": {},
   "outputs": [
    {
     "name": "stdout",
     "output_type": "stream",
     "text": [
      "Index([u'gender', u'age', u'weight', u'time_in_hospital',\n",
      "       u'num_lab_procedures', u'num_procedures', u'num_medications',\n",
      "       u'number_outpatient', u'number_emergency', u'number_inpatient',\n",
      "       ...\n",
      "       u'diss_16', u'diss_17', u'diss_22', u'diss_23', u'diss_24', u'diss_27',\n",
      "       u'diss_28', u'Poisoning_1', u'External_causes_1', u'External_causes_3'],\n",
      "      dtype='object', length=194)\n",
      "Index([u'gender', u'age', u'weight', u'time_in_hospital',\n",
      "       u'num_lab_procedures', u'num_procedures', u'num_medications',\n",
      "       u'number_outpatient', u'number_emergency', u'number_inpatient',\n",
      "       ...\n",
      "       u'diss_17', u'diss_22', u'diss_23', u'diss_24', u'diss_27', u'diss_28',\n",
      "       u'Poisoning_1', u'External_causes_1', u'External_causes_3',\n",
      "       u'readmitted'],\n",
      "      dtype='object', length=194)\n",
      "(71518, 194)\n"
     ]
    }
   ],
   "source": [
    "print dfFiltered.columns\n",
    "\n",
    "cols = [c for c in dfFiltered.columns if c != \"readmitted\"]\n",
    "cols.append(\"readmitted\")\n",
    "\n",
    "dfFiltered = dfFiltered[cols]\n",
    "print dfFiltered.columns\n",
    "print dfFiltered.shape"
   ]
  },
  {
   "cell_type": "markdown",
   "metadata": {},
   "source": [
    "#### Find categorical features"
   ]
  },
  {
   "cell_type": "code",
   "execution_count": 522,
   "metadata": {},
   "outputs": [
    {
     "name": "stdout",
     "output_type": "stream",
     "text": [
      "Cat cols: 186\n",
      "Num cols: 8\n",
      "193\n",
      "194\n"
     ]
    }
   ],
   "source": [
    "#Compute type fields\n",
    "    \n",
    "numCols = [\n",
    "    \"time_in_hospital\",\"num_lab_procedures\",\"num_procedures\",\"num_medications\",\n",
    "    \"number_outpatient\",\"number_emergency\",\"number_inpatient\",\"number_diagnoses\"\n",
    "]\n",
    "\n",
    "catCols = []\n",
    "reducedCols = cols[:-1]\n",
    "\n",
    "for i in range(len(cols)):\n",
    "    if cols[i] not in numCols:\n",
    "        catCols.append(1)\n",
    "    else:\n",
    "        catCols.append(0)\n",
    "catCols = np.array(catCols)\n",
    "\n",
    "print \"Cat cols:\", np.sum(catCols==1)\n",
    "print \"Num cols:\", np.sum(catCols==0)\n",
    "print len(reducedCols)\n",
    "print len(cols)"
   ]
  },
  {
   "cell_type": "markdown",
   "metadata": {},
   "source": [
    "#### Identify categorical features with less 5% values"
   ]
  },
  {
   "cell_type": "code",
   "execution_count": 523,
   "metadata": {},
   "outputs": [
    {
     "name": "stdout",
     "output_type": "stream",
     "text": [
      "MAX= 71518 MIN: 357.59\n",
      "\n",
      "10 [5, 8, 3, 6, 4, 7, 1, 9, 2, 0]\n",
      "7    18162\n",
      "6    15908\n",
      "5    12349\n",
      "8    11864\n",
      "4     6756\n",
      "3     2650\n",
      "9     2040\n",
      "2     1111\n",
      "1      525\n",
      "0      153\n",
      "Name: age, dtype: int64\n",
      "\n",
      "10 [nan, 2, 1, 3, 4, 5, 0, 7, 6, 8]\n",
      "3    1208\n",
      "2     796\n",
      "4     558\n",
      "5     133\n",
      "1      88\n",
      "0      37\n",
      "6      34\n",
      "7      10\n",
      "8       2\n",
      "Name: weight, dtype: int64\n",
      "\n",
      "4 [0, 2, 3, 1]\n",
      "0    70548\n",
      "2      857\n",
      "3       78\n",
      "1       35\n",
      "Name: repaglinide, dtype: int64\n",
      "\n",
      "4 [0, 2, 3, 1]\n",
      "0    71032\n",
      "2      459\n",
      "3       18\n",
      "1        9\n",
      "Name: nateglinide, dtype: int64\n",
      "\n",
      "4 [0, 2, 3, 1]\n",
      "0    71452\n",
      "2       61\n",
      "3        4\n",
      "1        1\n",
      "Name: chlorpropamide, dtype: int64\n",
      "\n",
      "4 [0, 2, 1, 3]\n",
      "0    67833\n",
      "2     3306\n",
      "3      242\n",
      "1      137\n",
      "Name: glimepiride, dtype: int64\n",
      "\n",
      "2 [0, 2]\n",
      "0    71517\n",
      "2        1\n",
      "Name: acetohexamide, dtype: int64\n",
      "\n",
      "4 [0, 2, 3, 1]\n",
      "0    62711\n",
      "2     7905\n",
      "3      552\n",
      "1      350\n",
      "Name: glipizide, dtype: int64\n",
      "\n",
      "2 [0, 2]\n",
      "0    71499\n",
      "2       19\n",
      "Name: tolbutamide, dtype: int64\n",
      "\n",
      "4 [0, 2, 1, 3]\n",
      "0    66308\n",
      "2     4957\n",
      "3      167\n",
      "1       86\n",
      "Name: pioglitazone, dtype: int64\n",
      "\n",
      "4 [0, 2, 3, 1]\n",
      "0    67118\n",
      "2     4197\n",
      "3      133\n",
      "1       70\n",
      "Name: rosiglitazone, dtype: int64\n",
      "\n",
      "4 [0, 2, 3, 1]\n",
      "0    71332\n",
      "2      178\n",
      "3        7\n",
      "1        1\n",
      "Name: acarbose, dtype: int64\n",
      "\n",
      "4 [0, 2, 3, 1]\n",
      "0    71499\n",
      "2       17\n",
      "3        1\n",
      "1        1\n",
      "Name: miglitol, dtype: int64\n",
      "\n",
      "2 [0, 2]\n",
      "0    71516\n",
      "2        2\n",
      "Name: troglitazone, dtype: int64\n",
      "\n",
      "2 [0, 2]\n",
      "0    71488\n",
      "2       30\n",
      "Name: tolazamide, dtype: int64\n",
      "\n",
      "4 [0, 2, 1, 3]\n",
      "0    71044\n",
      "2      461\n",
      "3        8\n",
      "1        5\n",
      "Name: glyburide-metformin, dtype: int64\n",
      "\n",
      "2 [0, 2]\n",
      "0    71511\n",
      "2        7\n",
      "Name: glipizide-metformin, dtype: int64\n",
      "\n",
      "2 [0, 2]\n",
      "0    71516\n",
      "2        2\n",
      "Name: metformin-rosiglitazone, dtype: int64\n",
      "\n",
      "2 [0, 2]\n",
      "0    71517\n",
      "2        1\n",
      "Name: metformin-pioglitazone, dtype: int64\n",
      "\n",
      "2 [0, 1]\n",
      "0    71329\n",
      "1      189\n",
      "Name: Congenital_3, dtype: int64\n",
      "\n",
      "2 [0, 1]\n",
      "0    71322\n",
      "1      196\n",
      "Name: Organs_1, dtype: int64\n",
      "\n",
      "2 [0, 1]\n",
      "0    71482\n",
      "1       36\n",
      "Name: Congenital_1, dtype: int64\n",
      "\n",
      "2 [0L, 1L]\n",
      "0    71513\n",
      "1        5\n",
      "Name: medSpec_AllergyandImmunology, dtype: int64\n",
      "\n",
      "2 [0L, 1L]\n",
      "0    71507\n",
      "1       11\n",
      "Name: medSpec_Anesthesiology, dtype: int64\n",
      "\n",
      "2 [0L, 1L]\n",
      "0    71501\n",
      "1       17\n",
      "Name: medSpec_Anesthesiology-Pediatric, dtype: int64\n",
      "\n",
      "2 [0L, 1L]\n",
      "0    71511\n",
      "1        7\n",
      "Name: medSpec_Cardiology-Pediatric, dtype: int64\n",
      "\n",
      "2 [0L, 1L]\n",
      "0    71512\n",
      "1        6\n",
      "Name: medSpec_DCPTEAM, dtype: int64\n",
      "\n",
      "2 [0L, 1L]\n",
      "0    71515\n",
      "1        3\n",
      "Name: medSpec_Dentistry, dtype: int64\n",
      "\n",
      "2 [0L, 1L]\n",
      "0    71423\n",
      "1       95\n",
      "Name: medSpec_Endocrinology, dtype: int64\n",
      "\n",
      "2 [0L, 1L]\n",
      "0    71511\n",
      "1        7\n",
      "Name: medSpec_Endocrinology-Metabolism, dtype: int64\n",
      "\n",
      "2 [0L, 1L]\n",
      "0    71465\n",
      "1       53\n",
      "Name: medSpec_Gynecology, dtype: int64\n",
      "\n",
      "2 [0L, 1L]\n",
      "0    71477\n",
      "1       41\n",
      "Name: medSpec_Hematology, dtype: int64\n",
      "\n",
      "2 [0L, 1L]\n",
      "0    71386\n",
      "1      132\n",
      "Name: medSpec_Hematology/Oncology, dtype: int64\n",
      "\n",
      "2 [0L, 1L]\n",
      "0    71479\n",
      "1       39\n",
      "Name: medSpec_Hospitalist, dtype: int64\n",
      "\n",
      "2 [0L, 1L]\n",
      "0    71489\n",
      "1       29\n",
      "Name: medSpec_InfectiousDiseases, dtype: int64\n",
      "\n",
      "2 [0L, 1L]\n",
      "0    71353\n",
      "1      165\n",
      "Name: medSpec_Neurology, dtype: int64\n",
      "\n",
      "2 [0L, 1L]\n",
      "0    71517\n",
      "1        1\n",
      "Name: medSpec_Neurophysiology, dtype: int64\n",
      "\n",
      "2 [0L, 1L]\n",
      "0    71499\n",
      "1       19\n",
      "Name: medSpec_Obsterics&Gynecology-GynecologicOnco, dtype: int64\n",
      "\n",
      "2 [0L, 1L]\n",
      "0    71500\n",
      "1       18\n",
      "Name: medSpec_Obstetrics, dtype: int64\n",
      "\n",
      "2 [0L, 1L]\n",
      "0    71273\n",
      "1      245\n",
      "Name: medSpec_Oncology, dtype: int64\n",
      "\n",
      "2 [0L, 1L]\n",
      "0    71484\n",
      "1       34\n",
      "Name: medSpec_Ophthalmology, dtype: int64\n",
      "\n",
      "2 [0L, 1L]\n",
      "0    71480\n",
      "1       38\n",
      "Name: medSpec_Osteopath, dtype: int64\n",
      "\n",
      "2 [0L, 1L]\n",
      "0    71411\n",
      "1      107\n",
      "Name: medSpec_Otolaryngology, dtype: int64\n",
      "\n",
      "2 [0L, 1L]\n",
      "0    71512\n",
      "1        6\n",
      "Name: medSpec_OutreachServices, dtype: int64\n",
      "\n",
      "2 [0L, 1L]\n",
      "0    71504\n",
      "1       14\n",
      "Name: medSpec_Pathology, dtype: int64\n",
      "\n",
      "2 [0L, 1L]\n",
      "0    71297\n",
      "1      221\n",
      "Name: medSpec_Pediatrics, dtype: int64\n",
      "\n",
      "2 [0L, 1L]\n",
      "0    71517\n",
      "1        1\n",
      "Name: medSpec_Pediatrics-AllergyandImmunology, dtype: int64\n",
      "\n",
      "2 [0L, 1L]\n",
      "0    71451\n",
      "1       67\n",
      "Name: medSpec_Pediatrics-CriticalCare, dtype: int64\n",
      "\n",
      "2 [0L, 1L]\n",
      "0    71516\n",
      "1        2\n",
      "Name: medSpec_Pediatrics-EmergencyMedicine, dtype: int64\n",
      "\n",
      "2 [0L, 1L]\n",
      "0    71376\n",
      "1      142\n",
      "Name: medSpec_Pediatrics-Endocrinology, dtype: int64\n",
      "\n",
      "2 [0L, 1L]\n",
      "0    71515\n",
      "1        3\n",
      "Name: medSpec_Pediatrics-Hematology-Oncology, dtype: int64\n",
      "\n",
      "2 [0L, 1L]\n",
      "0    71517\n",
      "1        1\n",
      "Name: medSpec_Pediatrics-InfectiousDiseases, dtype: int64\n",
      "\n",
      "2 [0L, 1L]\n",
      "0    71512\n",
      "1        6\n",
      "Name: medSpec_Pediatrics-Neurology, dtype: int64\n",
      "\n",
      "2 [0L, 1L]\n",
      "0    71512\n",
      "1        6\n",
      "Name: medSpec_Pediatrics-Pulmonology, dtype: int64\n",
      "\n",
      "2 [0L, 1L]\n",
      "0    71517\n",
      "1        1\n",
      "Name: medSpec_Perinatology, dtype: int64\n",
      "\n",
      "2 [0L, 1L]\n",
      "0    71192\n",
      "1      326\n",
      "Name: medSpec_PhysicalMedicineandRehabilitation, dtype: int64\n",
      "\n",
      "2 [0L, 1L]\n",
      "0    71508\n",
      "1       10\n",
      "Name: medSpec_PhysicianNotFound, dtype: int64\n",
      "\n",
      "2 [0L, 1L]\n",
      "0    71444\n",
      "1       74\n",
      "Name: medSpec_Podiatry, dtype: int64\n",
      "\n",
      "2 [0L, 1L]\n",
      "0    71517\n",
      "1        1\n",
      "Name: medSpec_Proctology, dtype: int64\n",
      "\n",
      "2 [0L, 1L]\n",
      "0    71517\n",
      "1        1\n",
      "Name: medSpec_Psychiatry-Addictive, dtype: int64\n",
      "\n",
      "2 [0L, 1L]\n",
      "0    71514\n",
      "1        4\n",
      "Name: medSpec_Psychiatry-Child/Adolescent, dtype: int64\n",
      "\n",
      "2 [0L, 1L]\n",
      "0    71452\n",
      "1       66\n",
      "Name: medSpec_Psychology, dtype: int64\n",
      "\n",
      "2 [0L, 1L]\n",
      "0    71480\n",
      "1       38\n",
      "Name: medSpec_Radiology, dtype: int64\n",
      "\n",
      "2 [0L, 1L]\n",
      "0    71516\n",
      "1        2\n",
      "Name: medSpec_Resident, dtype: int64\n",
      "\n",
      "2 [0L, 1L]\n",
      "0    71503\n",
      "1       15\n",
      "Name: medSpec_Rheumatology, dtype: int64\n",
      "\n",
      "2 [0L, 1L]\n",
      "0    71517\n",
      "1        1\n",
      "Name: medSpec_Speech, dtype: int64\n",
      "\n",
      "2 [0L, 1L]\n",
      "0    71517\n",
      "1        1\n",
      "Name: medSpec_SportsMedicine, dtype: int64\n",
      "\n",
      "2 [0L, 1L]\n",
      "0    71474\n",
      "1       44\n",
      "Name: medSpec_Surgeon, dtype: int64\n",
      "\n",
      "2 [0L, 1L]\n",
      "0    71427\n",
      "1       91\n",
      "Name: medSpec_Surgery-Cardiovascular, dtype: int64\n",
      "\n",
      "2 [0L, 1L]\n",
      "0    71511\n",
      "1        7\n",
      "Name: medSpec_Surgery-Colon&Rectal, dtype: int64\n",
      "\n",
      "2 [0L, 1L]\n",
      "0    71509\n",
      "1        9\n",
      "Name: medSpec_Surgery-Maxillofacial, dtype: int64\n",
      "\n",
      "2 [0L, 1L]\n",
      "0    71510\n",
      "1        8\n",
      "Name: medSpec_Surgery-Pediatric, dtype: int64\n",
      "\n",
      "2 [0L, 1L]\n",
      "0    71482\n",
      "1       36\n",
      "Name: medSpec_Surgery-Plastic, dtype: int64\n",
      "\n",
      "2 [0L, 1L]\n",
      "0    71421\n",
      "1       97\n",
      "Name: medSpec_Surgery-Thoracic, dtype: int64\n",
      "\n",
      "2 [0L, 1L]\n",
      "0    71490\n",
      "1       28\n",
      "Name: medSpec_SurgicalSpecialty, dtype: int64\n",
      "\n",
      "2 [0L, 1L]\n",
      "0    71509\n",
      "1        9\n",
      "Name: adm_4, dtype: int64\n",
      "\n",
      "2 [0L, 1L]\n",
      "0    71499\n",
      "1       19\n",
      "Name: adm_7, dtype: int64\n",
      "\n",
      "2 [0L, 1L]\n",
      "0    71401\n",
      "1      117\n",
      "Name: adm_src_3, dtype: int64\n",
      "\n",
      "2 [0L, 1L]\n",
      "0    71506\n",
      "1       12\n",
      "Name: adm_src_8, dtype: int64\n",
      "\n",
      "2 [0L, 1L]\n",
      "0    71511\n",
      "1        7\n",
      "Name: adm_src_10, dtype: int64\n",
      "\n",
      "2 [0L, 1L]\n",
      "0    71516\n",
      "1        2\n",
      "Name: adm_src_11, dtype: int64\n",
      "\n",
      "2 [0L, 1L]\n",
      "0    71517\n",
      "1        1\n",
      "Name: adm_src_13, dtype: int64\n",
      "\n",
      "2 [0L, 1L]\n",
      "0    71516\n",
      "1        2\n",
      "Name: adm_src_14, dtype: int64\n",
      "\n",
      "2 [0L, 1L]\n",
      "0    71512\n",
      "1        6\n",
      "Name: adm_src_22, dtype: int64\n",
      "\n",
      "2 [0L, 1L]\n",
      "0    71516\n",
      "1        2\n",
      "Name: adm_src_25, dtype: int64\n",
      "\n",
      "2 [0L, 1L]\n",
      "0    71448\n",
      "1       70\n",
      "Name: diss_8, dtype: int64\n",
      "\n",
      "2 [0L, 1L]\n",
      "0    71506\n",
      "1       12\n",
      "Name: diss_9, dtype: int64\n",
      "\n",
      "2 [0L, 1L]\n",
      "0    71512\n",
      "1        6\n",
      "Name: diss_10, dtype: int64\n",
      "\n",
      "2 [0L, 1L]\n",
      "0    71516\n",
      "1        2\n",
      "Name: diss_12, dtype: int64\n",
      "\n",
      "2 [0L, 1L]\n",
      "0    71168\n",
      "1      350\n",
      "Name: diss_14, dtype: int64\n",
      "\n",
      "2 [0L, 1L]\n",
      "0    71488\n",
      "1       30\n",
      "Name: diss_15, dtype: int64\n",
      "\n",
      "2 [0L, 1L]\n",
      "0    71513\n",
      "1        5\n",
      "Name: diss_16, dtype: int64\n",
      "\n",
      "2 [0L, 1L]\n",
      "0    71507\n",
      "1       11\n",
      "Name: diss_17, dtype: int64\n",
      "\n",
      "2 [0L, 1L]\n",
      "0    71236\n",
      "1      282\n",
      "Name: diss_23, dtype: int64\n",
      "\n",
      "2 [0L, 1L]\n",
      "0    71489\n",
      "1       29\n",
      "Name: diss_24, dtype: int64\n",
      "\n",
      "2 [0L, 1L]\n",
      "0    71514\n",
      "1        4\n",
      "Name: diss_27, dtype: int64\n",
      "\n",
      "2 [0L, 1L]\n",
      "0    71440\n",
      "1       78\n",
      "Name: diss_28, dtype: int64\n",
      "total low variance features: 97\n"
     ]
    }
   ],
   "source": [
    "total = 0\n",
    "minFreq = dfFiltered.shape[0] * 0.005\n",
    "\n",
    "\n",
    "print \"MAX=\", dfFiltered.shape[0], \"MIN:\", minFreq\n",
    "for c in dfFiltered.columns[catCols == 1]:\n",
    "    num = np.min(pd.value_counts(dfFiltered[c]))\n",
    "    if num < minFreq:\n",
    "        total += 1\n",
    "        print\n",
    "        print len(dfFiltered[c].unique()), dfFiltered[c].unique().tolist()\n",
    "        print pd.value_counts(dfFiltered[c])\n",
    "\n",
    "print \"total low variance features:\", total"
   ]
  },
  {
   "cell_type": "markdown",
   "metadata": {},
   "source": [
    "#### Data Exploration"
   ]
  },
  {
   "cell_type": "markdown",
   "metadata": {},
   "source": [
    "Categorical"
   ]
  },
  {
   "cell_type": "code",
   "execution_count": 468,
   "metadata": {
    "scrolled": true
   },
   "outputs": [
    {
     "name": "stderr",
     "output_type": "stream",
     "text": [
      "/home/ilmira/.conda/envs/readmision/lib/python2.7/site-packages/ipykernel_launcher.py:13: FutureWarning: reshape is deprecated and will raise in a subsequent release. Please use .values.reshape(...) instead\n",
      "  del sys.path[0]\n"
     ]
    },
    {
     "ename": "ValueError",
     "evalue": "invalid literal for long() with base 10: '[50-75)'",
     "output_type": "error",
     "traceback": [
      "\u001b[0;31m---------------------------------------------------------------------------\u001b[0m",
      "\u001b[0;31mValueError\u001b[0m                                Traceback (most recent call last)",
      "\u001b[0;32m<ipython-input-468-c56d668177a7>\u001b[0m in \u001b[0;36m<module>\u001b[0;34m()\u001b[0m\n\u001b[1;32m     11\u001b[0m     \u001b[0;31m#Get readmitted\u001b[0m\u001b[0;34m\u001b[0m\u001b[0;34m\u001b[0m\u001b[0m\n\u001b[1;32m     12\u001b[0m     \u001b[0mvalClass\u001b[0m \u001b[0;34m=\u001b[0m \u001b[0mdfFiltered\u001b[0m\u001b[0;34m[\u001b[0m\u001b[0;34m\"readmitted\"\u001b[0m\u001b[0;34m]\u001b[0m\u001b[0;34m>\u001b[0m\u001b[0;36m0\u001b[0m\u001b[0;34m\u001b[0m\u001b[0m\n\u001b[0;32m---> 13\u001b[0;31m     \u001b[0mr\u001b[0m\u001b[0;34m,\u001b[0m \u001b[0mp\u001b[0m \u001b[0;34m=\u001b[0m \u001b[0mchi2\u001b[0m\u001b[0;34m(\u001b[0m\u001b[0mcleanIc\u001b[0m\u001b[0;34m.\u001b[0m\u001b[0mdropna\u001b[0m\u001b[0;34m(\u001b[0m\u001b[0;34m)\u001b[0m\u001b[0;34m.\u001b[0m\u001b[0mvalues\u001b[0m\u001b[0;34m.\u001b[0m\u001b[0mastype\u001b[0m\u001b[0;34m(\u001b[0m\u001b[0mint\u001b[0m\u001b[0;34m)\u001b[0m\u001b[0;34m.\u001b[0m\u001b[0mreshape\u001b[0m\u001b[0;34m(\u001b[0m\u001b[0;34m-\u001b[0m\u001b[0;36m1\u001b[0m\u001b[0;34m,\u001b[0m\u001b[0;36m1\u001b[0m\u001b[0;34m)\u001b[0m\u001b[0;34m,\u001b[0m\u001b[0mvalClass\u001b[0m\u001b[0;34m[\u001b[0m\u001b[0mix\u001b[0m\u001b[0;34m]\u001b[0m\u001b[0;34m.\u001b[0m\u001b[0mastype\u001b[0m\u001b[0;34m(\u001b[0m\u001b[0mint\u001b[0m\u001b[0;34m)\u001b[0m\u001b[0;34m.\u001b[0m\u001b[0mreshape\u001b[0m\u001b[0;34m(\u001b[0m\u001b[0;34m-\u001b[0m\u001b[0;36m1\u001b[0m\u001b[0;34m,\u001b[0m\u001b[0;36m1\u001b[0m\u001b[0;34m)\u001b[0m\u001b[0;34m)\u001b[0m\u001b[0;34m\u001b[0m\u001b[0m\n\u001b[0m\u001b[1;32m     14\u001b[0m \u001b[0;34m\u001b[0m\u001b[0m\n\u001b[1;32m     15\u001b[0m     catData.append([str(rv),\n",
      "\u001b[0;31mValueError\u001b[0m: invalid literal for long() with base 10: '[50-75)'"
     ]
    }
   ],
   "source": [
    "from sklearn.feature_selection import chi2\n",
    "\n",
    "catData = []\n",
    "for rv in dfFiltered.columns[catCols == 1]:\n",
    "\n",
    "    cleanIc = dfFiltered[rv]\n",
    "\n",
    "    #Null policy (drop)\n",
    "    ix = cleanIc.dropna().index\n",
    "    \n",
    "    #Get readmitted\n",
    "    valClass = dfFiltered[\"readmitted\"]>0        \n",
    "    r, p = chi2(cleanIc.dropna().values.astype(int).reshape(-1,1),valClass[ix].astype(int).reshape(-1,1))    \n",
    "\n",
    "    catData.append([str(rv),\n",
    "                    np.sum(cleanIc.isnull() == False),\n",
    "                    np.sum(cleanIc.isnull() == True),\n",
    "                    np.sum(cleanIc.isnull()) / float(len(cleanIc)),\n",
    "                    pd.value_counts(cleanIc).index.astype(int).tolist(), \n",
    "                    pd.value_counts(cleanIc).values.tolist(),\n",
    "                    str(pd.value_counts(dfFiltered[dfFiltered[\"readmitted\"] == 0][rv]).values.tolist()),\n",
    "                    str((pd.value_counts(dfFiltered[dfFiltered[\"readmitted\"] == 0][rv])/dfFiltered[dfFiltered[\"readmitted\"] == 0][rv].count()).round(3).values.tolist()),\n",
    "                    str(pd.value_counts(dfFiltered[dfFiltered[\"readmitted\"] > 0][rv]).values.tolist()),\n",
    "                    str((pd.value_counts(dfFiltered[dfFiltered[\"readmitted\"] > 0][rv])/dfFiltered[dfFiltered[\"readmitted\"] > 0][rv].count()).round(3).values.tolist()),                    \n",
    "                    round(p,4),\n",
    "                    \"yes\" if p<0.05 else \"no\"\n",
    "                    ])\n",
    "    \n",
    "dfCatData = pd.DataFrame(catData, columns=[\"variable\",\"num\",\"#nulls\",u\"%nulls\",\"values\",\"frequencies\",\"non-readmitted (n)\",\"non-readmitted (%)\",\"readmitted (n)\",\"readmitted (%)\",\"p-value\",\"sig.\"])\n",
    "print dfCatData[dfCatData[\"p-value\"] < 0.05].shape\n",
    "display(HTML(dfCatData.to_html(index=False)))"
   ]
  },
  {
   "cell_type": "markdown",
   "metadata": {},
   "source": [
    "Numerical"
   ]
  },
  {
   "cell_type": "code",
   "execution_count": 469,
   "metadata": {},
   "outputs": [
    {
     "name": "stdout",
     "output_type": "stream",
     "text": [
      "time_in_hospital\n",
      "num_lab_procedures\n",
      "num_procedures\n",
      "num_medications\n",
      "number_outpatient\n",
      "number_emergency\n",
      "number_inpatient\n",
      "number_diagnoses\n"
     ]
    },
    {
     "name": "stderr",
     "output_type": "stream",
     "text": [
      "/home/ilmira/.conda/envs/readmision/lib/python2.7/site-packages/ipykernel_launcher.py:25: FutureWarning: reshape is deprecated and will raise in a subsequent release. Please use .values.reshape(...) instead\n"
     ]
    },
    {
     "data": {
      "text/html": [
       "<table border=\"1\" class=\"dataframe\">\n",
       "  <thead>\n",
       "    <tr style=\"text-align: right;\">\n",
       "      <th>variable</th>\n",
       "      <th>num</th>\n",
       "      <th>#nulls</th>\n",
       "      <th>%nulls</th>\n",
       "      <th>mean</th>\n",
       "      <th>non-readmitted</th>\n",
       "      <th>readmitted</th>\n",
       "      <th>p-value</th>\n",
       "      <th>sig</th>\n",
       "    </tr>\n",
       "  </thead>\n",
       "  <tbody>\n",
       "    <tr>\n",
       "      <td>time_in_hospital</td>\n",
       "      <td>0</td>\n",
       "      <td>71518</td>\n",
       "      <td>1.000</td>\n",
       "      <td>4.29+/-2.95</td>\n",
       "      <td>4.147+/-2.91</td>\n",
       "      <td>4.503+/-2.99</td>\n",
       "      <td>0.000</td>\n",
       "      <td>True</td>\n",
       "    </tr>\n",
       "    <tr>\n",
       "      <td>num_lab_procedures</td>\n",
       "      <td>0</td>\n",
       "      <td>71518</td>\n",
       "      <td>1.000</td>\n",
       "      <td>43.08+/-19.95</td>\n",
       "      <td>42.329+/-19.96</td>\n",
       "      <td>44.2+/-19.89</td>\n",
       "      <td>0.000</td>\n",
       "      <td>True</td>\n",
       "    </tr>\n",
       "    <tr>\n",
       "      <td>num_procedures</td>\n",
       "      <td>0</td>\n",
       "      <td>71518</td>\n",
       "      <td>1.000</td>\n",
       "      <td>1.43+/-1.76</td>\n",
       "      <td>1.471+/-1.77</td>\n",
       "      <td>1.37+/-1.74</td>\n",
       "      <td>0.000</td>\n",
       "      <td>True</td>\n",
       "    </tr>\n",
       "    <tr>\n",
       "      <td>num_medications</td>\n",
       "      <td>0</td>\n",
       "      <td>71518</td>\n",
       "      <td>1.000</td>\n",
       "      <td>15.71+/-8.31</td>\n",
       "      <td>15.474+/-8.57</td>\n",
       "      <td>16.053+/-7.9</td>\n",
       "      <td>0.000</td>\n",
       "      <td>True</td>\n",
       "    </tr>\n",
       "    <tr>\n",
       "      <td>number_outpatient</td>\n",
       "      <td>0</td>\n",
       "      <td>71518</td>\n",
       "      <td>1.000</td>\n",
       "      <td>0.28+/-1.07</td>\n",
       "      <td>0.224+/-0.92</td>\n",
       "      <td>0.364+/-1.25</td>\n",
       "      <td>0.000</td>\n",
       "      <td>True</td>\n",
       "    </tr>\n",
       "    <tr>\n",
       "      <td>number_emergency</td>\n",
       "      <td>0</td>\n",
       "      <td>71518</td>\n",
       "      <td>1.000</td>\n",
       "      <td>0.1+/-0.51</td>\n",
       "      <td>0.072+/-0.42</td>\n",
       "      <td>0.151+/-0.62</td>\n",
       "      <td>0.000</td>\n",
       "      <td>True</td>\n",
       "    </tr>\n",
       "    <tr>\n",
       "      <td>number_inpatient</td>\n",
       "      <td>0</td>\n",
       "      <td>71518</td>\n",
       "      <td>1.000</td>\n",
       "      <td>0.18+/-0.6</td>\n",
       "      <td>0.108+/-0.43</td>\n",
       "      <td>0.283+/-0.79</td>\n",
       "      <td>0.000</td>\n",
       "      <td>True</td>\n",
       "    </tr>\n",
       "    <tr>\n",
       "      <td>number_diagnoses</td>\n",
       "      <td>0</td>\n",
       "      <td>71518</td>\n",
       "      <td>1.000</td>\n",
       "      <td>7.25+/-1.99</td>\n",
       "      <td>7.082+/-2.06</td>\n",
       "      <td>7.492+/-1.87</td>\n",
       "      <td>0.000</td>\n",
       "      <td>True</td>\n",
       "    </tr>\n",
       "  </tbody>\n",
       "</table>"
      ],
      "text/plain": [
       "<IPython.core.display.HTML object>"
      ]
     },
     "metadata": {},
     "output_type": "display_data"
    }
   ],
   "source": [
    "from scipy import stats\n",
    "\n",
    "\n",
    "numData = dfFiltered[dfFiltered.columns[catCols == 0]].describe().T[[\"count\",\"mean\",\"std\"]].copy()\n",
    "numData.insert(0,\"variable\",numData.index.values)\n",
    "numData.insert(1,\"num\", numData[\"count\"].isnull().astype(int))\n",
    "numData.insert(2,\"#nulls\", dfFiltered.shape[0] - numData[\"num\"])\n",
    "numData.insert(3,\"%nulls\", numData[\"#nulls\"] / dfFiltered.shape[0])\n",
    "\n",
    "\n",
    "numData_non_comp = dfFiltered[dfFiltered[\"readmitted\"] == 0][dfFiltered.columns[catCols == 0]].describe().T[[\"mean\",\"std\"]]\n",
    "numData_comp = dfFiltered[dfFiltered[\"readmitted\"] > 0][dfFiltered.columns[catCols == 0]].describe().T[[\"mean\",\"std\"]]\n",
    "\n",
    "\n",
    "numData[\"mean\"] = numData[\"mean\"].round(2).astype(str).str.cat(numData[\"std\"].round(2).astype(str), sep=\"+/-\")\n",
    "numData[\"non-readmitted\"] = numData_non_comp[\"mean\"].round(3).astype(str).str.cat(numData_non_comp[\"std\"].round(2).astype(str), sep=\"+/-\")\n",
    "numData[\"readmitted\"] = numData_comp[\"mean\"].round(3).astype(str).str.cat(numData_comp[\"std\"].round(2).astype(str), sep=\"+/-\")\n",
    "\n",
    "pvals = []\n",
    "classVal = dfFiltered[\"readmitted\"]>0\n",
    "\n",
    "for v in numData[\"variable\"].values:\n",
    "    print v\n",
    "    pvals.append(stats.mannwhitneyu(dfFiltered[v].values.astype(float).reshape(-1,1), \n",
    "                 classVal.astype(int).reshape(-1,1),alternative='two-sided')[1])    \n",
    "\n",
    "numData[\"p-value\"] = pvals\n",
    "numData[\"sig\"] = numData[\"p-value\"] < 0.05\n",
    "\n",
    "numData = numData[[\"variable\",\"num\",\"#nulls\",\"%nulls\",\"mean\",\"non-readmitted\",\"readmitted\",\"p-value\",\"sig\"]]\n",
    "\n",
    "display(HTML(numData.to_html(index=False)))"
   ]
  },
  {
   "cell_type": "markdown",
   "metadata": {},
   "source": [
    "#### Save"
   ]
  },
  {
   "cell_type": "code",
   "execution_count": 524,
   "metadata": {},
   "outputs": [
    {
     "name": "stdout",
     "output_type": "stream",
     "text": [
      "first\n",
      "(71518, 194)\n",
      "['gender', 'age', 'weight', 'time_in_hospital', 'num_lab_procedures', 'num_procedures', 'num_medications', 'number_outpatient', 'number_emergency', 'number_inpatient', 'number_diagnoses', 'max_glu_serum', 'A1Cresult', 'metformin', 'repaglinide', 'nateglinide', 'chlorpropamide', 'glimepiride', 'acetohexamide', 'glipizide', 'glyburide', 'tolbutamide', 'pioglitazone', 'rosiglitazone', 'acarbose', 'miglitol', 'troglitazone', 'tolazamide', 'examide', 'citoglipton', 'insulin', 'glyburide-metformin', 'glipizide-metformin', 'glimepiride-pioglitazone', 'metformin-rosiglitazone', 'metformin-pioglitazone', 'Change', 'diabetesMed', 'Diabetis_3', 'Infectious and parasitic diseases_3', 'Neoplasms_3', 'Endocrine_3', 'Blood_3', 'Mental_3', 'Nervous_3', 'Organs_3', 'Circulatory_3', 'Respiratory_3', 'Digestive_3', 'Genitourinary_3', 'Pregnancy_3', 'Skin_3', 'Muscoskeletal_3', 'Congenital_3', 'Perinatal_3', 'Ill-defined_3', 'Poisoning_3', 'Diabetis_1', 'Infectious and parasitic diseases_1', 'Neoplasms_1', 'Endocrine_1', 'Blood_1', 'Mental_1', 'Nervous_1', 'Organs_1', 'Circulatory_1', 'Respiratory_1', 'Digestive_1', 'Genitourinary_1', 'Pregnancy_1', 'Skin_1', 'Muscoskeletal_1', 'Congenital_1', 'Perinatal_1', 'Ill-defined_1', 'medSpec_AllergyandImmunology', 'medSpec_Anesthesiology', 'medSpec_Anesthesiology-Pediatric', 'medSpec_Cardiology', 'medSpec_Cardiology-Pediatric', 'medSpec_DCPTEAM', 'medSpec_Dentistry', 'medSpec_Emergency/Trauma', 'medSpec_Endocrinology', 'medSpec_Endocrinology-Metabolism', 'medSpec_Family/GeneralPractice', 'medSpec_Gastroenterology', 'medSpec_Gynecology', 'medSpec_Hematology', 'medSpec_Hematology/Oncology', 'medSpec_Hospitalist', 'medSpec_InfectiousDiseases', 'medSpec_InternalMedicine', 'medSpec_Nephrology', 'medSpec_Neurology', 'medSpec_Neurophysiology', 'medSpec_Obsterics&Gynecology-GynecologicOnco', 'medSpec_Obstetrics', 'medSpec_ObstetricsandGynecology', 'medSpec_Oncology', 'medSpec_Ophthalmology', 'medSpec_Orthopedics', 'medSpec_Orthopedics-Reconstructive', 'medSpec_Osteopath', 'medSpec_Otolaryngology', 'medSpec_OutreachServices', 'medSpec_Pathology', 'medSpec_Pediatrics', 'medSpec_Pediatrics-AllergyandImmunology', 'medSpec_Pediatrics-CriticalCare', 'medSpec_Pediatrics-EmergencyMedicine', 'medSpec_Pediatrics-Endocrinology', 'medSpec_Pediatrics-Hematology-Oncology', 'medSpec_Pediatrics-InfectiousDiseases', 'medSpec_Pediatrics-Neurology', 'medSpec_Pediatrics-Pulmonology', 'medSpec_Perinatology', 'medSpec_PhysicalMedicineandRehabilitation', 'medSpec_PhysicianNotFound', 'medSpec_Podiatry', 'medSpec_Proctology', 'medSpec_Psychiatry', 'medSpec_Psychiatry-Addictive', 'medSpec_Psychiatry-Child/Adolescent', 'medSpec_Psychology', 'medSpec_Pulmonology', 'medSpec_Radiologist', 'medSpec_Radiology', 'medSpec_Resident', 'medSpec_Rheumatology', 'medSpec_Speech', 'medSpec_SportsMedicine', 'medSpec_Surgeon', 'medSpec_Surgery-Cardiovascular', 'medSpec_Surgery-Cardiovascular/Thoracic', 'medSpec_Surgery-Colon&Rectal', 'medSpec_Surgery-General', 'medSpec_Surgery-Maxillofacial', 'medSpec_Surgery-Neuro', 'medSpec_Surgery-Pediatric', 'medSpec_Surgery-Plastic', 'medSpec_Surgery-Thoracic', 'medSpec_Surgery-Vascular', 'medSpec_SurgicalSpecialty', 'medSpec_Urology', 'race_AfricanAmerican', 'race_Asian', 'race_Caucasian', 'race_Hispanic', 'race_Other', 'adm_1', 'adm_2', 'adm_3', 'adm_4', 'adm_7', 'adm_src_1', 'adm_src_2', 'adm_src_3', 'adm_src_4', 'adm_src_5', 'adm_src_6', 'adm_src_7', 'adm_src_8', 'adm_src_10', 'adm_src_11', 'adm_src_13', 'adm_src_14', 'adm_src_22', 'adm_src_25', 'diss_1', 'diss_2', 'diss_3', 'diss_4', 'diss_5', 'diss_6', 'diss_7', 'diss_8', 'diss_9', 'diss_10', 'diss_12', 'diss_13', 'diss_14', 'diss_15', 'diss_16', 'diss_17', 'diss_22', 'diss_23', 'diss_24', 'diss_27', 'diss_28', 'Poisoning_1', 'External_causes_1', 'External_causes_3', 'readmitted']\n"
     ]
    }
   ],
   "source": [
    "print typeEncounter\n",
    "print dfFiltered.shape\n",
    "print dfFiltered.columns.tolist()\n",
    "\n",
    "dfFiltered.to_pickle(os.path.join('resources','clean_data_' + typeEncounter + '.pkl'))"
   ]
  },
  {
   "cell_type": "markdown",
   "metadata": {},
   "source": [
    "#### Normality test"
   ]
  },
  {
   "cell_type": "code",
   "execution_count": 219,
   "metadata": {},
   "outputs": [
    {
     "name": "stdout",
     "output_type": "stream",
     "text": [
      "(34, 5)\n",
      "Normal features: 1\n",
      "Normal numerical features: 0\n",
      "Normal categorical features: 1\n",
      "No Normal features: 33\n",
      "No Normal numerical features: 10\n",
      "No Normal categorical features: 23\n"
     ]
    },
    {
     "name": "stderr",
     "output_type": "stream",
     "text": [
      "/home/aegle/miniconda2/envs/readmision/lib/python2.7/site-packages/scipy/stats/stats.py:1276: RuntimeWarning: invalid value encountered in absolute\n",
      "  return SkewtestResult(Z, 2 * distributions.norm.sf(np.abs(Z)))\n",
      "/home/aegle/miniconda2/envs/readmision/lib/python2.7/site-packages/scipy/stats/stats.py:1355: RuntimeWarning: invalid value encountered in absolute\n",
      "  return KurtosistestResult(Z, 2 * distributions.norm.sf(np.abs(Z)))\n"
     ]
    },
    {
     "data": {
      "text/html": [
       "<table border=\"1\" class=\"dataframe\">\n",
       "  <thead>\n",
       "    <tr style=\"text-align: right;\">\n",
       "      <th>variable</th>\n",
       "      <th>f_val</th>\n",
       "      <th>p_value</th>\n",
       "      <th>norm</th>\n",
       "    </tr>\n",
       "  </thead>\n",
       "  <tbody>\n",
       "    <tr>\n",
       "      <td>admission_source_id</td>\n",
       "      <td>12009.5898</td>\n",
       "      <td>0.0</td>\n",
       "      <td>no</td>\n",
       "    </tr>\n",
       "    <tr>\n",
       "      <td>time_in_hospital</td>\n",
       "      <td>11991.3388</td>\n",
       "      <td>0.0</td>\n",
       "      <td>no</td>\n",
       "    </tr>\n",
       "    <tr>\n",
       "      <td>num_lab_procedures</td>\n",
       "      <td>885.144</td>\n",
       "      <td>0.0</td>\n",
       "      <td>no</td>\n",
       "    </tr>\n",
       "    <tr>\n",
       "      <td>num_procedures</td>\n",
       "      <td>11871.2812</td>\n",
       "      <td>0.0</td>\n",
       "      <td>no</td>\n",
       "    </tr>\n",
       "    <tr>\n",
       "      <td>num_medications</td>\n",
       "      <td>20185.104</td>\n",
       "      <td>0.0</td>\n",
       "      <td>no</td>\n",
       "    </tr>\n",
       "    <tr>\n",
       "      <td>number_outpatient</td>\n",
       "      <td>110806.9854</td>\n",
       "      <td>0.0</td>\n",
       "      <td>no</td>\n",
       "    </tr>\n",
       "    <tr>\n",
       "      <td>number_emergency</td>\n",
       "      <td>162283.3343</td>\n",
       "      <td>0.0</td>\n",
       "      <td>no</td>\n",
       "    </tr>\n",
       "    <tr>\n",
       "      <td>number_inpatient</td>\n",
       "      <td>77529.3937</td>\n",
       "      <td>0.0</td>\n",
       "      <td>no</td>\n",
       "    </tr>\n",
       "    <tr>\n",
       "      <td>number_diagnoses</td>\n",
       "      <td>5792.8608</td>\n",
       "      <td>0.0</td>\n",
       "      <td>no</td>\n",
       "    </tr>\n",
       "    <tr>\n",
       "      <td>metformin</td>\n",
       "      <td>15745.9969</td>\n",
       "      <td>0.0</td>\n",
       "      <td>no</td>\n",
       "    </tr>\n",
       "  </tbody>\n",
       "</table>"
      ],
      "text/plain": [
       "<IPython.core.display.HTML object>"
      ]
     },
     "metadata": {},
     "output_type": "display_data"
    }
   ],
   "source": [
    "arrNorm = []\n",
    "for i,rv in enumerate(dfFiltered.columns[:-1]):\n",
    "\n",
    "    #Compute data\n",
    "    cleanIc = dfFiltered.iloc[:,i]\n",
    "    \n",
    "    f_value, p_value = stats.normaltest(cleanIc)\n",
    "    arrNorm.append([rv,\"yes\" if catCols[i] == 1 else \"no\", f_value.round(4), p_value.round(4), \"no\" if p_value < 0.05 else \"yes\"])\n",
    "    \n",
    "dfNorm = pd.DataFrame(np.array(arrNorm), columns=[\"variable\",\"categoric\",\"f_val\",\"p_value\",\"norm\"])\n",
    "print dfNorm.shape\n",
    "print \"Normal features:\", np.sum(dfNorm[\"norm\"] == \"yes\")\n",
    "print \"Normal numerical features:\", np.sum(np.logical_and(dfNorm[\"norm\"] == \"yes\",dfNorm[\"categoric\"] == \"no\"))\n",
    "print \"Normal categorical features:\", np.sum(np.logical_and(dfNorm[\"norm\"] == \"yes\",dfNorm[\"categoric\"] == \"yes\"))\n",
    "print \"No Normal features:\", np.sum(dfNorm[\"norm\"] == \"no\")\n",
    "print \"No Normal numerical features:\", np.sum(np.logical_and(dfNorm[\"norm\"] == \"no\",dfNorm[\"categoric\"] == \"no\"))\n",
    "print \"No Normal categorical features:\", np.sum(np.logical_and(dfNorm[\"norm\"] == \"no\",dfNorm[\"categoric\"] == \"yes\"))\n",
    "\n",
    "display(HTML(dfNorm[dfNorm[\"categoric\"] == \"no\"][[\"variable\",\"f_val\",\"p_value\",\"norm\"]].to_html(index=False)))"
   ]
  },
  {
   "cell_type": "markdown",
   "metadata": {},
   "source": [
    "#### Distributions: Numeric features"
   ]
  },
  {
   "cell_type": "code",
   "execution_count": 220,
   "metadata": {},
   "outputs": [
    {
     "name": "stdout",
     "output_type": "stream",
     "text": [
      "admission_source_id\n",
      "Unique values: 17\n",
      "p-value: 0.0\n",
      "Normal: False\n",
      "Mean: 5.65745686401 std: 4.16255115305\n"
     ]
    },
    {
     "data": {
      "image/png": "[encoded data removed]",
      "text/plain": [
       "<matplotlib.figure.Figure at 0x7f45e9a79cd0>"
      ]
     },
     "metadata": {},
     "output_type": "display_data"
    },
    {
     "name": "stdout",
     "output_type": "stream",
     "text": [
      "time_in_hospital\n",
      "Unique values: 14\n",
      "p-value: 0.0\n",
      "Normal: False\n",
      "Mean: 4.28913000923 std: 2.94918931791\n"
     ]
    },
    {
     "data": {
      "image/png": "[encoded data removed]",
      "text/plain": [
       "<matplotlib.figure.Figure at 0x7f45e992e3d0>"
      ]
     },
     "metadata": {},
     "output_type": "display_data"
    },
    {
     "name": "stdout",
     "output_type": "stream",
     "text": [
      "num_lab_procedures\n",
      "Unique values: 116\n",
      "p-value: 6.21468844265e-193\n",
      "Normal: False\n",
      "Mean: 43.0754775022 std: 19.9521984517\n"
     ]
    },
    {
     "data": {
      "image/png": "[encoded data removed]",
      "text/plain": [
       "<matplotlib.figure.Figure at 0x7f45e987f290>"
      ]
     },
     "metadata": {},
     "output_type": "display_data"
    },
    {
     "name": "stdout",
     "output_type": "stream",
     "text": [
      "num_procedures\n",
      "Unique values: 7\n",
      "p-value: 0.0\n",
      "Normal: False\n",
      "Mean: 1.4305769177 std: 1.75985165854\n"
     ]
    },
    {
     "data": {
      "image/png": "[encoded data removed]",
      "text/plain": [
       "<matplotlib.figure.Figure at 0x7f45e97ea4d0>"
      ]
     },
     "metadata": {},
     "output_type": "display_data"
    },
    {
     "name": "stdout",
     "output_type": "stream",
     "text": [
      "num_medications\n",
      "Unique values: 75\n",
      "p-value: 0.0\n",
      "Normal: False\n",
      "Mean: 15.7050253083 std: 8.31110460595\n"
     ]
    },
    {
     "data": {
      "image/png": "[encoded data removed]",
      "text/plain": [
       "<matplotlib.figure.Figure at 0x7f45e97398d0>"
      ]
     },
     "metadata": {},
     "output_type": "display_data"
    },
    {
     "name": "stdout",
     "output_type": "stream",
     "text": [
      "number_outpatient\n",
      "Unique values: 33\n",
      "p-value: 0.0\n",
      "Normal: False\n",
      "Mean: 0.28006935317 std: 1.06894918085\n"
     ]
    },
    {
     "data": {
      "image/png": "[encoded data removed]",
      "text/plain": [
       "<matplotlib.figure.Figure at 0x7f45e958cdd0>"
      ]
     },
     "metadata": {},
     "output_type": "display_data"
    },
    {
     "name": "stdout",
     "output_type": "stream",
     "text": [
      "number_emergency\n",
      "Unique values: 18\n",
      "p-value: 0.0\n",
      "Normal: False\n",
      "Mean: 0.10354036746 std: 0.509183039153\n"
     ]
    },
    {
     "data": {
      "image/png": "[encoded data removed]",
      "text/plain": [
       "<matplotlib.figure.Figure at 0x7f45e974fad0>"
      ]
     },
     "metadata": {},
     "output_type": "display_data"
    },
    {
     "name": "stdout",
     "output_type": "stream",
     "text": [
      "number_inpatient\n",
      "Unique values: 13\n",
      "p-value: 0.0\n",
      "Normal: False\n",
      "Mean: 0.177829357644 std: 0.603785311366\n"
     ]
    },
    {
     "data": {
      "image/png": "[encoded data removed]",
      "text/plain": [
       "<matplotlib.figure.Figure at 0x7f45e8a36dd0>"
      ]
     },
     "metadata": {},
     "output_type": "display_data"
    },
    {
     "name": "stdout",
     "output_type": "stream",
     "text": [
      "number_diagnoses\n",
      "Unique values: 16\n",
      "p-value: 0.0\n",
      "Normal: False\n",
      "Mean: 7.24570038312 std: 1.99466048358\n"
     ]
    },
    {
     "data": {
      "image/png": "[encoded data removed]",
      "text/plain": [
       "<matplotlib.figure.Figure at 0x7f45e878fcd0>"
      ]
     },
     "metadata": {},
     "output_type": "display_data"
    },
    {
     "name": "stdout",
     "output_type": "stream",
     "text": [
      "metformin\n",
      "Unique values: 4\n",
      "p-value: 0.0\n",
      "Normal: False\n",
      "Mean: 0.424858077687 std: 0.835632319895\n"
     ]
    },
    {
     "data": {
      "image/png": "[encoded data removed]",
      "text/plain": [
       "<matplotlib.figure.Figure at 0x7f45a9e10750>"
      ]
     },
     "metadata": {},
     "output_type": "display_data"
    }
   ],
   "source": [
    "from scipy.stats import boxcox\n",
    "\n",
    "for i,rv in enumerate(dfFiltered.columns[:-1]):\n",
    "\n",
    "    #Compute data\n",
    "    cleanIc = dfFiltered.iloc[:,i]\n",
    "    \n",
    "    if dfNorm[dfNorm.variable == rv][[\"categoric\"]].values == \"no\":\n",
    "\n",
    "        f_value, p_value = stats.normaltest(cleanIc)\n",
    "    \n",
    "        print rv\n",
    "        print \"Unique values:\", len(np.unique(cleanIc))\n",
    "        print \"p-value:\", p_value \n",
    "        print \"Normal:\", p_value >= 0.05\n",
    "        print \"Mean:\", np.mean(cleanIc), \"std:\", np.std(cleanIc)\n",
    "        \n",
    "        plt.figure(figsize=(8,4))\n",
    "        plt.hist(cleanIc, bins=10, alpha=0.5)\n",
    "        plt.axvline(np.median(cleanIc), c=\"r\", ls=\"--\")\n",
    "        plt.show()        "
   ]
  },
  {
   "cell_type": "code",
   "execution_count": 195,
   "metadata": {},
   "outputs": [
    {
     "name": "stdout",
     "output_type": "stream",
     "text": [
      "gender\n",
      "(2,)\n",
      "1.000    38023\n",
      "0.000    33492\n",
      "Name: gender, dtype: int64\n"
     ]
    },
    {
     "data": {
      "image/png": "[encoded data removed]",
      "text/plain": [
       "<matplotlib.figure.Figure at 0x7f97bccab590>"
      ]
     },
     "metadata": {},
     "output_type": "display_data"
    },
    {
     "name": "stdout",
     "output_type": "stream",
     "text": [
      "age\n",
      "(10,)\n",
      "7    18162\n",
      "6    15908\n",
      "5    12349\n",
      "8    11864\n",
      "4     6756\n",
      "3     2650\n",
      "9     2040\n",
      "2     1111\n",
      "1      525\n",
      "0      153\n",
      "Name: age, dtype: int64\n"
     ]
    },
    {
     "data": {
      "image/png": "[encoded data removed]",
      "text/plain": [
       "<matplotlib.figure.Figure at 0x7f97ba189250>"
      ]
     },
     "metadata": {},
     "output_type": "display_data"
    },
    {
     "name": "stdout",
     "output_type": "stream",
     "text": [
      "metformin\n",
      "(4,)\n",
      "0    56944\n",
      "2    13347\n",
      "3      798\n",
      "1      429\n",
      "Name: metformin, dtype: int64\n"
     ]
    },
    {
     "data": {
      "image/png": "[encoded data removed]",
      "text/plain": [
       "<matplotlib.figure.Figure at 0x7f97ba246d90>"
      ]
     },
     "metadata": {},
     "output_type": "display_data"
    },
    {
     "name": "stdout",
     "output_type": "stream",
     "text": [
      "repaglinide\n",
      "(4,)\n",
      "0    70548\n",
      "2      857\n",
      "3       78\n",
      "1       35\n",
      "Name: repaglinide, dtype: int64\n"
     ]
    },
    {
     "data": {
      "image/png": "[encoded data removed]",
      "text/plain": [
       "<matplotlib.figure.Figure at 0x7f97ba04f450>"
      ]
     },
     "metadata": {},
     "output_type": "display_data"
    },
    {
     "name": "stdout",
     "output_type": "stream",
     "text": [
      "glimepiride\n",
      "(4,)\n",
      "0    67833\n",
      "2     3306\n",
      "3      242\n",
      "1      137\n",
      "Name: glimepiride, dtype: int64\n"
     ]
    },
    {
     "data": {
      "image/png": "[encoded data removed]",
      "text/plain": [
       "<matplotlib.figure.Figure at 0x7f97ba323650>"
      ]
     },
     "metadata": {},
     "output_type": "display_data"
    },
    {
     "name": "stdout",
     "output_type": "stream",
     "text": [
      "glipizide\n",
      "(4,)\n",
      "0    62711\n",
      "2     7905\n",
      "3      552\n",
      "1      350\n",
      "Name: glipizide, dtype: int64\n"
     ]
    },
    {
     "data": {
      "image/png": "[encoded data removed]",
      "text/plain": [
       "<matplotlib.figure.Figure at 0x7f97ba170fd0>"
      ]
     },
     "metadata": {},
     "output_type": "display_data"
    },
    {
     "name": "stdout",
     "output_type": "stream",
     "text": [
      "glyburide\n",
      "(4,)\n",
      "0    63989\n",
      "2     6555\n",
      "3      586\n",
      "1      388\n",
      "Name: glyburide, dtype: int64\n"
     ]
    },
    {
     "data": {
      "image/png": "[encoded data removed]",
      "text/plain": [
       "<matplotlib.figure.Figure at 0x7f97fc387050>"
      ]
     },
     "metadata": {},
     "output_type": "display_data"
    },
    {
     "name": "stdout",
     "output_type": "stream",
     "text": [
      "pioglitazone\n",
      "(4,)\n",
      "0    66308\n",
      "2     4957\n",
      "3      167\n",
      "1       86\n",
      "Name: pioglitazone, dtype: int64\n"
     ]
    },
    {
     "data": {
      "image/png": "[encoded data removed]",
      "text/plain": [
       "<matplotlib.figure.Figure at 0x7f97ba083050>"
      ]
     },
     "metadata": {},
     "output_type": "display_data"
    },
    {
     "name": "stdout",
     "output_type": "stream",
     "text": [
      "rosiglitazone\n",
      "(4,)\n",
      "0    67118\n",
      "2     4197\n",
      "3      133\n",
      "1       70\n",
      "Name: rosiglitazone, dtype: int64\n"
     ]
    },
    {
     "data": {
      "image/png": "[encoded data removed]",
      "text/plain": [
       "<matplotlib.figure.Figure at 0x7f97fc62c110>"
      ]
     },
     "metadata": {},
     "output_type": "display_data"
    },
    {
     "name": "stdout",
     "output_type": "stream",
     "text": [
      "insulin\n",
      "(4,)\n",
      "0    34335\n",
      "2    22247\n",
      "1     7729\n",
      "3     7207\n",
      "Name: insulin, dtype: int64\n"
     ]
    },
    {
     "data": {
      "image/png": "[encoded data removed]",
      "text/plain": [
       "<matplotlib.figure.Figure at 0x7f97fc7df1d0>"
      ]
     },
     "metadata": {},
     "output_type": "display_data"
    },
    {
     "name": "stdout",
     "output_type": "stream",
     "text": [
      "diabetesMed\n",
      "(2,)\n",
      "1    54196\n",
      "0    17322\n",
      "Name: diabetesMed, dtype: int64\n"
     ]
    },
    {
     "data": {
      "image/png": "[encoded data removed]",
      "text/plain": [
       "<matplotlib.figure.Figure at 0x7f97fc5821d0>"
      ]
     },
     "metadata": {},
     "output_type": "display_data"
    },
    {
     "name": "stdout",
     "output_type": "stream",
     "text": [
      "race_AfricanAmerican\n",
      "(2,)\n",
      "0    58602\n",
      "1    12916\n",
      "Name: race_AfricanAmerican, dtype: int64\n"
     ]
    },
    {
     "data": {
      "image/png": "[encoded data removed]",
      "text/plain": [
       "<matplotlib.figure.Figure at 0x7f97fc49e390>"
      ]
     },
     "metadata": {},
     "output_type": "display_data"
    },
    {
     "name": "stdout",
     "output_type": "stream",
     "text": [
      "race_Asian\n",
      "(2,)\n",
      "0    71006\n",
      "1      512\n",
      "Name: race_Asian, dtype: int64\n"
     ]
    },
    {
     "data": {
      "image/png": "[encoded data removed]",
      "text/plain": [
       "<matplotlib.figure.Figure at 0x7f97ba455dd0>"
      ]
     },
     "metadata": {},
     "output_type": "display_data"
    },
    {
     "name": "stdout",
     "output_type": "stream",
     "text": [
      "race_Caucasian\n",
      "(2,)\n",
      "1    53556\n",
      "0    17962\n",
      "Name: race_Caucasian, dtype: int64\n"
     ]
    },
    {
     "data": {
      "image/png": "[encoded data removed]",
      "text/plain": [
       "<matplotlib.figure.Figure at 0x7f97fc3c7f10>"
      ]
     },
     "metadata": {},
     "output_type": "display_data"
    },
    {
     "name": "stdout",
     "output_type": "stream",
     "text": [
      "race_Hispanic\n",
      "(2,)\n",
      "0    70004\n",
      "1     1514\n",
      "Name: race_Hispanic, dtype: int64\n"
     ]
    },
    {
     "data": {
      "image/png": "[encoded data removed]",
      "text/plain": [
       "<matplotlib.figure.Figure at 0x7f97fc67b2d0>"
      ]
     },
     "metadata": {},
     "output_type": "display_data"
    },
    {
     "name": "stdout",
     "output_type": "stream",
     "text": [
      "race_Other\n",
      "(2,)\n",
      "0    70348\n",
      "1     1170\n",
      "Name: race_Other, dtype: int64\n"
     ]
    },
    {
     "data": {
      "image/png": "[encoded data removed]",
      "text/plain": [
       "<matplotlib.figure.Figure at 0x7f97fc4cf3d0>"
      ]
     },
     "metadata": {},
     "output_type": "display_data"
    },
    {
     "name": "stdout",
     "output_type": "stream",
     "text": [
      "race_nan\n",
      "(2,)\n",
      "0    69668\n",
      "1     1850\n",
      "Name: race_nan, dtype: int64\n"
     ]
    },
    {
     "data": {
      "image/png": "[encoded data removed]",
      "text/plain": [
       "<matplotlib.figure.Figure at 0x7f97ba3082d0>"
      ]
     },
     "metadata": {},
     "output_type": "display_data"
    }
   ],
   "source": [
    "#Categorical\n",
    "for i,rv in enumerate(dfFiltered.columns[:-1]):\n",
    "\n",
    "    #Compute data\n",
    "    cleanIc = dfFiltered.iloc[:,i]\n",
    "    \n",
    "    if dfNorm[dfNorm.variable == rv][[\"categoric\"]].values == \"yes\":\n",
    "                \n",
    "        print rv\n",
    "        print pd.value_counts(cleanIc).shape\n",
    "        print pd.value_counts(cleanIc)\n",
    "        pd.value_counts(cleanIc).plot(kind=\"bar\", alpha=0.5)\n",
    "        plt.show()"
   ]
  },
  {
   "cell_type": "code",
   "execution_count": null,
   "metadata": {
    "collapsed": true
   },
   "outputs": [],
   "source": []
  }
 ],
 "metadata": {
  "kernelspec": {
   "display_name": "Python 2",
   "language": "python",
   "name": "python2"
  },
  "language_info": {
   "codemirror_mode": {
    "name": "ipython",
    "version": 2
   },
   "file_extension": ".py",
   "mimetype": "text/x-python",
   "name": "python",
   "nbconvert_exporter": "python",
   "pygments_lexer": "ipython2",
   "version": "2.7.13"
  }
 },
 "nbformat": 4,
 "nbformat_minor": 2
}
