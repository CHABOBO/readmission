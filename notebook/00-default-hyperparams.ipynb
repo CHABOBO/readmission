{
 "cells": [
  {
   "cell_type": "code",
   "execution_count": 8,
   "metadata": {
    "collapsed": true
   },
   "outputs": [],
   "source": [
    "import numpy as np"
   ]
  },
  {
   "cell_type": "code",
   "execution_count": 9,
   "metadata": {
    "collapsed": true
   },
   "outputs": [],
   "source": [
    "hyperparams = np.array([\n",
    "[\"fs\", \"combine_fs\",{\n",
    "        \"combine_fs__percentile\": [5, 10, 20, 30, 40, 50]}],\n",
    "[\"fs\", \"rfe_rf_fs\",{\n",
    "        \"rfe_rf_fs__step\": [0.1],\n",
    "        \"rfe_rf_fs__n_features_to_select\": [5,10,15,20]}],\n",
    "[\"fs\", \"lasso_fs\",{\n",
    "        \"lasso_fs__estimator__C\": [0.001, 0.01, 0.1, 1]}],\n",
    "[\"cls\", \"knn\",{\n",
    "        \"knn__n_neighbors\": [3, 5, 9, 11],\n",
    "        \"knn__weights\": [\"uniform\", \"distance\"]}],\n",
    "[\"cls\", \"logReg\",{\n",
    "        \"logReg__C\": [0.00001, 0.0001, 0.001, 0.01, 0.1, 1, 3,10],\n",
    "        \"logReg__class_weight\": [\"balanced\"],\n",
    "        \"logReg__penalty\": [\"l1\", \"l2\"]}],\n",
    "[\"cls\", \"svmRBF\",{\n",
    "        \"svmRBF__C\": [0.01, 0.1, 0.5, 1, 5, 10, 30, 50, 100],\n",
    "        \"svmRBF__gamma\": [0.0001, 0.001, 0.01, 0.1, 1, 5],\n",
    "        'svmRBF__class_weight': ['balanced']}], \n",
    "[\"cls\", \"rf\",{\n",
    "        \"rf__n_estimators\": [50,100,200,300,500],\n",
    "        \"rf__criterion\": [\"entropy\", \"gini\"],\n",
    "        'rf__max_depth' : [None,2,4,6,8],\n",
    "        'rf__class_weight':[\"balanced_subsample\"]}],\n",
    "[\"cls\", \"nn\",{\n",
    "        'nn__alpha': [1e-5,0.00001,0.0001,0.001,0.01,0.1,1,3,5,10],\n",
    "        'nn__hidden_layer_sizes':[(30,),(50,),(70,),(100,),(150,),\n",
    "                                  (30,30),(50,50),(70,70),(100,100),\n",
    "                                  (30,30,30),(50,50,50),(70,70,70)\n",
    "                                 ]}],\n",
    "[\"cls\", \"gbt\",{\n",
    "        'gbt__n_estimators': [300,400,500],\n",
    "        'gbt__learning_rate': [0.1,0.01,0.001],\n",
    "        'gbt__max_depth' : [None,8,10,12]}],\n",
    "[\"after\", \"sm_smote\",{\"sm_smote__k_neighbors\":[3,4,5]}]\n",
    "\n",
    "])\n",
    "\n",
    "np.save(\"../src/default_hyperparams.npy\",hyperparams)"
   ]
  },
  {
   "cell_type": "code",
   "execution_count": 10,
   "metadata": {},
   "outputs": [
    {
     "name": "stdout",
     "output_type": "stream",
     "text": [
      "(10, 3)\n",
      "combine_fs\n"
     ]
    }
   ],
   "source": [
    "print hyperparams.shape\n",
    "print hyperparams[0,1]"
   ]
  },
  {
   "cell_type": "code",
   "execution_count": null,
   "metadata": {
    "collapsed": true
   },
   "outputs": [],
   "source": []
  }
 ],
 "metadata": {
  "kernelspec": {
   "display_name": "Python 2",
   "language": "python",
   "name": "python2"
  },
  "language_info": {
   "codemirror_mode": {
    "name": "ipython",
    "version": 2
   },
   "file_extension": ".py",
   "mimetype": "text/x-python",
   "name": "python",
   "nbconvert_exporter": "python",
   "pygments_lexer": "ipython2",
   "version": "2.7.13"
  }
 },
 "nbformat": 4,
 "nbformat_minor": 2
}
