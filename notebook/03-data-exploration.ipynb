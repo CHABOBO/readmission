{
 "cells": [
  {
   "cell_type": "code",
   "execution_count": 5,
   "metadata": {
    "collapsed": true
   },
   "outputs": [],
   "source": [
    "#TO RE-RUN\n",
    "%reset -f"
   ]
  },
  {
   "cell_type": "code",
   "execution_count": 6,
   "metadata": {
    "collapsed": true
   },
   "outputs": [],
   "source": [
    "from sklearn import preprocessing\n",
    "from time import time\n",
    "import numpy as np\n",
    "import csv\n",
    "from sklearn import metrics\n",
    "from sklearn.preprocessing import scale\n",
    "from sklearn.feature_selection import VarianceThreshold\n",
    "from sklearn.cross_validation import StratifiedShuffleSplit\n",
    "\n",
    "from sklearn.svm import SVC\n",
    "from sklearn.svm import LinearSVC\n",
    "from sklearn.grid_search import GridSearchCV, ParameterGrid\n",
    "from sklearn.preprocessing import StandardScaler\n",
    "from imblearn.pipeline import Pipeline\n",
    "\n",
    "\n",
    "from sklearn.metrics import pairwise_distances\n",
    "from IPython.display import display, HTML\n",
    "from operator import truediv\n",
    "import pandas as pd\n",
    "import time\n",
    "import os\n",
    "\n",
    "from pylab import *\n",
    "import seaborn as sns\n",
    "import matplotlib.pyplot as plt\n",
    "\n",
    "\n",
    "np.set_printoptions(suppress=True)\n",
    "pd.options.display.float_format = '{:,.3f}'.format\n",
    "plt.style.use('classic')\n",
    "\n",
    "%matplotlib inline\n",
    "\n",
    "import sys\n",
    "sys.path.insert(1, \"../src/\")\n",
    "from TypeFeatImputer import TypeFeatImputer"
   ]
  },
  {
   "cell_type": "code",
   "execution_count": 15,
   "metadata": {
    "collapsed": true
   },
   "outputs": [],
   "source": [
    "typeEncounter = \"last\" # ['first','last']\n",
    "typeHypothesis = \"early_readmission_vs_none\" # ['all_readmisssion_vs_none','early_readmission_vs_none']\n",
    "typeDataFeatures = \"extended_extra\" # [\"non_extended\",\"extended','extended_extra'] \n",
    "typeDiagnosis = \"diag_1\"  #[\"none\",\"diag_1\", \"diag_3\"]    \n",
    "typeDataExperiment = \"disease\" #[\"all\", \"disease\"] \n",
    "    #all -> Include all diagnosis as columns\n",
    "    #disease -> Remove diagnosis as column and keep only rows with diagnosis == 1 "
   ]
  },
  {
   "cell_type": "code",
   "execution_count": 17,
   "metadata": {},
   "outputs": [
    {
     "name": "stdout",
     "output_type": "stream",
     "text": [
      "(67182, 69)\n"
     ]
    }
   ],
   "source": [
    "if typeDataFeatures == \"non_extended\":\n",
    "    df_all=pd.read_pickle(os.path.join('resources','prepared_clean_data_' + typeEncounter + \"_\" +  typeDiagnosis + '.pkl'))\n",
    "else:\n",
    "    df_all=pd.read_pickle(os.path.join('resources','prepared_clean_data_' + typeEncounter + \"_\" +  typeDiagnosis + '_' + typeDataFeatures + '.pkl'))\n",
    "\n",
    "print df_all.shape"
   ]
  },
  {
   "cell_type": "code",
   "execution_count": 18,
   "metadata": {},
   "outputs": [
    {
     "name": "stdout",
     "output_type": "stream",
     "text": [
      "(45779, 69)\n"
     ]
    }
   ],
   "source": [
    "# Readmitted none vs readmitted\n",
    "if typeHypothesis == \"all_readmisssion_vs_none\":\n",
    "    df_all[\"readmitted\"][df_all[\"readmitted\"].values > 0] = 1\n",
    "\n",
    "# Readmitted none vs early readmitted            \n",
    "if typeHypothesis == \"early_readmission_vs_none\":\n",
    "    df_all= df_all[df_all[\"readmitted\"].isin([0,1])]\n",
    "    \n",
    "print df_all.shape"
   ]
  },
  {
   "cell_type": "markdown",
   "metadata": {},
   "source": [
    "#### Inspect null values"
   ]
  },
  {
   "cell_type": "code",
   "execution_count": 19,
   "metadata": {},
   "outputs": [
    {
     "data": {
      "text/html": [
       "<div>\n",
       "<style>\n",
       "    .dataframe thead tr:only-child th {\n",
       "        text-align: right;\n",
       "    }\n",
       "\n",
       "    .dataframe thead th {\n",
       "        text-align: left;\n",
       "    }\n",
       "\n",
       "    .dataframe tbody tr th {\n",
       "        vertical-align: top;\n",
       "    }\n",
       "</style>\n",
       "<table border=\"1\" class=\"dataframe\">\n",
       "  <thead>\n",
       "    <tr style=\"text-align: right;\">\n",
       "      <th></th>\n",
       "      <th>%_Null</th>\n",
       "      <th>#_Null</th>\n",
       "      <th>#_No_Null</th>\n",
       "    </tr>\n",
       "  </thead>\n",
       "  <tbody>\n",
       "    <tr>\n",
       "      <th>gender</th>\n",
       "      <td>0.000</td>\n",
       "      <td>3</td>\n",
       "      <td>45776</td>\n",
       "    </tr>\n",
       "  </tbody>\n",
       "</table>\n",
       "</div>"
      ],
      "text/plain": [
       "        %_Null  #_Null  #_No_Null\n",
       "gender   0.000       3      45776"
      ]
     },
     "metadata": {},
     "output_type": "display_data"
    },
    {
     "name": "stdout",
     "output_type": "stream",
     "text": [
      "(1, 3)\n"
     ]
    },
    {
     "data": {
      "text/plain": [
       "<function matplotlib.pyplot.show>"
      ]
     },
     "execution_count": 19,
     "metadata": {},
     "output_type": "execute_result"
    },
    {
     "data": {
      "image/png": "[encoded data removed]",
      "text/plain": [
       "<matplotlib.figure.Figure at 0x7f9d88006cd0>"
      ]
     },
     "metadata": {},
     "output_type": "display_data"
    }
   ],
   "source": [
    "dfNull = np.sum(df_all.isnull()) / float(df_all.shape[0])\n",
    "dfNullAll = pd.concat([dfNull[dfNull>0],np.sum(df_all.isnull()),np.sum(df_all.isnull()==False)], axis=1)\n",
    "dfNullAll.columns= [\"%_Null\",\"#_Null\",\"#_No_Null\"]\n",
    "\n",
    "display(dfNullAll[dfNullAll.iloc[:,0].isnull() == False][[\"%_Null\",\"#_Null\",\"#_No_Null\"]])\n",
    "print dfNullAll[dfNullAll.iloc[:,0].isnull() == False].shape\n",
    "\n",
    "\n",
    "plt.figure(figsize=(15,4))\n",
    "plt.bar(range(dfNull.shape[0]),dfNull.iloc[:], alpha=0.5)\n",
    "plt.xticks(range(dfNull.shape[0]),dfNull.index,rotation=90)\n",
    "plt.ylabel(\"% nulls\")\n",
    "plt.tight_layout()\n",
    "plt.show"
   ]
  },
  {
   "cell_type": "markdown",
   "metadata": {},
   "source": [
    "#### Find categorical features"
   ]
  },
  {
   "cell_type": "code",
   "execution_count": 20,
   "metadata": {},
   "outputs": [
    {
     "name": "stdout",
     "output_type": "stream",
     "text": [
      "Cat cols: 50\n",
      "Num cols: 19\n",
      "68\n",
      "69\n"
     ]
    }
   ],
   "source": [
    "#Compute type fields\n",
    "    \n",
    "numCols = ['time_in_hospital','num_lab_procedures', 'num_procedures', 'num_medications', 'number_outpatient', \n",
    "            'number_emergency', 'number_inpatient', 'number_diagnoses',\n",
    "            'add_in_out', 'add_procs_meds', 'div_visits_time', 'div_em_time', 'div_visit_med', 'div_em_med',\n",
    "            'number_treatment','number_treatment_0','number_treatment_1','number_treatment_2','number_treatment_3']\n",
    "\n",
    "\n",
    "catCols = []\n",
    "cols = df_all.columns\n",
    "reducedCols = df_all.columns[:-1]\n",
    "\n",
    "for i in range(len(cols)):\n",
    "    if cols[i] not in numCols:\n",
    "        catCols.append(1)\n",
    "    else:\n",
    "        catCols.append(0)\n",
    "catCols = np.array(catCols)\n",
    "\n",
    "print \"Cat cols:\", np.sum(catCols==1)\n",
    "print \"Num cols:\", np.sum(catCols==0)\n",
    "print len(reducedCols)\n",
    "print len(cols)"
   ]
  },
  {
   "cell_type": "markdown",
   "metadata": {},
   "source": [
    "#### Identify categorical features with less 5% values"
   ]
  },
  {
   "cell_type": "code",
   "execution_count": 26,
   "metadata": {
    "scrolled": true
   },
   "outputs": [
    {
     "name": "stdout",
     "output_type": "stream",
     "text": [
      "MAX= 45779 MIN: 228.895\n",
      "\n",
      "10 [5, 8, 3, 6, 7, 4, 9, 2, 1, 0]\n",
      "0      120\n",
      "1      377\n",
      "2      825\n",
      "9     1282\n",
      "3     1910\n",
      "4     4646\n",
      "8     7091\n",
      "5     8212\n",
      "6    10248\n",
      "7    11068\n",
      "Name: age, dtype: int64\n",
      "\n",
      "2 [0L, 1L]\n",
      "1       57\n",
      "0    45722\n",
      "Name: adm_src_3, dtype: int64\n",
      "\n",
      "2 [0L, 1L]\n",
      "1       10\n",
      "0    45769\n",
      "Name: adm_src_8, dtype: int64\n",
      "\n",
      "2 [0L, 1L]\n",
      "1        5\n",
      "0    45774\n",
      "Name: adm_src_10, dtype: int64\n",
      "\n",
      "2 [0L, 1L]\n",
      "1        1\n",
      "0    45778\n",
      "Name: adm_src_11, dtype: int64\n",
      "\n",
      "2 [0L, 1L]\n",
      "1        1\n",
      "0    45778\n",
      "Name: adm_src_13, dtype: int64\n",
      "\n",
      "2 [0L, 1L]\n",
      "1        2\n",
      "0    45777\n",
      "Name: adm_src_14, dtype: int64\n",
      "\n",
      "2 [0L, 1L]\n",
      "1        4\n",
      "0    45775\n",
      "Name: adm_src_22, dtype: int64\n",
      "\n",
      "2 [0L, 1L]\n",
      "1        2\n",
      "0    45777\n",
      "Name: adm_src_25, dtype: int64\n",
      "\n",
      "2 [0L, 1L]\n",
      "1        7\n",
      "0    45772\n",
      "Name: adm_4, dtype: int64\n",
      "\n",
      "2 [0L, 1L]\n",
      "1       18\n",
      "0    45761\n",
      "Name: adm_7, dtype: int64\n",
      "\n",
      "4 [0, 2, 3, 1]\n",
      "1       40\n",
      "3      110\n",
      "2     3202\n",
      "0    42427\n",
      "Name: pioglitazone, dtype: int64\n",
      "\n",
      "4 [0, 2, 1, 3]\n",
      "1       91\n",
      "3      148\n",
      "2     2203\n",
      "0    43337\n",
      "Name: glimepiride, dtype: int64\n",
      "\n",
      "4 [0, 2, 3, 1]\n",
      "1      225\n",
      "3      360\n",
      "2     5129\n",
      "0    40065\n",
      "Name: glipizide, dtype: int64\n",
      "\n",
      "4 [0, 2, 3, 1]\n",
      "1       17\n",
      "3       57\n",
      "2      495\n",
      "0    45210\n",
      "Name: repaglinide, dtype: int64\n",
      "\n",
      "4 [0, 2, 1, 3]\n",
      "1        5\n",
      "3       11\n",
      "2      300\n",
      "0    45463\n",
      "Name: nateglinide, dtype: int64\n",
      "total low variance features: 16\n"
     ]
    }
   ],
   "source": [
    "total = 0\n",
    "minFreq = df_all.shape[0] * 0.005\n",
    "\n",
    "\n",
    "print \"MAX=\", df_all.shape[0], \"MIN:\", minFreq\n",
    "for c in df_all.columns[catCols == 1]:\n",
    "    num = np.min(pd.value_counts(df_all[c]))\n",
    "    if num < minFreq:\n",
    "        total += 1\n",
    "        print\n",
    "        print len(df_all[c].unique()), df_all[c].unique().tolist()\n",
    "        print pd.value_counts(df_all[c]).sort_values(0)\n",
    "\n",
    "print \"total low variance features:\", total"
   ]
  },
  {
   "cell_type": "markdown",
   "metadata": {},
   "source": [
    "#### Data Exploration"
   ]
  },
  {
   "cell_type": "markdown",
   "metadata": {},
   "source": [
    "Categorical"
   ]
  },
  {
   "cell_type": "code",
   "execution_count": 27,
   "metadata": {
    "scrolled": true
   },
   "outputs": [
    {
     "name": "stderr",
     "output_type": "stream",
     "text": [
      "/home/ilmira/.conda/envs/readmision/lib/python2.7/site-packages/ipykernel_launcher.py:22: FutureWarning: reshape is deprecated and will raise in a subsequent release. Please use .values.reshape(...) instead\n"
     ]
    },
    {
     "name": "stdout",
     "output_type": "stream",
     "text": [
      "(28, 13)\n"
     ]
    },
    {
     "data": {
      "text/html": [
       "<table border=\"1\" class=\"dataframe\">\n",
       "  <thead>\n",
       "    <tr style=\"text-align: right;\">\n",
       "      <th>variable</th>\n",
       "      <th>num</th>\n",
       "      <th>#nulls</th>\n",
       "      <th>%nulls</th>\n",
       "      <th>values</th>\n",
       "      <th>frequencies</th>\n",
       "      <th>non-readmitted (n)</th>\n",
       "      <th>non-readmitted (%)</th>\n",
       "      <th>readmitted (n)</th>\n",
       "      <th>readmitted (%)</th>\n",
       "      <th>diff (%)</th>\n",
       "      <th>p-value</th>\n",
       "      <th>sig.</th>\n",
       "    </tr>\n",
       "  </thead>\n",
       "  <tbody>\n",
       "    <tr>\n",
       "      <td>diss_home</td>\n",
       "      <td>45779</td>\n",
       "      <td>0</td>\n",
       "      <td>0.000</td>\n",
       "      <td>[1, 0]</td>\n",
       "      <td>[30464, 15315]</td>\n",
       "      <td>[27381, 12404]</td>\n",
       "      <td>[0.688, 0.312]</td>\n",
       "      <td>[3083, 2911]</td>\n",
       "      <td>[0.514, 0.486]</td>\n",
       "      <td>0.174</td>\n",
       "      <td>0.000</td>\n",
       "      <td>yes</td>\n",
       "    </tr>\n",
       "    <tr>\n",
       "      <td>diabetesMed</td>\n",
       "      <td>45779</td>\n",
       "      <td>0</td>\n",
       "      <td>0.000</td>\n",
       "      <td>[1, 0]</td>\n",
       "      <td>[34461, 11318]</td>\n",
       "      <td>[29648, 10137]</td>\n",
       "      <td>[0.745, 0.255]</td>\n",
       "      <td>[4813, 1181]</td>\n",
       "      <td>[0.803, 0.197]</td>\n",
       "      <td>0.058</td>\n",
       "      <td>0.000</td>\n",
       "      <td>yes</td>\n",
       "    </tr>\n",
       "    <tr>\n",
       "      <td>age</td>\n",
       "      <td>45779</td>\n",
       "      <td>0</td>\n",
       "      <td>0.000</td>\n",
       "      <td>[7, 6, 5, 8, 4, 3, 9, 2, 1, 0]</td>\n",
       "      <td>[11068, 10248, 8212, 7091, 4646, 1910, 1282, 8...</td>\n",
       "      <td>[9340, 8905, 7370, 5931, 4172, 1733, 1122, 743...</td>\n",
       "      <td>[0.235, 0.224, 0.185, 0.149, 0.105, 0.044, 0.0...</td>\n",
       "      <td>[1728, 1343, 1160, 842, 474, 177, 160, 82, 25, 3]</td>\n",
       "      <td>[0.288, 0.224, 0.194, 0.14, 0.079, 0.03, 0.027...</td>\n",
       "      <td>0.053</td>\n",
       "      <td>0.000</td>\n",
       "      <td>yes</td>\n",
       "    </tr>\n",
       "    <tr>\n",
       "      <td>HbA1c</td>\n",
       "      <td>45779</td>\n",
       "      <td>0</td>\n",
       "      <td>0.000</td>\n",
       "      <td>[0, 3, 1, 2]</td>\n",
       "      <td>[36679, 4260, 2786, 2054]</td>\n",
       "      <td>[32150, 3615, 2322, 1698]</td>\n",
       "      <td>[0.808, 0.091, 0.058, 0.043]</td>\n",
       "      <td>[4529, 645, 464, 356]</td>\n",
       "      <td>[0.756, 0.108, 0.077, 0.059]</td>\n",
       "      <td>0.052</td>\n",
       "      <td>0.000</td>\n",
       "      <td>yes</td>\n",
       "    </tr>\n",
       "    <tr>\n",
       "      <td>insulin</td>\n",
       "      <td>45779</td>\n",
       "      <td>0</td>\n",
       "      <td>0.000</td>\n",
       "      <td>[0, 2, 1, 3]</td>\n",
       "      <td>[22137, 14559, 4705, 4378]</td>\n",
       "      <td>[19503, 12606, 3947, 3729]</td>\n",
       "      <td>[0.49, 0.317, 0.099, 0.094]</td>\n",
       "      <td>[2634, 1953, 758, 649]</td>\n",
       "      <td>[0.439, 0.326, 0.126, 0.108]</td>\n",
       "      <td>0.051</td>\n",
       "      <td>0.000</td>\n",
       "      <td>yes</td>\n",
       "    </tr>\n",
       "    <tr>\n",
       "      <td>race_Caucasian</td>\n",
       "      <td>45779</td>\n",
       "      <td>0</td>\n",
       "      <td>0.000</td>\n",
       "      <td>[1, 0]</td>\n",
       "      <td>[33763, 12016]</td>\n",
       "      <td>[29135, 10650]</td>\n",
       "      <td>[0.732, 0.268]</td>\n",
       "      <td>[4628, 1366]</td>\n",
       "      <td>[0.772, 0.228]</td>\n",
       "      <td>0.040</td>\n",
       "      <td>0.001</td>\n",
       "      <td>yes</td>\n",
       "    </tr>\n",
       "    <tr>\n",
       "      <td>Change</td>\n",
       "      <td>45779</td>\n",
       "      <td>0</td>\n",
       "      <td>0.000</td>\n",
       "      <td>[0, 1]</td>\n",
       "      <td>[25395, 20384]</td>\n",
       "      <td>[22273, 17512]</td>\n",
       "      <td>[0.56, 0.44]</td>\n",
       "      <td>[3122, 2872]</td>\n",
       "      <td>[0.521, 0.479]</td>\n",
       "      <td>0.039</td>\n",
       "      <td>0.000</td>\n",
       "      <td>yes</td>\n",
       "    </tr>\n",
       "    <tr>\n",
       "      <td>sum_ch_med</td>\n",
       "      <td>45779</td>\n",
       "      <td>0</td>\n",
       "      <td>0.000</td>\n",
       "      <td>[2, 1, 0]</td>\n",
       "      <td>[20384, 14077, 11318]</td>\n",
       "      <td>[17512, 12136, 10137]</td>\n",
       "      <td>[0.44, 0.305, 0.255]</td>\n",
       "      <td>[2872, 1941, 1181]</td>\n",
       "      <td>[0.479, 0.324, 0.197]</td>\n",
       "      <td>0.039</td>\n",
       "      <td>0.000</td>\n",
       "      <td>yes</td>\n",
       "    </tr>\n",
       "    <tr>\n",
       "      <td>adm_src_7</td>\n",
       "      <td>45779</td>\n",
       "      <td>0</td>\n",
       "      <td>0.000</td>\n",
       "      <td>[1, 0]</td>\n",
       "      <td>[23748, 22031]</td>\n",
       "      <td>[20443, 19342]</td>\n",
       "      <td>[0.514, 0.486]</td>\n",
       "      <td>[3305, 2689]</td>\n",
       "      <td>[0.551, 0.449]</td>\n",
       "      <td>0.037</td>\n",
       "      <td>0.000</td>\n",
       "      <td>yes</td>\n",
       "    </tr>\n",
       "    <tr>\n",
       "      <td>Circulatory_1</td>\n",
       "      <td>45779</td>\n",
       "      <td>0</td>\n",
       "      <td>0.000</td>\n",
       "      <td>[0, 1]</td>\n",
       "      <td>[32392, 13387]</td>\n",
       "      <td>[28336, 11449]</td>\n",
       "      <td>[0.712, 0.288]</td>\n",
       "      <td>[4056, 1938]</td>\n",
       "      <td>[0.677, 0.323]</td>\n",
       "      <td>0.035</td>\n",
       "      <td>0.000</td>\n",
       "      <td>yes</td>\n",
       "    </tr>\n",
       "    <tr>\n",
       "      <td>adm_3</td>\n",
       "      <td>45779</td>\n",
       "      <td>0</td>\n",
       "      <td>0.000</td>\n",
       "      <td>[0, 1]</td>\n",
       "      <td>[36296, 9483]</td>\n",
       "      <td>[31370, 8415]</td>\n",
       "      <td>[0.788, 0.212]</td>\n",
       "      <td>[4926, 1068]</td>\n",
       "      <td>[0.822, 0.178]</td>\n",
       "      <td>0.034</td>\n",
       "      <td>0.000</td>\n",
       "      <td>yes</td>\n",
       "    </tr>\n",
       "    <tr>\n",
       "      <td>medSpec_InternalMedicine</td>\n",
       "      <td>45779</td>\n",
       "      <td>0</td>\n",
       "      <td>0.000</td>\n",
       "      <td>[0, 1]</td>\n",
       "      <td>[38382, 7397]</td>\n",
       "      <td>[33492, 6293]</td>\n",
       "      <td>[0.842, 0.158]</td>\n",
       "      <td>[4890, 1104]</td>\n",
       "      <td>[0.816, 0.184]</td>\n",
       "      <td>0.026</td>\n",
       "      <td>0.000</td>\n",
       "      <td>yes</td>\n",
       "    </tr>\n",
       "    <tr>\n",
       "      <td>adm_src_1</td>\n",
       "      <td>45779</td>\n",
       "      <td>0</td>\n",
       "      <td>0.000</td>\n",
       "      <td>[0, 1]</td>\n",
       "      <td>[31070, 14709]</td>\n",
       "      <td>[26875, 12910]</td>\n",
       "      <td>[0.676, 0.324]</td>\n",
       "      <td>[4195, 1799]</td>\n",
       "      <td>[0.7, 0.3]</td>\n",
       "      <td>0.024</td>\n",
       "      <td>0.002</td>\n",
       "      <td>yes</td>\n",
       "    </tr>\n",
       "    <tr>\n",
       "      <td>metformin</td>\n",
       "      <td>45779</td>\n",
       "      <td>0</td>\n",
       "      <td>0.000</td>\n",
       "      <td>[0, 2, 3, 1]</td>\n",
       "      <td>[35883, 9065, 546, 285]</td>\n",
       "      <td>[31061, 7992, 489, 243]</td>\n",
       "      <td>[0.781, 0.201, 0.012, 0.006]</td>\n",
       "      <td>[4822, 1073, 57, 42]</td>\n",
       "      <td>[0.804, 0.179, 0.01, 0.007]</td>\n",
       "      <td>0.023</td>\n",
       "      <td>0.000</td>\n",
       "      <td>yes</td>\n",
       "    </tr>\n",
       "    <tr>\n",
       "      <td>glipizide</td>\n",
       "      <td>45779</td>\n",
       "      <td>0</td>\n",
       "      <td>0.000</td>\n",
       "      <td>[0, 2, 3, 1]</td>\n",
       "      <td>[40065, 5129, 360, 225]</td>\n",
       "      <td>[34922, 4383, 300, 180]</td>\n",
       "      <td>[0.878, 0.11, 0.008, 0.005]</td>\n",
       "      <td>[5143, 746, 60, 45]</td>\n",
       "      <td>[0.858, 0.124, 0.01, 0.008]</td>\n",
       "      <td>0.020</td>\n",
       "      <td>0.000</td>\n",
       "      <td>yes</td>\n",
       "    </tr>\n",
       "    <tr>\n",
       "      <td>medSpec_Family/GeneralPractice</td>\n",
       "      <td>45779</td>\n",
       "      <td>0</td>\n",
       "      <td>0.000</td>\n",
       "      <td>[0, 1]</td>\n",
       "      <td>[42602, 3177]</td>\n",
       "      <td>[37123, 2662]</td>\n",
       "      <td>[0.933, 0.067]</td>\n",
       "      <td>[5479, 515]</td>\n",
       "      <td>[0.914, 0.086]</td>\n",
       "      <td>0.019</td>\n",
       "      <td>0.000</td>\n",
       "      <td>yes</td>\n",
       "    </tr>\n",
       "    <tr>\n",
       "      <td>ComplexHbA1c</td>\n",
       "      <td>45779</td>\n",
       "      <td>0</td>\n",
       "      <td>0.000</td>\n",
       "      <td>[0, 2, 1]</td>\n",
       "      <td>[41519, 2780, 1480]</td>\n",
       "      <td>[36170, 2354, 1261]</td>\n",
       "      <td>[0.909, 0.059, 0.032]</td>\n",
       "      <td>[5349, 426, 219]</td>\n",
       "      <td>[0.892, 0.071, 0.037]</td>\n",
       "      <td>0.017</td>\n",
       "      <td>0.000</td>\n",
       "      <td>yes</td>\n",
       "    </tr>\n",
       "    <tr>\n",
       "      <td>race_AfricanAmerican</td>\n",
       "      <td>45779</td>\n",
       "      <td>0</td>\n",
       "      <td>0.000</td>\n",
       "      <td>[0, 1]</td>\n",
       "      <td>[37434, 8345]</td>\n",
       "      <td>[32456, 7329]</td>\n",
       "      <td>[0.816, 0.184]</td>\n",
       "      <td>[4978, 1016]</td>\n",
       "      <td>[0.83, 0.17]</td>\n",
       "      <td>0.014</td>\n",
       "      <td>0.013</td>\n",
       "      <td>yes</td>\n",
       "    </tr>\n",
       "    <tr>\n",
       "      <td>Digestive_1</td>\n",
       "      <td>45779</td>\n",
       "      <td>0</td>\n",
       "      <td>0.000</td>\n",
       "      <td>[0, 1]</td>\n",
       "      <td>[41598, 4181]</td>\n",
       "      <td>[36092, 3693]</td>\n",
       "      <td>[0.907, 0.093]</td>\n",
       "      <td>[5506, 488]</td>\n",
       "      <td>[0.919, 0.081]</td>\n",
       "      <td>0.012</td>\n",
       "      <td>0.006</td>\n",
       "      <td>yes</td>\n",
       "    </tr>\n",
       "    <tr>\n",
       "      <td>Poisoning_1</td>\n",
       "      <td>45779</td>\n",
       "      <td>0</td>\n",
       "      <td>0.000</td>\n",
       "      <td>[0, 1]</td>\n",
       "      <td>[42558, 3221]</td>\n",
       "      <td>[37047, 2738]</td>\n",
       "      <td>[0.931, 0.069]</td>\n",
       "      <td>[5511, 483]</td>\n",
       "      <td>[0.919, 0.081]</td>\n",
       "      <td>0.012</td>\n",
       "      <td>0.001</td>\n",
       "      <td>yes</td>\n",
       "    </tr>\n",
       "  </tbody>\n",
       "</table>"
      ],
      "text/plain": [
       "<IPython.core.display.HTML object>"
      ]
     },
     "metadata": {},
     "output_type": "display_data"
    },
    {
     "name": "stdout",
     "output_type": "stream",
     "text": [
      "(28, 13)\n"
     ]
    },
    {
     "data": {
      "text/html": [
       "<table border=\"1\" class=\"dataframe\">\n",
       "  <thead>\n",
       "    <tr style=\"text-align: right;\">\n",
       "      <th>variable</th>\n",
       "      <th>num</th>\n",
       "      <th>#nulls</th>\n",
       "      <th>%nulls</th>\n",
       "      <th>values</th>\n",
       "      <th>frequencies</th>\n",
       "      <th>non-readmitted (n)</th>\n",
       "      <th>non-readmitted (%)</th>\n",
       "      <th>early_readmitted (n)</th>\n",
       "      <th>early_readmitted (%)</th>\n",
       "      <th>diff (%)</th>\n",
       "      <th>p-value</th>\n",
       "      <th>sig.</th>\n",
       "    </tr>\n",
       "  </thead>\n",
       "  <tbody>\n",
       "    <tr>\n",
       "      <td>diss_home</td>\n",
       "      <td>45779</td>\n",
       "      <td>0</td>\n",
       "      <td>0.000</td>\n",
       "      <td>[1, 0]</td>\n",
       "      <td>[30464, 15315]</td>\n",
       "      <td>[27381, 12404]</td>\n",
       "      <td>[0.688, 0.312]</td>\n",
       "      <td>[3083, 2911]</td>\n",
       "      <td>[0.514, 0.486]</td>\n",
       "      <td>0.174</td>\n",
       "      <td>0.000</td>\n",
       "      <td>yes</td>\n",
       "    </tr>\n",
       "    <tr>\n",
       "      <td>diabetesMed</td>\n",
       "      <td>45779</td>\n",
       "      <td>0</td>\n",
       "      <td>0.000</td>\n",
       "      <td>[1, 0]</td>\n",
       "      <td>[34461, 11318]</td>\n",
       "      <td>[29648, 10137]</td>\n",
       "      <td>[0.745, 0.255]</td>\n",
       "      <td>[4813, 1181]</td>\n",
       "      <td>[0.803, 0.197]</td>\n",
       "      <td>0.058</td>\n",
       "      <td>0.000</td>\n",
       "      <td>yes</td>\n",
       "    </tr>\n",
       "    <tr>\n",
       "      <td>age</td>\n",
       "      <td>45779</td>\n",
       "      <td>0</td>\n",
       "      <td>0.000</td>\n",
       "      <td>[7, 6, 5, 8, 4, 3, 9, 2, 1, 0]</td>\n",
       "      <td>[11068, 10248, 8212, 7091, 4646, 1910, 1282, 8...</td>\n",
       "      <td>[9340, 8905, 7370, 5931, 4172, 1733, 1122, 743...</td>\n",
       "      <td>[0.235, 0.224, 0.185, 0.149, 0.105, 0.044, 0.0...</td>\n",
       "      <td>[1728, 1343, 1160, 842, 474, 177, 160, 82, 25, 3]</td>\n",
       "      <td>[0.288, 0.224, 0.194, 0.14, 0.079, 0.03, 0.027...</td>\n",
       "      <td>0.053</td>\n",
       "      <td>0.000</td>\n",
       "      <td>yes</td>\n",
       "    </tr>\n",
       "    <tr>\n",
       "      <td>HbA1c</td>\n",
       "      <td>45779</td>\n",
       "      <td>0</td>\n",
       "      <td>0.000</td>\n",
       "      <td>[0, 3, 1, 2]</td>\n",
       "      <td>[36679, 4260, 2786, 2054]</td>\n",
       "      <td>[32150, 3615, 2322, 1698]</td>\n",
       "      <td>[0.808, 0.091, 0.058, 0.043]</td>\n",
       "      <td>[4529, 645, 464, 356]</td>\n",
       "      <td>[0.756, 0.108, 0.077, 0.059]</td>\n",
       "      <td>0.052</td>\n",
       "      <td>0.000</td>\n",
       "      <td>yes</td>\n",
       "    </tr>\n",
       "    <tr>\n",
       "      <td>insulin</td>\n",
       "      <td>45779</td>\n",
       "      <td>0</td>\n",
       "      <td>0.000</td>\n",
       "      <td>[0, 2, 1, 3]</td>\n",
       "      <td>[22137, 14559, 4705, 4378]</td>\n",
       "      <td>[19503, 12606, 3947, 3729]</td>\n",
       "      <td>[0.49, 0.317, 0.099, 0.094]</td>\n",
       "      <td>[2634, 1953, 758, 649]</td>\n",
       "      <td>[0.439, 0.326, 0.126, 0.108]</td>\n",
       "      <td>0.051</td>\n",
       "      <td>0.000</td>\n",
       "      <td>yes</td>\n",
       "    </tr>\n",
       "    <tr>\n",
       "      <td>race_Caucasian</td>\n",
       "      <td>45779</td>\n",
       "      <td>0</td>\n",
       "      <td>0.000</td>\n",
       "      <td>[1, 0]</td>\n",
       "      <td>[33763, 12016]</td>\n",
       "      <td>[29135, 10650]</td>\n",
       "      <td>[0.732, 0.268]</td>\n",
       "      <td>[4628, 1366]</td>\n",
       "      <td>[0.772, 0.228]</td>\n",
       "      <td>0.040</td>\n",
       "      <td>0.001</td>\n",
       "      <td>yes</td>\n",
       "    </tr>\n",
       "    <tr>\n",
       "      <td>Change</td>\n",
       "      <td>45779</td>\n",
       "      <td>0</td>\n",
       "      <td>0.000</td>\n",
       "      <td>[0, 1]</td>\n",
       "      <td>[25395, 20384]</td>\n",
       "      <td>[22273, 17512]</td>\n",
       "      <td>[0.56, 0.44]</td>\n",
       "      <td>[3122, 2872]</td>\n",
       "      <td>[0.521, 0.479]</td>\n",
       "      <td>0.039</td>\n",
       "      <td>0.000</td>\n",
       "      <td>yes</td>\n",
       "    </tr>\n",
       "    <tr>\n",
       "      <td>sum_ch_med</td>\n",
       "      <td>45779</td>\n",
       "      <td>0</td>\n",
       "      <td>0.000</td>\n",
       "      <td>[2, 1, 0]</td>\n",
       "      <td>[20384, 14077, 11318]</td>\n",
       "      <td>[17512, 12136, 10137]</td>\n",
       "      <td>[0.44, 0.305, 0.255]</td>\n",
       "      <td>[2872, 1941, 1181]</td>\n",
       "      <td>[0.479, 0.324, 0.197]</td>\n",
       "      <td>0.039</td>\n",
       "      <td>0.000</td>\n",
       "      <td>yes</td>\n",
       "    </tr>\n",
       "    <tr>\n",
       "      <td>adm_src_7</td>\n",
       "      <td>45779</td>\n",
       "      <td>0</td>\n",
       "      <td>0.000</td>\n",
       "      <td>[1, 0]</td>\n",
       "      <td>[23748, 22031]</td>\n",
       "      <td>[20443, 19342]</td>\n",
       "      <td>[0.514, 0.486]</td>\n",
       "      <td>[3305, 2689]</td>\n",
       "      <td>[0.551, 0.449]</td>\n",
       "      <td>0.037</td>\n",
       "      <td>0.000</td>\n",
       "      <td>yes</td>\n",
       "    </tr>\n",
       "    <tr>\n",
       "      <td>Circulatory_1</td>\n",
       "      <td>45779</td>\n",
       "      <td>0</td>\n",
       "      <td>0.000</td>\n",
       "      <td>[0, 1]</td>\n",
       "      <td>[32392, 13387]</td>\n",
       "      <td>[28336, 11449]</td>\n",
       "      <td>[0.712, 0.288]</td>\n",
       "      <td>[4056, 1938]</td>\n",
       "      <td>[0.677, 0.323]</td>\n",
       "      <td>0.035</td>\n",
       "      <td>0.000</td>\n",
       "      <td>yes</td>\n",
       "    </tr>\n",
       "    <tr>\n",
       "      <td>adm_3</td>\n",
       "      <td>45779</td>\n",
       "      <td>0</td>\n",
       "      <td>0.000</td>\n",
       "      <td>[0, 1]</td>\n",
       "      <td>[36296, 9483]</td>\n",
       "      <td>[31370, 8415]</td>\n",
       "      <td>[0.788, 0.212]</td>\n",
       "      <td>[4926, 1068]</td>\n",
       "      <td>[0.822, 0.178]</td>\n",
       "      <td>0.034</td>\n",
       "      <td>0.000</td>\n",
       "      <td>yes</td>\n",
       "    </tr>\n",
       "    <tr>\n",
       "      <td>medSpec_InternalMedicine</td>\n",
       "      <td>45779</td>\n",
       "      <td>0</td>\n",
       "      <td>0.000</td>\n",
       "      <td>[0, 1]</td>\n",
       "      <td>[38382, 7397]</td>\n",
       "      <td>[33492, 6293]</td>\n",
       "      <td>[0.842, 0.158]</td>\n",
       "      <td>[4890, 1104]</td>\n",
       "      <td>[0.816, 0.184]</td>\n",
       "      <td>0.026</td>\n",
       "      <td>0.000</td>\n",
       "      <td>yes</td>\n",
       "    </tr>\n",
       "    <tr>\n",
       "      <td>adm_src_1</td>\n",
       "      <td>45779</td>\n",
       "      <td>0</td>\n",
       "      <td>0.000</td>\n",
       "      <td>[0, 1]</td>\n",
       "      <td>[31070, 14709]</td>\n",
       "      <td>[26875, 12910]</td>\n",
       "      <td>[0.676, 0.324]</td>\n",
       "      <td>[4195, 1799]</td>\n",
       "      <td>[0.7, 0.3]</td>\n",
       "      <td>0.024</td>\n",
       "      <td>0.002</td>\n",
       "      <td>yes</td>\n",
       "    </tr>\n",
       "    <tr>\n",
       "      <td>metformin</td>\n",
       "      <td>45779</td>\n",
       "      <td>0</td>\n",
       "      <td>0.000</td>\n",
       "      <td>[0, 2, 3, 1]</td>\n",
       "      <td>[35883, 9065, 546, 285]</td>\n",
       "      <td>[31061, 7992, 489, 243]</td>\n",
       "      <td>[0.781, 0.201, 0.012, 0.006]</td>\n",
       "      <td>[4822, 1073, 57, 42]</td>\n",
       "      <td>[0.804, 0.179, 0.01, 0.007]</td>\n",
       "      <td>0.023</td>\n",
       "      <td>0.000</td>\n",
       "      <td>yes</td>\n",
       "    </tr>\n",
       "    <tr>\n",
       "      <td>glipizide</td>\n",
       "      <td>45779</td>\n",
       "      <td>0</td>\n",
       "      <td>0.000</td>\n",
       "      <td>[0, 2, 3, 1]</td>\n",
       "      <td>[40065, 5129, 360, 225]</td>\n",
       "      <td>[34922, 4383, 300, 180]</td>\n",
       "      <td>[0.878, 0.11, 0.008, 0.005]</td>\n",
       "      <td>[5143, 746, 60, 45]</td>\n",
       "      <td>[0.858, 0.124, 0.01, 0.008]</td>\n",
       "      <td>0.020</td>\n",
       "      <td>0.000</td>\n",
       "      <td>yes</td>\n",
       "    </tr>\n",
       "    <tr>\n",
       "      <td>medSpec_Family/GeneralPractice</td>\n",
       "      <td>45779</td>\n",
       "      <td>0</td>\n",
       "      <td>0.000</td>\n",
       "      <td>[0, 1]</td>\n",
       "      <td>[42602, 3177]</td>\n",
       "      <td>[37123, 2662]</td>\n",
       "      <td>[0.933, 0.067]</td>\n",
       "      <td>[5479, 515]</td>\n",
       "      <td>[0.914, 0.086]</td>\n",
       "      <td>0.019</td>\n",
       "      <td>0.000</td>\n",
       "      <td>yes</td>\n",
       "    </tr>\n",
       "    <tr>\n",
       "      <td>ComplexHbA1c</td>\n",
       "      <td>45779</td>\n",
       "      <td>0</td>\n",
       "      <td>0.000</td>\n",
       "      <td>[0, 2, 1]</td>\n",
       "      <td>[41519, 2780, 1480]</td>\n",
       "      <td>[36170, 2354, 1261]</td>\n",
       "      <td>[0.909, 0.059, 0.032]</td>\n",
       "      <td>[5349, 426, 219]</td>\n",
       "      <td>[0.892, 0.071, 0.037]</td>\n",
       "      <td>0.017</td>\n",
       "      <td>0.000</td>\n",
       "      <td>yes</td>\n",
       "    </tr>\n",
       "    <tr>\n",
       "      <td>race_AfricanAmerican</td>\n",
       "      <td>45779</td>\n",
       "      <td>0</td>\n",
       "      <td>0.000</td>\n",
       "      <td>[0, 1]</td>\n",
       "      <td>[37434, 8345]</td>\n",
       "      <td>[32456, 7329]</td>\n",
       "      <td>[0.816, 0.184]</td>\n",
       "      <td>[4978, 1016]</td>\n",
       "      <td>[0.83, 0.17]</td>\n",
       "      <td>0.014</td>\n",
       "      <td>0.013</td>\n",
       "      <td>yes</td>\n",
       "    </tr>\n",
       "    <tr>\n",
       "      <td>Digestive_1</td>\n",
       "      <td>45779</td>\n",
       "      <td>0</td>\n",
       "      <td>0.000</td>\n",
       "      <td>[0, 1]</td>\n",
       "      <td>[41598, 4181]</td>\n",
       "      <td>[36092, 3693]</td>\n",
       "      <td>[0.907, 0.093]</td>\n",
       "      <td>[5506, 488]</td>\n",
       "      <td>[0.919, 0.081]</td>\n",
       "      <td>0.012</td>\n",
       "      <td>0.006</td>\n",
       "      <td>yes</td>\n",
       "    </tr>\n",
       "    <tr>\n",
       "      <td>Poisoning_1</td>\n",
       "      <td>45779</td>\n",
       "      <td>0</td>\n",
       "      <td>0.000</td>\n",
       "      <td>[0, 1]</td>\n",
       "      <td>[42558, 3221]</td>\n",
       "      <td>[37047, 2738]</td>\n",
       "      <td>[0.931, 0.069]</td>\n",
       "      <td>[5511, 483]</td>\n",
       "      <td>[0.919, 0.081]</td>\n",
       "      <td>0.012</td>\n",
       "      <td>0.001</td>\n",
       "      <td>yes</td>\n",
       "    </tr>\n",
       "  </tbody>\n",
       "</table>"
      ],
      "text/plain": [
       "<IPython.core.display.HTML object>"
      ]
     },
     "metadata": {},
     "output_type": "display_data"
    }
   ],
   "source": [
    "from sklearn.feature_selection import chi2\n",
    "\n",
    "for cond in [\"non_all\", \"non_early\"]:\n",
    "    \n",
    "    if cond == \"non_all\":\n",
    "        dfFilteredAux = df_all.copy()\n",
    "        classVal = dfFilteredAux[\"readmitted\"]>0\n",
    "    else:\n",
    "        dfFilteredAux = df_all[df_all[\"readmitted\"]<=1].copy()\n",
    "        classVal = dfFilteredAux[\"readmitted\"]>0\n",
    "        \n",
    "    catData = []    \n",
    "    for rv in dfFilteredAux.columns[catCols == 1]:\n",
    "\n",
    "        cleanIc = dfFilteredAux[rv]\n",
    "\n",
    "        #Null policy (drop)\n",
    "        ix = cleanIc.dropna().index\n",
    "\n",
    "        #Get readmitted\n",
    "        #valClass = dfFiltered[\"readmitted\"]>0        \n",
    "        r, p = chi2(cleanIc.dropna().values.astype(int).reshape(-1,1),classVal[ix].astype(int).reshape(-1,1))    \n",
    "\n",
    "        perc = (pd.value_counts(dfFilteredAux[dfFilteredAux[\"readmitted\"] == 0][rv])/dfFilteredAux[dfFilteredAux[\"readmitted\"] == 0][rv].count()).round(3).values.tolist()\n",
    "        perc_1 = (pd.value_counts(dfFilteredAux[dfFilteredAux[\"readmitted\"] > 0][rv])/dfFilteredAux[dfFilteredAux[\"readmitted\"] > 0][rv].count()).round(3).values.tolist()\n",
    "        catData.append([str(rv),\n",
    "                        np.sum(cleanIc.isnull() == False),\n",
    "                        np.sum(cleanIc.isnull() == True),\n",
    "                        np.sum(cleanIc.isnull()) / float(len(cleanIc)),\n",
    "                        pd.value_counts(cleanIc).index.astype(int).tolist(), \n",
    "                        pd.value_counts(cleanIc).values.tolist(),\n",
    "                        str(pd.value_counts(dfFilteredAux[dfFilteredAux[\"readmitted\"] == 0][rv]).values.tolist()),\n",
    "                        str(perc),\n",
    "                        str(pd.value_counts(dfFilteredAux[dfFilteredAux[\"readmitted\"] > 0][rv]).values.tolist()),\n",
    "                        str(perc_1),                    \n",
    "                        abs(perc_1[0] - perc[0]),\n",
    "                        round(p,4),\n",
    "                        \"yes\" if p<0.05 else \"no\"\n",
    "                        ])\n",
    "\n",
    "    dfCatData = pd.DataFrame(catData, columns=[\"variable\",\"num\",\"#nulls\",u\"%nulls\",\"values\",\"frequencies\",\n",
    "                                               \"non-readmitted (n)\",\"non-readmitted (%)\",\n",
    "                                               \"readmitted (n)\" if cond == \"non_all\" else \"early_readmitted (n)\",\n",
    "                                               \"readmitted (%)\" if cond == \"non_all\" else \"early_readmitted (%)\",\n",
    "                                               \"diff (%)\",\n",
    "                                               \"p-value\",\"sig.\"])\n",
    "    print dfCatData[dfCatData[\"p-value\"] < 0.05].shape\n",
    "    display(HTML(dfCatData[np.logical_and(dfCatData[\"p-value\"] < 0.05, dfCatData[\"diff (%)\"] >= 0.01)].sort_values(\"diff (%)\", ascending=False).to_html(index=False)))"
   ]
  },
  {
   "cell_type": "markdown",
   "metadata": {},
   "source": [
    "Numerical"
   ]
  },
  {
   "cell_type": "code",
   "execution_count": 704,
   "metadata": {},
   "outputs": [
    {
     "data": {
      "text/html": [
       "<table border=\"1\" class=\"dataframe\">\n",
       "  <thead>\n",
       "    <tr style=\"text-align: right;\">\n",
       "      <th>variable</th>\n",
       "      <th>num</th>\n",
       "      <th>#nulls</th>\n",
       "      <th>%nulls</th>\n",
       "      <th>mean</th>\n",
       "      <th>non-readmitted</th>\n",
       "      <th>readmitted</th>\n",
       "      <th>diff</th>\n",
       "      <th>p-value</th>\n",
       "      <th>sig</th>\n",
       "    </tr>\n",
       "  </thead>\n",
       "  <tbody>\n",
       "    <tr>\n",
       "      <td>number_inpatient</td>\n",
       "      <td>67182</td>\n",
       "      <td>0</td>\n",
       "      <td>0.000</td>\n",
       "      <td>0.18+/-0.61</td>\n",
       "      <td>0.108+/-0.43</td>\n",
       "      <td>0.291+/-0.8</td>\n",
       "      <td>0.004</td>\n",
       "      <td>0.000</td>\n",
       "      <td>True</td>\n",
       "    </tr>\n",
       "    <tr>\n",
       "      <td>time_in_hospital</td>\n",
       "      <td>67182</td>\n",
       "      <td>0</td>\n",
       "      <td>0.000</td>\n",
       "      <td>4.26+/-2.92</td>\n",
       "      <td>4.105+/-2.88</td>\n",
       "      <td>4.478+/-2.98</td>\n",
       "      <td>0.004</td>\n",
       "      <td>0.000</td>\n",
       "      <td>True</td>\n",
       "    </tr>\n",
       "    <tr>\n",
       "      <td>num_procedures</td>\n",
       "      <td>67182</td>\n",
       "      <td>0</td>\n",
       "      <td>0.000</td>\n",
       "      <td>1.41+/-1.75</td>\n",
       "      <td>1.441+/-1.75</td>\n",
       "      <td>1.362+/-1.73</td>\n",
       "      <td>0.003</td>\n",
       "      <td>0.000</td>\n",
       "      <td>True</td>\n",
       "    </tr>\n",
       "    <tr>\n",
       "      <td>number_outpatient</td>\n",
       "      <td>67182</td>\n",
       "      <td>0</td>\n",
       "      <td>0.000</td>\n",
       "      <td>0.29+/-1.08</td>\n",
       "      <td>0.231+/-0.93</td>\n",
       "      <td>0.375+/-1.27</td>\n",
       "      <td>0.003</td>\n",
       "      <td>0.000</td>\n",
       "      <td>True</td>\n",
       "    </tr>\n",
       "    <tr>\n",
       "      <td>number_emergency</td>\n",
       "      <td>67182</td>\n",
       "      <td>0</td>\n",
       "      <td>0.000</td>\n",
       "      <td>0.11+/-0.52</td>\n",
       "      <td>0.074+/-0.43</td>\n",
       "      <td>0.157+/-0.63</td>\n",
       "      <td>0.002</td>\n",
       "      <td>0.000</td>\n",
       "      <td>True</td>\n",
       "    </tr>\n",
       "    <tr>\n",
       "      <td>number_diagnoses</td>\n",
       "      <td>67182</td>\n",
       "      <td>0</td>\n",
       "      <td>0.000</td>\n",
       "      <td>7.26+/-1.99</td>\n",
       "      <td>7.089+/-2.06</td>\n",
       "      <td>7.515+/-1.86</td>\n",
       "      <td>0.002</td>\n",
       "      <td>0.000</td>\n",
       "      <td>True</td>\n",
       "    </tr>\n",
       "    <tr>\n",
       "      <td>num_medications</td>\n",
       "      <td>67182</td>\n",
       "      <td>0</td>\n",
       "      <td>0.000</td>\n",
       "      <td>15.66+/-8.22</td>\n",
       "      <td>15.371+/-8.44</td>\n",
       "      <td>16.071+/-7.86</td>\n",
       "      <td>0.001</td>\n",
       "      <td>0.000</td>\n",
       "      <td>True</td>\n",
       "    </tr>\n",
       "    <tr>\n",
       "      <td>num_lab_procedures</td>\n",
       "      <td>67182</td>\n",
       "      <td>0</td>\n",
       "      <td>0.000</td>\n",
       "      <td>42.95+/-20.03</td>\n",
       "      <td>42.097+/-19.99</td>\n",
       "      <td>44.194+/-20.02</td>\n",
       "      <td>0.000</td>\n",
       "      <td>0.000</td>\n",
       "      <td>True</td>\n",
       "    </tr>\n",
       "  </tbody>\n",
       "</table>"
      ],
      "text/plain": [
       "<IPython.core.display.HTML object>"
      ]
     },
     "metadata": {},
     "output_type": "display_data"
    },
    {
     "data": {
      "text/html": [
       "<table border=\"1\" class=\"dataframe\">\n",
       "  <thead>\n",
       "    <tr style=\"text-align: right;\">\n",
       "      <th>variable</th>\n",
       "      <th>num</th>\n",
       "      <th>#nulls</th>\n",
       "      <th>%nulls</th>\n",
       "      <th>mean</th>\n",
       "      <th>non-readmitted</th>\n",
       "      <th>early_readmitted</th>\n",
       "      <th>diff</th>\n",
       "      <th>p-value</th>\n",
       "      <th>sig</th>\n",
       "    </tr>\n",
       "  </thead>\n",
       "  <tbody>\n",
       "    <tr>\n",
       "      <td>time_in_hospital</td>\n",
       "      <td>67182</td>\n",
       "      <td>0</td>\n",
       "      <td>0.000</td>\n",
       "      <td>4.19+/-2.91</td>\n",
       "      <td>4.105+/-2.88</td>\n",
       "      <td>4.767+/-3.04</td>\n",
       "      <td>0.009</td>\n",
       "      <td>0.000</td>\n",
       "      <td>True</td>\n",
       "    </tr>\n",
       "    <tr>\n",
       "      <td>number_inpatient</td>\n",
       "      <td>67182</td>\n",
       "      <td>0</td>\n",
       "      <td>0.000</td>\n",
       "      <td>0.14+/-0.55</td>\n",
       "      <td>0.108+/-0.43</td>\n",
       "      <td>0.383+/-1.0</td>\n",
       "      <td>0.006</td>\n",
       "      <td>0.000</td>\n",
       "      <td>True</td>\n",
       "    </tr>\n",
       "    <tr>\n",
       "      <td>num_medications</td>\n",
       "      <td>67182</td>\n",
       "      <td>0</td>\n",
       "      <td>0.000</td>\n",
       "      <td>15.53+/-8.42</td>\n",
       "      <td>15.371+/-8.44</td>\n",
       "      <td>16.607+/-8.25</td>\n",
       "      <td>0.004</td>\n",
       "      <td>0.000</td>\n",
       "      <td>True</td>\n",
       "    </tr>\n",
       "    <tr>\n",
       "      <td>num_procedures</td>\n",
       "      <td>67182</td>\n",
       "      <td>0</td>\n",
       "      <td>0.000</td>\n",
       "      <td>1.44+/-1.75</td>\n",
       "      <td>1.441+/-1.75</td>\n",
       "      <td>1.4+/-1.72</td>\n",
       "      <td>0.003</td>\n",
       "      <td>0.086</td>\n",
       "      <td>False</td>\n",
       "    </tr>\n",
       "    <tr>\n",
       "      <td>number_emergency</td>\n",
       "      <td>67182</td>\n",
       "      <td>0</td>\n",
       "      <td>0.000</td>\n",
       "      <td>0.08+/-0.45</td>\n",
       "      <td>0.074+/-0.43</td>\n",
       "      <td>0.156+/-0.59</td>\n",
       "      <td>0.002</td>\n",
       "      <td>0.000</td>\n",
       "      <td>True</td>\n",
       "    </tr>\n",
       "    <tr>\n",
       "      <td>number_outpatient</td>\n",
       "      <td>67182</td>\n",
       "      <td>0</td>\n",
       "      <td>0.000</td>\n",
       "      <td>0.24+/-0.95</td>\n",
       "      <td>0.231+/-0.93</td>\n",
       "      <td>0.318+/-1.06</td>\n",
       "      <td>0.002</td>\n",
       "      <td>0.000</td>\n",
       "      <td>True</td>\n",
       "    </tr>\n",
       "    <tr>\n",
       "      <td>number_diagnoses</td>\n",
       "      <td>67182</td>\n",
       "      <td>0</td>\n",
       "      <td>0.000</td>\n",
       "      <td>7.15+/-2.04</td>\n",
       "      <td>7.089+/-2.06</td>\n",
       "      <td>7.539+/-1.83</td>\n",
       "      <td>0.001</td>\n",
       "      <td>0.000</td>\n",
       "      <td>True</td>\n",
       "    </tr>\n",
       "    <tr>\n",
       "      <td>num_lab_procedures</td>\n",
       "      <td>67182</td>\n",
       "      <td>0</td>\n",
       "      <td>0.000</td>\n",
       "      <td>42.47+/-19.95</td>\n",
       "      <td>42.097+/-19.99</td>\n",
       "      <td>44.961+/-19.49</td>\n",
       "      <td>0.000</td>\n",
       "      <td>0.000</td>\n",
       "      <td>True</td>\n",
       "    </tr>\n",
       "  </tbody>\n",
       "</table>"
      ],
      "text/plain": [
       "<IPython.core.display.HTML object>"
      ]
     },
     "metadata": {},
     "output_type": "display_data"
    }
   ],
   "source": [
    "from scipy import stats\n",
    "\n",
    "\n",
    "for cond in [\"non_all\", \"non_early\"]:\n",
    "    \n",
    "    if cond == \"non_all\":\n",
    "        dfFilteredAux = df_all.copy()\n",
    "        classVal = dfFiltered[\"readmitted\"]>0\n",
    "    else:\n",
    "        dfFilteredAux = df_all[df_all[\"readmitted\"]<=1].copy()\n",
    "        classVal = dfFilteredAux[\"readmitted\"]>0\n",
    "\n",
    "\n",
    "    numData = dfFilteredAux[dfFilteredAux.columns[catCols == 0]].describe().T[[\"count\",\"mean\",\"std\"]].copy()\n",
    "    numData.insert(0,\"variable\",numData.index.values)\n",
    "    numData.insert(1,\"num\", dfFiltered.shape[0] - numData[\"count\"].isnull().astype(int))\n",
    "    numData.insert(2,\"#nulls\",  numData[\"count\"].isnull().astype(int))\n",
    "    numData.insert(3,\"%nulls\", numData[\"#nulls\"] / dfFiltered.shape[0])\n",
    "\n",
    "\n",
    "    numData_non_comp = dfFilteredAux[dfFilteredAux[\"readmitted\"] == 0][dfFilteredAux.columns[catCols == 0]].describe().T[[\"mean\",\"std\"]]\n",
    "    numData_comp = dfFilteredAux[dfFilteredAux[\"readmitted\"] > 0][dfFilteredAux.columns[catCols == 0]].describe().T[[\"mean\",\"std\"]]\n",
    "\n",
    "\n",
    "    numData[\"mean\"] = numData[\"mean\"].round(2).astype(str).str.cat(numData[\"std\"].round(2).astype(str), sep=\"+/-\")\n",
    "    numData[\"non-readmitted\"] = numData_non_comp[\"mean\"].round(3).astype(str).str.cat(numData_non_comp[\"std\"].round(2).astype(str), sep=\"+/-\")    \n",
    "    numData[\"readmitted\" if cond == \"non_all\" else \"early_readmitted\"] = numData_comp[\"mean\"].round(3).astype(str).str.cat(numData_comp[\"std\"].round(2).astype(str), sep=\"+/-\")\n",
    "    numData[\"diff\"] = abs(numData_non_comp[\"mean\"]/numData_non_comp[\"mean\"].max() - numData_comp[\"mean\"]/numData_comp[\"mean\"].max())\n",
    "    pvals = []\n",
    "\n",
    "    for v in numData[\"variable\"].values:\n",
    "        #pvals.append(stats.mannwhitneyu(dfFiltered[v].values.astype(float).reshape(-1,1), \n",
    "        #             classVal.astype(int).reshape(-1,1),alternative='two-sided')[1])    \n",
    "        pvals.append(stats.mannwhitneyu(\n",
    "            dfFilteredAux[v].loc[classVal == False].values.astype(float).reshape(-1,1), \n",
    "            dfFilteredAux[v].loc[classVal == True].values.astype(float).reshape(-1,1)\n",
    "            )[1])\n",
    "\n",
    "    numData[\"p-value\"] = pvals\n",
    "    numData[\"sig\"] = numData[\"p-value\"] < 0.05\n",
    "\n",
    "    numData = numData[[\"variable\",\"num\",\"#nulls\",\"%nulls\",\n",
    "                       \"mean\",\"non-readmitted\",\n",
    "                       \"readmitted\" if cond == \"non_all\" else \"early_readmitted\",\n",
    "                       \"diff\",\"p-value\",\"sig\"]]\n",
    "\n",
    "    display(HTML(numData.sort_values(\"diff\", ascending=False).to_html(index=False)))"
   ]
  },
  {
   "cell_type": "markdown",
   "metadata": {},
   "source": [
    "#### Normality test"
   ]
  },
  {
   "cell_type": "code",
   "execution_count": 219,
   "metadata": {},
   "outputs": [
    {
     "name": "stdout",
     "output_type": "stream",
     "text": [
      "(34, 5)\n",
      "Normal features: 1\n",
      "Normal numerical features: 0\n",
      "Normal categorical features: 1\n",
      "No Normal features: 33\n",
      "No Normal numerical features: 10\n",
      "No Normal categorical features: 23\n"
     ]
    },
    {
     "name": "stderr",
     "output_type": "stream",
     "text": [
      "/home/aegle/miniconda2/envs/readmision/lib/python2.7/site-packages/scipy/stats/stats.py:1276: RuntimeWarning: invalid value encountered in absolute\n",
      "  return SkewtestResult(Z, 2 * distributions.norm.sf(np.abs(Z)))\n",
      "/home/aegle/miniconda2/envs/readmision/lib/python2.7/site-packages/scipy/stats/stats.py:1355: RuntimeWarning: invalid value encountered in absolute\n",
      "  return KurtosistestResult(Z, 2 * distributions.norm.sf(np.abs(Z)))\n"
     ]
    },
    {
     "data": {
      "text/html": [
       "<table border=\"1\" class=\"dataframe\">\n",
       "  <thead>\n",
       "    <tr style=\"text-align: right;\">\n",
       "      <th>variable</th>\n",
       "      <th>f_val</th>\n",
       "      <th>p_value</th>\n",
       "      <th>norm</th>\n",
       "    </tr>\n",
       "  </thead>\n",
       "  <tbody>\n",
       "    <tr>\n",
       "      <td>admission_source_id</td>\n",
       "      <td>12009.5898</td>\n",
       "      <td>0.0</td>\n",
       "      <td>no</td>\n",
       "    </tr>\n",
       "    <tr>\n",
       "      <td>time_in_hospital</td>\n",
       "      <td>11991.3388</td>\n",
       "      <td>0.0</td>\n",
       "      <td>no</td>\n",
       "    </tr>\n",
       "    <tr>\n",
       "      <td>num_lab_procedures</td>\n",
       "      <td>885.144</td>\n",
       "      <td>0.0</td>\n",
       "      <td>no</td>\n",
       "    </tr>\n",
       "    <tr>\n",
       "      <td>num_procedures</td>\n",
       "      <td>11871.2812</td>\n",
       "      <td>0.0</td>\n",
       "      <td>no</td>\n",
       "    </tr>\n",
       "    <tr>\n",
       "      <td>num_medications</td>\n",
       "      <td>20185.104</td>\n",
       "      <td>0.0</td>\n",
       "      <td>no</td>\n",
       "    </tr>\n",
       "    <tr>\n",
       "      <td>number_outpatient</td>\n",
       "      <td>110806.9854</td>\n",
       "      <td>0.0</td>\n",
       "      <td>no</td>\n",
       "    </tr>\n",
       "    <tr>\n",
       "      <td>number_emergency</td>\n",
       "      <td>162283.3343</td>\n",
       "      <td>0.0</td>\n",
       "      <td>no</td>\n",
       "    </tr>\n",
       "    <tr>\n",
       "      <td>number_inpatient</td>\n",
       "      <td>77529.3937</td>\n",
       "      <td>0.0</td>\n",
       "      <td>no</td>\n",
       "    </tr>\n",
       "    <tr>\n",
       "      <td>number_diagnoses</td>\n",
       "      <td>5792.8608</td>\n",
       "      <td>0.0</td>\n",
       "      <td>no</td>\n",
       "    </tr>\n",
       "    <tr>\n",
       "      <td>metformin</td>\n",
       "      <td>15745.9969</td>\n",
       "      <td>0.0</td>\n",
       "      <td>no</td>\n",
       "    </tr>\n",
       "  </tbody>\n",
       "</table>"
      ],
      "text/plain": [
       "<IPython.core.display.HTML object>"
      ]
     },
     "metadata": {},
     "output_type": "display_data"
    }
   ],
   "source": [
    "arrNorm = []\n",
    "for i,rv in enumerate(dfFiltered.columns[:-1]):\n",
    "\n",
    "    #Compute data\n",
    "    cleanIc = dfFiltered.iloc[:,i]\n",
    "    \n",
    "    f_value, p_value = stats.normaltest(cleanIc)\n",
    "    arrNorm.append([rv,\"yes\" if catCols[i] == 1 else \"no\", f_value.round(4), p_value.round(4), \"no\" if p_value < 0.05 else \"yes\"])\n",
    "    \n",
    "dfNorm = pd.DataFrame(np.array(arrNorm), columns=[\"variable\",\"categoric\",\"f_val\",\"p_value\",\"norm\"])\n",
    "print dfNorm.shape\n",
    "print \"Normal features:\", np.sum(dfNorm[\"norm\"] == \"yes\")\n",
    "print \"Normal numerical features:\", np.sum(np.logical_and(dfNorm[\"norm\"] == \"yes\",dfNorm[\"categoric\"] == \"no\"))\n",
    "print \"Normal categorical features:\", np.sum(np.logical_and(dfNorm[\"norm\"] == \"yes\",dfNorm[\"categoric\"] == \"yes\"))\n",
    "print \"No Normal features:\", np.sum(dfNorm[\"norm\"] == \"no\")\n",
    "print \"No Normal numerical features:\", np.sum(np.logical_and(dfNorm[\"norm\"] == \"no\",dfNorm[\"categoric\"] == \"no\"))\n",
    "print \"No Normal categorical features:\", np.sum(np.logical_and(dfNorm[\"norm\"] == \"no\",dfNorm[\"categoric\"] == \"yes\"))\n",
    "\n",
    "display(HTML(dfNorm[dfNorm[\"categoric\"] == \"no\"][[\"variable\",\"f_val\",\"p_value\",\"norm\"]].to_html(index=False)))"
   ]
  },
  {
   "cell_type": "markdown",
   "metadata": {},
   "source": [
    "#### Distributions: Numeric features"
   ]
  },
  {
   "cell_type": "code",
   "execution_count": 220,
   "metadata": {},
   "outputs": [
    {
     "name": "stdout",
     "output_type": "stream",
     "text": [
      "admission_source_id\n",
      "Unique values: 17\n",
      "p-value: 0.0\n",
      "Normal: False\n",
      "Mean: 5.65745686401 std: 4.16255115305\n"
     ]
    },
    {
     "data": {
      "image/png": "[encoded data removed]",
      "text/plain": [
       "<matplotlib.figure.Figure at 0x7f45e9a79cd0>"
      ]
     },
     "metadata": {},
     "output_type": "display_data"
    },
    {
     "name": "stdout",
     "output_type": "stream",
     "text": [
      "time_in_hospital\n",
      "Unique values: 14\n",
      "p-value: 0.0\n",
      "Normal: False\n",
      "Mean: 4.28913000923 std: 2.94918931791\n"
     ]
    },
    {
     "data": {
      "image/png": "[encoded data removed]",
      "text/plain": [
       "<matplotlib.figure.Figure at 0x7f45e992e3d0>"
      ]
     },
     "metadata": {},
     "output_type": "display_data"
    },
    {
     "name": "stdout",
     "output_type": "stream",
     "text": [
      "num_lab_procedures\n",
      "Unique values: 116\n",
      "p-value: 6.21468844265e-193\n",
      "Normal: False\n",
      "Mean: 43.0754775022 std: 19.9521984517\n"
     ]
    },
    {
     "data": {
      "image/png": "[encoded data removed]",
      "text/plain": [
       "<matplotlib.figure.Figure at 0x7f45e987f290>"
      ]
     },
     "metadata": {},
     "output_type": "display_data"
    },
    {
     "name": "stdout",
     "output_type": "stream",
     "text": [
      "num_procedures\n",
      "Unique values: 7\n",
      "p-value: 0.0\n",
      "Normal: False\n",
      "Mean: 1.4305769177 std: 1.75985165854\n"
     ]
    },
    {
     "data": {
      "image/png": "[encoded data removed]",
      "text/plain": [
       "<matplotlib.figure.Figure at 0x7f45e97ea4d0>"
      ]
     },
     "metadata": {},
     "output_type": "display_data"
    },
    {
     "name": "stdout",
     "output_type": "stream",
     "text": [
      "num_medications\n",
      "Unique values: 75\n",
      "p-value: 0.0\n",
      "Normal: False\n",
      "Mean: 15.7050253083 std: 8.31110460595\n"
     ]
    },
    {
     "data": {
      "image/png": "[encoded data removed]",
      "text/plain": [
       "<matplotlib.figure.Figure at 0x7f45e97398d0>"
      ]
     },
     "metadata": {},
     "output_type": "display_data"
    },
    {
     "name": "stdout",
     "output_type": "stream",
     "text": [
      "number_outpatient\n",
      "Unique values: 33\n",
      "p-value: 0.0\n",
      "Normal: False\n",
      "Mean: 0.28006935317 std: 1.06894918085\n"
     ]
    },
    {
     "data": {
      "image/png": "[encoded data removed]",
      "text/plain": [
       "<matplotlib.figure.Figure at 0x7f45e958cdd0>"
      ]
     },
     "metadata": {},
     "output_type": "display_data"
    },
    {
     "name": "stdout",
     "output_type": "stream",
     "text": [
      "number_emergency\n",
      "Unique values: 18\n",
      "p-value: 0.0\n",
      "Normal: False\n",
      "Mean: 0.10354036746 std: 0.509183039153\n"
     ]
    },
    {
     "data": {
      "image/png": "[encoded data removed]",
      "text/plain": [
       "<matplotlib.figure.Figure at 0x7f45e974fad0>"
      ]
     },
     "metadata": {},
     "output_type": "display_data"
    },
    {
     "name": "stdout",
     "output_type": "stream",
     "text": [
      "number_inpatient\n",
      "Unique values: 13\n",
      "p-value: 0.0\n",
      "Normal: False\n",
      "Mean: 0.177829357644 std: 0.603785311366\n"
     ]
    },
    {
     "data": {
      "image/png": "[encoded data removed]",
      "text/plain": [
       "<matplotlib.figure.Figure at 0x7f45e8a36dd0>"
      ]
     },
     "metadata": {},
     "output_type": "display_data"
    },
    {
     "name": "stdout",
     "output_type": "stream",
     "text": [
      "number_diagnoses\n",
      "Unique values: 16\n",
      "p-value: 0.0\n",
      "Normal: False\n",
      "Mean: 7.24570038312 std: 1.99466048358\n"
     ]
    },
    {
     "data": {
      "image/png": "[encoded data removed]",
      "text/plain": [
       "<matplotlib.figure.Figure at 0x7f45e878fcd0>"
      ]
     },
     "metadata": {},
     "output_type": "display_data"
    },
    {
     "name": "stdout",
     "output_type": "stream",
     "text": [
      "metformin\n",
      "Unique values: 4\n",
      "p-value: 0.0\n",
      "Normal: False\n",
      "Mean: 0.424858077687 std: 0.835632319895\n"
     ]
    },
    {
     "data": {
      "image/png": "[encoded data removed]",
      "text/plain": [
       "<matplotlib.figure.Figure at 0x7f45a9e10750>"
      ]
     },
     "metadata": {},
     "output_type": "display_data"
    }
   ],
   "source": [
    "from scipy.stats import boxcox\n",
    "\n",
    "for i,rv in enumerate(dfFiltered.columns[:-1]):\n",
    "\n",
    "    #Compute data\n",
    "    cleanIc = dfFiltered.iloc[:,i]\n",
    "    \n",
    "    if dfNorm[dfNorm.variable == rv][[\"categoric\"]].values == \"no\":\n",
    "\n",
    "        f_value, p_value = stats.normaltest(cleanIc)\n",
    "    \n",
    "        print rv\n",
    "        print \"Unique values:\", len(np.unique(cleanIc))\n",
    "        print \"p-value:\", p_value \n",
    "        print \"Normal:\", p_value >= 0.05\n",
    "        print \"Mean:\", np.mean(cleanIc), \"std:\", np.std(cleanIc)\n",
    "        \n",
    "        plt.figure(figsize=(8,4))\n",
    "        plt.hist(cleanIc, bins=10, alpha=0.5)\n",
    "        plt.axvline(np.median(cleanIc), c=\"r\", ls=\"--\")\n",
    "        plt.show()        "
   ]
  },
  {
   "cell_type": "code",
   "execution_count": 195,
   "metadata": {},
   "outputs": [
    {
     "name": "stdout",
     "output_type": "stream",
     "text": [
      "gender\n",
      "(2,)\n",
      "1.000    38023\n",
      "0.000    33492\n",
      "Name: gender, dtype: int64\n"
     ]
    },
    {
     "data": {
      "image/png": "[encoded data removed]",
      "text/plain": [
       "<matplotlib.figure.Figure at 0x7f97bccab590>"
      ]
     },
     "metadata": {},
     "output_type": "display_data"
    },
    {
     "name": "stdout",
     "output_type": "stream",
     "text": [
      "age\n",
      "(10,)\n",
      "7    18162\n",
      "6    15908\n",
      "5    12349\n",
      "8    11864\n",
      "4     6756\n",
      "3     2650\n",
      "9     2040\n",
      "2     1111\n",
      "1      525\n",
      "0      153\n",
      "Name: age, dtype: int64\n"
     ]
    },
    {
     "data": {
      "image/png": "[encoded data removed]",
      "text/plain": [
       "<matplotlib.figure.Figure at 0x7f97ba189250>"
      ]
     },
     "metadata": {},
     "output_type": "display_data"
    },
    {
     "name": "stdout",
     "output_type": "stream",
     "text": [
      "metformin\n",
      "(4,)\n",
      "0    56944\n",
      "2    13347\n",
      "3      798\n",
      "1      429\n",
      "Name: metformin, dtype: int64\n"
     ]
    },
    {
     "data": {
      "image/png": "[encoded data removed]",
      "text/plain": [
       "<matplotlib.figure.Figure at 0x7f97ba246d90>"
      ]
     },
     "metadata": {},
     "output_type": "display_data"
    },
    {
     "name": "stdout",
     "output_type": "stream",
     "text": [
      "repaglinide\n",
      "(4,)\n",
      "0    70548\n",
      "2      857\n",
      "3       78\n",
      "1       35\n",
      "Name: repaglinide, dtype: int64\n"
     ]
    },
    {
     "data": {
      "image/png": "[encoded data removed]",
      "text/plain": [
       "<matplotlib.figure.Figure at 0x7f97ba04f450>"
      ]
     },
     "metadata": {},
     "output_type": "display_data"
    },
    {
     "name": "stdout",
     "output_type": "stream",
     "text": [
      "glimepiride\n",
      "(4,)\n",
      "0    67833\n",
      "2     3306\n",
      "3      242\n",
      "1      137\n",
      "Name: glimepiride, dtype: int64\n"
     ]
    },
    {
     "data": {
      "image/png": "[encoded data removed]",
      "text/plain": [
       "<matplotlib.figure.Figure at 0x7f97ba323650>"
      ]
     },
     "metadata": {},
     "output_type": "display_data"
    },
    {
     "name": "stdout",
     "output_type": "stream",
     "text": [
      "glipizide\n",
      "(4,)\n",
      "0    62711\n",
      "2     7905\n",
      "3      552\n",
      "1      350\n",
      "Name: glipizide, dtype: int64\n"
     ]
    },
    {
     "data": {
      "image/png": "[encoded data removed]",
      "text/plain": [
       "<matplotlib.figure.Figure at 0x7f97ba170fd0>"
      ]
     },
     "metadata": {},
     "output_type": "display_data"
    },
    {
     "name": "stdout",
     "output_type": "stream",
     "text": [
      "glyburide\n",
      "(4,)\n",
      "0    63989\n",
      "2     6555\n",
      "3      586\n",
      "1      388\n",
      "Name: glyburide, dtype: int64\n"
     ]
    },
    {
     "data": {
      "image/png": "[encoded data removed]",
      "text/plain": [
       "<matplotlib.figure.Figure at 0x7f97fc387050>"
      ]
     },
     "metadata": {},
     "output_type": "display_data"
    },
    {
     "name": "stdout",
     "output_type": "stream",
     "text": [
      "pioglitazone\n",
      "(4,)\n",
      "0    66308\n",
      "2     4957\n",
      "3      167\n",
      "1       86\n",
      "Name: pioglitazone, dtype: int64\n"
     ]
    },
    {
     "data": {
      "image/png": "[encoded data removed]",
      "text/plain": [
       "<matplotlib.figure.Figure at 0x7f97ba083050>"
      ]
     },
     "metadata": {},
     "output_type": "display_data"
    },
    {
     "name": "stdout",
     "output_type": "stream",
     "text": [
      "rosiglitazone\n",
      "(4,)\n",
      "0    67118\n",
      "2     4197\n",
      "3      133\n",
      "1       70\n",
      "Name: rosiglitazone, dtype: int64\n"
     ]
    },
    {
     "data": {
      "image/png": "[encoded data removed]",
      "text/plain": [
       "<matplotlib.figure.Figure at 0x7f97fc62c110>"
      ]
     },
     "metadata": {},
     "output_type": "display_data"
    },
    {
     "name": "stdout",
     "output_type": "stream",
     "text": [
      "insulin\n",
      "(4,)\n",
      "0    34335\n",
      "2    22247\n",
      "1     7729\n",
      "3     7207\n",
      "Name: insulin, dtype: int64\n"
     ]
    },
    {
     "data": {
      "image/png": "[encoded data removed]",
      "text/plain": [
       "<matplotlib.figure.Figure at 0x7f97fc7df1d0>"
      ]
     },
     "metadata": {},
     "output_type": "display_data"
    },
    {
     "name": "stdout",
     "output_type": "stream",
     "text": [
      "diabetesMed\n",
      "(2,)\n",
      "1    54196\n",
      "0    17322\n",
      "Name: diabetesMed, dtype: int64\n"
     ]
    },
    {
     "data": {
      "image/png": "[encoded data removed]",
      "text/plain": [
       "<matplotlib.figure.Figure at 0x7f97fc5821d0>"
      ]
     },
     "metadata": {},
     "output_type": "display_data"
    },
    {
     "name": "stdout",
     "output_type": "stream",
     "text": [
      "race_AfricanAmerican\n",
      "(2,)\n",
      "0    58602\n",
      "1    12916\n",
      "Name: race_AfricanAmerican, dtype: int64\n"
     ]
    },
    {
     "data": {
      "image/png": "[encoded data removed]",
      "text/plain": [
       "<matplotlib.figure.Figure at 0x7f97fc49e390>"
      ]
     },
     "metadata": {},
     "output_type": "display_data"
    },
    {
     "name": "stdout",
     "output_type": "stream",
     "text": [
      "race_Asian\n",
      "(2,)\n",
      "0    71006\n",
      "1      512\n",
      "Name: race_Asian, dtype: int64\n"
     ]
    },
    {
     "data": {
      "image/png": "[encoded data removed]",
      "text/plain": [
       "<matplotlib.figure.Figure at 0x7f97ba455dd0>"
      ]
     },
     "metadata": {},
     "output_type": "display_data"
    },
    {
     "name": "stdout",
     "output_type": "stream",
     "text": [
      "race_Caucasian\n",
      "(2,)\n",
      "1    53556\n",
      "0    17962\n",
      "Name: race_Caucasian, dtype: int64\n"
     ]
    },
    {
     "data": {
      "image/png": "[encoded data removed]",
      "text/plain": [
       "<matplotlib.figure.Figure at 0x7f97fc3c7f10>"
      ]
     },
     "metadata": {},
     "output_type": "display_data"
    },
    {
     "name": "stdout",
     "output_type": "stream",
     "text": [
      "race_Hispanic\n",
      "(2,)\n",
      "0    70004\n",
      "1     1514\n",
      "Name: race_Hispanic, dtype: int64\n"
     ]
    },
    {
     "data": {
      "image/png": "[encoded data removed]",
      "text/plain": [
       "<matplotlib.figure.Figure at 0x7f97fc67b2d0>"
      ]
     },
     "metadata": {},
     "output_type": "display_data"
    },
    {
     "name": "stdout",
     "output_type": "stream",
     "text": [
      "race_Other\n",
      "(2,)\n",
      "0    70348\n",
      "1     1170\n",
      "Name: race_Other, dtype: int64\n"
     ]
    },
    {
     "data": {
      "image/png": "[encoded data removed]",
      "text/plain": [
       "<matplotlib.figure.Figure at 0x7f97fc4cf3d0>"
      ]
     },
     "metadata": {},
     "output_type": "display_data"
    },
    {
     "name": "stdout",
     "output_type": "stream",
     "text": [
      "race_nan\n",
      "(2,)\n",
      "0    69668\n",
      "1     1850\n",
      "Name: race_nan, dtype: int64\n"
     ]
    },
    {
     "data": {
      "image/png": "[encoded data removed]",
      "text/plain": [
       "<matplotlib.figure.Figure at 0x7f97ba3082d0>"
      ]
     },
     "metadata": {},
     "output_type": "display_data"
    }
   ],
   "source": [
    "#Categorical\n",
    "for i,rv in enumerate(dfFiltered.columns[:-1]):\n",
    "\n",
    "    #Compute data\n",
    "    cleanIc = dfFiltered.iloc[:,i]\n",
    "    \n",
    "    if dfNorm[dfNorm.variable == rv][[\"categoric\"]].values == \"yes\":\n",
    "                \n",
    "        print rv\n",
    "        print pd.value_counts(cleanIc).shape\n",
    "        print pd.value_counts(cleanIc)\n",
    "        pd.value_counts(cleanIc).plot(kind=\"bar\", alpha=0.5)\n",
    "        plt.show()"
   ]
  },
  {
   "cell_type": "code",
   "execution_count": null,
   "metadata": {
    "collapsed": true
   },
   "outputs": [],
   "source": []
  }
 ],
 "metadata": {
  "kernelspec": {
   "display_name": "Python 2",
   "language": "python",
   "name": "python2"
  },
  "language_info": {
   "codemirror_mode": {
    "name": "ipython",
    "version": 2
   },
   "file_extension": ".py",
   "mimetype": "text/x-python",
   "name": "python",
   "nbconvert_exporter": "python",
   "pygments_lexer": "ipython2",
   "version": "2.7.13"
  }
 },
 "nbformat": 4,
 "nbformat_minor": 2
}
