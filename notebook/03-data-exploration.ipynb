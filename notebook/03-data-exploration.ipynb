{
 "cells": [
  {
   "cell_type": "code",
   "execution_count": 31,
   "metadata": {
    "collapsed": true
   },
   "outputs": [],
   "source": [
    "#TO RE-RUN\n",
    "%reset -f"
   ]
  },
  {
   "cell_type": "code",
   "execution_count": 43,
   "metadata": {
    "collapsed": true
   },
   "outputs": [],
   "source": [
    "from sklearn import preprocessing\n",
    "from time import time\n",
    "import numpy as np\n",
    "import csv\n",
    "from sklearn import metrics\n",
    "from sklearn.preprocessing import scale\n",
    "from sklearn.feature_selection import VarianceThreshold\n",
    "from sklearn.cross_validation import StratifiedShuffleSplit\n",
    "\n",
    "from sklearn.svm import SVC\n",
    "from sklearn.svm import LinearSVC\n",
    "from sklearn.grid_search import GridSearchCV, ParameterGrid\n",
    "from sklearn.preprocessing import StandardScaler\n",
    "from imblearn.pipeline import Pipeline\n",
    "\n",
    "\n",
    "from sklearn.metrics import pairwise_distances\n",
    "from IPython.display import display, HTML\n",
    "from operator import truediv\n",
    "import pandas as pd\n",
    "import time\n",
    "import os\n",
    "\n",
    "from pylab import *\n",
    "import seaborn as sns\n",
    "import matplotlib.pyplot as plt\n",
    "\n",
    "\n",
    "np.set_printoptions(suppress=True)\n",
    "pd.options.display.float_format = '{:,.3f}'.format\n",
    "plt.style.use('classic')\n",
    "\n",
    "%matplotlib inline\n",
    "\n",
    "import sys\n",
    "sys.path.insert(1, \"../src/\")\n",
    "from TypeFeatImputer import TypeFeatImputer"
   ]
  },
  {
   "cell_type": "markdown",
   "metadata": {},
   "source": [
    "#### Required domain methods"
   ]
  },
  {
   "cell_type": "code",
   "execution_count": 113,
   "metadata": {
    "collapsed": true
   },
   "outputs": [],
   "source": [
    "import sys\n",
    "sys.path.insert(1, \"../src/\")\n",
    "from TypeFeatImputer import TypeFeatImputer\n",
    "from UnivCombineFilter import UnivCombineFilter\n",
    "import MLpipeline as MLpipeline\n",
    "import readmision_methods as rm"
   ]
  },
  {
   "cell_type": "code",
   "execution_count": 44,
   "metadata": {
    "collapsed": true
   },
   "outputs": [],
   "source": [
    "typeEncounter = \"last\" # ['first','last']\n",
    "typeHypothesis = \"early_readmission_vs_none\" # ['all_readmisssion_vs_none','early_readmission_vs_none']\n",
    "typeDataFeatures = \"extended_extra_diag_3\" # [\"reduced\",\"extended','extended_extra','extended_extra_diag_1','extended_extra_diag_3']\n",
    "    #Extended_Extra_diag_1 -> Extended extra columns with disease in diag_3\n",
    "    #Extended_Extra_diag_1 -> Extended extra columns with disease in diag_1\n",
    "    #Extended_Extra -> Extended extra of columns\n",
    "    #Extended -> Extended columns\n",
    "    #Reduced -> minimum set of columns \n",
    "typeDataExperiment = \"all\" #[\"all\", \"disease\"] \n",
    "    #all -> No filter disease column\n",
    "    #disease -> Filter/Remove disease column and keep only rows with diagnosis column == 1    "
   ]
  },
  {
   "cell_type": "code",
   "execution_count": 114,
   "metadata": {},
   "outputs": [
    {
     "name": "stdout",
     "output_type": "stream",
     "text": [
      "\n",
      "SHAPE:\n",
      "(67182, 61)\n",
      "\n",
      "SHAPE FILTERED:\n",
      "(45779, 61)\n",
      "\n",
      "Rows by class type:\n",
      "[0 1] 39785 5994\n",
      "Train: (32045, 60) Test: (13734, 60)\n",
      "\n",
      "Hyperparams:\n",
      "[['fs' 'combine_fs' {'combine_fs__percentile': [5, 10, 20, 30, 40, 50]}]\n",
      " ['fs' 'rfe_rf_fs'\n",
      "  {'rfe_rf_fs__n_features_to_select': [5, 10, 15, 20], 'rfe_rf_fs__step': [0.1]}]\n",
      " ['fs' 'lasso_fs' {'lasso_fs__estimator__C': [0.001, 0.01, 0.1, 1]}]\n",
      " ['cls' 'knn'\n",
      "  {'knn__weights': ['uniform', 'distance'], 'knn__n_neighbors': [1, 3, 5, 7, 9, 11]}]\n",
      " ['cls' 'logReg'\n",
      "  {'logReg__class_weight': [None, 'balanced'], 'logReg__C': [1e-05, 0.0001, 0.0005, 0.001, 0.005, 0.01, 0.05, 0.1, 0.5, 1, 5, 10, 15, 30], 'logReg__penalty': ['l1', 'l2']}]\n",
      " ['cls' 'svmRBF'\n",
      "  {'svmRBF__gamma': [0.0001, 0.001, 0.01, 0.1, 1, 5], 'svmRBF__class_weight': [None, 'balanced'], 'svmRBF__C': [0.01, 0.1, 0.5, 1, 5, 10, 30, 50, 100]}]\n",
      " ['cls' 'rf'\n",
      "  {'rf__criterion': ['entropy', 'gini'], 'rf__max_depth': [None, 4, 8, 12], 'rf__n_estimators': [200, 250, 300, 350, 400, 500]}]\n",
      " ['cls' 'nn'\n",
      "  {'nn__hidden_layer_sizes': [(30,), (50,), (70,), (100,), (150,), (30, 30), (50, 50), (70, 70), (100, 100), (30, 30, 30), (50, 50, 50), (70, 70, 70)], 'nn__alpha': [1e-05, 1e-05, 0.0001, 0.001, 0.01, 0.1, 1, 3, 5, 10]}]\n",
      " ['cls' 'gbt'\n",
      "  {'gbt__max_depth': [None, 8, 10, 12], 'gbt__learning_rate': [0.1, 0.01, 0.001], 'gbt__n_estimators': [300, 400, 500]}]\n",
      " ['after' 'sm_smote' {'sm_smote__k_neighbors': [3, 4, 5]}]]\n"
     ]
    }
   ],
   "source": [
    "#Load data\n",
    "df_all = rm.load_data(typeEncounter, typeDataFeatures)\n",
    "print \"\\nSHAPE:\"\n",
    "print df_all.shape\n",
    "\n",
    "#Filter data by class\n",
    "df_all = rm.filter_data_by_class(df_all, typeHypothesis)\n",
    "print \"\\nSHAPE FILTERED:\"\n",
    "print df_all.shape\n",
    "\n",
    "print \"\\nRows by class type:\"\n",
    "print df_all.iloc[:,-1].sort_values().unique(), np.sum(df_all[\"readmitted\"] == 0), np.sum(df_all[\"readmitted\"] == 1)\n",
    "\n",
    "#Train & Test\n",
    "X_train, X_test, y_train, y_test = MLpipeline.train_test_partition(df_all)\n",
    "print \"Train:\", X_train.shape, \"Test:\",  X_test.shape"
   ]
  },
  {
   "cell_type": "markdown",
   "metadata": {},
   "source": [
    "#### Inspect null values"
   ]
  },
  {
   "cell_type": "code",
   "execution_count": 115,
   "metadata": {},
   "outputs": [
    {
     "data": {
      "text/html": [
       "<div>\n",
       "<style>\n",
       "    .dataframe thead tr:only-child th {\n",
       "        text-align: right;\n",
       "    }\n",
       "\n",
       "    .dataframe thead th {\n",
       "        text-align: left;\n",
       "    }\n",
       "\n",
       "    .dataframe tbody tr th {\n",
       "        vertical-align: top;\n",
       "    }\n",
       "</style>\n",
       "<table border=\"1\" class=\"dataframe\">\n",
       "  <thead>\n",
       "    <tr style=\"text-align: right;\">\n",
       "      <th></th>\n",
       "      <th>%_Null</th>\n",
       "      <th>#_Null</th>\n",
       "      <th>#_No_Null</th>\n",
       "    </tr>\n",
       "  </thead>\n",
       "  <tbody>\n",
       "    <tr>\n",
       "      <th>gender</th>\n",
       "      <td>0.00</td>\n",
       "      <td>3</td>\n",
       "      <td>45776</td>\n",
       "    </tr>\n",
       "  </tbody>\n",
       "</table>\n",
       "</div>"
      ],
      "text/plain": [
       "        %_Null  #_Null  #_No_Null\n",
       "gender    0.00       3      45776"
      ]
     },
     "metadata": {},
     "output_type": "display_data"
    },
    {
     "name": "stdout",
     "output_type": "stream",
     "text": [
      "(1, 3)\n"
     ]
    },
    {
     "data": {
      "text/plain": [
       "<function matplotlib.pyplot.show>"
      ]
     },
     "execution_count": 115,
     "metadata": {},
     "output_type": "execute_result"
    },
    {
     "data": {
      "image/png": "[encoded data removed]",
      "text/plain": [
       "<matplotlib.figure.Figure at 0x7f9d885d4c90>"
      ]
     },
     "metadata": {},
     "output_type": "display_data"
    }
   ],
   "source": [
    "dfNull = np.sum(df_all.isnull()) / float(df_all.shape[0])\n",
    "dfNullAll = pd.concat([dfNull[dfNull>0],np.sum(df_all.isnull()),np.sum(df_all.isnull()==False)], axis=1)\n",
    "dfNullAll.columns= [\"%_Null\",\"#_Null\",\"#_No_Null\"]\n",
    "\n",
    "display(dfNullAll[dfNullAll.iloc[:,0].isnull() == False][[\"%_Null\",\"#_Null\",\"#_No_Null\"]])\n",
    "print dfNullAll[dfNullAll.iloc[:,0].isnull() == False].shape\n",
    "\n",
    "\n",
    "plt.figure(figsize=(15,4))\n",
    "plt.bar(range(dfNull.shape[0]),dfNull.iloc[:], alpha=0.5)\n",
    "plt.xticks(range(dfNull.shape[0]),dfNull.index,rotation=90)\n",
    "plt.ylabel(\"% nulls\")\n",
    "plt.tight_layout()\n",
    "plt.show"
   ]
  },
  {
   "cell_type": "markdown",
   "metadata": {},
   "source": [
    "#### Numeric cols"
   ]
  },
  {
   "cell_type": "code",
   "execution_count": 123,
   "metadata": {},
   "outputs": [
    {
     "name": "stdout",
     "output_type": "stream",
     "text": [
      "20 ['time_in_hospital', 'number_treatment', 'num_lab_procedures', 'num_procedures', 'num_medications', 'number_outpatient', 'number_emergency', 'number_inpatient', 'number_diagnoses', 'add_in_out', 'add_procs_meds', 'div_visits_time', 'div_em_time', 'div_visit_med', 'div_em_med', 'sum_ch_med', 'number_treatment_0', 'number_treatment_1', 'number_treatment_2', 'number_treatment_3']\n"
     ]
    }
   ],
   "source": [
    "#Get features by type\n",
    "catCols, reducedCols = rm.compute_type_features(df_all)\n",
    "numCols = reducedCols[catCols == 0].values.tolist()  \n",
    "print len(numCols), numCols"
   ]
  },
  {
   "cell_type": "markdown",
   "metadata": {},
   "source": [
    "#### Add extra columns"
   ]
  },
  {
   "cell_type": "code",
   "execution_count": 124,
   "metadata": {},
   "outputs": [
    {
     "name": "stdout",
     "output_type": "stream",
     "text": [
      "False    38053\n",
      "True      7726\n",
      "Name: add_home_no_dmed, dtype: int64\n",
      "21\n"
     ]
    }
   ],
   "source": [
    "df_all[\"add_home_no_dmed\"] = -1\n",
    "df_all[\"add_home_no_dmed\"] = np.logical_and((df_all['diss_home']==1), (df_all[\"diabetesMed\"] == 0))\n",
    "print df_all[\"add_home_no_dmed\"].value_counts()\n",
    "\n",
    "\n",
    "df_all[\"prod_lab_med\"] = -1\n",
    "df_all[\"prod_lab_med\"] = df_all[\"num_lab_procedures\"] + df_all[\"num_medications\"]\n",
    "numCols.extend([\"prod_lab_med\"])\n",
    "\n",
    "print len(numCols)"
   ]
  },
  {
   "cell_type": "markdown",
   "metadata": {},
   "source": [
    "#### Find categorical features"
   ]
  },
  {
   "cell_type": "code",
   "execution_count": 125,
   "metadata": {},
   "outputs": [
    {
     "name": "stdout",
     "output_type": "stream",
     "text": [
      "Cat cols: 42\n",
      "Num cols: 21\n",
      "62\n",
      "63\n"
     ]
    }
   ],
   "source": [
    "#Compute type fields\n",
    "\n",
    "catCols = []\n",
    "cols = df_all.columns\n",
    "reducedCols = df_all.columns[:-1]\n",
    "\n",
    "for i in range(len(cols)):\n",
    "    if cols[i] not in numCols:\n",
    "        catCols.append(1)\n",
    "    else:\n",
    "        catCols.append(0)\n",
    "catCols = np.array(catCols)\n",
    "\n",
    "print \"Cat cols:\", np.sum(catCols==1)\n",
    "print \"Num cols:\", np.sum(catCols==0)\n",
    "print len(reducedCols)\n",
    "print len(cols)"
   ]
  },
  {
   "cell_type": "markdown",
   "metadata": {},
   "source": [
    "#### Identify categorical features with less 5% values"
   ]
  },
  {
   "cell_type": "code",
   "execution_count": 135,
   "metadata": {
    "scrolled": true
   },
   "outputs": [
    {
     "name": "stdout",
     "output_type": "stream",
     "text": [
      "MAX= 45779 MIN: 228.895\n",
      "\n",
      "2 0 [0L, 1L]\n",
      "1       57\n",
      "0    45722\n",
      "Name: adm_src_3, dtype: int64\n",
      "\n",
      "2 0 [0L, 1L]\n",
      "1       10\n",
      "0    45769\n",
      "Name: adm_src_8, dtype: int64\n",
      "\n",
      "2 0 [0L, 1L]\n",
      "1        5\n",
      "0    45774\n",
      "Name: adm_src_10, dtype: int64\n",
      "\n",
      "2 0 [0L, 1L]\n",
      "1        1\n",
      "0    45778\n",
      "Name: adm_src_11, dtype: int64\n",
      "\n",
      "2 0 [0L, 1L]\n",
      "1        1\n",
      "0    45778\n",
      "Name: adm_src_13, dtype: int64\n",
      "\n",
      "2 0 [0L, 1L]\n",
      "1        2\n",
      "0    45777\n",
      "Name: adm_src_14, dtype: int64\n",
      "\n",
      "2 0 [0L, 1L]\n",
      "1        4\n",
      "0    45775\n",
      "Name: adm_src_22, dtype: int64\n",
      "\n",
      "2 0 [0L, 1L]\n",
      "1        2\n",
      "0    45777\n",
      "Name: adm_src_25, dtype: int64\n",
      "\n",
      "2 0 [0L, 1L]\n",
      "1        7\n",
      "0    45772\n",
      "Name: adm_4, dtype: int64\n",
      "\n",
      "2 0 [0L, 1L]\n",
      "1       18\n",
      "0    45761\n",
      "Name: adm_7, dtype: int64\n",
      "total low variance features: 10\n",
      "['adm_src_3', 'adm_src_8', 'adm_src_10', 'adm_src_11', 'adm_src_13', 'adm_src_14', 'adm_src_22', 'adm_src_25', 'adm_4', 'adm_7']\n"
     ]
    }
   ],
   "source": [
    "total = 0\n",
    "minFreq = df_all.shape[0] * 0.005\n",
    "todel = []\n",
    "\n",
    "print \"MAX=\", df_all.shape[0], \"MIN:\", minFreq\n",
    "for c in df_all.columns[catCols == 1]:\n",
    "    numag = np.argmax(pd.value_counts(df_all[c]))\n",
    "    ix = [i for i in pd.value_counts(df_all[c]).index if i != numag]\n",
    "    #print ix\n",
    "    #print pd.value_counts(df_all[c]).iloc[ix].values\n",
    "    num = np.sum(pd.value_counts(df_all[c]).iloc[ix].values)\n",
    "    if num < minFreq:\n",
    "        total += 1\n",
    "        todel.append(c)\n",
    "        print\n",
    "        print len(df_all[c].unique()), numag, df_all[c].unique().tolist()\n",
    "        print pd.value_counts(df_all[c]).sort_values(0)\n",
    "\n",
    "print \"total low variance features:\", total\n",
    "print todel"
   ]
  },
  {
   "cell_type": "markdown",
   "metadata": {},
   "source": [
    "#### Data Exploration"
   ]
  },
  {
   "cell_type": "markdown",
   "metadata": {},
   "source": [
    "Categorical"
   ]
  },
  {
   "cell_type": "code",
   "execution_count": 136,
   "metadata": {
    "scrolled": true
   },
   "outputs": [
    {
     "name": "stderr",
     "output_type": "stream",
     "text": [
      "/home/ilmira/.conda/envs/readmision/lib/python2.7/site-packages/ipykernel_launcher.py:22: FutureWarning: reshape is deprecated and will raise in a subsequent release. Please use .values.reshape(...) instead\n"
     ]
    },
    {
     "name": "stdout",
     "output_type": "stream",
     "text": [
      "(23, 13)\n"
     ]
    },
    {
     "data": {
      "text/html": [
       "<table border=\"1\" class=\"dataframe\">\n",
       "  <thead>\n",
       "    <tr style=\"text-align: right;\">\n",
       "      <th>variable</th>\n",
       "      <th>num</th>\n",
       "      <th>#nulls</th>\n",
       "      <th>%nulls</th>\n",
       "      <th>values</th>\n",
       "      <th>frequencies</th>\n",
       "      <th>non-readmitted (n)</th>\n",
       "      <th>readmitted (n)</th>\n",
       "      <th>non-readmitted (%)</th>\n",
       "      <th>readmitted (%)</th>\n",
       "      <th>diff (%)</th>\n",
       "      <th>p-value</th>\n",
       "      <th>sig.</th>\n",
       "    </tr>\n",
       "  </thead>\n",
       "  <tbody>\n",
       "    <tr>\n",
       "      <td>diss_home</td>\n",
       "      <td>45779</td>\n",
       "      <td>0</td>\n",
       "      <td>0.00</td>\n",
       "      <td>[1, 0]</td>\n",
       "      <td>[30464, 15315]</td>\n",
       "      <td>[27381, 12404]</td>\n",
       "      <td>[3083, 2911]</td>\n",
       "      <td>[0.688, 0.312]</td>\n",
       "      <td>[0.514, 0.486]</td>\n",
       "      <td>0.17</td>\n",
       "      <td>0.00</td>\n",
       "      <td>yes</td>\n",
       "    </tr>\n",
       "    <tr>\n",
       "      <td>add_home_no_dmed</td>\n",
       "      <td>45779</td>\n",
       "      <td>0</td>\n",
       "      <td>0.00</td>\n",
       "      <td>[0, 1]</td>\n",
       "      <td>[38053, 7726]</td>\n",
       "      <td>[32675, 7110]</td>\n",
       "      <td>[5378, 616]</td>\n",
       "      <td>[0.821, 0.179]</td>\n",
       "      <td>[0.897, 0.103]</td>\n",
       "      <td>0.08</td>\n",
       "      <td>0.00</td>\n",
       "      <td>yes</td>\n",
       "    </tr>\n",
       "    <tr>\n",
       "      <td>diabetesMed</td>\n",
       "      <td>45779</td>\n",
       "      <td>0</td>\n",
       "      <td>0.00</td>\n",
       "      <td>[1, 0]</td>\n",
       "      <td>[34461, 11318]</td>\n",
       "      <td>[29648, 10137]</td>\n",
       "      <td>[4813, 1181]</td>\n",
       "      <td>[0.745, 0.255]</td>\n",
       "      <td>[0.803, 0.197]</td>\n",
       "      <td>0.06</td>\n",
       "      <td>0.00</td>\n",
       "      <td>yes</td>\n",
       "    </tr>\n",
       "    <tr>\n",
       "      <td>age</td>\n",
       "      <td>45779</td>\n",
       "      <td>0</td>\n",
       "      <td>0.00</td>\n",
       "      <td>[7, 6, 5, 8, 4, 3, 9, 2, 1, 0]</td>\n",
       "      <td>[11068, 10248, 8212, 7091, 4646, 1910, 1282, 8...</td>\n",
       "      <td>[9340, 8905, 7370, 5931, 4172, 1733, 1122, 743...</td>\n",
       "      <td>[1728, 1343, 1160, 842, 474, 177, 160, 82, 25, 3]</td>\n",
       "      <td>[0.235, 0.224, 0.185, 0.149, 0.105, 0.044, 0.0...</td>\n",
       "      <td>[0.288, 0.224, 0.194, 0.14, 0.079, 0.03, 0.027...</td>\n",
       "      <td>0.05</td>\n",
       "      <td>0.00</td>\n",
       "      <td>yes</td>\n",
       "    </tr>\n",
       "    <tr>\n",
       "      <td>HbA1c</td>\n",
       "      <td>45779</td>\n",
       "      <td>0</td>\n",
       "      <td>0.00</td>\n",
       "      <td>[0, 3, 1, 2]</td>\n",
       "      <td>[36679, 4260, 2786, 2054]</td>\n",
       "      <td>[32150, 3615, 2322, 1698]</td>\n",
       "      <td>[4529, 645, 464, 356]</td>\n",
       "      <td>[0.808, 0.091, 0.058, 0.043]</td>\n",
       "      <td>[0.756, 0.108, 0.077, 0.059]</td>\n",
       "      <td>0.05</td>\n",
       "      <td>0.00</td>\n",
       "      <td>yes</td>\n",
       "    </tr>\n",
       "    <tr>\n",
       "      <td>insulin</td>\n",
       "      <td>45779</td>\n",
       "      <td>0</td>\n",
       "      <td>0.00</td>\n",
       "      <td>[0, 2, 1, 3]</td>\n",
       "      <td>[22137, 14559, 4705, 4378]</td>\n",
       "      <td>[19503, 12606, 3947, 3729]</td>\n",
       "      <td>[2634, 1953, 758, 649]</td>\n",
       "      <td>[0.49, 0.317, 0.099, 0.094]</td>\n",
       "      <td>[0.439, 0.326, 0.126, 0.108]</td>\n",
       "      <td>0.05</td>\n",
       "      <td>0.00</td>\n",
       "      <td>yes</td>\n",
       "    </tr>\n",
       "    <tr>\n",
       "      <td>race_Caucasian</td>\n",
       "      <td>45779</td>\n",
       "      <td>0</td>\n",
       "      <td>0.00</td>\n",
       "      <td>[1, 0]</td>\n",
       "      <td>[33763, 12016]</td>\n",
       "      <td>[29135, 10650]</td>\n",
       "      <td>[4628, 1366]</td>\n",
       "      <td>[0.732, 0.268]</td>\n",
       "      <td>[0.772, 0.228]</td>\n",
       "      <td>0.04</td>\n",
       "      <td>0.00</td>\n",
       "      <td>yes</td>\n",
       "    </tr>\n",
       "    <tr>\n",
       "      <td>Change</td>\n",
       "      <td>45779</td>\n",
       "      <td>0</td>\n",
       "      <td>0.00</td>\n",
       "      <td>[0, 1]</td>\n",
       "      <td>[25395, 20384]</td>\n",
       "      <td>[22273, 17512]</td>\n",
       "      <td>[3122, 2872]</td>\n",
       "      <td>[0.56, 0.44]</td>\n",
       "      <td>[0.521, 0.479]</td>\n",
       "      <td>0.04</td>\n",
       "      <td>0.00</td>\n",
       "      <td>yes</td>\n",
       "    </tr>\n",
       "    <tr>\n",
       "      <td>adm_src_7</td>\n",
       "      <td>45779</td>\n",
       "      <td>0</td>\n",
       "      <td>0.00</td>\n",
       "      <td>[1, 0]</td>\n",
       "      <td>[23748, 22031]</td>\n",
       "      <td>[20443, 19342]</td>\n",
       "      <td>[3305, 2689]</td>\n",
       "      <td>[0.514, 0.486]</td>\n",
       "      <td>[0.551, 0.449]</td>\n",
       "      <td>0.04</td>\n",
       "      <td>0.00</td>\n",
       "      <td>yes</td>\n",
       "    </tr>\n",
       "    <tr>\n",
       "      <td>adm_3</td>\n",
       "      <td>45779</td>\n",
       "      <td>0</td>\n",
       "      <td>0.00</td>\n",
       "      <td>[0, 1]</td>\n",
       "      <td>[36296, 9483]</td>\n",
       "      <td>[31370, 8415]</td>\n",
       "      <td>[4926, 1068]</td>\n",
       "      <td>[0.788, 0.212]</td>\n",
       "      <td>[0.822, 0.178]</td>\n",
       "      <td>0.03</td>\n",
       "      <td>0.00</td>\n",
       "      <td>yes</td>\n",
       "    </tr>\n",
       "    <tr>\n",
       "      <td>medSpec_InternalMedicine</td>\n",
       "      <td>45779</td>\n",
       "      <td>0</td>\n",
       "      <td>0.00</td>\n",
       "      <td>[0, 1]</td>\n",
       "      <td>[38382, 7397]</td>\n",
       "      <td>[33492, 6293]</td>\n",
       "      <td>[4890, 1104]</td>\n",
       "      <td>[0.842, 0.158]</td>\n",
       "      <td>[0.816, 0.184]</td>\n",
       "      <td>0.03</td>\n",
       "      <td>0.00</td>\n",
       "      <td>yes</td>\n",
       "    </tr>\n",
       "    <tr>\n",
       "      <td>adm_src_1</td>\n",
       "      <td>45779</td>\n",
       "      <td>0</td>\n",
       "      <td>0.00</td>\n",
       "      <td>[0, 1]</td>\n",
       "      <td>[31070, 14709]</td>\n",
       "      <td>[26875, 12910]</td>\n",
       "      <td>[4195, 1799]</td>\n",
       "      <td>[0.676, 0.324]</td>\n",
       "      <td>[0.7, 0.3]</td>\n",
       "      <td>0.02</td>\n",
       "      <td>0.00</td>\n",
       "      <td>yes</td>\n",
       "    </tr>\n",
       "    <tr>\n",
       "      <td>metformin</td>\n",
       "      <td>45779</td>\n",
       "      <td>0</td>\n",
       "      <td>0.00</td>\n",
       "      <td>[0, 2, 3, 1]</td>\n",
       "      <td>[35883, 9065, 546, 285]</td>\n",
       "      <td>[31061, 7992, 489, 243]</td>\n",
       "      <td>[4822, 1073, 57, 42]</td>\n",
       "      <td>[0.781, 0.201, 0.012, 0.006]</td>\n",
       "      <td>[0.804, 0.179, 0.01, 0.007]</td>\n",
       "      <td>0.02</td>\n",
       "      <td>0.00</td>\n",
       "      <td>yes</td>\n",
       "    </tr>\n",
       "    <tr>\n",
       "      <td>glipizide</td>\n",
       "      <td>45779</td>\n",
       "      <td>0</td>\n",
       "      <td>0.00</td>\n",
       "      <td>[0, 2, 3, 1]</td>\n",
       "      <td>[40065, 5129, 360, 225]</td>\n",
       "      <td>[34922, 4383, 300, 180]</td>\n",
       "      <td>[5143, 746, 60, 45]</td>\n",
       "      <td>[0.878, 0.11, 0.008, 0.005]</td>\n",
       "      <td>[0.858, 0.124, 0.01, 0.008]</td>\n",
       "      <td>0.02</td>\n",
       "      <td>0.00</td>\n",
       "      <td>yes</td>\n",
       "    </tr>\n",
       "    <tr>\n",
       "      <td>medSpec_Family/GeneralPractice</td>\n",
       "      <td>45779</td>\n",
       "      <td>0</td>\n",
       "      <td>0.00</td>\n",
       "      <td>[0, 1]</td>\n",
       "      <td>[42602, 3177]</td>\n",
       "      <td>[37123, 2662]</td>\n",
       "      <td>[5479, 515]</td>\n",
       "      <td>[0.933, 0.067]</td>\n",
       "      <td>[0.914, 0.086]</td>\n",
       "      <td>0.02</td>\n",
       "      <td>0.00</td>\n",
       "      <td>yes</td>\n",
       "    </tr>\n",
       "    <tr>\n",
       "      <td>ComplexHbA1c</td>\n",
       "      <td>45779</td>\n",
       "      <td>0</td>\n",
       "      <td>0.00</td>\n",
       "      <td>[0, 2, 1]</td>\n",
       "      <td>[41519, 2780, 1480]</td>\n",
       "      <td>[36170, 2354, 1261]</td>\n",
       "      <td>[5349, 426, 219]</td>\n",
       "      <td>[0.909, 0.059, 0.032]</td>\n",
       "      <td>[0.892, 0.071, 0.037]</td>\n",
       "      <td>0.02</td>\n",
       "      <td>0.00</td>\n",
       "      <td>yes</td>\n",
       "    </tr>\n",
       "    <tr>\n",
       "      <td>race_AfricanAmerican</td>\n",
       "      <td>45779</td>\n",
       "      <td>0</td>\n",
       "      <td>0.00</td>\n",
       "      <td>[0, 1]</td>\n",
       "      <td>[37434, 8345]</td>\n",
       "      <td>[32456, 7329]</td>\n",
       "      <td>[4978, 1016]</td>\n",
       "      <td>[0.816, 0.184]</td>\n",
       "      <td>[0.83, 0.17]</td>\n",
       "      <td>0.01</td>\n",
       "      <td>0.01</td>\n",
       "      <td>yes</td>\n",
       "    </tr>\n",
       "  </tbody>\n",
       "</table>"
      ],
      "text/plain": [
       "<IPython.core.display.HTML object>"
      ]
     },
     "metadata": {},
     "output_type": "display_data"
    },
    {
     "name": "stdout",
     "output_type": "stream",
     "text": [
      "(23, 13)\n"
     ]
    },
    {
     "data": {
      "text/html": [
       "<table border=\"1\" class=\"dataframe\">\n",
       "  <thead>\n",
       "    <tr style=\"text-align: right;\">\n",
       "      <th>variable</th>\n",
       "      <th>num</th>\n",
       "      <th>#nulls</th>\n",
       "      <th>%nulls</th>\n",
       "      <th>values</th>\n",
       "      <th>frequencies</th>\n",
       "      <th>non-readmitted (n)</th>\n",
       "      <th>early_readmitted (n)</th>\n",
       "      <th>non-readmitted (%)</th>\n",
       "      <th>early_readmitted (%)</th>\n",
       "      <th>diff (%)</th>\n",
       "      <th>p-value</th>\n",
       "      <th>sig.</th>\n",
       "    </tr>\n",
       "  </thead>\n",
       "  <tbody>\n",
       "    <tr>\n",
       "      <td>diss_home</td>\n",
       "      <td>45779</td>\n",
       "      <td>0</td>\n",
       "      <td>0.00</td>\n",
       "      <td>[1, 0]</td>\n",
       "      <td>[30464, 15315]</td>\n",
       "      <td>[27381, 12404]</td>\n",
       "      <td>[3083, 2911]</td>\n",
       "      <td>[0.688, 0.312]</td>\n",
       "      <td>[0.514, 0.486]</td>\n",
       "      <td>0.17</td>\n",
       "      <td>0.00</td>\n",
       "      <td>yes</td>\n",
       "    </tr>\n",
       "    <tr>\n",
       "      <td>add_home_no_dmed</td>\n",
       "      <td>45779</td>\n",
       "      <td>0</td>\n",
       "      <td>0.00</td>\n",
       "      <td>[0, 1]</td>\n",
       "      <td>[38053, 7726]</td>\n",
       "      <td>[32675, 7110]</td>\n",
       "      <td>[5378, 616]</td>\n",
       "      <td>[0.821, 0.179]</td>\n",
       "      <td>[0.897, 0.103]</td>\n",
       "      <td>0.08</td>\n",
       "      <td>0.00</td>\n",
       "      <td>yes</td>\n",
       "    </tr>\n",
       "    <tr>\n",
       "      <td>diabetesMed</td>\n",
       "      <td>45779</td>\n",
       "      <td>0</td>\n",
       "      <td>0.00</td>\n",
       "      <td>[1, 0]</td>\n",
       "      <td>[34461, 11318]</td>\n",
       "      <td>[29648, 10137]</td>\n",
       "      <td>[4813, 1181]</td>\n",
       "      <td>[0.745, 0.255]</td>\n",
       "      <td>[0.803, 0.197]</td>\n",
       "      <td>0.06</td>\n",
       "      <td>0.00</td>\n",
       "      <td>yes</td>\n",
       "    </tr>\n",
       "    <tr>\n",
       "      <td>age</td>\n",
       "      <td>45779</td>\n",
       "      <td>0</td>\n",
       "      <td>0.00</td>\n",
       "      <td>[7, 6, 5, 8, 4, 3, 9, 2, 1, 0]</td>\n",
       "      <td>[11068, 10248, 8212, 7091, 4646, 1910, 1282, 8...</td>\n",
       "      <td>[9340, 8905, 7370, 5931, 4172, 1733, 1122, 743...</td>\n",
       "      <td>[1728, 1343, 1160, 842, 474, 177, 160, 82, 25, 3]</td>\n",
       "      <td>[0.235, 0.224, 0.185, 0.149, 0.105, 0.044, 0.0...</td>\n",
       "      <td>[0.288, 0.224, 0.194, 0.14, 0.079, 0.03, 0.027...</td>\n",
       "      <td>0.05</td>\n",
       "      <td>0.00</td>\n",
       "      <td>yes</td>\n",
       "    </tr>\n",
       "    <tr>\n",
       "      <td>HbA1c</td>\n",
       "      <td>45779</td>\n",
       "      <td>0</td>\n",
       "      <td>0.00</td>\n",
       "      <td>[0, 3, 1, 2]</td>\n",
       "      <td>[36679, 4260, 2786, 2054]</td>\n",
       "      <td>[32150, 3615, 2322, 1698]</td>\n",
       "      <td>[4529, 645, 464, 356]</td>\n",
       "      <td>[0.808, 0.091, 0.058, 0.043]</td>\n",
       "      <td>[0.756, 0.108, 0.077, 0.059]</td>\n",
       "      <td>0.05</td>\n",
       "      <td>0.00</td>\n",
       "      <td>yes</td>\n",
       "    </tr>\n",
       "    <tr>\n",
       "      <td>insulin</td>\n",
       "      <td>45779</td>\n",
       "      <td>0</td>\n",
       "      <td>0.00</td>\n",
       "      <td>[0, 2, 1, 3]</td>\n",
       "      <td>[22137, 14559, 4705, 4378]</td>\n",
       "      <td>[19503, 12606, 3947, 3729]</td>\n",
       "      <td>[2634, 1953, 758, 649]</td>\n",
       "      <td>[0.49, 0.317, 0.099, 0.094]</td>\n",
       "      <td>[0.439, 0.326, 0.126, 0.108]</td>\n",
       "      <td>0.05</td>\n",
       "      <td>0.00</td>\n",
       "      <td>yes</td>\n",
       "    </tr>\n",
       "    <tr>\n",
       "      <td>race_Caucasian</td>\n",
       "      <td>45779</td>\n",
       "      <td>0</td>\n",
       "      <td>0.00</td>\n",
       "      <td>[1, 0]</td>\n",
       "      <td>[33763, 12016]</td>\n",
       "      <td>[29135, 10650]</td>\n",
       "      <td>[4628, 1366]</td>\n",
       "      <td>[0.732, 0.268]</td>\n",
       "      <td>[0.772, 0.228]</td>\n",
       "      <td>0.04</td>\n",
       "      <td>0.00</td>\n",
       "      <td>yes</td>\n",
       "    </tr>\n",
       "    <tr>\n",
       "      <td>Change</td>\n",
       "      <td>45779</td>\n",
       "      <td>0</td>\n",
       "      <td>0.00</td>\n",
       "      <td>[0, 1]</td>\n",
       "      <td>[25395, 20384]</td>\n",
       "      <td>[22273, 17512]</td>\n",
       "      <td>[3122, 2872]</td>\n",
       "      <td>[0.56, 0.44]</td>\n",
       "      <td>[0.521, 0.479]</td>\n",
       "      <td>0.04</td>\n",
       "      <td>0.00</td>\n",
       "      <td>yes</td>\n",
       "    </tr>\n",
       "    <tr>\n",
       "      <td>adm_src_7</td>\n",
       "      <td>45779</td>\n",
       "      <td>0</td>\n",
       "      <td>0.00</td>\n",
       "      <td>[1, 0]</td>\n",
       "      <td>[23748, 22031]</td>\n",
       "      <td>[20443, 19342]</td>\n",
       "      <td>[3305, 2689]</td>\n",
       "      <td>[0.514, 0.486]</td>\n",
       "      <td>[0.551, 0.449]</td>\n",
       "      <td>0.04</td>\n",
       "      <td>0.00</td>\n",
       "      <td>yes</td>\n",
       "    </tr>\n",
       "    <tr>\n",
       "      <td>adm_3</td>\n",
       "      <td>45779</td>\n",
       "      <td>0</td>\n",
       "      <td>0.00</td>\n",
       "      <td>[0, 1]</td>\n",
       "      <td>[36296, 9483]</td>\n",
       "      <td>[31370, 8415]</td>\n",
       "      <td>[4926, 1068]</td>\n",
       "      <td>[0.788, 0.212]</td>\n",
       "      <td>[0.822, 0.178]</td>\n",
       "      <td>0.03</td>\n",
       "      <td>0.00</td>\n",
       "      <td>yes</td>\n",
       "    </tr>\n",
       "    <tr>\n",
       "      <td>medSpec_InternalMedicine</td>\n",
       "      <td>45779</td>\n",
       "      <td>0</td>\n",
       "      <td>0.00</td>\n",
       "      <td>[0, 1]</td>\n",
       "      <td>[38382, 7397]</td>\n",
       "      <td>[33492, 6293]</td>\n",
       "      <td>[4890, 1104]</td>\n",
       "      <td>[0.842, 0.158]</td>\n",
       "      <td>[0.816, 0.184]</td>\n",
       "      <td>0.03</td>\n",
       "      <td>0.00</td>\n",
       "      <td>yes</td>\n",
       "    </tr>\n",
       "    <tr>\n",
       "      <td>adm_src_1</td>\n",
       "      <td>45779</td>\n",
       "      <td>0</td>\n",
       "      <td>0.00</td>\n",
       "      <td>[0, 1]</td>\n",
       "      <td>[31070, 14709]</td>\n",
       "      <td>[26875, 12910]</td>\n",
       "      <td>[4195, 1799]</td>\n",
       "      <td>[0.676, 0.324]</td>\n",
       "      <td>[0.7, 0.3]</td>\n",
       "      <td>0.02</td>\n",
       "      <td>0.00</td>\n",
       "      <td>yes</td>\n",
       "    </tr>\n",
       "    <tr>\n",
       "      <td>metformin</td>\n",
       "      <td>45779</td>\n",
       "      <td>0</td>\n",
       "      <td>0.00</td>\n",
       "      <td>[0, 2, 3, 1]</td>\n",
       "      <td>[35883, 9065, 546, 285]</td>\n",
       "      <td>[31061, 7992, 489, 243]</td>\n",
       "      <td>[4822, 1073, 57, 42]</td>\n",
       "      <td>[0.781, 0.201, 0.012, 0.006]</td>\n",
       "      <td>[0.804, 0.179, 0.01, 0.007]</td>\n",
       "      <td>0.02</td>\n",
       "      <td>0.00</td>\n",
       "      <td>yes</td>\n",
       "    </tr>\n",
       "    <tr>\n",
       "      <td>glipizide</td>\n",
       "      <td>45779</td>\n",
       "      <td>0</td>\n",
       "      <td>0.00</td>\n",
       "      <td>[0, 2, 3, 1]</td>\n",
       "      <td>[40065, 5129, 360, 225]</td>\n",
       "      <td>[34922, 4383, 300, 180]</td>\n",
       "      <td>[5143, 746, 60, 45]</td>\n",
       "      <td>[0.878, 0.11, 0.008, 0.005]</td>\n",
       "      <td>[0.858, 0.124, 0.01, 0.008]</td>\n",
       "      <td>0.02</td>\n",
       "      <td>0.00</td>\n",
       "      <td>yes</td>\n",
       "    </tr>\n",
       "    <tr>\n",
       "      <td>medSpec_Family/GeneralPractice</td>\n",
       "      <td>45779</td>\n",
       "      <td>0</td>\n",
       "      <td>0.00</td>\n",
       "      <td>[0, 1]</td>\n",
       "      <td>[42602, 3177]</td>\n",
       "      <td>[37123, 2662]</td>\n",
       "      <td>[5479, 515]</td>\n",
       "      <td>[0.933, 0.067]</td>\n",
       "      <td>[0.914, 0.086]</td>\n",
       "      <td>0.02</td>\n",
       "      <td>0.00</td>\n",
       "      <td>yes</td>\n",
       "    </tr>\n",
       "    <tr>\n",
       "      <td>ComplexHbA1c</td>\n",
       "      <td>45779</td>\n",
       "      <td>0</td>\n",
       "      <td>0.00</td>\n",
       "      <td>[0, 2, 1]</td>\n",
       "      <td>[41519, 2780, 1480]</td>\n",
       "      <td>[36170, 2354, 1261]</td>\n",
       "      <td>[5349, 426, 219]</td>\n",
       "      <td>[0.909, 0.059, 0.032]</td>\n",
       "      <td>[0.892, 0.071, 0.037]</td>\n",
       "      <td>0.02</td>\n",
       "      <td>0.00</td>\n",
       "      <td>yes</td>\n",
       "    </tr>\n",
       "    <tr>\n",
       "      <td>race_AfricanAmerican</td>\n",
       "      <td>45779</td>\n",
       "      <td>0</td>\n",
       "      <td>0.00</td>\n",
       "      <td>[0, 1]</td>\n",
       "      <td>[37434, 8345]</td>\n",
       "      <td>[32456, 7329]</td>\n",
       "      <td>[4978, 1016]</td>\n",
       "      <td>[0.816, 0.184]</td>\n",
       "      <td>[0.83, 0.17]</td>\n",
       "      <td>0.01</td>\n",
       "      <td>0.01</td>\n",
       "      <td>yes</td>\n",
       "    </tr>\n",
       "  </tbody>\n",
       "</table>"
      ],
      "text/plain": [
       "<IPython.core.display.HTML object>"
      ]
     },
     "metadata": {},
     "output_type": "display_data"
    }
   ],
   "source": [
    "from sklearn.feature_selection import chi2\n",
    "\n",
    "for cond in [\"non_all\", \"non_early\"]:\n",
    "    \n",
    "    if cond == \"non_all\":\n",
    "        dfFilteredAux = df_all.copy()\n",
    "        classVal = dfFilteredAux[\"readmitted\"]>0\n",
    "    else:\n",
    "        dfFilteredAux = df_all[df_all[\"readmitted\"]<=1].copy()\n",
    "        classVal = dfFilteredAux[\"readmitted\"]>0\n",
    "        \n",
    "    catData = []    \n",
    "    for rv in dfFilteredAux.columns[catCols == 1]:\n",
    "\n",
    "        cleanIc = dfFilteredAux[rv]\n",
    "\n",
    "        #Null policy (drop)\n",
    "        ix = cleanIc.dropna().index\n",
    "\n",
    "        #Get readmitted\n",
    "        #valClass = dfFiltered[\"readmitted\"]>0        \n",
    "        r, p = chi2(cleanIc.dropna().values.astype(int).reshape(-1,1),classVal[ix].astype(int).reshape(-1,1))    \n",
    "\n",
    "        perc = (pd.value_counts(dfFilteredAux[dfFilteredAux[\"readmitted\"] == 0][rv])/dfFilteredAux[dfFilteredAux[\"readmitted\"] == 0][rv].count()).round(3).values.tolist()\n",
    "        perc_1 = (pd.value_counts(dfFilteredAux[dfFilteredAux[\"readmitted\"] > 0][rv])/dfFilteredAux[dfFilteredAux[\"readmitted\"] > 0][rv].count()).round(3).values.tolist()\n",
    "        catData.append([str(rv),\n",
    "                        np.sum(cleanIc.isnull() == False),\n",
    "                        np.sum(cleanIc.isnull() == True),\n",
    "                        np.sum(cleanIc.isnull()) / float(len(cleanIc)),\n",
    "                        pd.value_counts(cleanIc).index.astype(int).tolist(), \n",
    "                        pd.value_counts(cleanIc).values.tolist(),\n",
    "                        str(pd.value_counts(dfFilteredAux[dfFilteredAux[\"readmitted\"] == 0][rv]).values.tolist()),\n",
    "                        str(pd.value_counts(dfFilteredAux[dfFilteredAux[\"readmitted\"] > 0][rv]).values.tolist()),\n",
    "                        str(perc),                        \n",
    "                        str(perc_1),                    \n",
    "                        abs(perc_1[0] - perc[0]),\n",
    "                        round(p,4),\n",
    "                        \"yes\" if p<0.05 else \"no\"\n",
    "                        ])\n",
    "\n",
    "    dfCatData = pd.DataFrame(catData, columns=[\"variable\",\"num\",\"#nulls\",u\"%nulls\",\"values\",\"frequencies\",\n",
    "                                               \"non-readmitted (n)\",\n",
    "                                               \"readmitted (n)\" if cond == \"non_all\" else \"early_readmitted (n)\",\n",
    "                                               \"non-readmitted (%)\",\n",
    "                                               \"readmitted (%)\" if cond == \"non_all\" else \"early_readmitted (%)\",\n",
    "                                               \"diff (%)\",\n",
    "                                               \"p-value\",\"sig.\"])\n",
    "    print dfCatData[dfCatData[\"p-value\"] < 0.05].shape\n",
    "    display(HTML(dfCatData[np.logical_and(dfCatData[\"p-value\"] < 0.05, dfCatData[\"diff (%)\"] >= 0.01)].sort_values(\"diff (%)\", ascending=False).to_html(index=False)))"
   ]
  },
  {
   "cell_type": "markdown",
   "metadata": {},
   "source": [
    "Numerical"
   ]
  },
  {
   "cell_type": "code",
   "execution_count": 137,
   "metadata": {},
   "outputs": [
    {
     "data": {
      "text/html": [
       "<table border=\"1\" class=\"dataframe\">\n",
       "  <thead>\n",
       "    <tr style=\"text-align: right;\">\n",
       "      <th>variable</th>\n",
       "      <th>num</th>\n",
       "      <th>#nulls</th>\n",
       "      <th>%nulls</th>\n",
       "      <th>mean</th>\n",
       "      <th>non-readmitted</th>\n",
       "      <th>readmitted</th>\n",
       "      <th>diff</th>\n",
       "      <th>p-value</th>\n",
       "      <th>sig</th>\n",
       "    </tr>\n",
       "  </thead>\n",
       "  <tbody>\n",
       "    <tr>\n",
       "      <td>number_treatment_0</td>\n",
       "      <td>45779</td>\n",
       "      <td>0</td>\n",
       "      <td>0.00</td>\n",
       "      <td>21.82+/-0.95</td>\n",
       "      <td>21.826+/-0.96</td>\n",
       "      <td>21.766+/-0.91</td>\n",
       "      <td>0.02</td>\n",
       "      <td>0.00</td>\n",
       "      <td>True</td>\n",
       "    </tr>\n",
       "    <tr>\n",
       "      <td>time_in_hospital</td>\n",
       "      <td>45779</td>\n",
       "      <td>0</td>\n",
       "      <td>0.00</td>\n",
       "      <td>4.19+/-2.91</td>\n",
       "      <td>4.105+/-2.88</td>\n",
       "      <td>4.767+/-3.04</td>\n",
       "      <td>0.01</td>\n",
       "      <td>0.00</td>\n",
       "      <td>True</td>\n",
       "    </tr>\n",
       "    <tr>\n",
       "      <td>add_in_out</td>\n",
       "      <td>45779</td>\n",
       "      <td>0</td>\n",
       "      <td>0.00</td>\n",
       "      <td>0.39+/-1.12</td>\n",
       "      <td>0.34+/-1.04</td>\n",
       "      <td>0.702+/-1.51</td>\n",
       "      <td>0.01</td>\n",
       "      <td>0.00</td>\n",
       "      <td>True</td>\n",
       "    </tr>\n",
       "    <tr>\n",
       "      <td>number_inpatient</td>\n",
       "      <td>45779</td>\n",
       "      <td>0</td>\n",
       "      <td>0.00</td>\n",
       "      <td>0.14+/-0.55</td>\n",
       "      <td>0.108+/-0.43</td>\n",
       "      <td>0.383+/-1.0</td>\n",
       "      <td>0.00</td>\n",
       "      <td>0.00</td>\n",
       "      <td>True</td>\n",
       "    </tr>\n",
       "    <tr>\n",
       "      <td>num_medications</td>\n",
       "      <td>45779</td>\n",
       "      <td>0</td>\n",
       "      <td>0.00</td>\n",
       "      <td>15.53+/-8.42</td>\n",
       "      <td>15.371+/-8.44</td>\n",
       "      <td>16.607+/-8.25</td>\n",
       "      <td>0.00</td>\n",
       "      <td>0.00</td>\n",
       "      <td>True</td>\n",
       "    </tr>\n",
       "    <tr>\n",
       "      <td>num_procedures</td>\n",
       "      <td>45779</td>\n",
       "      <td>0</td>\n",
       "      <td>0.00</td>\n",
       "      <td>1.44+/-1.75</td>\n",
       "      <td>1.441+/-1.75</td>\n",
       "      <td>1.4+/-1.72</td>\n",
       "      <td>0.00</td>\n",
       "      <td>0.09</td>\n",
       "      <td>False</td>\n",
       "    </tr>\n",
       "    <tr>\n",
       "      <td>prod_lab_med</td>\n",
       "      <td>45779</td>\n",
       "      <td>0</td>\n",
       "      <td>0.00</td>\n",
       "      <td>58.0+/-23.57</td>\n",
       "      <td>57.468+/-23.58</td>\n",
       "      <td>61.568+/-23.23</td>\n",
       "      <td>0.00</td>\n",
       "      <td>0.00</td>\n",
       "      <td>True</td>\n",
       "    </tr>\n",
       "    <tr>\n",
       "      <td>div_visits_time</td>\n",
       "      <td>45779</td>\n",
       "      <td>0</td>\n",
       "      <td>0.00</td>\n",
       "      <td>0.14+/-0.55</td>\n",
       "      <td>0.131+/-0.52</td>\n",
       "      <td>0.234+/-0.69</td>\n",
       "      <td>0.00</td>\n",
       "      <td>0.00</td>\n",
       "      <td>True</td>\n",
       "    </tr>\n",
       "    <tr>\n",
       "      <td>number_emergency</td>\n",
       "      <td>45779</td>\n",
       "      <td>0</td>\n",
       "      <td>0.00</td>\n",
       "      <td>0.08+/-0.45</td>\n",
       "      <td>0.074+/-0.43</td>\n",
       "      <td>0.156+/-0.59</td>\n",
       "      <td>0.00</td>\n",
       "      <td>0.00</td>\n",
       "      <td>True</td>\n",
       "    </tr>\n",
       "    <tr>\n",
       "      <td>number_outpatient</td>\n",
       "      <td>45779</td>\n",
       "      <td>0</td>\n",
       "      <td>0.00</td>\n",
       "      <td>0.24+/-0.95</td>\n",
       "      <td>0.231+/-0.93</td>\n",
       "      <td>0.318+/-1.06</td>\n",
       "      <td>0.00</td>\n",
       "      <td>0.00</td>\n",
       "      <td>True</td>\n",
       "    </tr>\n",
       "    <tr>\n",
       "      <td>number_treatment</td>\n",
       "      <td>45779</td>\n",
       "      <td>0</td>\n",
       "      <td>0.00</td>\n",
       "      <td>2.37+/-1.99</td>\n",
       "      <td>2.359+/-2.0</td>\n",
       "      <td>2.464+/-1.9</td>\n",
       "      <td>0.00</td>\n",
       "      <td>0.00</td>\n",
       "      <td>True</td>\n",
       "    </tr>\n",
       "    <tr>\n",
       "      <td>number_treatment_2</td>\n",
       "      <td>45779</td>\n",
       "      <td>0</td>\n",
       "      <td>0.00</td>\n",
       "      <td>0.93+/-0.92</td>\n",
       "      <td>0.924+/-0.92</td>\n",
       "      <td>0.933+/-0.89</td>\n",
       "      <td>0.00</td>\n",
       "      <td>0.06</td>\n",
       "      <td>False</td>\n",
       "    </tr>\n",
       "    <tr>\n",
       "      <td>number_diagnoses</td>\n",
       "      <td>45779</td>\n",
       "      <td>0</td>\n",
       "      <td>0.00</td>\n",
       "      <td>7.15+/-2.04</td>\n",
       "      <td>7.089+/-2.06</td>\n",
       "      <td>7.539+/-1.83</td>\n",
       "      <td>0.00</td>\n",
       "      <td>0.00</td>\n",
       "      <td>True</td>\n",
       "    </tr>\n",
       "    <tr>\n",
       "      <td>num_lab_procedures</td>\n",
       "      <td>45779</td>\n",
       "      <td>0</td>\n",
       "      <td>0.00</td>\n",
       "      <td>42.47+/-19.95</td>\n",
       "      <td>42.097+/-19.99</td>\n",
       "      <td>44.961+/-19.49</td>\n",
       "      <td>0.00</td>\n",
       "      <td>0.00</td>\n",
       "      <td>True</td>\n",
       "    </tr>\n",
       "    <tr>\n",
       "      <td>number_treatment_1</td>\n",
       "      <td>45779</td>\n",
       "      <td>0</td>\n",
       "      <td>0.00</td>\n",
       "      <td>0.12+/-0.34</td>\n",
       "      <td>0.119+/-0.33</td>\n",
       "      <td>0.152+/-0.37</td>\n",
       "      <td>0.00</td>\n",
       "      <td>0.00</td>\n",
       "      <td>True</td>\n",
       "    </tr>\n",
       "    <tr>\n",
       "      <td>div_em_time</td>\n",
       "      <td>45779</td>\n",
       "      <td>0</td>\n",
       "      <td>0.00</td>\n",
       "      <td>0.03+/-0.26</td>\n",
       "      <td>0.03+/-0.26</td>\n",
       "      <td>0.055+/-0.26</td>\n",
       "      <td>0.00</td>\n",
       "      <td>0.00</td>\n",
       "      <td>True</td>\n",
       "    </tr>\n",
       "    <tr>\n",
       "      <td>div_visit_med</td>\n",
       "      <td>45779</td>\n",
       "      <td>0</td>\n",
       "      <td>0.00</td>\n",
       "      <td>0.03+/-0.1</td>\n",
       "      <td>0.027+/-0.1</td>\n",
       "      <td>0.051+/-0.12</td>\n",
       "      <td>0.00</td>\n",
       "      <td>0.00</td>\n",
       "      <td>True</td>\n",
       "    </tr>\n",
       "    <tr>\n",
       "      <td>sum_ch_med</td>\n",
       "      <td>45779</td>\n",
       "      <td>0</td>\n",
       "      <td>0.00</td>\n",
       "      <td>1.2+/-0.81</td>\n",
       "      <td>1.185+/-0.81</td>\n",
       "      <td>1.282+/-0.77</td>\n",
       "      <td>0.00</td>\n",
       "      <td>0.00</td>\n",
       "      <td>True</td>\n",
       "    </tr>\n",
       "    <tr>\n",
       "      <td>number_treatment_3</td>\n",
       "      <td>45779</td>\n",
       "      <td>0</td>\n",
       "      <td>0.00</td>\n",
       "      <td>0.13+/-0.36</td>\n",
       "      <td>0.13+/-0.36</td>\n",
       "      <td>0.148+/-0.38</td>\n",
       "      <td>0.00</td>\n",
       "      <td>0.00</td>\n",
       "      <td>True</td>\n",
       "    </tr>\n",
       "    <tr>\n",
       "      <td>div_em_med</td>\n",
       "      <td>45779</td>\n",
       "      <td>0</td>\n",
       "      <td>0.00</td>\n",
       "      <td>0.01+/-0.05</td>\n",
       "      <td>0.006+/-0.05</td>\n",
       "      <td>0.013+/-0.06</td>\n",
       "      <td>0.00</td>\n",
       "      <td>0.00</td>\n",
       "      <td>True</td>\n",
       "    </tr>\n",
       "    <tr>\n",
       "      <td>add_procs_meds</td>\n",
       "      <td>45779</td>\n",
       "      <td>0</td>\n",
       "      <td>0.00</td>\n",
       "      <td>59.44+/-23.94</td>\n",
       "      <td>58.909+/-23.94</td>\n",
       "      <td>62.968+/-23.66</td>\n",
       "      <td>0.00</td>\n",
       "      <td>0.00</td>\n",
       "      <td>True</td>\n",
       "    </tr>\n",
       "  </tbody>\n",
       "</table>"
      ],
      "text/plain": [
       "<IPython.core.display.HTML object>"
      ]
     },
     "metadata": {},
     "output_type": "display_data"
    },
    {
     "data": {
      "text/html": [
       "<table border=\"1\" class=\"dataframe\">\n",
       "  <thead>\n",
       "    <tr style=\"text-align: right;\">\n",
       "      <th>variable</th>\n",
       "      <th>num</th>\n",
       "      <th>#nulls</th>\n",
       "      <th>%nulls</th>\n",
       "      <th>mean</th>\n",
       "      <th>non-readmitted</th>\n",
       "      <th>early_readmitted</th>\n",
       "      <th>diff</th>\n",
       "      <th>p-value</th>\n",
       "      <th>sig</th>\n",
       "    </tr>\n",
       "  </thead>\n",
       "  <tbody>\n",
       "    <tr>\n",
       "      <td>number_treatment_0</td>\n",
       "      <td>45779</td>\n",
       "      <td>0</td>\n",
       "      <td>0.00</td>\n",
       "      <td>21.82+/-0.95</td>\n",
       "      <td>21.826+/-0.96</td>\n",
       "      <td>21.766+/-0.91</td>\n",
       "      <td>0.02</td>\n",
       "      <td>0.00</td>\n",
       "      <td>True</td>\n",
       "    </tr>\n",
       "    <tr>\n",
       "      <td>time_in_hospital</td>\n",
       "      <td>45779</td>\n",
       "      <td>0</td>\n",
       "      <td>0.00</td>\n",
       "      <td>4.19+/-2.91</td>\n",
       "      <td>4.105+/-2.88</td>\n",
       "      <td>4.767+/-3.04</td>\n",
       "      <td>0.01</td>\n",
       "      <td>0.00</td>\n",
       "      <td>True</td>\n",
       "    </tr>\n",
       "    <tr>\n",
       "      <td>add_in_out</td>\n",
       "      <td>45779</td>\n",
       "      <td>0</td>\n",
       "      <td>0.00</td>\n",
       "      <td>0.39+/-1.12</td>\n",
       "      <td>0.34+/-1.04</td>\n",
       "      <td>0.702+/-1.51</td>\n",
       "      <td>0.01</td>\n",
       "      <td>0.00</td>\n",
       "      <td>True</td>\n",
       "    </tr>\n",
       "    <tr>\n",
       "      <td>number_inpatient</td>\n",
       "      <td>45779</td>\n",
       "      <td>0</td>\n",
       "      <td>0.00</td>\n",
       "      <td>0.14+/-0.55</td>\n",
       "      <td>0.108+/-0.43</td>\n",
       "      <td>0.383+/-1.0</td>\n",
       "      <td>0.00</td>\n",
       "      <td>0.00</td>\n",
       "      <td>True</td>\n",
       "    </tr>\n",
       "    <tr>\n",
       "      <td>num_medications</td>\n",
       "      <td>45779</td>\n",
       "      <td>0</td>\n",
       "      <td>0.00</td>\n",
       "      <td>15.53+/-8.42</td>\n",
       "      <td>15.371+/-8.44</td>\n",
       "      <td>16.607+/-8.25</td>\n",
       "      <td>0.00</td>\n",
       "      <td>0.00</td>\n",
       "      <td>True</td>\n",
       "    </tr>\n",
       "    <tr>\n",
       "      <td>num_procedures</td>\n",
       "      <td>45779</td>\n",
       "      <td>0</td>\n",
       "      <td>0.00</td>\n",
       "      <td>1.44+/-1.75</td>\n",
       "      <td>1.441+/-1.75</td>\n",
       "      <td>1.4+/-1.72</td>\n",
       "      <td>0.00</td>\n",
       "      <td>0.09</td>\n",
       "      <td>False</td>\n",
       "    </tr>\n",
       "    <tr>\n",
       "      <td>prod_lab_med</td>\n",
       "      <td>45779</td>\n",
       "      <td>0</td>\n",
       "      <td>0.00</td>\n",
       "      <td>58.0+/-23.57</td>\n",
       "      <td>57.468+/-23.58</td>\n",
       "      <td>61.568+/-23.23</td>\n",
       "      <td>0.00</td>\n",
       "      <td>0.00</td>\n",
       "      <td>True</td>\n",
       "    </tr>\n",
       "    <tr>\n",
       "      <td>div_visits_time</td>\n",
       "      <td>45779</td>\n",
       "      <td>0</td>\n",
       "      <td>0.00</td>\n",
       "      <td>0.14+/-0.55</td>\n",
       "      <td>0.131+/-0.52</td>\n",
       "      <td>0.234+/-0.69</td>\n",
       "      <td>0.00</td>\n",
       "      <td>0.00</td>\n",
       "      <td>True</td>\n",
       "    </tr>\n",
       "    <tr>\n",
       "      <td>number_emergency</td>\n",
       "      <td>45779</td>\n",
       "      <td>0</td>\n",
       "      <td>0.00</td>\n",
       "      <td>0.08+/-0.45</td>\n",
       "      <td>0.074+/-0.43</td>\n",
       "      <td>0.156+/-0.59</td>\n",
       "      <td>0.00</td>\n",
       "      <td>0.00</td>\n",
       "      <td>True</td>\n",
       "    </tr>\n",
       "    <tr>\n",
       "      <td>number_outpatient</td>\n",
       "      <td>45779</td>\n",
       "      <td>0</td>\n",
       "      <td>0.00</td>\n",
       "      <td>0.24+/-0.95</td>\n",
       "      <td>0.231+/-0.93</td>\n",
       "      <td>0.318+/-1.06</td>\n",
       "      <td>0.00</td>\n",
       "      <td>0.00</td>\n",
       "      <td>True</td>\n",
       "    </tr>\n",
       "    <tr>\n",
       "      <td>number_treatment</td>\n",
       "      <td>45779</td>\n",
       "      <td>0</td>\n",
       "      <td>0.00</td>\n",
       "      <td>2.37+/-1.99</td>\n",
       "      <td>2.359+/-2.0</td>\n",
       "      <td>2.464+/-1.9</td>\n",
       "      <td>0.00</td>\n",
       "      <td>0.00</td>\n",
       "      <td>True</td>\n",
       "    </tr>\n",
       "    <tr>\n",
       "      <td>number_treatment_2</td>\n",
       "      <td>45779</td>\n",
       "      <td>0</td>\n",
       "      <td>0.00</td>\n",
       "      <td>0.93+/-0.92</td>\n",
       "      <td>0.924+/-0.92</td>\n",
       "      <td>0.933+/-0.89</td>\n",
       "      <td>0.00</td>\n",
       "      <td>0.06</td>\n",
       "      <td>False</td>\n",
       "    </tr>\n",
       "    <tr>\n",
       "      <td>number_diagnoses</td>\n",
       "      <td>45779</td>\n",
       "      <td>0</td>\n",
       "      <td>0.00</td>\n",
       "      <td>7.15+/-2.04</td>\n",
       "      <td>7.089+/-2.06</td>\n",
       "      <td>7.539+/-1.83</td>\n",
       "      <td>0.00</td>\n",
       "      <td>0.00</td>\n",
       "      <td>True</td>\n",
       "    </tr>\n",
       "    <tr>\n",
       "      <td>num_lab_procedures</td>\n",
       "      <td>45779</td>\n",
       "      <td>0</td>\n",
       "      <td>0.00</td>\n",
       "      <td>42.47+/-19.95</td>\n",
       "      <td>42.097+/-19.99</td>\n",
       "      <td>44.961+/-19.49</td>\n",
       "      <td>0.00</td>\n",
       "      <td>0.00</td>\n",
       "      <td>True</td>\n",
       "    </tr>\n",
       "    <tr>\n",
       "      <td>number_treatment_1</td>\n",
       "      <td>45779</td>\n",
       "      <td>0</td>\n",
       "      <td>0.00</td>\n",
       "      <td>0.12+/-0.34</td>\n",
       "      <td>0.119+/-0.33</td>\n",
       "      <td>0.152+/-0.37</td>\n",
       "      <td>0.00</td>\n",
       "      <td>0.00</td>\n",
       "      <td>True</td>\n",
       "    </tr>\n",
       "    <tr>\n",
       "      <td>div_em_time</td>\n",
       "      <td>45779</td>\n",
       "      <td>0</td>\n",
       "      <td>0.00</td>\n",
       "      <td>0.03+/-0.26</td>\n",
       "      <td>0.03+/-0.26</td>\n",
       "      <td>0.055+/-0.26</td>\n",
       "      <td>0.00</td>\n",
       "      <td>0.00</td>\n",
       "      <td>True</td>\n",
       "    </tr>\n",
       "    <tr>\n",
       "      <td>div_visit_med</td>\n",
       "      <td>45779</td>\n",
       "      <td>0</td>\n",
       "      <td>0.00</td>\n",
       "      <td>0.03+/-0.1</td>\n",
       "      <td>0.027+/-0.1</td>\n",
       "      <td>0.051+/-0.12</td>\n",
       "      <td>0.00</td>\n",
       "      <td>0.00</td>\n",
       "      <td>True</td>\n",
       "    </tr>\n",
       "    <tr>\n",
       "      <td>sum_ch_med</td>\n",
       "      <td>45779</td>\n",
       "      <td>0</td>\n",
       "      <td>0.00</td>\n",
       "      <td>1.2+/-0.81</td>\n",
       "      <td>1.185+/-0.81</td>\n",
       "      <td>1.282+/-0.77</td>\n",
       "      <td>0.00</td>\n",
       "      <td>0.00</td>\n",
       "      <td>True</td>\n",
       "    </tr>\n",
       "    <tr>\n",
       "      <td>number_treatment_3</td>\n",
       "      <td>45779</td>\n",
       "      <td>0</td>\n",
       "      <td>0.00</td>\n",
       "      <td>0.13+/-0.36</td>\n",
       "      <td>0.13+/-0.36</td>\n",
       "      <td>0.148+/-0.38</td>\n",
       "      <td>0.00</td>\n",
       "      <td>0.00</td>\n",
       "      <td>True</td>\n",
       "    </tr>\n",
       "    <tr>\n",
       "      <td>div_em_med</td>\n",
       "      <td>45779</td>\n",
       "      <td>0</td>\n",
       "      <td>0.00</td>\n",
       "      <td>0.01+/-0.05</td>\n",
       "      <td>0.006+/-0.05</td>\n",
       "      <td>0.013+/-0.06</td>\n",
       "      <td>0.00</td>\n",
       "      <td>0.00</td>\n",
       "      <td>True</td>\n",
       "    </tr>\n",
       "    <tr>\n",
       "      <td>add_procs_meds</td>\n",
       "      <td>45779</td>\n",
       "      <td>0</td>\n",
       "      <td>0.00</td>\n",
       "      <td>59.44+/-23.94</td>\n",
       "      <td>58.909+/-23.94</td>\n",
       "      <td>62.968+/-23.66</td>\n",
       "      <td>0.00</td>\n",
       "      <td>0.00</td>\n",
       "      <td>True</td>\n",
       "    </tr>\n",
       "  </tbody>\n",
       "</table>"
      ],
      "text/plain": [
       "<IPython.core.display.HTML object>"
      ]
     },
     "metadata": {},
     "output_type": "display_data"
    }
   ],
   "source": [
    "from scipy import stats\n",
    "\n",
    "\n",
    "for cond in [\"non_all\", \"non_early\"]:\n",
    "    \n",
    "    if cond == \"non_all\":\n",
    "        dfFilteredAux = df_all.copy()\n",
    "        classVal = dfFilteredAux[\"readmitted\"]>0\n",
    "    else:\n",
    "        dfFilteredAux = df_all[df_all[\"readmitted\"]<=1].copy()\n",
    "        classVal = dfFilteredAux[\"readmitted\"]>0\n",
    "\n",
    "\n",
    "    numData = dfFilteredAux[dfFilteredAux.columns[catCols == 0]].describe().T[[\"count\",\"mean\",\"std\"]].copy()\n",
    "    numData.insert(0,\"variable\",numData.index.values)\n",
    "    numData.insert(1,\"num\", dfFilteredAux.shape[0] - numData[\"count\"].isnull().astype(int))\n",
    "    numData.insert(2,\"#nulls\",  numData[\"count\"].isnull().astype(int))\n",
    "    numData.insert(3,\"%nulls\", numData[\"#nulls\"] / dfFilteredAux.shape[0])\n",
    "\n",
    "\n",
    "    numData_non_comp = dfFilteredAux[dfFilteredAux[\"readmitted\"] == 0][dfFilteredAux.columns[catCols == 0]].describe().T[[\"mean\",\"std\"]]\n",
    "    numData_comp = dfFilteredAux[dfFilteredAux[\"readmitted\"] > 0][dfFilteredAux.columns[catCols == 0]].describe().T[[\"mean\",\"std\"]]\n",
    "\n",
    "\n",
    "    numData[\"mean\"] = numData[\"mean\"].round(2).astype(str).str.cat(numData[\"std\"].round(2).astype(str), sep=\"+/-\")\n",
    "    numData[\"non-readmitted\"] = numData_non_comp[\"mean\"].round(3).astype(str).str.cat(numData_non_comp[\"std\"].round(2).astype(str), sep=\"+/-\")    \n",
    "    numData[\"readmitted\" if cond == \"non_all\" else \"early_readmitted\"] = numData_comp[\"mean\"].round(3).astype(str).str.cat(numData_comp[\"std\"].round(2).astype(str), sep=\"+/-\")\n",
    "    \n",
    "    diffRange = numData_non_comp[\"mean\"].max() - numData_non_comp[\"mean\"].min()\n",
    "    diffRange1 = numData_comp[\"mean\"].max() - numData_comp[\"mean\"].min()\n",
    "    numData[\"diff\"] = abs(\n",
    "        ((numData_non_comp[\"mean\"] - numData_non_comp[\"mean\"].min())/float(diffRange)) -\n",
    "        ((numData_comp[\"mean\"] - numData_comp[\"mean\"].min())/float(diffRange1)))\n",
    "    pvals = []\n",
    "\n",
    "    for v in numData[\"variable\"].values:\n",
    "        #pvals.append(stats.mannwhitneyu(dfFiltered[v].values.astype(float).reshape(-1,1), \n",
    "        #             classVal.astype(int).reshape(-1,1),alternative='two-sided')[1])    \n",
    "        pvals.append(stats.mannwhitneyu(\n",
    "            dfFilteredAux[v].loc[classVal == False].values.astype(float).reshape(-1,1), \n",
    "            dfFilteredAux[v].loc[classVal == True].values.astype(float).reshape(-1,1)\n",
    "            )[1])\n",
    "\n",
    "    numData[\"p-value\"] = pvals\n",
    "    numData[\"sig\"] = numData[\"p-value\"] < 0.05\n",
    "\n",
    "    numData = numData[[\"variable\",\"num\",\"#nulls\",\"%nulls\",\n",
    "                       \"mean\",\"non-readmitted\",\n",
    "                       \"readmitted\" if cond == \"non_all\" else \"early_readmitted\",\n",
    "                       \"diff\",\"p-value\",\"sig\"]]\n",
    "\n",
    "    display(HTML(numData.sort_values(\"diff\", ascending=False).to_html(index=False)))"
   ]
  },
  {
   "cell_type": "markdown",
   "metadata": {},
   "source": [
    "#### Normality test"
   ]
  },
  {
   "cell_type": "code",
   "execution_count": 139,
   "metadata": {},
   "outputs": [
    {
     "name": "stdout",
     "output_type": "stream",
     "text": [
      "(62, 5)\n",
      "Normal features: 1\n",
      "Normal numerical features: 0\n",
      "Normal categorical features: 1\n",
      "No Normal features: 61\n",
      "No Normal numerical features: 20\n",
      "No Normal categorical features: 41\n"
     ]
    },
    {
     "data": {
      "text/html": [
       "<table border=\"1\" class=\"dataframe\">\n",
       "  <thead>\n",
       "    <tr style=\"text-align: right;\">\n",
       "      <th>variable</th>\n",
       "      <th>f_val</th>\n",
       "      <th>p_value</th>\n",
       "      <th>norm</th>\n",
       "    </tr>\n",
       "  </thead>\n",
       "  <tbody>\n",
       "    <tr>\n",
       "      <td>time_in_hospital</td>\n",
       "      <td>8170.4184</td>\n",
       "      <td>0.0</td>\n",
       "      <td>no</td>\n",
       "    </tr>\n",
       "    <tr>\n",
       "      <td>number_treatment</td>\n",
       "      <td>3588.8015</td>\n",
       "      <td>0.0</td>\n",
       "      <td>no</td>\n",
       "    </tr>\n",
       "    <tr>\n",
       "      <td>num_lab_procedures</td>\n",
       "      <td>564.3426</td>\n",
       "      <td>0.0</td>\n",
       "      <td>no</td>\n",
       "    </tr>\n",
       "    <tr>\n",
       "      <td>num_procedures</td>\n",
       "      <td>7622.9087</td>\n",
       "      <td>0.0</td>\n",
       "      <td>no</td>\n",
       "    </tr>\n",
       "    <tr>\n",
       "      <td>num_medications</td>\n",
       "      <td>13660.5709</td>\n",
       "      <td>0.0</td>\n",
       "      <td>no</td>\n",
       "    </tr>\n",
       "    <tr>\n",
       "      <td>number_outpatient</td>\n",
       "      <td>68733.1965</td>\n",
       "      <td>0.0</td>\n",
       "      <td>no</td>\n",
       "    </tr>\n",
       "    <tr>\n",
       "      <td>number_emergency</td>\n",
       "      <td>107301.739</td>\n",
       "      <td>0.0</td>\n",
       "      <td>no</td>\n",
       "    </tr>\n",
       "    <tr>\n",
       "      <td>number_inpatient</td>\n",
       "      <td>55540.3053</td>\n",
       "      <td>0.0</td>\n",
       "      <td>no</td>\n",
       "    </tr>\n",
       "    <tr>\n",
       "      <td>number_diagnoses</td>\n",
       "      <td>3432.2807</td>\n",
       "      <td>0.0</td>\n",
       "      <td>no</td>\n",
       "    </tr>\n",
       "    <tr>\n",
       "      <td>add_in_out</td>\n",
       "      <td>57893.8163</td>\n",
       "      <td>0.0</td>\n",
       "      <td>no</td>\n",
       "    </tr>\n",
       "    <tr>\n",
       "      <td>add_procs_meds</td>\n",
       "      <td>247.8317</td>\n",
       "      <td>0.0</td>\n",
       "      <td>no</td>\n",
       "    </tr>\n",
       "    <tr>\n",
       "      <td>div_visits_time</td>\n",
       "      <td>89957.8449</td>\n",
       "      <td>0.0</td>\n",
       "      <td>no</td>\n",
       "    </tr>\n",
       "    <tr>\n",
       "      <td>div_em_time</td>\n",
       "      <td>161660.6313</td>\n",
       "      <td>0.0</td>\n",
       "      <td>no</td>\n",
       "    </tr>\n",
       "    <tr>\n",
       "      <td>div_visit_med</td>\n",
       "      <td>77441.7262</td>\n",
       "      <td>0.0</td>\n",
       "      <td>no</td>\n",
       "    </tr>\n",
       "    <tr>\n",
       "      <td>div_em_med</td>\n",
       "      <td>119982.3724</td>\n",
       "      <td>0.0</td>\n",
       "      <td>no</td>\n",
       "    </tr>\n",
       "    <tr>\n",
       "      <td>sum_ch_med</td>\n",
       "      <td>1003.8751</td>\n",
       "      <td>0.0</td>\n",
       "      <td>no</td>\n",
       "    </tr>\n",
       "    <tr>\n",
       "      <td>number_treatment_0</td>\n",
       "      <td>2858.7088</td>\n",
       "      <td>0.0</td>\n",
       "      <td>no</td>\n",
       "    </tr>\n",
       "    <tr>\n",
       "      <td>number_treatment_1</td>\n",
       "      <td>22372.213</td>\n",
       "      <td>0.0</td>\n",
       "      <td>no</td>\n",
       "    </tr>\n",
       "    <tr>\n",
       "      <td>number_treatment_2</td>\n",
       "      <td>3998.3646</td>\n",
       "      <td>0.0</td>\n",
       "      <td>no</td>\n",
       "    </tr>\n",
       "    <tr>\n",
       "      <td>number_treatment_3</td>\n",
       "      <td>24158.1966</td>\n",
       "      <td>0.0</td>\n",
       "      <td>no</td>\n",
       "    </tr>\n",
       "  </tbody>\n",
       "</table>"
      ],
      "text/plain": [
       "<IPython.core.display.HTML object>"
      ]
     },
     "metadata": {},
     "output_type": "display_data"
    }
   ],
   "source": [
    "arrNorm = []\n",
    "for i,rv in enumerate(df_all.columns[:-1]):\n",
    "\n",
    "    #Compute data\n",
    "    cleanIc = df_all.iloc[:,i]\n",
    "    \n",
    "    f_value, p_value = stats.normaltest(cleanIc)\n",
    "    arrNorm.append([rv,\"yes\" if catCols[i] == 1 else \"no\", f_value.round(4), p_value.round(4), \"no\" if p_value < 0.05 else \"yes\"])\n",
    "    \n",
    "dfNorm = pd.DataFrame(np.array(arrNorm), columns=[\"variable\",\"categoric\",\"f_val\",\"p_value\",\"norm\"])\n",
    "print dfNorm.shape\n",
    "print \"Normal features:\", np.sum(dfNorm[\"norm\"] == \"yes\")\n",
    "print \"Normal numerical features:\", np.sum(np.logical_and(dfNorm[\"norm\"] == \"yes\",dfNorm[\"categoric\"] == \"no\"))\n",
    "print \"Normal categorical features:\", np.sum(np.logical_and(dfNorm[\"norm\"] == \"yes\",dfNorm[\"categoric\"] == \"yes\"))\n",
    "print \"No Normal features:\", np.sum(dfNorm[\"norm\"] == \"no\")\n",
    "print \"No Normal numerical features:\", np.sum(np.logical_and(dfNorm[\"norm\"] == \"no\",dfNorm[\"categoric\"] == \"no\"))\n",
    "print \"No Normal categorical features:\", np.sum(np.logical_and(dfNorm[\"norm\"] == \"no\",dfNorm[\"categoric\"] == \"yes\"))\n",
    "\n",
    "display(HTML(dfNorm[dfNorm[\"categoric\"] == \"no\"][[\"variable\",\"f_val\",\"p_value\",\"norm\"]].to_html(index=False)))"
   ]
  },
  {
   "cell_type": "markdown",
   "metadata": {},
   "source": [
    "#### Distributions: Numeric features"
   ]
  },
  {
   "cell_type": "code",
   "execution_count": 141,
   "metadata": {},
   "outputs": [
    {
     "name": "stdout",
     "output_type": "stream",
     "text": [
      "time_in_hospital\n",
      "Unique values: 14\n",
      "p-value: 0.0\n",
      "Normal: False\n",
      "Mean: 4.19196574849 std: 2.90601825756\n",
      "Min: 1 Max: 14\n"
     ]
    },
    {
     "data": {
      "image/png": "[encoded data removed]",
      "text/plain": [
       "<matplotlib.figure.Figure at 0x7f9d88b41b50>"
      ]
     },
     "metadata": {},
     "output_type": "display_data"
    },
    {
     "name": "stdout",
     "output_type": "stream",
     "text": [
      "number_treatment\n",
      "Unique values: 13\n",
      "p-value: 0.0\n",
      "Normal: False\n",
      "Mean: 2.37241966841 std: 1.98917765401\n",
      "Min: 0 Max: 12\n"
     ]
    },
    {
     "data": {
      "image/png": "[encoded data removed]",
      "text/plain": [
       "<matplotlib.figure.Figure at 0x7f9d87f26ad0>"
      ]
     },
     "metadata": {},
     "output_type": "display_data"
    },
    {
     "name": "stdout",
     "output_type": "stream",
     "text": [
      "num_lab_procedures\n",
      "Unique values: 115\n",
      "p-value: 2.84810637852e-123\n",
      "Normal: False\n",
      "Mean: 42.4719849713 std: 19.9453932548\n",
      "Min: 1 Max: 132\n"
     ]
    },
    {
     "data": {
      "image/png": "[encoded data removed]",
      "text/plain": [
       "<matplotlib.figure.Figure at 0x7f9d886d4710>"
      ]
     },
     "metadata": {},
     "output_type": "display_data"
    },
    {
     "name": "stdout",
     "output_type": "stream",
     "text": [
      "num_procedures\n",
      "Unique values: 7\n",
      "p-value: 0.0\n",
      "Normal: False\n",
      "Mean: 1.43561458311 std: 1.74818154364\n",
      "Min: 0 Max: 6\n"
     ]
    },
    {
     "data": {
      "image/png": "[encoded data removed]",
      "text/plain": [
       "<matplotlib.figure.Figure at 0x7f9d88764410>"
      ]
     },
     "metadata": {},
     "output_type": "display_data"
    },
    {
     "name": "stdout",
     "output_type": "stream",
     "text": [
      "num_medications\n",
      "Unique values: 75\n",
      "p-value: 0.0\n",
      "Normal: False\n",
      "Mean: 15.5324930645 std: 8.42410853908\n",
      "Min: 1 Max: 81\n"
     ]
    },
    {
     "data": {
      "image/png": "[encoded data removed]",
      "text/plain": [
       "<matplotlib.figure.Figure at 0x7f9d87ecb090>"
      ]
     },
     "metadata": {},
     "output_type": "display_data"
    },
    {
     "name": "stdout",
     "output_type": "stream",
     "text": [
      "number_outpatient\n",
      "Unique values: 26\n",
      "p-value: 0.0\n",
      "Normal: False\n",
      "Mean: 0.242622163001 std: 0.94772835279\n",
      "Min: 0 Max: 36\n"
     ]
    },
    {
     "data": {
      "image/png": "[encoded data removed]",
      "text/plain": [
       "<matplotlib.figure.Figure at 0x7f9d86f42790>"
      ]
     },
     "metadata": {},
     "output_type": "display_data"
    },
    {
     "name": "stdout",
     "output_type": "stream",
     "text": [
      "number_emergency\n",
      "Unique values: 14\n",
      "p-value: 0.0\n",
      "Normal: False\n",
      "Mean: 0.0848860831386 std: 0.453767746641\n",
      "Min: 0 Max: 37\n"
     ]
    },
    {
     "data": {
      "image/png": "[encoded data removed]",
      "text/plain": [
       "<matplotlib.figure.Figure at 0x7f9d87ea9050>"
      ]
     },
     "metadata": {},
     "output_type": "display_data"
    },
    {
     "name": "stdout",
     "output_type": "stream",
     "text": [
      "number_inpatient\n",
      "Unique values: 13\n",
      "p-value: 0.0\n",
      "Normal: False\n",
      "Mean: 0.144476725136 std: 0.546459463988\n",
      "Min: 0 Max: 12\n"
     ]
    },
    {
     "data": {
      "image/png": "[encoded data removed]",
      "text/plain": [
       "<matplotlib.figure.Figure at 0x7f9d86fac610>"
      ]
     },
     "metadata": {},
     "output_type": "display_data"
    },
    {
     "name": "stdout",
     "output_type": "stream",
     "text": [
      "number_diagnoses\n",
      "Unique values: 16\n",
      "p-value: 0.0\n",
      "Normal: False\n",
      "Mean: 7.14775333668 std: 2.03523322532\n",
      "Min: 1 Max: 16\n"
     ]
    },
    {
     "data": {
      "image/png": "[encoded data removed]",
      "text/plain": [
       "<matplotlib.figure.Figure at 0x7f9d86e4dd50>"
      ]
     },
     "metadata": {},
     "output_type": "display_data"
    },
    {
     "name": "stdout",
     "output_type": "stream",
     "text": [
      "add_in_out\n",
      "Unique values: 27\n",
      "p-value: 0.0\n",
      "Normal: False\n",
      "Mean: 0.387098888136 std: 1.12192961749\n",
      "Min: 0 Max: 36\n"
     ]
    },
    {
     "data": {
      "image/png": "[encoded data removed]",
      "text/plain": [
       "<matplotlib.figure.Figure at 0x7f9d88332610>"
      ]
     },
     "metadata": {},
     "output_type": "display_data"
    },
    {
     "name": "stdout",
     "output_type": "stream",
     "text": [
      "add_procs_meds\n",
      "Unique values: 159\n",
      "p-value: 1.52764081471e-54\n",
      "Normal: False\n",
      "Mean: 59.4400926189 std: 23.9440733683\n",
      "Min: 2.0 Max: 170.0\n"
     ]
    },
    {
     "data": {
      "image/png": "[encoded data removed]",
      "text/plain": [
       "<matplotlib.figure.Figure at 0x7f9d88432310>"
      ]
     },
     "metadata": {},
     "output_type": "display_data"
    },
    {
     "name": "stdout",
     "output_type": "stream",
     "text": [
      "div_visits_time\n",
      "Unique values: 109\n",
      "p-value: 0.0\n",
      "Normal: False\n",
      "Mean: 0.144610493739 std: 0.546310167179\n",
      "Min: 0.0 Max: 36.0\n"
     ]
    },
    {
     "data": {
      "image/png": "[encoded data removed]",
      "text/plain": [
       "<matplotlib.figure.Figure at 0x7f9d87ee7250>"
      ]
     },
     "metadata": {},
     "output_type": "display_data"
    },
    {
     "name": "stdout",
     "output_type": "stream",
     "text": [
      "div_em_time\n",
      "Unique values: 55\n",
      "p-value: 0.0\n",
      "Normal: False\n",
      "Mean: 0.0332476977746 std: 0.259220147379\n",
      "Min: 0.0 Max: 37.0\n"
     ]
    },
    {
     "data": {
      "image/png": "[encoded data removed]",
      "text/plain": [
       "<matplotlib.figure.Figure at 0x7f9d884528d0>"
      ]
     },
     "metadata": {},
     "output_type": "display_data"
    },
    {
     "name": "stdout",
     "output_type": "stream",
     "text": [
      "div_visit_med\n",
      "Unique values: 261\n",
      "p-value: 0.0\n",
      "Normal: False\n",
      "Mean: 0.0299817688659 std: 0.103229868718\n",
      "Min: 0.0 Max: 4.0\n"
     ]
    },
    {
     "data": {
      "image/png": "[encoded data removed]",
      "text/plain": [
       "<matplotlib.figure.Figure at 0x7f9d88aab790>"
      ]
     },
     "metadata": {},
     "output_type": "display_data"
    },
    {
     "name": "stdout",
     "output_type": "stream",
     "text": [
      "div_em_med\n",
      "Unique values: 125\n",
      "p-value: 0.0\n",
      "Normal: False\n",
      "Mean: 0.00725375390225 std: 0.0480346094016\n",
      "Min: 0.0 Max: 4.625\n"
     ]
    },
    {
     "data": {
      "image/png": "[encoded data removed]",
      "text/plain": [
       "<matplotlib.figure.Figure at 0x7f9d86f414d0>"
      ]
     },
     "metadata": {},
     "output_type": "display_data"
    },
    {
     "name": "stdout",
     "output_type": "stream",
     "text": [
      "sum_ch_med\n",
      "Unique values: 3\n",
      "p-value: 1.02634383313e-218\n",
      "Normal: False\n",
      "Mean: 1.19803840189 std: 0.808258448611\n",
      "Min: 0 Max: 2\n"
     ]
    },
    {
     "data": {
      "image/png": "[encoded data removed]",
      "text/plain": [
       "<matplotlib.figure.Figure at 0x7f9d88014490>"
      ]
     },
     "metadata": {},
     "output_type": "display_data"
    },
    {
     "name": "stdout",
     "output_type": "stream",
     "text": [
      "number_treatment_0\n",
      "Unique values: 7\n",
      "p-value: 0.0\n",
      "Normal: False\n",
      "Mean: 21.8184320322 std: 0.95065807841\n",
      "Min: 17 Max: 23\n"
     ]
    },
    {
     "data": {
      "image/png": "[encoded data removed]",
      "text/plain": [
       "<matplotlib.figure.Figure at 0x7f9d86cc8f50>"
      ]
     },
     "metadata": {},
     "output_type": "display_data"
    },
    {
     "name": "stdout",
     "output_type": "stream",
     "text": [
      "number_treatment_1\n",
      "Unique values: 4\n",
      "p-value: 0.0\n",
      "Normal: False\n",
      "Mean: 0.123550099391 std: 0.337328000216\n",
      "Min: 0 Max: 3\n"
     ]
    },
    {
     "data": {
      "image/png": "[encoded data removed]",
      "text/plain": [
       "<matplotlib.figure.Figure at 0x7f9d88376150>"
      ]
     },
     "metadata": {},
     "output_type": "display_data"
    },
    {
     "name": "stdout",
     "output_type": "stream",
     "text": [
      "number_treatment_2\n",
      "Unique values: 7\n",
      "p-value: 0.0\n",
      "Normal: False\n",
      "Mean: 0.925184036349 std: 0.917258397766\n",
      "Min: 0 Max: 6\n"
     ]
    },
    {
     "data": {
      "image/png": "[encoded data removed]",
      "text/plain": [
       "<matplotlib.figure.Figure at 0x7f9d86c91410>"
      ]
     },
     "metadata": {},
     "output_type": "display_data"
    },
    {
     "name": "stdout",
     "output_type": "stream",
     "text": [
      "number_treatment_3\n",
      "Unique values: 4\n",
      "p-value: 0.0\n",
      "Normal: False\n",
      "Mean: 0.132833832106 std: 0.358305494863\n",
      "Min: 0 Max: 3\n"
     ]
    },
    {
     "data": {
      "image/png": "[encoded data removed]",
      "text/plain": [
       "<matplotlib.figure.Figure at 0x7f9d88734550>"
      ]
     },
     "metadata": {},
     "output_type": "display_data"
    }
   ],
   "source": [
    "from scipy.stats import boxcox\n",
    "\n",
    "for i,rv in enumerate(df_all.columns[:-1]):\n",
    "\n",
    "    #Compute data\n",
    "    cleanIc = df_all.iloc[:,i]\n",
    "    \n",
    "    if dfNorm[dfNorm.variable == rv][[\"categoric\"]].values == \"no\":\n",
    "\n",
    "        f_value, p_value = stats.normaltest(cleanIc)\n",
    "    \n",
    "        print rv\n",
    "        print \"Unique values:\", len(np.unique(cleanIc))\n",
    "        print \"p-value:\", p_value \n",
    "        print \"Normal:\", p_value >= 0.05\n",
    "        print \"Mean:\", np.mean(cleanIc), \"std:\", np.std(cleanIc)\n",
    "        print \"Min:\", np.min(cleanIc), \"Max:\", np.max(cleanIc)\n",
    "        \n",
    "        plt.figure(figsize=(8,4))\n",
    "        plt.hist(cleanIc, bins=10, alpha=0.5)\n",
    "        plt.axvline(np.median(cleanIc), c=\"r\", ls=\"--\")\n",
    "        plt.show()        "
   ]
  },
  {
   "cell_type": "code",
   "execution_count": 195,
   "metadata": {},
   "outputs": [
    {
     "name": "stdout",
     "output_type": "stream",
     "text": [
      "gender\n",
      "(2,)\n",
      "1.000    38023\n",
      "0.000    33492\n",
      "Name: gender, dtype: int64\n"
     ]
    },
    {
     "data": {
      "image/png": "[encoded data removed]",
      "text/plain": [
       "<matplotlib.figure.Figure at 0x7f97bccab590>"
      ]
     },
     "metadata": {},
     "output_type": "display_data"
    },
    {
     "name": "stdout",
     "output_type": "stream",
     "text": [
      "age\n",
      "(10,)\n",
      "7    18162\n",
      "6    15908\n",
      "5    12349\n",
      "8    11864\n",
      "4     6756\n",
      "3     2650\n",
      "9     2040\n",
      "2     1111\n",
      "1      525\n",
      "0      153\n",
      "Name: age, dtype: int64\n"
     ]
    },
    {
     "data": {
      "image/png": "[encoded data removed]",
      "text/plain": [
       "<matplotlib.figure.Figure at 0x7f97ba189250>"
      ]
     },
     "metadata": {},
     "output_type": "display_data"
    },
    {
     "name": "stdout",
     "output_type": "stream",
     "text": [
      "metformin\n",
      "(4,)\n",
      "0    56944\n",
      "2    13347\n",
      "3      798\n",
      "1      429\n",
      "Name: metformin, dtype: int64\n"
     ]
    },
    {
     "data": {
      "image/png": "[encoded data removed]",
      "text/plain": [
       "<matplotlib.figure.Figure at 0x7f97ba246d90>"
      ]
     },
     "metadata": {},
     "output_type": "display_data"
    },
    {
     "name": "stdout",
     "output_type": "stream",
     "text": [
      "repaglinide\n",
      "(4,)\n",
      "0    70548\n",
      "2      857\n",
      "3       78\n",
      "1       35\n",
      "Name: repaglinide, dtype: int64\n"
     ]
    },
    {
     "data": {
      "image/png": "[encoded data removed]",
      "text/plain": [
       "<matplotlib.figure.Figure at 0x7f97ba04f450>"
      ]
     },
     "metadata": {},
     "output_type": "display_data"
    },
    {
     "name": "stdout",
     "output_type": "stream",
     "text": [
      "glimepiride\n",
      "(4,)\n",
      "0    67833\n",
      "2     3306\n",
      "3      242\n",
      "1      137\n",
      "Name: glimepiride, dtype: int64\n"
     ]
    },
    {
     "data": {
      "image/png": "[encoded data removed]",
      "text/plain": [
       "<matplotlib.figure.Figure at 0x7f97ba323650>"
      ]
     },
     "metadata": {},
     "output_type": "display_data"
    },
    {
     "name": "stdout",
     "output_type": "stream",
     "text": [
      "glipizide\n",
      "(4,)\n",
      "0    62711\n",
      "2     7905\n",
      "3      552\n",
      "1      350\n",
      "Name: glipizide, dtype: int64\n"
     ]
    },
    {
     "data": {
      "image/png": "[encoded data removed]",
      "text/plain": [
       "<matplotlib.figure.Figure at 0x7f97ba170fd0>"
      ]
     },
     "metadata": {},
     "output_type": "display_data"
    },
    {
     "name": "stdout",
     "output_type": "stream",
     "text": [
      "glyburide\n",
      "(4,)\n",
      "0    63989\n",
      "2     6555\n",
      "3      586\n",
      "1      388\n",
      "Name: glyburide, dtype: int64\n"
     ]
    },
    {
     "data": {
      "image/png": "[encoded data removed]",
      "text/plain": [
       "<matplotlib.figure.Figure at 0x7f97fc387050>"
      ]
     },
     "metadata": {},
     "output_type": "display_data"
    },
    {
     "name": "stdout",
     "output_type": "stream",
     "text": [
      "pioglitazone\n",
      "(4,)\n",
      "0    66308\n",
      "2     4957\n",
      "3      167\n",
      "1       86\n",
      "Name: pioglitazone, dtype: int64\n"
     ]
    },
    {
     "data": {
      "image/png": "[encoded data removed]",
      "text/plain": [
       "<matplotlib.figure.Figure at 0x7f97ba083050>"
      ]
     },
     "metadata": {},
     "output_type": "display_data"
    },
    {
     "name": "stdout",
     "output_type": "stream",
     "text": [
      "rosiglitazone\n",
      "(4,)\n",
      "0    67118\n",
      "2     4197\n",
      "3      133\n",
      "1       70\n",
      "Name: rosiglitazone, dtype: int64\n"
     ]
    },
    {
     "data": {
      "image/png": "[encoded data removed]",
      "text/plain": [
       "<matplotlib.figure.Figure at 0x7f97fc62c110>"
      ]
     },
     "metadata": {},
     "output_type": "display_data"
    },
    {
     "name": "stdout",
     "output_type": "stream",
     "text": [
      "insulin\n",
      "(4,)\n",
      "0    34335\n",
      "2    22247\n",
      "1     7729\n",
      "3     7207\n",
      "Name: insulin, dtype: int64\n"
     ]
    },
    {
     "data": {
      "image/png": "[encoded data removed]",
      "text/plain": [
       "<matplotlib.figure.Figure at 0x7f97fc7df1d0>"
      ]
     },
     "metadata": {},
     "output_type": "display_data"
    },
    {
     "name": "stdout",
     "output_type": "stream",
     "text": [
      "diabetesMed\n",
      "(2,)\n",
      "1    54196\n",
      "0    17322\n",
      "Name: diabetesMed, dtype: int64\n"
     ]
    },
    {
     "data": {
      "image/png": "[encoded data removed]",
      "text/plain": [
       "<matplotlib.figure.Figure at 0x7f97fc5821d0>"
      ]
     },
     "metadata": {},
     "output_type": "display_data"
    },
    {
     "name": "stdout",
     "output_type": "stream",
     "text": [
      "race_AfricanAmerican\n",
      "(2,)\n",
      "0    58602\n",
      "1    12916\n",
      "Name: race_AfricanAmerican, dtype: int64\n"
     ]
    },
    {
     "data": {
      "image/png": "[encoded data removed]",
      "text/plain": [
       "<matplotlib.figure.Figure at 0x7f97fc49e390>"
      ]
     },
     "metadata": {},
     "output_type": "display_data"
    },
    {
     "name": "stdout",
     "output_type": "stream",
     "text": [
      "race_Asian\n",
      "(2,)\n",
      "0    71006\n",
      "1      512\n",
      "Name: race_Asian, dtype: int64\n"
     ]
    },
    {
     "data": {
      "image/png": "[encoded data removed]",
      "text/plain": [
       "<matplotlib.figure.Figure at 0x7f97ba455dd0>"
      ]
     },
     "metadata": {},
     "output_type": "display_data"
    },
    {
     "name": "stdout",
     "output_type": "stream",
     "text": [
      "race_Caucasian\n",
      "(2,)\n",
      "1    53556\n",
      "0    17962\n",
      "Name: race_Caucasian, dtype: int64\n"
     ]
    },
    {
     "data": {
      "image/png": "[encoded data removed]",
      "text/plain": [
       "<matplotlib.figure.Figure at 0x7f97fc3c7f10>"
      ]
     },
     "metadata": {},
     "output_type": "display_data"
    },
    {
     "name": "stdout",
     "output_type": "stream",
     "text": [
      "race_Hispanic\n",
      "(2,)\n",
      "0    70004\n",
      "1     1514\n",
      "Name: race_Hispanic, dtype: int64\n"
     ]
    },
    {
     "data": {
      "image/png": "[encoded data removed]",
      "text/plain": [
       "<matplotlib.figure.Figure at 0x7f97fc67b2d0>"
      ]
     },
     "metadata": {},
     "output_type": "display_data"
    },
    {
     "name": "stdout",
     "output_type": "stream",
     "text": [
      "race_Other\n",
      "(2,)\n",
      "0    70348\n",
      "1     1170\n",
      "Name: race_Other, dtype: int64\n"
     ]
    },
    {
     "data": {
      "image/png": "[encoded data removed]",
      "text/plain": [
       "<matplotlib.figure.Figure at 0x7f97fc4cf3d0>"
      ]
     },
     "metadata": {},
     "output_type": "display_data"
    },
    {
     "name": "stdout",
     "output_type": "stream",
     "text": [
      "race_nan\n",
      "(2,)\n",
      "0    69668\n",
      "1     1850\n",
      "Name: race_nan, dtype: int64\n"
     ]
    },
    {
     "data": {
      "image/png": "[encoded data removed]",
      "text/plain": [
       "<matplotlib.figure.Figure at 0x7f97ba3082d0>"
      ]
     },
     "metadata": {},
     "output_type": "display_data"
    }
   ],
   "source": [
    "#Categorical\n",
    "for i,rv in enumerate(dfFiltered.columns[:-1]):\n",
    "\n",
    "    #Compute data\n",
    "    cleanIc = dfFiltered.iloc[:,i]\n",
    "    \n",
    "    if dfNorm[dfNorm.variable == rv][[\"categoric\"]].values == \"yes\":\n",
    "                \n",
    "        print rv\n",
    "        print pd.value_counts(cleanIc).shape\n",
    "        print pd.value_counts(cleanIc)\n",
    "        pd.value_counts(cleanIc).plot(kind=\"bar\", alpha=0.5)\n",
    "        plt.show()"
   ]
  },
  {
   "cell_type": "code",
   "execution_count": null,
   "metadata": {
    "collapsed": true
   },
   "outputs": [],
   "source": []
  }
 ],
 "metadata": {
  "kernelspec": {
   "display_name": "Python 2",
   "language": "python",
   "name": "python2"
  },
  "language_info": {
   "codemirror_mode": {
    "name": "ipython",
    "version": 2
   },
   "file_extension": ".py",
   "mimetype": "text/x-python",
   "name": "python",
   "nbconvert_exporter": "python",
   "pygments_lexer": "ipython2",
   "version": "2.7.13"
  }
 },
 "nbformat": 4,
 "nbformat_minor": 2
}
