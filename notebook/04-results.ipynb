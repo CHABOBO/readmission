{
 "cells": [
  {
   "cell_type": "code",
   "execution_count": 1,
   "metadata": {
    "collapsed": true
   },
   "outputs": [],
   "source": [
    "%reset -f"
   ]
  },
  {
   "cell_type": "code",
   "execution_count": 2,
   "metadata": {},
   "outputs": [
    {
     "name": "stderr",
     "output_type": "stream",
     "text": [
      "/home/ilmira/.conda/envs/readmision/lib/python2.7/site-packages/sklearn/cross_validation.py:41: DeprecationWarning: This module was deprecated in version 0.18 in favor of the model_selection module into which all the refactored classes and functions are moved. Also note that the interface of the new CV iterators are different from that of this module. This module will be removed in 0.20.\n",
      "  \"This module will be removed in 0.20.\", DeprecationWarning)\n"
     ]
    }
   ],
   "source": [
    "from IPython.display import display, HTML\n",
    "from sklearn import metrics\n",
    "from sklearn import cross_validation\n",
    "from scipy import interp\n",
    "import pandas as pd\n",
    "import numpy as np\n",
    "import os\n",
    "\n",
    "import sys\n",
    "sys.path.insert(1,\"../../src/\")\n",
    "from TypeFeatImputer import TypeFeatImputer\n",
    "from i_score_parallel import i_score\n",
    "from TypeFeatFS import DiscreteFS, ContinuousFS\n",
    "from TypeFeatFilter import DiscreteFilter, ContinuousFilter\n",
    "from OutlierFiltering import OutlierFiltering\n",
    "from typeFeat_score import typeFeat_score\n",
    "\n",
    "from pylab import *\n",
    "import seaborn as sns\n",
    "import matplotlib.pyplot as plt\n",
    "\n",
    "\n",
    "np.set_printoptions(suppress=True)\n",
    "pd.options.display.float_format = '{:,.2f}'.format\n",
    "plt.style.use('classic')\n",
    "\n",
    "%matplotlib inline"
   ]
  },
  {
   "cell_type": "code",
   "execution_count": 12,
   "metadata": {},
   "outputs": [
    {
     "name": "stdout",
     "output_type": "stream",
     "text": [
      "(5, 26)\n"
     ]
    }
   ],
   "source": [
    "dfAll =[]\n",
    "\n",
    "pathDir = os.path.join('resources','results') \n",
    "path, dirs, files = os.walk(pathDir).next()\n",
    "file_count = len(files)\n",
    "\n",
    "for f in files:\n",
    "    ddf = pd.read_pickle(os.path.join('resources','results', str(f) ))\n",
    "print ddf.shape\n",
    "dfAll.append(ddf)"
   ]
  },
  {
   "cell_type": "code",
   "execution_count": 13,
   "metadata": {},
   "outputs": [
    {
     "name": "stdout",
     "output_type": "stream",
     "text": [
      "['exp', 'typeDisease', 'typeEncounter', 'typeHypothesis', 'typeDataFeatures', 'size_tr', 'fs', 'sm', 'cls', 'metric', 'params', 'tr_f1', 'tr_prec', 'tr_rec', 'cv_f1_mean', 'cv_f1_std', 'cv_prec_mean', 'cv_prec_std', 'cv_rec_mean', 'cv_rec_std', 'test_f1', 'test_prec', 'test_rec', 'test_auc', 'time', 'pipeline', 'cv_f1', 'cv_prec', 'cv_rec', 'num_nones']\n",
      "(5, 30)\n"
     ]
    },
    {
     "name": "stderr",
     "output_type": "stream",
     "text": [
      "/home/ilmira/.conda/envs/readmision/lib/python2.7/site-packages/ipykernel_launcher.py:15: FutureWarning: reshape is deprecated and will raise in a subsequent release. Please use .values.reshape(...) instead\n",
      "  from ipykernel import kernelapp as app\n"
     ]
    }
   ],
   "source": [
    "dfs = pd.DataFrame(np.vstack(dfAll), columns=ddf.columns)\n",
    "\n",
    "dfs.cv_f1_mean = pd.to_numeric(dfs.cv_f1_mean)\n",
    "dfs.cv_rec_mean = pd.to_numeric(dfs.cv_rec_mean)\n",
    "dfs.cv_prec_mean = pd.to_numeric(dfs.cv_prec_mean)\n",
    "\n",
    "dfs.cv_f1_std = pd.to_numeric(dfs.cv_f1_std)\n",
    "dfs.cv_prec_std = pd.to_numeric(dfs.cv_prec_std)\n",
    "dfs.cv_rec_std = pd.to_numeric(dfs.cv_rec_std)\n",
    "dfs.exp = pd.to_numeric(dfs.exp)\n",
    "\n",
    "dfs[\"cv_f1\"] = dfs[\"cv_f1_mean\"].round(2).astype(str).str.cat(dfs[\"cv_f1_std\"].round(2).astype(str), sep=\"+/-\")\n",
    "dfs[\"cv_prec\"] = dfs[\"cv_prec_mean\"].round(2).astype(str).str.cat(dfs[\"cv_prec_std\"].round(2).astype(str), sep=\"+/-\")\n",
    "dfs[\"cv_rec\"] = dfs[\"cv_rec_mean\"].round(2).astype(str).str.cat(dfs[\"cv_rec_std\"].round(2).astype(str), sep=\"+/-\")\n",
    "dfs[\"num_nones\"] = np.sum(np.hstack(((dfs.sm == \"none\").reshape(-1,1),(dfs.fs == \"none\").reshape(-1,1))), axis=1)\n",
    "\n",
    "print dfs.columns.tolist()\n",
    "print dfs.shape"
   ]
  },
  {
   "cell_type": "code",
   "execution_count": 14,
   "metadata": {},
   "outputs": [
    {
     "data": {
      "text/html": [
       "<div>\n",
       "<style>\n",
       "    .dataframe thead tr:only-child th {\n",
       "        text-align: right;\n",
       "    }\n",
       "\n",
       "    .dataframe thead th {\n",
       "        text-align: left;\n",
       "    }\n",
       "\n",
       "    .dataframe tbody tr th {\n",
       "        vertical-align: top;\n",
       "    }\n",
       "</style>\n",
       "<table border=\"1\" class=\"dataframe\">\n",
       "  <thead>\n",
       "    <tr style=\"text-align: right;\">\n",
       "      <th></th>\n",
       "      <th>size_tr</th>\n",
       "      <th>sm</th>\n",
       "      <th>metric</th>\n",
       "      <th>cls</th>\n",
       "      <th>params</th>\n",
       "      <th>tr_f1</th>\n",
       "      <th>tr_prec</th>\n",
       "      <th>tr_rec</th>\n",
       "      <th>cv_f1_mean</th>\n",
       "      <th>cv_prec_mean</th>\n",
       "      <th>cv_rec_mean</th>\n",
       "      <th>test_f1</th>\n",
       "      <th>test_prec</th>\n",
       "      <th>test_rec</th>\n",
       "      <th>test_auc</th>\n",
       "    </tr>\n",
       "  </thead>\n",
       "  <tbody>\n",
       "    <tr>\n",
       "      <th>3</th>\n",
       "      <td>0.10</td>\n",
       "      <td>none</td>\n",
       "      <td>recall</td>\n",
       "      <td>rf</td>\n",
       "      <td>[entropy, 4, balanced, 150]</td>\n",
       "      <td>0.65</td>\n",
       "      <td>0.65</td>\n",
       "      <td>0.64</td>\n",
       "      <td>0.63</td>\n",
       "      <td>0.63</td>\n",
       "      <td>0.63</td>\n",
       "      <td>0.60</td>\n",
       "      <td>0.60</td>\n",
       "      <td>0.61</td>\n",
       "      <td>0.59</td>\n",
       "    </tr>\n",
       "    <tr>\n",
       "      <th>4</th>\n",
       "      <td>0.10</td>\n",
       "      <td>none</td>\n",
       "      <td>roc_auc</td>\n",
       "      <td>svmRBF</td>\n",
       "      <td>[0.001, balanced, 50]</td>\n",
       "      <td>0.65</td>\n",
       "      <td>0.65</td>\n",
       "      <td>0.65</td>\n",
       "      <td>0.63</td>\n",
       "      <td>0.63</td>\n",
       "      <td>0.63</td>\n",
       "      <td>0.61</td>\n",
       "      <td>0.61</td>\n",
       "      <td>0.61</td>\n",
       "      <td>0.59</td>\n",
       "    </tr>\n",
       "    <tr>\n",
       "      <th>0</th>\n",
       "      <td>0.10</td>\n",
       "      <td>none</td>\n",
       "      <td>roc_auc</td>\n",
       "      <td>logReg</td>\n",
       "      <td>[balanced, 0.1, l2]</td>\n",
       "      <td>0.62</td>\n",
       "      <td>0.63</td>\n",
       "      <td>0.62</td>\n",
       "      <td>0.62</td>\n",
       "      <td>0.63</td>\n",
       "      <td>0.62</td>\n",
       "      <td>0.60</td>\n",
       "      <td>0.60</td>\n",
       "      <td>0.61</td>\n",
       "      <td>0.59</td>\n",
       "    </tr>\n",
       "    <tr>\n",
       "      <th>1</th>\n",
       "      <td>0.10</td>\n",
       "      <td>none</td>\n",
       "      <td>recall</td>\n",
       "      <td>logReg</td>\n",
       "      <td>[balanced, 1e-05, l2]</td>\n",
       "      <td>0.60</td>\n",
       "      <td>0.62</td>\n",
       "      <td>0.60</td>\n",
       "      <td>0.61</td>\n",
       "      <td>0.62</td>\n",
       "      <td>0.60</td>\n",
       "      <td>0.58</td>\n",
       "      <td>0.58</td>\n",
       "      <td>0.59</td>\n",
       "      <td>0.58</td>\n",
       "    </tr>\n",
       "    <tr>\n",
       "      <th>2</th>\n",
       "      <td>0.10</td>\n",
       "      <td>none</td>\n",
       "      <td>roc_auc</td>\n",
       "      <td>rf</td>\n",
       "      <td>[gini, 6, None, 250]</td>\n",
       "      <td>0.63</td>\n",
       "      <td>0.72</td>\n",
       "      <td>0.68</td>\n",
       "      <td>0.58</td>\n",
       "      <td>0.64</td>\n",
       "      <td>0.64</td>\n",
       "      <td>0.56</td>\n",
       "      <td>0.63</td>\n",
       "      <td>0.62</td>\n",
       "      <td>0.55</td>\n",
       "    </tr>\n",
       "  </tbody>\n",
       "</table>\n",
       "</div>"
      ],
      "text/plain": [
       "  size_tr    sm   metric     cls                       params tr_f1 tr_prec  \\\n",
       "3    0.10  none   recall      rf  [entropy, 4, balanced, 150]  0.65    0.65   \n",
       "4    0.10  none  roc_auc  svmRBF        [0.001, balanced, 50]  0.65    0.65   \n",
       "0    0.10  none  roc_auc  logReg          [balanced, 0.1, l2]  0.62    0.63   \n",
       "1    0.10  none   recall  logReg        [balanced, 1e-05, l2]  0.60    0.62   \n",
       "2    0.10  none  roc_auc      rf         [gini, 6, None, 250]  0.63    0.72   \n",
       "\n",
       "  tr_rec  cv_f1_mean  cv_prec_mean  cv_rec_mean test_f1 test_prec test_rec  \\\n",
       "3   0.64        0.63          0.63         0.63    0.60      0.60     0.61   \n",
       "4   0.65        0.63          0.63         0.63    0.61      0.61     0.61   \n",
       "0   0.62        0.62          0.63         0.62    0.60      0.60     0.61   \n",
       "1   0.60        0.61          0.62         0.60    0.58      0.58     0.59   \n",
       "2   0.68        0.58          0.64         0.64    0.56      0.63     0.62   \n",
       "\n",
       "  test_auc  \n",
       "3     0.59  \n",
       "4     0.59  \n",
       "0     0.59  \n",
       "1     0.58  \n",
       "2     0.55  "
      ]
     },
     "execution_count": 14,
     "metadata": {},
     "output_type": "execute_result"
    }
   ],
   "source": [
    "dfs.sort_values([\"cv_f1_mean\",\"exp\"], ascending=False,inplace=True)\n",
    "dfs[[\"size_tr\",\"sm\",\"metric\",\"cls\",\"params\",\n",
    "     'tr_f1', 'tr_prec', 'tr_rec', \n",
    "     'cv_f1_mean', 'cv_prec_mean', 'cv_rec_mean', \n",
    "     'test_f1', 'test_prec', 'test_rec', 'test_auc']]"
   ]
  },
  {
   "cell_type": "code",
   "execution_count": 15,
   "metadata": {},
   "outputs": [
    {
     "data": {
      "text/plain": [
       "693.3270304203033"
      ]
     },
     "execution_count": 15,
     "metadata": {},
     "output_type": "execute_result"
    }
   ],
   "source": [
    "np.sum(dfs[\"time\"])"
   ]
  },
  {
   "cell_type": "code",
   "execution_count": null,
   "metadata": {
    "collapsed": true
   },
   "outputs": [],
   "source": []
  }
 ],
 "metadata": {
  "kernelspec": {
   "display_name": "Python 2",
   "language": "python",
   "name": "python2"
  },
  "language_info": {
   "codemirror_mode": {
    "name": "ipython",
    "version": 2
   },
   "file_extension": ".py",
   "mimetype": "text/x-python",
   "name": "python",
   "nbconvert_exporter": "python",
   "pygments_lexer": "ipython2",
   "version": "2.7.13"
  }
 },
 "nbformat": 4,
 "nbformat_minor": 2
}
