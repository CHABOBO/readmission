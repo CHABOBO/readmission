{
 "cells": [
  {
   "cell_type": "code",
   "execution_count": 102,
   "metadata": {
    "collapsed": true
   },
   "outputs": [],
   "source": [
    "#TO RE-RUN\n",
    "%reset -f"
   ]
  },
  {
   "cell_type": "code",
   "execution_count": 133,
   "metadata": {
    "collapsed": true
   },
   "outputs": [],
   "source": [
    "from sklearn import preprocessing\n",
    "from time import time\n",
    "import numpy as np\n",
    "import csv\n",
    "from sklearn import metrics\n",
    "from sklearn.preprocessing import scale\n",
    "from sklearn.feature_selection import VarianceThreshold\n",
    "from sklearn.cross_validation import StratifiedShuffleSplit, cross_val_score\n",
    "\n",
    "from sklearn.svm import SVC\n",
    "from sklearn.svm import LinearSVC\n",
    "from sklearn.neighbors import KNeighborsClassifier\n",
    "from sklearn.linear_model import LogisticRegression\n",
    "from sklearn.ensemble import RandomForestClassifier\n",
    "from sklearn.naive_bayes import BernoulliNB, MultinomialNB, GaussianNB\n",
    "\n",
    "from sklearn.grid_search import GridSearchCV, ParameterGrid\n",
    "from sklearn.preprocessing import StandardScaler\n",
    "\n",
    "from imblearn.over_sampling import SMOTE,ADASYN, RandomOverSampler\n",
    "from imblearn.pipeline import Pipeline\n",
    "from imblearn.pipeline import make_pipeline\n",
    "\n",
    "from operator import truediv\n",
    "from datetime import datetime\n",
    "import pandas as pd\n",
    "import time\n",
    "import os\n",
    "\n",
    "from pylab import *\n",
    "import seaborn as sns\n",
    "import matplotlib.pyplot as plt\n",
    "\n",
    "\n",
    "np.set_printoptions(suppress=True)\n",
    "pd.options.display.float_format = '{:,.2f}'.format\n",
    "plt.style.use('classic')\n",
    "\n",
    "%matplotlib inline\n",
    "\n",
    "import sys\n",
    "sys.path.insert(1, \"/home/ilmira/healthforecast/readmission/src/\")\n",
    "from TypeFeatImputer import TypeFeatImputer\n",
    "from UnivCombineFilter import UnivCombineFilter"
   ]
  },
  {
   "cell_type": "code",
   "execution_count": 134,
   "metadata": {
    "collapsed": true
   },
   "outputs": [],
   "source": [
    "typeEncounter = \"last\" # ['first','last']\n",
    "typeHypothesis = \"all_readmisssion_vs_none\" # ['all_readmisssion_vs_none','early_readmission_vs_none']\n",
    "typeDataFeatures = \"extended\" # [\"minimum,\"extended']\n",
    "typeDisease = \"subset\" # [\"subset\",\"individual\"]"
   ]
  },
  {
   "cell_type": "code",
   "execution_count": 135,
   "metadata": {},
   "outputs": [
    {
     "name": "stdout",
     "output_type": "stream",
     "text": [
      "(71518, 28)\n",
      "Index([u'diss_1', u'race_AfricanAmerican', u'race_Caucasian', u'race_Other',\n",
      "       u'medSpec_cardio', u'medSpec_Family/GeneralPractice',\n",
      "       u'medSpec_InternalMedicine', u'medSpec_surgery', u'age_cat',\n",
      "       u'Diabetis', u'Circulatory', u'Digestive', u'Genitourinary',\n",
      "       u'Poisoning', u'Muscoskeletal', u'Neoplasms', u'Respiratory', u'HbA1c',\n",
      "       u'Change', u'time_in_hospital', u'num_lab_procedures',\n",
      "       u'num_procedures', u'num_medications', u'number_outpatient',\n",
      "       u'number_emergency', u'number_inpatient', u'number_diagnoses',\n",
      "       u'readmitted'],\n",
      "      dtype='object')\n",
      "0    42985\n",
      "2    22240\n",
      "1     6293\n",
      "Name: readmitted, dtype: int64\n",
      "0   0.60\n",
      "2   0.31\n",
      "1   0.09\n",
      "Name: readmitted, dtype: float64\n"
     ]
    }
   ],
   "source": [
    "if typeDataFeatures == \"minimum\":\n",
    "    df_all=pd.read_pickle(os.path.join('resources','clean_data_' + typeEncounter + '_hyp_1.pkl'))\n",
    "if typeDataFeatures == \"extended\":\n",
    "    df_all=pd.read_pickle(os.path.join('resources','clean_data_' + typeEncounter + '_hyp_1_' + typeDataFeatures + '.pkl'))\n",
    "    \n",
    "print df_all.shape\n",
    "print df_all.columns\n",
    "print df_all.readmitted.value_counts()\n",
    "print df_all.readmitted.value_counts()/float(df_all.shape[0])"
   ]
  },
  {
   "cell_type": "markdown",
   "metadata": {},
   "source": [
    "#### Compute class label"
   ]
  },
  {
   "cell_type": "code",
   "execution_count": 136,
   "metadata": {},
   "outputs": [
    {
     "name": "stdout",
     "output_type": "stream",
     "text": [
      "[0 1 2] 42985 6293 22240\n"
     ]
    }
   ],
   "source": [
    "print df_all.loc[:,\"readmitted\"].sort_values().unique(), \\\n",
    "    np.sum(df_all[\"readmitted\"] == 0), \\\n",
    "    np.sum(df_all[\"readmitted\"] == 1), \\\n",
    "    np.sum(df_all[\"readmitted\"] == 2)"
   ]
  },
  {
   "cell_type": "code",
   "execution_count": 137,
   "metadata": {},
   "outputs": [
    {
     "name": "stdout",
     "output_type": "stream",
     "text": [
      "all_readmisssion_vs_none\n",
      "[0 1] 42985 28533\n"
     ]
    },
    {
     "name": "stderr",
     "output_type": "stream",
     "text": [
      "/home/ilmira/.conda/envs/readmision/lib/python2.7/site-packages/ipykernel_launcher.py:5: SettingWithCopyWarning: \n",
      "A value is trying to be set on a copy of a slice from a DataFrame\n",
      "\n",
      "See the caveats in the documentation: http://pandas.pydata.org/pandas-docs/stable/indexing.html#indexing-view-versus-copy\n",
      "  \"\"\"\n"
     ]
    }
   ],
   "source": [
    "# Readmitted none vs readmitted\n",
    "print typeHypothesis\n",
    "\n",
    "if typeHypothesis == \"all_readmisssion_vs_none\":\n",
    "    df_all[\"readmitted\"][df_all[\"readmitted\"].values > 0] = 1\n",
    "    print df_all.iloc[:,-1].sort_values().unique(), \\\n",
    "            np.sum(df_all[\"readmitted\"] == 0), \\\n",
    "            np.sum(df_all[\"readmitted\"] == 1)\n",
    "            \n",
    "# Readmitted none vs early readmitted            \n",
    "if typeHypothesis == \"early_readmission_vs_none\":\n",
    "    df_all= df_all[df_all[\"readmitted\"].isin([0,1])]\n",
    "    print df_all.iloc[:,-1].sort_values().unique(), np.sum(df_all[\"readmitted\"] == 0), np.sum(df_all[\"readmitted\"] == 1) "
   ]
  },
  {
   "cell_type": "markdown",
   "metadata": {},
   "source": [
    "#### Compute type fields"
   ]
  },
  {
   "cell_type": "code",
   "execution_count": 138,
   "metadata": {},
   "outputs": [
    {
     "name": "stdout",
     "output_type": "stream",
     "text": [
      "Cat cols: 19 \n",
      "Index([u'diss_1', u'race_AfricanAmerican', u'race_Caucasian', u'race_Other',\n",
      "       u'medSpec_cardio', u'medSpec_Family/GeneralPractice',\n",
      "       u'medSpec_InternalMedicine', u'medSpec_surgery', u'age_cat',\n",
      "       u'Diabetis', u'Circulatory', u'Digestive', u'Genitourinary',\n",
      "       u'Poisoning', u'Muscoskeletal', u'Neoplasms', u'Respiratory', u'HbA1c',\n",
      "       u'Change'],\n",
      "      dtype='object')\n",
      "Num cols: 8 \n",
      "Index([u'time_in_hospital', u'num_lab_procedures', u'num_procedures',\n",
      "       u'num_medications', u'number_outpatient', u'number_emergency',\n",
      "       u'number_inpatient', u'number_diagnoses'],\n",
      "      dtype='object')\n",
      "27\n"
     ]
    }
   ],
   "source": [
    "if typeDataFeatures == \"minimum\":\n",
    "    numCols = ['time_in_hospital']\n",
    "    \n",
    "if typeDataFeatures == \"extended\":\n",
    "    numCols = ['time_in_hospital','num_lab_procedures', 'num_procedures', 'num_medications', 'number_outpatient', \n",
    "            'number_emergency', 'number_inpatient', 'number_diagnoses']\n",
    "    \n",
    "catCols = []\n",
    "cols = df_all.columns\n",
    "reducedCols = cols[:-1]\n",
    "\n",
    "for i in range(len(cols)-1):\n",
    "    if cols[i] not in numCols:\n",
    "        catCols.append(1)\n",
    "    else:\n",
    "        catCols.append(0)\n",
    "catCols = np.array(catCols)\n",
    "\n",
    "print \"Cat cols:\", np.sum(catCols==1), \"\\n\", reducedCols[catCols==1]\n",
    "print \"Num cols:\", np.sum(catCols==0), \"\\n\", reducedCols[catCols==0]\n",
    "print len(reducedCols)"
   ]
  },
  {
   "cell_type": "markdown",
   "metadata": {},
   "source": [
    "#### Compute partition (train, test)"
   ]
  },
  {
   "cell_type": "code",
   "execution_count": 139,
   "metadata": {
    "collapsed": true
   },
   "outputs": [],
   "source": [
    "ts_thr = 0.30"
   ]
  },
  {
   "cell_type": "code",
   "execution_count": 140,
   "metadata": {},
   "outputs": [
    {
     "name": "stdout",
     "output_type": "stream",
     "text": [
      "[1 0]\n",
      "0    42985\n",
      "1    28533\n",
      "Name: readmitted, dtype: int64\n",
      "\n",
      "TRAIN:\n",
      "(50062, 27) (50062,)\n",
      "30089 0.6 19973 0.4\n",
      "\n",
      "TEST:\n",
      "(21456, 27) (21456,)\n",
      "12896 0.6 8560 0.4\n"
     ]
    }
   ],
   "source": [
    "y = df_all.readmitted\n",
    "print y.unique()\n",
    "print y.value_counts()\n",
    "y = y.values\n",
    "\n",
    "X = df_all.iloc[:,:-1].values\n",
    "sss = StratifiedShuffleSplit(y, 1, test_size=ts_thr, random_state=32) #random_state=42\n",
    "for train_index, test_index in sss:\n",
    "    X_train, X_test = X[train_index], X[test_index]\n",
    "    y_train, y_test = y[train_index], y[test_index]\n",
    "\n",
    "print \"\\nTRAIN:\"\n",
    "print X_train.shape, y_train.shape\n",
    "print np.sum(y_train == 0), round(np.sum(y_train == 0)/float(y_train.shape[0]),2), \\\n",
    "      np.sum(y_train > 0), round(np.sum(y_train > 0)/float(y_train.shape[0]),2)\n",
    "print \"\\nTEST:\"\n",
    "print X_test.shape, y_test.shape\n",
    "print np.sum(y_test == 0), round(np.sum(y_test == 0)/float(y_test.shape[0]),2), \\\n",
    "      np.sum(y_test > 0), round(np.sum(y_test > 0)/float(y_test.shape[0]),2)\n"
   ]
  },
  {
   "cell_type": "code",
   "execution_count": 142,
   "metadata": {
    "collapsed": true
   },
   "outputs": [],
   "source": [
    "tr_thr = 0.10"
   ]
  },
  {
   "cell_type": "code",
   "execution_count": 143,
   "metadata": {},
   "outputs": [
    {
     "name": "stdout",
     "output_type": "stream",
     "text": [
      "TRAIN:\n",
      "(5006, 27) (5006,)\n",
      "3009 0.6 1997 0.4\n"
     ]
    }
   ],
   "source": [
    "sss = StratifiedShuffleSplit(y_train, 1, test_size=1-tr_thr, random_state=32) #random_state=42\n",
    "for train_index, test_index in sss:\n",
    "    X_train = X_train[train_index]\n",
    "    y_train = y_train[train_index]\n",
    "    \n",
    "print \"TRAIN:\"\n",
    "print X_train.shape, y_train.shape\n",
    "print np.sum(y_train == 0), round(np.sum(y_train == 0)/float(y_train.shape[0]),2), \\\n",
    "      np.sum(y_train > 0), round(np.sum(y_train > 0)/float(y_train.shape[0]),2)    "
   ]
  },
  {
   "cell_type": "markdown",
   "metadata": {},
   "source": [
    "#### Config pipelines"
   ]
  },
  {
   "cell_type": "code",
   "execution_count": 160,
   "metadata": {
    "collapsed": true
   },
   "outputs": [],
   "source": [
    "verbose = True\n",
    "cv_thr = 0.3\n",
    "cv_folds = 5\n",
    "\n",
    "fs_methods = [\"none\"] #[\"none\",\"combine_fs\",\"lasso_fs\",\"rfe_rf_fs\"]\n",
    "cls_methods = [\"logReg\",\"rf\",\"svmRBF\"] #[\"rf\",\"svmRBF\",\"logReg\",\"knn\",\"nn\"]\n",
    "lms = [\"roc_auc\",\"recall\"] #[\"f1_weighted\",\"precision_weighted\"]\n",
    "sm_types = [\"none\",\"after\"] #[\"none\",\"after\"]\n",
    "sm_method = \"sm_smote\"\n",
    "tr_size = tr_thr"
   ]
  },
  {
   "cell_type": "code",
   "execution_count": 161,
   "metadata": {
    "collapsed": true
   },
   "outputs": [],
   "source": [
    "basePipeline = Pipeline([\n",
    "        (\"Imputer\", TypeFeatImputer(catCols, reducedCols)),\n",
    "        (\"Scaler\", StandardScaler()),\n",
    "        (\"Variance\", VarianceThreshold(threshold=0.0))\n",
    "    ])"
   ]
  },
  {
   "cell_type": "code",
   "execution_count": 162,
   "metadata": {},
   "outputs": [],
   "source": [
    "pipeline = [] \n",
    "\n",
    "for fs_method in fs_methods:\n",
    "    for sm_type in sm_types:\n",
    "        for cls_method in cls_methods:\n",
    "            for lm in lms:\n",
    "                if not (fs_method == \"rfe_rf_fs\" and cls_method == \"rf\"):\n",
    "                    params = {}   \n",
    "                    pipe = Pipeline(list(basePipeline.steps))\n",
    "\n",
    "                    if fs_method == \"combine_fs\":\n",
    "                        pipe.steps.insert(1,(fs_method, UnivCombineFilter(catCols,np.array(reducedCols))))\n",
    "                        params.update({fs_method + '__percentile':[5,10,20,30,40,50]})\n",
    "\n",
    "                    if fs_method == \"rfe_rf_fs\":\n",
    "                        pipe.steps.append((fs_method, RFE(estimator=RandomForestClassifier(class_weight='balanced',\n",
    "                                                                                           n_estimators=100,\n",
    "                                                                                           random_state=33))))\n",
    "                        params.update({fs_method + '__step':[0.1]})\n",
    "                        params.update({fs_method + '__n_features_to_select':[\n",
    "                                                        int(len(reducedCols)*0.4), \n",
    "                                                        int(len(reducedCols)*0.6), \n",
    "                                                        int(len(reducedCols)*0.8)]})\n",
    "\n",
    "                    if fs_method == 'lasso_fs':\n",
    "                        pipe.steps.append((fs_method, SelectFromModel(\n",
    "                                    LogisticRegression(n_jobs=-1, penalty=\"l1\", dual=False, random_state=42))))\n",
    "                        params.update({fs_method + '__estimator__C': [0.001,0.01,0.1,1]})\n",
    "\n",
    "                    #Add classifiers\n",
    "                    if cls_method == \"knn\":\n",
    "                        pipe.steps.append((cls_method, KNeighborsClassifier()))\n",
    "                        params.update({'knn__n_neighbors':[1,3,5,7,9,11], 'knn__weights':['uniform', 'distance']})\n",
    "\n",
    "                    if cls_method == \"logReg\":\n",
    "                        pipe.steps.append((cls_method, LogisticRegression(random_state=42)))\n",
    "                        params.update({'logReg__C': [0.00001,0.0001,0.0005,0.001,0.005,0.01,0.05,0.1,0.5,1,5,10,15,30]})\n",
    "                        params.update({'logReg__class_weight': [None, 'balanced']})\n",
    "                        params.update({'logReg__penalty': ['l1', 'l2']})\n",
    "\n",
    "                    if cls_method == \"svmRBF\":\n",
    "                        pipe.steps.append((cls_method, SVC(random_state=42,probability=True)))\n",
    "                        params.update({'svmRBF__C': [0.01,0.1,0.5,1,5,10,15,30,50], \n",
    "                         'svmRBF__gamma' : [0.0001,0.001,0.01, 0.1,1,5]})\n",
    "                        params.update({'svmRBF__class_weight': [None, 'balanced']})\n",
    "\n",
    "                    if cls_method == \"rf\":\n",
    "                        pipe.steps.append((cls_method, RandomForestClassifier(n_jobs=-1,random_state=42)))\n",
    "                        params.update({'rf__n_estimators': [100,150,200,250,500], \n",
    "                                       'rf__criterion': ['entropy','gini'],\n",
    "                                       'rf__max_depth' : [None,4,6]})\n",
    "                        params.update({'rf__class_weight': [None, 'balanced']})\n",
    "\n",
    "                    if cls_method == \"nn\":\n",
    "                        pipe.steps.append((cls_method, MLPClassifier(\n",
    "                                    activation='logistic',\n",
    "                                    solver='lbfgs', \n",
    "                                    hidden_layer_sizes=(5, 2), \n",
    "                                    random_state=13)))\n",
    "                        params.update({\n",
    "                                'nn__alpha': [1e-5,0.00001,0.0001,0.001,0.01,0.1,1,3,5,10],\n",
    "                                'nn__hidden_layer_sizes':[(30,),(50,),(70,),(100,),(150,),\n",
    "                                                          (30,30),(50,50),(70,70),(100,100),\n",
    "                                                          (30,30,30),(50,50,50),(70,70,70)\n",
    "                                                         ]\n",
    "                                      })\n",
    "\n",
    "                    #Add sampling\n",
    "                    pipe_imb = make_pipeline(*[p[1] for p in pipe.steps])\n",
    "                    stps = len(pipe_imb.steps)        \n",
    "                    for s in range(stps):\n",
    "                        pipe_imb.steps.remove(pipe_imb.steps[0])\n",
    "                    for s in range(stps):\n",
    "                        pipe_imb.steps.append(pipe.steps[s])\n",
    "\n",
    "                    if sm_type == \"after\":                    \n",
    "                        pipe_imb.steps.insert(stps - 1, \n",
    "                                              (sm_method, SMOTE(ratio='auto', kind='regular', random_state=32)))\n",
    "                        params.update({sm_method + \"__k_neighbors\":[3,4,5]})\n",
    "\n",
    "\n",
    "                    pipeline.append([fs_method,sm_type,cls_method,lm,pipe_imb,params])"
   ]
  },
  {
   "cell_type": "code",
   "execution_count": 163,
   "metadata": {},
   "outputs": [
    {
     "name": "stdout",
     "output_type": "stream",
     "text": [
      "(12, 6)\n"
     ]
    },
    {
     "data": {
      "text/html": [
       "<div>\n",
       "<style>\n",
       "    .dataframe thead tr:only-child th {\n",
       "        text-align: right;\n",
       "    }\n",
       "\n",
       "    .dataframe thead th {\n",
       "        text-align: left;\n",
       "    }\n",
       "\n",
       "    .dataframe tbody tr th {\n",
       "        vertical-align: top;\n",
       "    }\n",
       "</style>\n",
       "<table border=\"1\" class=\"dataframe\">\n",
       "  <thead>\n",
       "    <tr style=\"text-align: right;\">\n",
       "      <th></th>\n",
       "      <th>fs</th>\n",
       "      <th>sm</th>\n",
       "      <th>cls</th>\n",
       "      <th>metric</th>\n",
       "      <th>pipe</th>\n",
       "      <th>pipe_params</th>\n",
       "    </tr>\n",
       "  </thead>\n",
       "  <tbody>\n",
       "    <tr>\n",
       "      <th>0</th>\n",
       "      <td>none</td>\n",
       "      <td>none</td>\n",
       "      <td>logReg</td>\n",
       "      <td>roc_auc</td>\n",
       "      <td>Pipeline(memory=None,\\n     steps=[('Imputer',...</td>\n",
       "      <td>{u'logReg__class_weight': [None, u'balanced'],...</td>\n",
       "    </tr>\n",
       "    <tr>\n",
       "      <th>1</th>\n",
       "      <td>none</td>\n",
       "      <td>none</td>\n",
       "      <td>logReg</td>\n",
       "      <td>recall</td>\n",
       "      <td>Pipeline(memory=None,\\n     steps=[('Imputer',...</td>\n",
       "      <td>{u'logReg__class_weight': [None, u'balanced'],...</td>\n",
       "    </tr>\n",
       "    <tr>\n",
       "      <th>2</th>\n",
       "      <td>none</td>\n",
       "      <td>none</td>\n",
       "      <td>rf</td>\n",
       "      <td>roc_auc</td>\n",
       "      <td>Pipeline(memory=None,\\n     steps=[('Imputer',...</td>\n",
       "      <td>{u'rf__criterion': [u'entropy', u'gini'], u'rf...</td>\n",
       "    </tr>\n",
       "    <tr>\n",
       "      <th>3</th>\n",
       "      <td>none</td>\n",
       "      <td>none</td>\n",
       "      <td>rf</td>\n",
       "      <td>recall</td>\n",
       "      <td>Pipeline(memory=None,\\n     steps=[('Imputer',...</td>\n",
       "      <td>{u'rf__criterion': [u'entropy', u'gini'], u'rf...</td>\n",
       "    </tr>\n",
       "    <tr>\n",
       "      <th>4</th>\n",
       "      <td>none</td>\n",
       "      <td>none</td>\n",
       "      <td>svmRBF</td>\n",
       "      <td>roc_auc</td>\n",
       "      <td>Pipeline(memory=None,\\n     steps=[('Imputer',...</td>\n",
       "      <td>{u'svmRBF__gamma': [0.0001, 0.001, 0.01, 0.1, ...</td>\n",
       "    </tr>\n",
       "    <tr>\n",
       "      <th>5</th>\n",
       "      <td>none</td>\n",
       "      <td>none</td>\n",
       "      <td>svmRBF</td>\n",
       "      <td>recall</td>\n",
       "      <td>Pipeline(memory=None,\\n     steps=[('Imputer',...</td>\n",
       "      <td>{u'svmRBF__gamma': [0.0001, 0.001, 0.01, 0.1, ...</td>\n",
       "    </tr>\n",
       "    <tr>\n",
       "      <th>6</th>\n",
       "      <td>none</td>\n",
       "      <td>after</td>\n",
       "      <td>logReg</td>\n",
       "      <td>roc_auc</td>\n",
       "      <td>Pipeline(memory=None,\\n     steps=[('Imputer',...</td>\n",
       "      <td>{u'logReg__class_weight': [None, u'balanced'],...</td>\n",
       "    </tr>\n",
       "    <tr>\n",
       "      <th>7</th>\n",
       "      <td>none</td>\n",
       "      <td>after</td>\n",
       "      <td>logReg</td>\n",
       "      <td>recall</td>\n",
       "      <td>Pipeline(memory=None,\\n     steps=[('Imputer',...</td>\n",
       "      <td>{u'logReg__class_weight': [None, u'balanced'],...</td>\n",
       "    </tr>\n",
       "    <tr>\n",
       "      <th>8</th>\n",
       "      <td>none</td>\n",
       "      <td>after</td>\n",
       "      <td>rf</td>\n",
       "      <td>roc_auc</td>\n",
       "      <td>Pipeline(memory=None,\\n     steps=[('Imputer',...</td>\n",
       "      <td>{u'rf__criterion': [u'entropy', u'gini'], u'rf...</td>\n",
       "    </tr>\n",
       "    <tr>\n",
       "      <th>9</th>\n",
       "      <td>none</td>\n",
       "      <td>after</td>\n",
       "      <td>rf</td>\n",
       "      <td>recall</td>\n",
       "      <td>Pipeline(memory=None,\\n     steps=[('Imputer',...</td>\n",
       "      <td>{u'rf__criterion': [u'entropy', u'gini'], u'rf...</td>\n",
       "    </tr>\n",
       "    <tr>\n",
       "      <th>10</th>\n",
       "      <td>none</td>\n",
       "      <td>after</td>\n",
       "      <td>svmRBF</td>\n",
       "      <td>roc_auc</td>\n",
       "      <td>Pipeline(memory=None,\\n     steps=[('Imputer',...</td>\n",
       "      <td>{u'svmRBF__gamma': [0.0001, 0.001, 0.01, 0.1, ...</td>\n",
       "    </tr>\n",
       "    <tr>\n",
       "      <th>11</th>\n",
       "      <td>none</td>\n",
       "      <td>after</td>\n",
       "      <td>svmRBF</td>\n",
       "      <td>recall</td>\n",
       "      <td>Pipeline(memory=None,\\n     steps=[('Imputer',...</td>\n",
       "      <td>{u'svmRBF__gamma': [0.0001, 0.001, 0.01, 0.1, ...</td>\n",
       "    </tr>\n",
       "  </tbody>\n",
       "</table>\n",
       "</div>"
      ],
      "text/plain": [
       "      fs     sm     cls   metric  \\\n",
       "0   none   none  logReg  roc_auc   \n",
       "1   none   none  logReg   recall   \n",
       "2   none   none      rf  roc_auc   \n",
       "3   none   none      rf   recall   \n",
       "4   none   none  svmRBF  roc_auc   \n",
       "5   none   none  svmRBF   recall   \n",
       "6   none  after  logReg  roc_auc   \n",
       "7   none  after  logReg   recall   \n",
       "8   none  after      rf  roc_auc   \n",
       "9   none  after      rf   recall   \n",
       "10  none  after  svmRBF  roc_auc   \n",
       "11  none  after  svmRBF   recall   \n",
       "\n",
       "                                                 pipe  \\\n",
       "0   Pipeline(memory=None,\\n     steps=[('Imputer',...   \n",
       "1   Pipeline(memory=None,\\n     steps=[('Imputer',...   \n",
       "2   Pipeline(memory=None,\\n     steps=[('Imputer',...   \n",
       "3   Pipeline(memory=None,\\n     steps=[('Imputer',...   \n",
       "4   Pipeline(memory=None,\\n     steps=[('Imputer',...   \n",
       "5   Pipeline(memory=None,\\n     steps=[('Imputer',...   \n",
       "6   Pipeline(memory=None,\\n     steps=[('Imputer',...   \n",
       "7   Pipeline(memory=None,\\n     steps=[('Imputer',...   \n",
       "8   Pipeline(memory=None,\\n     steps=[('Imputer',...   \n",
       "9   Pipeline(memory=None,\\n     steps=[('Imputer',...   \n",
       "10  Pipeline(memory=None,\\n     steps=[('Imputer',...   \n",
       "11  Pipeline(memory=None,\\n     steps=[('Imputer',...   \n",
       "\n",
       "                                          pipe_params  \n",
       "0   {u'logReg__class_weight': [None, u'balanced'],...  \n",
       "1   {u'logReg__class_weight': [None, u'balanced'],...  \n",
       "2   {u'rf__criterion': [u'entropy', u'gini'], u'rf...  \n",
       "3   {u'rf__criterion': [u'entropy', u'gini'], u'rf...  \n",
       "4   {u'svmRBF__gamma': [0.0001, 0.001, 0.01, 0.1, ...  \n",
       "5   {u'svmRBF__gamma': [0.0001, 0.001, 0.01, 0.1, ...  \n",
       "6   {u'logReg__class_weight': [None, u'balanced'],...  \n",
       "7   {u'logReg__class_weight': [None, u'balanced'],...  \n",
       "8   {u'rf__criterion': [u'entropy', u'gini'], u'rf...  \n",
       "9   {u'rf__criterion': [u'entropy', u'gini'], u'rf...  \n",
       "10  {u'svmRBF__gamma': [0.0001, 0.001, 0.01, 0.1, ...  \n",
       "11  {u'svmRBF__gamma': [0.0001, 0.001, 0.01, 0.1, ...  "
      ]
     },
     "execution_count": 163,
     "metadata": {},
     "output_type": "execute_result"
    }
   ],
   "source": [
    "pipeline = pd.DataFrame(pipeline, columns=[\"fs\",\"sm\",\"cls\",\"metric\",\"pipe\",\"pipe_params\"])\n",
    "pipeline.sort_values(\"fs\", inplace=True)\n",
    "print pipeline.shape\n",
    "pipeline"
   ]
  },
  {
   "cell_type": "markdown",
   "metadata": {
    "collapsed": true
   },
   "source": [
    "#### Run experiments"
   ]
  },
  {
   "cell_type": "code",
   "execution_count": null,
   "metadata": {
    "scrolled": true
   },
   "outputs": [
    {
     "name": "stdout",
     "output_type": "stream",
     "text": [
      "ALL TRAIN: (5006, 27)\n",
      "TRAIN: [0's: 3009 1's: 1997 ]\n",
      "ALL TEST: (21456, 27)\n",
      "TEST: [0's: 12896 1's: 8560 ]\n",
      "\n",
      " Num experiment: 0\n",
      "****************\n",
      "FS: none\n",
      "SM: none\n",
      "CLS: logReg\n",
      "METRIC: roc_auc\n",
      "Fitting 5 folds for each of 56 candidates, totalling 280 fits\n"
     ]
    },
    {
     "name": "stderr",
     "output_type": "stream",
     "text": [
      "[Parallel(n_jobs=-1)]: Done  18 tasks      | elapsed:    1.4s\n"
     ]
    }
   ],
   "source": [
    "print \"ALL TRAIN:\", X_train.shape\n",
    "print \"TRAIN:\", \"[0's:\", np.sum(y_train==0), \"1's:\", np.sum(y_train==1), \"]\"\n",
    "print \"ALL TEST:\", X_test.shape\n",
    "print \"TEST:\", \"[0's:\", np.sum(y_test==0), \"1's:\", np.sum(y_test==1), \"]\"\n",
    "\n",
    "results = []\n",
    "folder = os.path.join('resources','results', datetime.datetime.now().strftime('%Y-%m-%d_%H-%M-%S'))\n",
    "os.makedirs(folder)\n",
    "\n",
    "for num_exp in range(pipeline.shape[0]):\n",
    "\n",
    "    # Run experiment\n",
    "    start = time.time()\n",
    "\n",
    "    #Prepare pipe_cls      \n",
    "    pipeline_cls = pipeline[\"pipe\"].iloc[num_exp]\n",
    "    pipeline_params = pipeline[\"pipe_params\"].iloc[num_exp]\n",
    "    fs = pipeline[\"fs\"].iloc[num_exp]\n",
    "    sm = pipeline[\"sm\"].iloc[num_exp]\n",
    "    cls = pipeline[\"cls\"].iloc[num_exp]\n",
    "    lm = pipeline[\"metric\"].iloc[num_exp]\n",
    "\n",
    "    print \"\\n Num experiment:\", num_exp\n",
    "    print \"****************\"\n",
    "    print \"FS:\",fs\n",
    "    print \"SM:\",sm\n",
    "    print \"CLS:\",cls\n",
    "    print \"METRIC:\",lm\n",
    "\n",
    "    #Prepare cv\n",
    "    cv_inner = StratifiedShuffleSplit(y_train, n_iter=cv_folds, test_size=cv_thr, random_state=24)\n",
    "    cv_outer = StratifiedShuffleSplit(y_train, n_iter=cv_folds, test_size=cv_thr, random_state=42)\n",
    "\n",
    "    #Fit pipeline with CV                        \n",
    "    grid_pipeline = GridSearchCV(pipeline_cls, param_grid=pipeline_params, verbose=verbose, \n",
    "                                 n_jobs=-1, cv=cv_inner, scoring= lm, error_score = 0) \n",
    "    grid_pipeline.fit(X_train, y_train)\n",
    "\n",
    "    # Compute pipeline evaluation with CVmetric\n",
    "    print \"\\nCV INNER metric: {}\".format(lm)\n",
    "    print \"CV INNER selected params {}\".format(grid_pipeline.best_params_.values())\n",
    "    print \"CV INNER score: {}\".format(grid_pipeline.best_score_)\n",
    "\n",
    "    cv_f1 = cross_val_score(grid_pipeline.best_estimator_, X_train, y_train, \n",
    "                                             cv=cv_outer, scoring='f1_weighted', n_jobs=-1)\n",
    "\n",
    "    cv_prec = cross_val_score(grid_pipeline.best_estimator_, X_train, y_train, \n",
    "                                             cv=cv_outer, scoring='precision_weighted', n_jobs=-1)\n",
    "\n",
    "    cv_rec = cross_val_score(grid_pipeline.best_estimator_, X_train, y_train, \n",
    "                                             cv=cv_outer, scoring='recall_weighted', n_jobs=-1)\n",
    "\n",
    "    print \"\\nCV OUTER f1 score: %0.3f  (+/-%0.03f)\" % (np.mean(cv_f1), np.std(cv_f1))\n",
    "    print \"CV OUTER prec score: %0.3f  (+/-%0.03f)\" % (np.mean(cv_prec), np.std(cv_prec))\n",
    "    print \"CV OUTER rec score: %0.3f  (+/-%0.03f)\" % (np.mean(cv_rec), np.std(cv_rec))\n",
    "    print \"Selected params (bests from CV) {}\".format(grid_pipeline.best_params_.values())\n",
    "\n",
    "    # Computel Train score (with best CV params)\n",
    "    y_pred = grid_pipeline.best_estimator_.predict(X_train)\n",
    "    train_prec_scores = metrics.precision_score(y_train, y_pred, average='weighted', pos_label=None)\n",
    "    train_rec_scores = metrics.recall_score(y_train, y_pred, average='weighted', pos_label=None)    \n",
    "    train_f1_scores = metrics.f1_score(y_train, y_pred, average='weighted', pos_label=None)\n",
    "\n",
    "    print \"\\nTR F1 score:\", train_f1_scores\n",
    "    print \"TR Prec score:\", train_prec_scores\n",
    "    print \"TR Rec score:\", train_rec_scores\n",
    "\n",
    "    #Compute test score\n",
    "    y_pred = grid_pipeline.best_estimator_.predict(X_test)\n",
    "    test_f1 = metrics.f1_score(y_test, y_pred, average='weighted', pos_label=None)\n",
    "    test_prec = metrics.recall_score(y_test, y_pred, average='weighted', pos_label=None)\n",
    "    test_rec = metrics.precision_score(y_test, y_pred, average='weighted', pos_label=None)\n",
    "    test_auc = metrics.roc_auc_score(y_test, y_pred, average='weighted')\n",
    "\n",
    "    print \"\\nTest f1: %0.3f\" % (test_f1)\n",
    "    print \"Test Precision: %0.3f\" % (test_prec)\n",
    "    print \"Test Recall: %0.3f\" % (test_rec)\n",
    "    print \"Test AUC: %0.3f\" % (test_auc)\n",
    "\n",
    "    print \"with following performance in test:\"\n",
    "    print metrics.classification_report(y_test, y_pred)\n",
    "    print metrics.confusion_matrix(y_test, y_pred)\n",
    "\n",
    "    end = time.time()\n",
    "    print \"\\nTotal time:\", end - start\n",
    "    results.append([num_exp,\n",
    "                   td,\n",
    "                   typeEncounter,\n",
    "                   typeHypothesis,\n",
    "                   typeDataFeatures, \n",
    "                   tr_size,\n",
    "                   fs,\n",
    "                   sm,\n",
    "                   cls,\n",
    "                   lm,\n",
    "                   grid_pipeline.best_params_.values(),\n",
    "                   train_f1_scores,\n",
    "                   train_prec_scores,\n",
    "                   train_rec_scores,\n",
    "                   np.mean(cv_f1), \n",
    "                   np.std(cv_f1),\n",
    "                   np.mean(cv_prec), \n",
    "                   np.std(cv_prec),\n",
    "                   np.mean(cv_rec), \n",
    "                   np.std(cv_rec),                    \n",
    "                   test_f1,\n",
    "                   test_prec,\n",
    "                   test_rec,\n",
    "                   test_auc,                    \n",
    "                   end - start,\n",
    "                   grid_pipeline.best_estimator_\n",
    "                  ])\n",
    "\n",
    "    #Save results\n",
    "    df = pd.DataFrame(results, columns=\n",
    "              [\"exp\", \"typeDisease\",\"typeEncounter\",\"typeHypothesis\",\"typeDataFeatures\",\n",
    "               \"size_tr\",\"fs\",\"sm\",\"cls\",\"metric\",\"params\",\n",
    "               \"tr_f1\",\"tr_prec\",\"tr_rec\",\n",
    "               \"cv_f1_mean\",\"cv_f1_std\",\"cv_prec_mean\",\"cv_prec_std\",\"cv_rec_mean\",\"cv_rec_std\",\n",
    "               \"test_f1\",\"test_prec\",\"test_rec\",\"test_auc\",\n",
    "               \"time\",\"pipeline\"])\n",
    "\n",
    "    df.to_pickle(os.path.join(folder,\n",
    "                              'results_pipe_' + \n",
    "                              str(typeDisease) + '_' +\n",
    "                              str(typeEncounter) + '_' +\n",
    "                              str(typeHypothesis) + '_' +\n",
    "                              str(typeDataFeatures) + '_' +\n",
    "                              str(num_exp) + '.pkl'))\n"
   ]
  },
  {
   "cell_type": "code",
   "execution_count": null,
   "metadata": {
    "collapsed": true
   },
   "outputs": [],
   "source": [
    "df = pd.DataFrame(results, columns=\n",
    "                  [\"exp\",\n",
    "                   \"typeDisease\",\"typeEncounter\",\"typeHypothesis\",\"typeDataFeatures\",\n",
    "                   \"size_tr\",\"fs\",\"sm\",\"cls\",\"metric\",\"params\",\n",
    "                   \"tr_f1\",\"tr_prec\",\"tr_rec\",\n",
    "                   \"cv_f1_mean\",\"cv_f1_std\",\"cv_prec_mean\",\"cv_prec_std\",\"cv_rec_mean\",\"cv_rec_std\",\n",
    "                   \"test_f1\",\"test_prec\",\"test_rec\",\"test_auc\",\n",
    "                   \"time\",\"pipeline\"])"
   ]
  },
  {
   "cell_type": "code",
   "execution_count": null,
   "metadata": {},
   "outputs": [],
   "source": [
    "df.sort_values(\"cv_f1_mean\", ascending=False).head(10).iloc[:,:-2]"
   ]
  },
  {
   "cell_type": "code",
   "execution_count": null,
   "metadata": {
    "collapsed": true
   },
   "outputs": [],
   "source": []
  }
 ],
 "metadata": {
  "kernelspec": {
   "display_name": "Python 2",
   "language": "python",
   "name": "python2"
  },
  "language_info": {
   "codemirror_mode": {
    "name": "ipython",
    "version": 2
   },
   "file_extension": ".py",
   "mimetype": "text/x-python",
   "name": "python",
   "nbconvert_exporter": "python",
   "pygments_lexer": "ipython2",
   "version": "2.7.13"
  }
 },
 "nbformat": 4,
 "nbformat_minor": 2
}
